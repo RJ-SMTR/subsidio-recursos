{
 "cells": [
  {
   "cell_type": "markdown",
   "metadata": {},
   "source": [
    "# Métricas do reprocessamento\n",
    "\n",
    "Código feito por Igor Laltuf, ago/23\n",
    "\n",
    "---"
   ]
  },
  {
   "cell_type": "markdown",
   "metadata": {},
   "source": [
    "## Objetivo\n",
    "\n",
    "Analisar o impacto do reprocessamento das viagens da linha 844 entre 01/06/2022 até 31/12/2022\n",
    "\n",
    "## Etapas\n",
    "Comparar valores pré e pós reprocessamento segundo as seguintes variáveis:\n",
    "\n",
    "- A quantidade de viagens completas.\n",
    "\n",
    "- A quilometragem total das viagens completas.\n",
    "\n",
    "- O valor do subsídio a ser pago.\n",
    "\n",
    "## Conclusão\n",
    "\n",
    "Sobre o período entre 01/06/2022 e 31/12/2022:\n",
    "\n",
    "- A quantidade de viagens completas aumentou de 1.920 para 3.258 viagens após o reprocessamento.\n",
    "\n",
    "- A quilometragem total das viagens completas aumentou de 13.033 km para 22.122 km, um aumento de 69,73%.\n",
    "\n",
    "- O valor do subsídio a ser pago subiu de R$ 5.237,70 para R$ 38.162,45\n",
    "\n",
    "\n"
   ]
  },
  {
   "cell_type": "markdown",
   "metadata": {},
   "source": [
    "### Carregar bibliotecas"
   ]
  },
  {
   "cell_type": "code",
   "execution_count": 1,
   "metadata": {},
   "outputs": [],
   "source": [
    "#!pip install matplotlib\n",
    "import basedosdados as bd\n",
    "import pandas as pd\n",
    "import numpy as np\n",
    "import plotly.express as px\n",
    "import matplotlib.pyplot as plt\n",
    "import plotly.graph_objects as go\n",
    "\n",
    "import folium\n",
    "from datetime import timedelta, datetime\n",
    "from shapely import wkt\n",
    "\n",
    "# Paths\n",
    "import os\n",
    "import sys\n",
    "from pathlib import Path \n",
    "\n",
    "current_path = Path().resolve()\n",
    "\n",
    "paths = dict()\n",
    "paths[\"raw\"] = current_path / 'data' / 'raw'\n",
    "paths[\"treated\"] = current_path / 'data' / 'treated'\n",
    "\n",
    "for path in paths.values():\n",
    "    if not os.path.exists(path):\n",
    "        os.makedirs(path)\n",
    "\n",
    "# Seta o projeto a ser cobrado\n",
    "bd.config.billing_project_id = \"rj-smtr-dev\"\n",
    "\n",
    "# Seta as configurações a serem usadas\n",
    "bd.config.project_config_path = \"C:/Users/igorl/.basedosdados/\"\n",
    "# bd.config.project_config_path = \"D:\\\\basedosdados\\\\dev\""
   ]
  },
  {
   "cell_type": "markdown",
   "metadata": {},
   "source": [
    "### 1. Comparar a variação na km após o reprocessamento"
   ]
  },
  {
   "cell_type": "code",
   "execution_count": 2,
   "metadata": {},
   "outputs": [
    {
     "name": "stderr",
     "output_type": "stream",
     "text": [
      "Downloading: 100%|██████████| 7/7 [00:00<00:00, 18.37rows/s]\n"
     ]
    }
   ],
   "source": [
    "q = f\"\"\"\n",
    "SELECT\n",
    "  FORMAT_DATETIME('%Y-%m', DATA) AS mes_ano,\n",
    "  SUM(ROUND(distancia_planejada,2)) AS distancia_total\n",
    "FROM\n",
    "  `rj-smtr.projeto_subsidio_sppo.viagem_completa`\n",
    "WHERE\n",
    "  DATA BETWEEN \"2022-06-01\"\n",
    "  AND \"2022-12-31\"\n",
    "  AND servico_informado = \"844\"\n",
    "GROUP BY\n",
    "  mes_ano\n",
    "\"\"\"\n",
    "\n",
    "viagens_realizadas_844 = bd.read_sql(q, from_file=True)\n",
    "\n",
    "viagens_realizadas_844.to_csv('data/treated/viagens_realizadas_844_jun_22-dez_22.csv', index=False)"
   ]
  },
  {
   "cell_type": "code",
   "execution_count": 3,
   "metadata": {},
   "outputs": [
    {
     "name": "stderr",
     "output_type": "stream",
     "text": [
      "Downloading: 100%|██████████| 7/7 [00:00<00:00, 17.54rows/s]\n"
     ]
    }
   ],
   "source": [
    "q = f\"\"\"\n",
    "SELECT\n",
    "  FORMAT_DATETIME('%Y-%m', DATA) AS mes_ano,\n",
    "  SUM(ROUND(distancia_planejada,2)) AS distancia_total\n",
    "FROM\n",
    "  `rj-smtr-dev.SMTR202211008775_reprocessamento.viagem_completa`\n",
    "WHERE\n",
    "  DATA BETWEEN \"2022-06-01\"\n",
    "  AND \"2022-12-31\"\n",
    "GROUP BY\n",
    "  mes_ano\n",
    "\"\"\"\n",
    "viagens_reprocessadas_844 = bd.read_sql(q, from_file=True)\n",
    "\n",
    "viagens_reprocessadas_844.to_csv('data/treated/viagens_reprocessadas_844_jun_22-dez_22.csv', index=False)"
   ]
  },
  {
   "cell_type": "code",
   "execution_count": 4,
   "metadata": {},
   "outputs": [
    {
     "data": {
      "text/html": [
       "<div>\n",
       "<style scoped>\n",
       "    .dataframe tbody tr th:only-of-type {\n",
       "        vertical-align: middle;\n",
       "    }\n",
       "\n",
       "    .dataframe tbody tr th {\n",
       "        vertical-align: top;\n",
       "    }\n",
       "\n",
       "    .dataframe thead th {\n",
       "        text-align: right;\n",
       "    }\n",
       "</style>\n",
       "<table border=\"1\" class=\"dataframe\">\n",
       "  <thead>\n",
       "    <tr style=\"text-align: right;\">\n",
       "      <th></th>\n",
       "      <th>mes_ano</th>\n",
       "      <th>distancia_total</th>\n",
       "      <th>distancia_total_reprocessada</th>\n",
       "    </tr>\n",
       "  </thead>\n",
       "  <tbody>\n",
       "    <tr>\n",
       "      <th>3</th>\n",
       "      <td>2022-06</td>\n",
       "      <td>2566.62</td>\n",
       "      <td>3035.13</td>\n",
       "    </tr>\n",
       "    <tr>\n",
       "      <th>4</th>\n",
       "      <td>2022-07</td>\n",
       "      <td>2454.36</td>\n",
       "      <td>3877.09</td>\n",
       "    </tr>\n",
       "    <tr>\n",
       "      <th>5</th>\n",
       "      <td>2022-08</td>\n",
       "      <td>2539.46</td>\n",
       "      <td>4209.80</td>\n",
       "    </tr>\n",
       "    <tr>\n",
       "      <th>0</th>\n",
       "      <td>2022-09</td>\n",
       "      <td>1425.90</td>\n",
       "      <td>2865.38</td>\n",
       "    </tr>\n",
       "    <tr>\n",
       "      <th>1</th>\n",
       "      <td>2022-10</td>\n",
       "      <td>1378.37</td>\n",
       "      <td>2946.86</td>\n",
       "    </tr>\n",
       "    <tr>\n",
       "      <th>6</th>\n",
       "      <td>2022-11</td>\n",
       "      <td>1249.36</td>\n",
       "      <td>2553.04</td>\n",
       "    </tr>\n",
       "    <tr>\n",
       "      <th>2</th>\n",
       "      <td>2022-12</td>\n",
       "      <td>1419.11</td>\n",
       "      <td>2634.52</td>\n",
       "    </tr>\n",
       "  </tbody>\n",
       "</table>\n",
       "</div>"
      ],
      "text/plain": [
       "   mes_ano  distancia_total  distancia_total_reprocessada\n",
       "3  2022-06          2566.62                       3035.13\n",
       "4  2022-07          2454.36                       3877.09\n",
       "5  2022-08          2539.46                       4209.80\n",
       "0  2022-09          1425.90                       2865.38\n",
       "1  2022-10          1378.37                       2946.86\n",
       "6  2022-11          1249.36                       2553.04\n",
       "2  2022-12          1419.11                       2634.52"
      ]
     },
     "execution_count": 4,
     "metadata": {},
     "output_type": "execute_result"
    }
   ],
   "source": [
    "viagens_reprocessadas_844 = pd.read_csv('data/treated/viagens_reprocessadas_844_jun_22-dez_22.csv')\n",
    "viagens_realizadas_844 = pd.read_csv('data/treated/viagens_realizadas_844_jun_22-dez_22.csv')\n",
    "\n",
    "km_mes_ano = pd.merge(viagens_realizadas_844, viagens_reprocessadas_844, how = 'left', on='mes_ano', suffixes=['','_reprocessada'])\n",
    "km_mes_ano = km_mes_ano.sort_values('mes_ano')\n",
    "km_mes_ano"
   ]
  },
  {
   "cell_type": "code",
   "execution_count": 5,
   "metadata": {},
   "outputs": [
    {
     "name": "stdout",
     "output_type": "stream",
     "text": [
      "Comparação da quilometragem das viagens completas\n",
      "Valor total da km pré-reprocessamento: 13033.180000000004\n",
      "Valor total da km pós-reprocessamento: 22121.820000000003\n",
      "Aumento de  69.73 %\n"
     ]
    }
   ],
   "source": [
    "distancia_total_pre_reprocessamento = km_mes_ano['distancia_total'].sum()\n",
    "distancia_total_pos_reprocessamento = km_mes_ano['distancia_total_reprocessada'].sum()\n",
    "print(\"Comparação da quilometragem das viagens completas\")\n",
    "print(\"Valor total da km pré-reprocessamento:\", distancia_total_pre_reprocessamento)\n",
    "print(\"Valor total da km pós-reprocessamento:\", distancia_total_pos_reprocessamento)\n",
    "print(\"Aumento de \",round((distancia_total_pos_reprocessamento / distancia_total_pre_reprocessamento - 1) * 100, 2),\"%\")"
   ]
  },
  {
   "cell_type": "code",
   "execution_count": 34,
   "metadata": {},
   "outputs": [
    {
     "data": {
      "application/vnd.plotly.v1+json": {
       "config": {
        "plotlyServerURL": "https://plot.ly"
       },
       "data": [
        {
         "marker": {
          "color": "dodgerblue"
         },
         "mode": "lines+markers",
         "name": "Km pré-reprocessamento",
         "opacity": 0.75,
         "type": "scatter",
         "x": [
          "2022-06",
          "2022-07",
          "2022-08",
          "2022-09",
          "2022-10",
          "2022-11",
          "2022-12"
         ],
         "y": [
          2566.6200000000003,
          2454.36,
          2539.460000000001,
          1425.9000000000003,
          1378.3700000000003,
          1249.36,
          1419.11
         ]
        },
        {
         "marker": {
          "color": "crimson"
         },
         "mode": "lines+markers",
         "name": "Km reprocessada",
         "opacity": 0.75,
         "type": "scatter",
         "x": [
          "2022-06",
          "2022-07",
          "2022-08",
          "2022-09",
          "2022-10",
          "2022-11",
          "2022-12"
         ],
         "y": [
          3035.13,
          3877.0899999999992,
          4209.799999999999,
          2865.380000000001,
          2946.860000000001,
          2553.0400000000004,
          2634.5200000000013
         ]
        }
       ],
       "layout": {
        "annotations": [
         {
          "font": {
           "color": "black",
           "size": 14
          },
          "showarrow": false,
          "text": "Valores",
          "x": -0.065,
          "xanchor": "left",
          "xref": "paper",
          "y": 1.1,
          "yref": "paper"
         },
         {
          "font": {
           "color": "dodgerblue",
           "size": 14
          },
          "showarrow": false,
          "text": "pré-reprocessamento",
          "x": 0.025,
          "xanchor": "left",
          "xref": "paper",
          "y": 1.1,
          "yref": "paper"
         },
         {
          "font": {
           "color": "black",
           "size": 14
          },
          "showarrow": false,
          "text": "e",
          "x": 0.27,
          "xanchor": "left",
          "xref": "paper",
          "y": 1.1,
          "yref": "paper"
         },
         {
          "font": {
           "color": "crimson",
           "size": 14
          },
          "showarrow": false,
          "text": "pós-reprocessamento.",
          "x": 0.29,
          "xanchor": "left",
          "xref": "paper",
          "y": 1.1,
          "yref": "paper"
         }
        ],
        "height": 600,
        "plot_bgcolor": "white",
        "showlegend": false,
        "template": {
         "data": {
          "bar": [
           {
            "error_x": {
             "color": "#2a3f5f"
            },
            "error_y": {
             "color": "#2a3f5f"
            },
            "marker": {
             "line": {
              "color": "#E5ECF6",
              "width": 0.5
             },
             "pattern": {
              "fillmode": "overlay",
              "size": 10,
              "solidity": 0.2
             }
            },
            "type": "bar"
           }
          ],
          "barpolar": [
           {
            "marker": {
             "line": {
              "color": "#E5ECF6",
              "width": 0.5
             },
             "pattern": {
              "fillmode": "overlay",
              "size": 10,
              "solidity": 0.2
             }
            },
            "type": "barpolar"
           }
          ],
          "carpet": [
           {
            "aaxis": {
             "endlinecolor": "#2a3f5f",
             "gridcolor": "white",
             "linecolor": "white",
             "minorgridcolor": "white",
             "startlinecolor": "#2a3f5f"
            },
            "baxis": {
             "endlinecolor": "#2a3f5f",
             "gridcolor": "white",
             "linecolor": "white",
             "minorgridcolor": "white",
             "startlinecolor": "#2a3f5f"
            },
            "type": "carpet"
           }
          ],
          "choropleth": [
           {
            "colorbar": {
             "outlinewidth": 0,
             "ticks": ""
            },
            "type": "choropleth"
           }
          ],
          "contour": [
           {
            "colorbar": {
             "outlinewidth": 0,
             "ticks": ""
            },
            "colorscale": [
             [
              0,
              "#0d0887"
             ],
             [
              0.1111111111111111,
              "#46039f"
             ],
             [
              0.2222222222222222,
              "#7201a8"
             ],
             [
              0.3333333333333333,
              "#9c179e"
             ],
             [
              0.4444444444444444,
              "#bd3786"
             ],
             [
              0.5555555555555556,
              "#d8576b"
             ],
             [
              0.6666666666666666,
              "#ed7953"
             ],
             [
              0.7777777777777778,
              "#fb9f3a"
             ],
             [
              0.8888888888888888,
              "#fdca26"
             ],
             [
              1,
              "#f0f921"
             ]
            ],
            "type": "contour"
           }
          ],
          "contourcarpet": [
           {
            "colorbar": {
             "outlinewidth": 0,
             "ticks": ""
            },
            "type": "contourcarpet"
           }
          ],
          "heatmap": [
           {
            "colorbar": {
             "outlinewidth": 0,
             "ticks": ""
            },
            "colorscale": [
             [
              0,
              "#0d0887"
             ],
             [
              0.1111111111111111,
              "#46039f"
             ],
             [
              0.2222222222222222,
              "#7201a8"
             ],
             [
              0.3333333333333333,
              "#9c179e"
             ],
             [
              0.4444444444444444,
              "#bd3786"
             ],
             [
              0.5555555555555556,
              "#d8576b"
             ],
             [
              0.6666666666666666,
              "#ed7953"
             ],
             [
              0.7777777777777778,
              "#fb9f3a"
             ],
             [
              0.8888888888888888,
              "#fdca26"
             ],
             [
              1,
              "#f0f921"
             ]
            ],
            "type": "heatmap"
           }
          ],
          "heatmapgl": [
           {
            "colorbar": {
             "outlinewidth": 0,
             "ticks": ""
            },
            "colorscale": [
             [
              0,
              "#0d0887"
             ],
             [
              0.1111111111111111,
              "#46039f"
             ],
             [
              0.2222222222222222,
              "#7201a8"
             ],
             [
              0.3333333333333333,
              "#9c179e"
             ],
             [
              0.4444444444444444,
              "#bd3786"
             ],
             [
              0.5555555555555556,
              "#d8576b"
             ],
             [
              0.6666666666666666,
              "#ed7953"
             ],
             [
              0.7777777777777778,
              "#fb9f3a"
             ],
             [
              0.8888888888888888,
              "#fdca26"
             ],
             [
              1,
              "#f0f921"
             ]
            ],
            "type": "heatmapgl"
           }
          ],
          "histogram": [
           {
            "marker": {
             "pattern": {
              "fillmode": "overlay",
              "size": 10,
              "solidity": 0.2
             }
            },
            "type": "histogram"
           }
          ],
          "histogram2d": [
           {
            "colorbar": {
             "outlinewidth": 0,
             "ticks": ""
            },
            "colorscale": [
             [
              0,
              "#0d0887"
             ],
             [
              0.1111111111111111,
              "#46039f"
             ],
             [
              0.2222222222222222,
              "#7201a8"
             ],
             [
              0.3333333333333333,
              "#9c179e"
             ],
             [
              0.4444444444444444,
              "#bd3786"
             ],
             [
              0.5555555555555556,
              "#d8576b"
             ],
             [
              0.6666666666666666,
              "#ed7953"
             ],
             [
              0.7777777777777778,
              "#fb9f3a"
             ],
             [
              0.8888888888888888,
              "#fdca26"
             ],
             [
              1,
              "#f0f921"
             ]
            ],
            "type": "histogram2d"
           }
          ],
          "histogram2dcontour": [
           {
            "colorbar": {
             "outlinewidth": 0,
             "ticks": ""
            },
            "colorscale": [
             [
              0,
              "#0d0887"
             ],
             [
              0.1111111111111111,
              "#46039f"
             ],
             [
              0.2222222222222222,
              "#7201a8"
             ],
             [
              0.3333333333333333,
              "#9c179e"
             ],
             [
              0.4444444444444444,
              "#bd3786"
             ],
             [
              0.5555555555555556,
              "#d8576b"
             ],
             [
              0.6666666666666666,
              "#ed7953"
             ],
             [
              0.7777777777777778,
              "#fb9f3a"
             ],
             [
              0.8888888888888888,
              "#fdca26"
             ],
             [
              1,
              "#f0f921"
             ]
            ],
            "type": "histogram2dcontour"
           }
          ],
          "mesh3d": [
           {
            "colorbar": {
             "outlinewidth": 0,
             "ticks": ""
            },
            "type": "mesh3d"
           }
          ],
          "parcoords": [
           {
            "line": {
             "colorbar": {
              "outlinewidth": 0,
              "ticks": ""
             }
            },
            "type": "parcoords"
           }
          ],
          "pie": [
           {
            "automargin": true,
            "type": "pie"
           }
          ],
          "scatter": [
           {
            "fillpattern": {
             "fillmode": "overlay",
             "size": 10,
             "solidity": 0.2
            },
            "type": "scatter"
           }
          ],
          "scatter3d": [
           {
            "line": {
             "colorbar": {
              "outlinewidth": 0,
              "ticks": ""
             }
            },
            "marker": {
             "colorbar": {
              "outlinewidth": 0,
              "ticks": ""
             }
            },
            "type": "scatter3d"
           }
          ],
          "scattercarpet": [
           {
            "marker": {
             "colorbar": {
              "outlinewidth": 0,
              "ticks": ""
             }
            },
            "type": "scattercarpet"
           }
          ],
          "scattergeo": [
           {
            "marker": {
             "colorbar": {
              "outlinewidth": 0,
              "ticks": ""
             }
            },
            "type": "scattergeo"
           }
          ],
          "scattergl": [
           {
            "marker": {
             "colorbar": {
              "outlinewidth": 0,
              "ticks": ""
             }
            },
            "type": "scattergl"
           }
          ],
          "scattermapbox": [
           {
            "marker": {
             "colorbar": {
              "outlinewidth": 0,
              "ticks": ""
             }
            },
            "type": "scattermapbox"
           }
          ],
          "scatterpolar": [
           {
            "marker": {
             "colorbar": {
              "outlinewidth": 0,
              "ticks": ""
             }
            },
            "type": "scatterpolar"
           }
          ],
          "scatterpolargl": [
           {
            "marker": {
             "colorbar": {
              "outlinewidth": 0,
              "ticks": ""
             }
            },
            "type": "scatterpolargl"
           }
          ],
          "scatterternary": [
           {
            "marker": {
             "colorbar": {
              "outlinewidth": 0,
              "ticks": ""
             }
            },
            "type": "scatterternary"
           }
          ],
          "surface": [
           {
            "colorbar": {
             "outlinewidth": 0,
             "ticks": ""
            },
            "colorscale": [
             [
              0,
              "#0d0887"
             ],
             [
              0.1111111111111111,
              "#46039f"
             ],
             [
              0.2222222222222222,
              "#7201a8"
             ],
             [
              0.3333333333333333,
              "#9c179e"
             ],
             [
              0.4444444444444444,
              "#bd3786"
             ],
             [
              0.5555555555555556,
              "#d8576b"
             ],
             [
              0.6666666666666666,
              "#ed7953"
             ],
             [
              0.7777777777777778,
              "#fb9f3a"
             ],
             [
              0.8888888888888888,
              "#fdca26"
             ],
             [
              1,
              "#f0f921"
             ]
            ],
            "type": "surface"
           }
          ],
          "table": [
           {
            "cells": {
             "fill": {
              "color": "#EBF0F8"
             },
             "line": {
              "color": "white"
             }
            },
            "header": {
             "fill": {
              "color": "#C8D4E3"
             },
             "line": {
              "color": "white"
             }
            },
            "type": "table"
           }
          ]
         },
         "layout": {
          "annotationdefaults": {
           "arrowcolor": "#2a3f5f",
           "arrowhead": 0,
           "arrowwidth": 1
          },
          "autotypenumbers": "strict",
          "coloraxis": {
           "colorbar": {
            "outlinewidth": 0,
            "ticks": ""
           }
          },
          "colorscale": {
           "diverging": [
            [
             0,
             "#8e0152"
            ],
            [
             0.1,
             "#c51b7d"
            ],
            [
             0.2,
             "#de77ae"
            ],
            [
             0.3,
             "#f1b6da"
            ],
            [
             0.4,
             "#fde0ef"
            ],
            [
             0.5,
             "#f7f7f7"
            ],
            [
             0.6,
             "#e6f5d0"
            ],
            [
             0.7,
             "#b8e186"
            ],
            [
             0.8,
             "#7fbc41"
            ],
            [
             0.9,
             "#4d9221"
            ],
            [
             1,
             "#276419"
            ]
           ],
           "sequential": [
            [
             0,
             "#0d0887"
            ],
            [
             0.1111111111111111,
             "#46039f"
            ],
            [
             0.2222222222222222,
             "#7201a8"
            ],
            [
             0.3333333333333333,
             "#9c179e"
            ],
            [
             0.4444444444444444,
             "#bd3786"
            ],
            [
             0.5555555555555556,
             "#d8576b"
            ],
            [
             0.6666666666666666,
             "#ed7953"
            ],
            [
             0.7777777777777778,
             "#fb9f3a"
            ],
            [
             0.8888888888888888,
             "#fdca26"
            ],
            [
             1,
             "#f0f921"
            ]
           ],
           "sequentialminus": [
            [
             0,
             "#0d0887"
            ],
            [
             0.1111111111111111,
             "#46039f"
            ],
            [
             0.2222222222222222,
             "#7201a8"
            ],
            [
             0.3333333333333333,
             "#9c179e"
            ],
            [
             0.4444444444444444,
             "#bd3786"
            ],
            [
             0.5555555555555556,
             "#d8576b"
            ],
            [
             0.6666666666666666,
             "#ed7953"
            ],
            [
             0.7777777777777778,
             "#fb9f3a"
            ],
            [
             0.8888888888888888,
             "#fdca26"
            ],
            [
             1,
             "#f0f921"
            ]
           ]
          },
          "colorway": [
           "#636efa",
           "#EF553B",
           "#00cc96",
           "#ab63fa",
           "#FFA15A",
           "#19d3f3",
           "#FF6692",
           "#B6E880",
           "#FF97FF",
           "#FECB52"
          ],
          "font": {
           "color": "#2a3f5f"
          },
          "geo": {
           "bgcolor": "white",
           "lakecolor": "white",
           "landcolor": "#E5ECF6",
           "showlakes": true,
           "showland": true,
           "subunitcolor": "white"
          },
          "hoverlabel": {
           "align": "left"
          },
          "hovermode": "closest",
          "mapbox": {
           "style": "light"
          },
          "paper_bgcolor": "white",
          "plot_bgcolor": "#E5ECF6",
          "polar": {
           "angularaxis": {
            "gridcolor": "white",
            "linecolor": "white",
            "ticks": ""
           },
           "bgcolor": "#E5ECF6",
           "radialaxis": {
            "gridcolor": "white",
            "linecolor": "white",
            "ticks": ""
           }
          },
          "scene": {
           "xaxis": {
            "backgroundcolor": "#E5ECF6",
            "gridcolor": "white",
            "gridwidth": 2,
            "linecolor": "white",
            "showbackground": true,
            "ticks": "",
            "zerolinecolor": "white"
           },
           "yaxis": {
            "backgroundcolor": "#E5ECF6",
            "gridcolor": "white",
            "gridwidth": 2,
            "linecolor": "white",
            "showbackground": true,
            "ticks": "",
            "zerolinecolor": "white"
           },
           "zaxis": {
            "backgroundcolor": "#E5ECF6",
            "gridcolor": "white",
            "gridwidth": 2,
            "linecolor": "white",
            "showbackground": true,
            "ticks": "",
            "zerolinecolor": "white"
           }
          },
          "shapedefaults": {
           "line": {
            "color": "#2a3f5f"
           }
          },
          "ternary": {
           "aaxis": {
            "gridcolor": "white",
            "linecolor": "white",
            "ticks": ""
           },
           "baxis": {
            "gridcolor": "white",
            "linecolor": "white",
            "ticks": ""
           },
           "bgcolor": "#E5ECF6",
           "caxis": {
            "gridcolor": "white",
            "linecolor": "white",
            "ticks": ""
           }
          },
          "title": {
           "x": 0.05
          },
          "xaxis": {
           "automargin": true,
           "gridcolor": "white",
           "linecolor": "white",
           "ticks": "",
           "title": {
            "standoff": 15
           },
           "zerolinecolor": "white",
           "zerolinewidth": 2
          },
          "yaxis": {
           "automargin": true,
           "gridcolor": "white",
           "linecolor": "white",
           "ticks": "",
           "title": {
            "standoff": 15
           },
           "zerolinecolor": "white",
           "zerolinewidth": 2
          }
         }
        },
        "title": {
         "font": {
          "color": "black"
         },
         "text": "Quilometragem apurada por mês - Serviço: 844"
        },
        "width": 800,
        "xaxis": {
         "showgrid": false,
         "zeroline": false
        },
        "yaxis": {
         "showgrid": false,
         "zeroline": false
        }
       }
      }
     },
     "metadata": {},
     "output_type": "display_data"
    }
   ],
   "source": [
    "# Criar o gráfico de linha\n",
    "fig = go.Figure()\n",
    "\n",
    "# Adicionar a linha com pontos para km_mes_ano['distancia_total']\n",
    "fig.add_trace(go.Scatter(x=km_mes_ano['mes_ano'], y=km_mes_ano['distancia_total'],\n",
    "                         mode='lines+markers',\n",
    "                         name='Km pré-reprocessamento',\n",
    "                         marker=dict(color='dodgerblue'),\n",
    "                         opacity=0.75))\n",
    "\n",
    "# Adicionar a linha com pontos para km_mes_ano['distancia_total_reprocessada']\n",
    "fig.add_trace(go.Scatter(x=km_mes_ano['mes_ano'], y=km_mes_ano['distancia_total_reprocessada'],\n",
    "                         mode='lines+markers',\n",
    "                         name='Km reprocessada',\n",
    "                         marker=dict(color='crimson'),\n",
    "                         opacity=0.75))\n",
    "\n",
    "# Configurar layout e outros parâmetros do gráfico\n",
    "fig.update_layout(\n",
    "    title=dict(text=\"Quilometragem apurada por mês - Serviço: 844\", font=dict(color='black')),\n",
    "    showlegend=False,\n",
    "    width=800,\n",
    "    height=600,\n",
    "    plot_bgcolor='white',\n",
    "    xaxis=dict(showgrid=False, zeroline=False),\n",
    "    yaxis=dict(showgrid=False, zeroline=False),\n",
    "    # Adicionando anotações para o subtítulo com cores específicas\n",
    "    annotations=[\n",
    "        dict(\n",
    "            x=-0.065,\n",
    "            y=1.10,\n",
    "            xref='paper',\n",
    "            yref='paper',\n",
    "            xanchor='left',\n",
    "            text='Valores',\n",
    "            showarrow=False,\n",
    "            font=dict(color='black', size=14)\n",
    "        ),\n",
    "        dict(\n",
    "            x=0.025,\n",
    "            y=1.10,\n",
    "            xref='paper',\n",
    "            yref='paper',\n",
    "            xanchor='left',\n",
    "            text='pré-reprocessamento',\n",
    "            showarrow=False,\n",
    "            font=dict(color='dodgerblue', size=14)\n",
    "        ),\n",
    "        dict(\n",
    "            x=0.27,\n",
    "            y=1.10,\n",
    "            xref='paper',\n",
    "            yref='paper',\n",
    "            xanchor='left',\n",
    "            text='e',\n",
    "            showarrow=False,\n",
    "            font=dict(color='black', size=14)\n",
    "        ),\n",
    "        dict(\n",
    "            x=0.29,\n",
    "            y=1.10,\n",
    "            xref='paper',\n",
    "            yref='paper',\n",
    "            xanchor='left',\n",
    "            text='pós-reprocessamento.',\n",
    "            showarrow=False,\n",
    "            font=dict(color='crimson', size=14)\n",
    "        )\n",
    "    ]\n",
    ")\n",
    "\n",
    "fig.show()"
   ]
  },
  {
   "cell_type": "markdown",
   "metadata": {},
   "source": [
    "### 2. Comparar a variação no valor do subsídio após o reprocessamento"
   ]
  },
  {
   "cell_type": "markdown",
   "metadata": {},
   "source": [
    "2.1 Valor recebido pelos consórcios antes do reprocessamento"
   ]
  },
  {
   "cell_type": "code",
   "execution_count": 7,
   "metadata": {},
   "outputs": [
    {
     "name": "stderr",
     "output_type": "stream",
     "text": [
      "Downloading: 100%|██████████| 7/7 [00:00<00:00, 17.95rows/s]\n"
     ]
    }
   ],
   "source": [
    "q = f\"\"\"\n",
    "SELECT\n",
    "  CONCAT(CAST(EXTRACT(YEAR FROM DATA) AS STRING), '-', LPAD(CAST(EXTRACT(MONTH FROM DATA) AS STRING), 2, '0')) AS mes_ano,\n",
    "  SUM(viagens) as viagens,\n",
    "  \n",
    "  SUM(valor_subsidio_pago) AS valor_subsidio\n",
    "FROM\n",
    "  `rj-smtr.dashboard_subsidio_sppo.sumario_servico_dia_historico`\n",
    "WHERE\n",
    "  servico = '844'\n",
    "  AND DATA BETWEEN '2022-06-01' AND '2022-12-31'\n",
    "GROUP BY\n",
    "  mes_ano\n",
    "\"\"\"\n",
    "subsidio_pago_mes = bd.read_sql(q, from_file=True)\n"
   ]
  },
  {
   "cell_type": "code",
   "execution_count": 8,
   "metadata": {},
   "outputs": [
    {
     "data": {
      "text/html": [
       "<div>\n",
       "<style scoped>\n",
       "    .dataframe tbody tr th:only-of-type {\n",
       "        vertical-align: middle;\n",
       "    }\n",
       "\n",
       "    .dataframe tbody tr th {\n",
       "        vertical-align: top;\n",
       "    }\n",
       "\n",
       "    .dataframe thead th {\n",
       "        text-align: right;\n",
       "    }\n",
       "</style>\n",
       "<table border=\"1\" class=\"dataframe\">\n",
       "  <thead>\n",
       "    <tr style=\"text-align: right;\">\n",
       "      <th></th>\n",
       "      <th>mes_ano</th>\n",
       "      <th>viagens</th>\n",
       "      <th>valor_subsidio</th>\n",
       "    </tr>\n",
       "  </thead>\n",
       "  <tbody>\n",
       "    <tr>\n",
       "      <th>0</th>\n",
       "      <td>2022-06</td>\n",
       "      <td>378</td>\n",
       "      <td>4397.31</td>\n",
       "    </tr>\n",
       "    <tr>\n",
       "      <th>2</th>\n",
       "      <td>2022-07</td>\n",
       "      <td>362</td>\n",
       "      <td>0.00</td>\n",
       "    </tr>\n",
       "    <tr>\n",
       "      <th>6</th>\n",
       "      <td>2022-08</td>\n",
       "      <td>374</td>\n",
       "      <td>0.00</td>\n",
       "    </tr>\n",
       "    <tr>\n",
       "      <th>3</th>\n",
       "      <td>2022-09</td>\n",
       "      <td>210</td>\n",
       "      <td>130.71</td>\n",
       "    </tr>\n",
       "    <tr>\n",
       "      <th>5</th>\n",
       "      <td>2022-10</td>\n",
       "      <td>203</td>\n",
       "      <td>439.99</td>\n",
       "    </tr>\n",
       "    <tr>\n",
       "      <th>4</th>\n",
       "      <td>2022-11</td>\n",
       "      <td>184</td>\n",
       "      <td>124.66</td>\n",
       "    </tr>\n",
       "    <tr>\n",
       "      <th>1</th>\n",
       "      <td>2022-12</td>\n",
       "      <td>209</td>\n",
       "      <td>145.03</td>\n",
       "    </tr>\n",
       "  </tbody>\n",
       "</table>\n",
       "</div>"
      ],
      "text/plain": [
       "   mes_ano  viagens  valor_subsidio\n",
       "0  2022-06      378         4397.31\n",
       "2  2022-07      362            0.00\n",
       "6  2022-08      374            0.00\n",
       "3  2022-09      210          130.71\n",
       "5  2022-10      203          439.99\n",
       "4  2022-11      184          124.66\n",
       "1  2022-12      209          145.03"
      ]
     },
     "execution_count": 8,
     "metadata": {},
     "output_type": "execute_result"
    }
   ],
   "source": [
    "subsidio_pago_mes = subsidio_pago_mes.sort_values('mes_ano')\n",
    "subsidio_pago_mes = subsidio_pago_mes[['mes_ano', 'viagens', 'valor_subsidio']]\n",
    "subsidio_pago_mes"
   ]
  },
  {
   "cell_type": "markdown",
   "metadata": {},
   "source": [
    "2.2 Valor que deve ser pago após o reprocessamento"
   ]
  },
  {
   "cell_type": "markdown",
   "metadata": {},
   "source": [
    "Com base nas viagens identificadas na tabela de viagem completa que foi reprocessada, foram verificados aqueles dias em que POD >= 80%, para então calcular o valor do subsídio de acordo com os valores por km da tabela `subsidio_data_versao_efetiva` que está no dataset `rj-smtr-dev.SMTR202211008775_reprocessamento`.\n",
    "\n",
    "Vale destacar que esta tabela exclui as glosas de 2023 do valor do subsídio por km. Ex: considera 2.81 por km após 16 de janeiro de 2023. "
   ]
  },
  {
   "cell_type": "code",
   "execution_count": 9,
   "metadata": {},
   "outputs": [
    {
     "name": "stderr",
     "output_type": "stream",
     "text": [
      "Downloading: 100%|██████████| 214/214 [00:00<00:00, 518.16rows/s]\n"
     ]
    },
    {
     "data": {
      "text/html": [
       "<div>\n",
       "<style scoped>\n",
       "    .dataframe tbody tr th:only-of-type {\n",
       "        vertical-align: middle;\n",
       "    }\n",
       "\n",
       "    .dataframe tbody tr th {\n",
       "        vertical-align: top;\n",
       "    }\n",
       "\n",
       "    .dataframe thead th {\n",
       "        text-align: right;\n",
       "    }\n",
       "</style>\n",
       "<table border=\"1\" class=\"dataframe\">\n",
       "  <thead>\n",
       "    <tr style=\"text-align: right;\">\n",
       "      <th></th>\n",
       "      <th>DATA</th>\n",
       "      <th>viagens</th>\n",
       "      <th>km_apurada</th>\n",
       "      <th>distancia_total_planejada</th>\n",
       "      <th>perc_km_planejada</th>\n",
       "      <th>valor_subsidio_por_km</th>\n",
       "      <th>valor_subsidio</th>\n",
       "    </tr>\n",
       "  </thead>\n",
       "  <tbody>\n",
       "    <tr>\n",
       "      <th>166</th>\n",
       "      <td>2022-06-01</td>\n",
       "      <td>29</td>\n",
       "      <td>196.91</td>\n",
       "      <td>129.020</td>\n",
       "      <td>1.53</td>\n",
       "      <td>2.13</td>\n",
       "      <td>419.4183</td>\n",
       "    </tr>\n",
       "    <tr>\n",
       "      <th>195</th>\n",
       "      <td>2022-06-02</td>\n",
       "      <td>23</td>\n",
       "      <td>156.17</td>\n",
       "      <td>129.020</td>\n",
       "      <td>1.21</td>\n",
       "      <td>2.13</td>\n",
       "      <td>332.6421</td>\n",
       "    </tr>\n",
       "    <tr>\n",
       "      <th>57</th>\n",
       "      <td>2022-06-03</td>\n",
       "      <td>22</td>\n",
       "      <td>149.38</td>\n",
       "      <td>129.020</td>\n",
       "      <td>1.16</td>\n",
       "      <td>2.13</td>\n",
       "      <td>318.1794</td>\n",
       "    </tr>\n",
       "    <tr>\n",
       "      <th>1</th>\n",
       "      <td>2022-06-04</td>\n",
       "      <td>0</td>\n",
       "      <td>0.00</td>\n",
       "      <td>80.638</td>\n",
       "      <td>0.00</td>\n",
       "      <td>2.13</td>\n",
       "      <td>0.0000</td>\n",
       "    </tr>\n",
       "    <tr>\n",
       "      <th>130</th>\n",
       "      <td>2022-06-05</td>\n",
       "      <td>0</td>\n",
       "      <td>0.00</td>\n",
       "      <td>64.510</td>\n",
       "      <td>0.00</td>\n",
       "      <td>2.13</td>\n",
       "      <td>0.0000</td>\n",
       "    </tr>\n",
       "    <tr>\n",
       "      <th>...</th>\n",
       "      <td>...</td>\n",
       "      <td>...</td>\n",
       "      <td>...</td>\n",
       "      <td>...</td>\n",
       "      <td>...</td>\n",
       "      <td>...</td>\n",
       "      <td>...</td>\n",
       "    </tr>\n",
       "    <tr>\n",
       "      <th>213</th>\n",
       "      <td>2022-12-27</td>\n",
       "      <td>20</td>\n",
       "      <td>135.80</td>\n",
       "      <td>135.806</td>\n",
       "      <td>1.00</td>\n",
       "      <td>1.78</td>\n",
       "      <td>241.7240</td>\n",
       "    </tr>\n",
       "    <tr>\n",
       "      <th>75</th>\n",
       "      <td>2022-12-28</td>\n",
       "      <td>21</td>\n",
       "      <td>142.59</td>\n",
       "      <td>135.806</td>\n",
       "      <td>1.05</td>\n",
       "      <td>1.78</td>\n",
       "      <td>253.8102</td>\n",
       "    </tr>\n",
       "    <tr>\n",
       "      <th>190</th>\n",
       "      <td>2022-12-29</td>\n",
       "      <td>21</td>\n",
       "      <td>142.59</td>\n",
       "      <td>135.806</td>\n",
       "      <td>1.05</td>\n",
       "      <td>1.78</td>\n",
       "      <td>253.8102</td>\n",
       "    </tr>\n",
       "    <tr>\n",
       "      <th>13</th>\n",
       "      <td>2022-12-30</td>\n",
       "      <td>20</td>\n",
       "      <td>135.80</td>\n",
       "      <td>135.806</td>\n",
       "      <td>1.00</td>\n",
       "      <td>1.78</td>\n",
       "      <td>241.7240</td>\n",
       "    </tr>\n",
       "    <tr>\n",
       "      <th>32</th>\n",
       "      <td>2022-12-31</td>\n",
       "      <td>0</td>\n",
       "      <td>0.00</td>\n",
       "      <td>84.878</td>\n",
       "      <td>0.00</td>\n",
       "      <td>1.78</td>\n",
       "      <td>0.0000</td>\n",
       "    </tr>\n",
       "  </tbody>\n",
       "</table>\n",
       "<p>214 rows × 7 columns</p>\n",
       "</div>"
      ],
      "text/plain": [
       "           DATA  viagens  km_apurada  distancia_total_planejada  \\\n",
       "166  2022-06-01       29      196.91                    129.020   \n",
       "195  2022-06-02       23      156.17                    129.020   \n",
       "57   2022-06-03       22      149.38                    129.020   \n",
       "1    2022-06-04        0        0.00                     80.638   \n",
       "130  2022-06-05        0        0.00                     64.510   \n",
       "..          ...      ...         ...                        ...   \n",
       "213  2022-12-27       20      135.80                    135.806   \n",
       "75   2022-12-28       21      142.59                    135.806   \n",
       "190  2022-12-29       21      142.59                    135.806   \n",
       "13   2022-12-30       20      135.80                    135.806   \n",
       "32   2022-12-31        0        0.00                     84.878   \n",
       "\n",
       "     perc_km_planejada  valor_subsidio_por_km  valor_subsidio  \n",
       "166               1.53                   2.13        419.4183  \n",
       "195               1.21                   2.13        332.6421  \n",
       "57                1.16                   2.13        318.1794  \n",
       "1                 0.00                   2.13          0.0000  \n",
       "130               0.00                   2.13          0.0000  \n",
       "..                 ...                    ...             ...  \n",
       "213               1.00                   1.78        241.7240  \n",
       "75                1.05                   1.78        253.8102  \n",
       "190               1.05                   1.78        253.8102  \n",
       "13                1.00                   1.78        241.7240  \n",
       "32                0.00                   1.78          0.0000  \n",
       "\n",
       "[214 rows x 7 columns]"
      ]
     },
     "execution_count": 9,
     "metadata": {},
     "output_type": "execute_result"
    }
   ],
   "source": [
    "q = f\"\"\"\n",
    "WITH\n",
    "  viagem_dia AS (\n",
    "  SELECT\n",
    "    DATA,\n",
    "    COUNT(*) AS viagens,\n",
    "    SUM(distancia_planejada) AS km_apurada\n",
    "  FROM\n",
    "    `rj-smtr-dev.SMTR202211008775_reprocessamento.viagem_completa`\n",
    "  WHERE\n",
    "    DATA BETWEEN \"2022-06-01\"\n",
    "    AND \"2022-12-31\"\n",
    "  GROUP BY\n",
    "    DATA\n",
    "  ),\n",
    "  viagem_planejada AS ( -- pegar a km planejada para o dia\n",
    "  SELECT DISTINCT \n",
    "    DATA,\n",
    "    distancia_total_planejada\n",
    "  FROM\n",
    "    `rj-smtr.projeto_subsidio_sppo.viagem_planejada`\n",
    "  WHERE\n",
    "    servico = '844'\n",
    "    AND DATA BETWEEN \"2022-06-01\"\n",
    "    AND \"2022-12-31\"\n",
    "  ),\n",
    "  tabela_pod AS (\n",
    "  SELECT\n",
    "    *,\n",
    "    ROUND((km_apurada / distancia_total_planejada),2) AS perc_km_planejada\n",
    "  FROM\n",
    "    viagem_dia vd\n",
    "  RIGHT JOIN\n",
    "    viagem_planejada vp\n",
    "  USING\n",
    "    (DATA) \n",
    "  ),\n",
    "  tabela_subsidio_km AS (\n",
    "  SELECT\n",
    "    DATA,\n",
    "    valor_subsidio_por_km\n",
    "  FROM\n",
    "    `rj-smtr-dev.SMTR202211008775_reprocessamento.subsidio_data_versao_efetiva` )\n",
    "SELECT\n",
    "  DATA,\n",
    "  COALESCE(viagens, 0) as viagens,\n",
    "  COALESCE(km_apurada,0) as km_apurada,\n",
    "  COALESCE(distancia_total_planejada,0) as distancia_total_planejada,\n",
    "  COALESCE(perc_km_planejada,0) as perc_km_planejada,\n",
    "  COALESCE(valor_subsidio_por_km,0) as valor_subsidio_por_km,\n",
    "   CASE \n",
    "   WHEN perc_km_planejada >= 0.8 THEN valor_subsidio_por_km * km_apurada\n",
    "   ELSE 0\n",
    "   END as valor_subsidio\n",
    "FROM\n",
    "  tabela_pod\n",
    "LEFT JOIN\n",
    "  tabela_subsidio_km\n",
    "USING\n",
    "  (DATA)\n",
    "\"\"\"\n",
    "\n",
    "subsidio_a_pagar_dia = bd.read_sql(q, from_file=True)\n",
    "subsidio_a_pagar_dia = subsidio_a_pagar_dia.sort_values('DATA')\n",
    "subsidio_a_pagar_dia"
   ]
  },
  {
   "cell_type": "code",
   "execution_count": 10,
   "metadata": {},
   "outputs": [
    {
     "data": {
      "text/html": [
       "<div>\n",
       "<style scoped>\n",
       "    .dataframe tbody tr th:only-of-type {\n",
       "        vertical-align: middle;\n",
       "    }\n",
       "\n",
       "    .dataframe tbody tr th {\n",
       "        vertical-align: top;\n",
       "    }\n",
       "\n",
       "    .dataframe thead th {\n",
       "        text-align: right;\n",
       "    }\n",
       "</style>\n",
       "<table border=\"1\" class=\"dataframe\">\n",
       "  <thead>\n",
       "    <tr style=\"text-align: right;\">\n",
       "      <th></th>\n",
       "      <th>mes_ano</th>\n",
       "      <th>viagens</th>\n",
       "      <th>valor_subsidio</th>\n",
       "    </tr>\n",
       "  </thead>\n",
       "  <tbody>\n",
       "    <tr>\n",
       "      <th>0</th>\n",
       "      <td>2022-06</td>\n",
       "      <td>447</td>\n",
       "      <td>6262.3491</td>\n",
       "    </tr>\n",
       "    <tr>\n",
       "      <th>1</th>\n",
       "      <td>2022-07</td>\n",
       "      <td>571</td>\n",
       "      <td>6858.9864</td>\n",
       "    </tr>\n",
       "    <tr>\n",
       "      <th>2</th>\n",
       "      <td>2022-08</td>\n",
       "      <td>620</td>\n",
       "      <td>7369.8660</td>\n",
       "    </tr>\n",
       "    <tr>\n",
       "      <th>3</th>\n",
       "      <td>2022-09</td>\n",
       "      <td>422</td>\n",
       "      <td>5014.4150</td>\n",
       "    </tr>\n",
       "    <tr>\n",
       "      <th>4</th>\n",
       "      <td>2022-10</td>\n",
       "      <td>434</td>\n",
       "      <td>4619.9160</td>\n",
       "    </tr>\n",
       "    <tr>\n",
       "      <th>5</th>\n",
       "      <td>2022-11</td>\n",
       "      <td>376</td>\n",
       "      <td>3552.9354</td>\n",
       "    </tr>\n",
       "    <tr>\n",
       "      <th>6</th>\n",
       "      <td>2022-12</td>\n",
       "      <td>388</td>\n",
       "      <td>4483.9802</td>\n",
       "    </tr>\n",
       "  </tbody>\n",
       "</table>\n",
       "</div>"
      ],
      "text/plain": [
       "   mes_ano  viagens  valor_subsidio\n",
       "0  2022-06      447       6262.3491\n",
       "1  2022-07      571       6858.9864\n",
       "2  2022-08      620       7369.8660\n",
       "3  2022-09      422       5014.4150\n",
       "4  2022-10      434       4619.9160\n",
       "5  2022-11      376       3552.9354\n",
       "6  2022-12      388       4483.9802"
      ]
     },
     "execution_count": 10,
     "metadata": {},
     "output_type": "execute_result"
    }
   ],
   "source": [
    "subsidio_a_pagar_dia['DATA'] = pd.to_datetime(subsidio_a_pagar_dia['DATA'])\n",
    "subsidio_a_pagar_dia['mes_ano'] = subsidio_a_pagar_dia['DATA'].dt.strftime('%Y-%m')\n",
    "subsidio_a_pagar_mes = subsidio_a_pagar_dia[['mes_ano', 'viagens', 'valor_subsidio']]\n",
    "subsidio_a_pagar_mes = subsidio_a_pagar_mes.groupby('mes_ano').sum().reset_index()  \n",
    "subsidio_a_pagar_mes"
   ]
  },
  {
   "cell_type": "markdown",
   "metadata": {},
   "source": [
    "O aumento do valor do subsídio não é proporcional ao aumento da quantidade de viagens, pois com o reprocessamento, cada viagem circular virou duas viagens separadas, uma de ida e outra de volta.\n",
    "\n",
    "Isto quer dizer que o esperado era que a quantidade de viagens pelo menos dobrasse após o reprocessamento, mesmo que não fosse identificada nenhuma viagem nova."
   ]
  },
  {
   "cell_type": "code",
   "execution_count": 11,
   "metadata": {},
   "outputs": [
    {
     "data": {
      "text/html": [
       "<div>\n",
       "<style scoped>\n",
       "    .dataframe tbody tr th:only-of-type {\n",
       "        vertical-align: middle;\n",
       "    }\n",
       "\n",
       "    .dataframe tbody tr th {\n",
       "        vertical-align: top;\n",
       "    }\n",
       "\n",
       "    .dataframe thead th {\n",
       "        text-align: right;\n",
       "    }\n",
       "</style>\n",
       "<table border=\"1\" class=\"dataframe\">\n",
       "  <thead>\n",
       "    <tr style=\"text-align: right;\">\n",
       "      <th></th>\n",
       "      <th>mes_ano</th>\n",
       "      <th>viagens_pre</th>\n",
       "      <th>valor_subsidio_pre</th>\n",
       "      <th>viagens_pos</th>\n",
       "      <th>valor_subsidio_pos</th>\n",
       "    </tr>\n",
       "  </thead>\n",
       "  <tbody>\n",
       "    <tr>\n",
       "      <th>0</th>\n",
       "      <td>2022-06</td>\n",
       "      <td>378</td>\n",
       "      <td>4397.31</td>\n",
       "      <td>447</td>\n",
       "      <td>6262.3491</td>\n",
       "    </tr>\n",
       "    <tr>\n",
       "      <th>1</th>\n",
       "      <td>2022-07</td>\n",
       "      <td>362</td>\n",
       "      <td>0.00</td>\n",
       "      <td>571</td>\n",
       "      <td>6858.9864</td>\n",
       "    </tr>\n",
       "    <tr>\n",
       "      <th>2</th>\n",
       "      <td>2022-08</td>\n",
       "      <td>374</td>\n",
       "      <td>0.00</td>\n",
       "      <td>620</td>\n",
       "      <td>7369.8660</td>\n",
       "    </tr>\n",
       "    <tr>\n",
       "      <th>3</th>\n",
       "      <td>2022-09</td>\n",
       "      <td>210</td>\n",
       "      <td>130.71</td>\n",
       "      <td>422</td>\n",
       "      <td>5014.4150</td>\n",
       "    </tr>\n",
       "    <tr>\n",
       "      <th>4</th>\n",
       "      <td>2022-10</td>\n",
       "      <td>203</td>\n",
       "      <td>439.99</td>\n",
       "      <td>434</td>\n",
       "      <td>4619.9160</td>\n",
       "    </tr>\n",
       "    <tr>\n",
       "      <th>5</th>\n",
       "      <td>2022-11</td>\n",
       "      <td>184</td>\n",
       "      <td>124.66</td>\n",
       "      <td>376</td>\n",
       "      <td>3552.9354</td>\n",
       "    </tr>\n",
       "    <tr>\n",
       "      <th>6</th>\n",
       "      <td>2022-12</td>\n",
       "      <td>209</td>\n",
       "      <td>145.03</td>\n",
       "      <td>388</td>\n",
       "      <td>4483.9802</td>\n",
       "    </tr>\n",
       "  </tbody>\n",
       "</table>\n",
       "</div>"
      ],
      "text/plain": [
       "   mes_ano  viagens_pre  valor_subsidio_pre  viagens_pos  valor_subsidio_pos\n",
       "0  2022-06          378             4397.31          447           6262.3491\n",
       "1  2022-07          362                0.00          571           6858.9864\n",
       "2  2022-08          374                0.00          620           7369.8660\n",
       "3  2022-09          210              130.71          422           5014.4150\n",
       "4  2022-10          203              439.99          434           4619.9160\n",
       "5  2022-11          184              124.66          376           3552.9354\n",
       "6  2022-12          209              145.03          388           4483.9802"
      ]
     },
     "execution_count": 11,
     "metadata": {},
     "output_type": "execute_result"
    }
   ],
   "source": [
    "# juntar as duas tabelas\n",
    "tabela_subsidio_mes = pd.merge(subsidio_pago_mes, subsidio_a_pagar_mes, how='left', on='mes_ano', suffixes=['_pre','_pos'])\n",
    "tabela_subsidio_mes"
   ]
  },
  {
   "cell_type": "code",
   "execution_count": 12,
   "metadata": {},
   "outputs": [
    {
     "data": {
      "text/plain": [
       "viagens_pre            1920.0000\n",
       "viagens_pos            3258.0000\n",
       "valor_subsidio_pre     5237.7000\n",
       "valor_subsidio_pos    38162.4481\n",
       "dtype: float64"
      ]
     },
     "execution_count": 12,
     "metadata": {},
     "output_type": "execute_result"
    }
   ],
   "source": [
    "tabela_subsidio_mes\n",
    "total_subsidio_comparacao = tabela_subsidio_mes[['viagens_pre', 'viagens_pos','valor_subsidio_pre','valor_subsidio_pos']].sum(axis=0)\n",
    "total_subsidio_comparacao"
   ]
  },
  {
   "cell_type": "code",
   "execution_count": 13,
   "metadata": {},
   "outputs": [
    {
     "data": {
      "application/vnd.plotly.v1+json": {
       "config": {
        "plotlyServerURL": "https://plot.ly"
       },
       "data": [
        {
         "marker": {
          "color": "dodgerblue"
         },
         "mode": "lines+markers",
         "name": "Qtd de viagens pré-reprocessamento",
         "opacity": 0.75,
         "type": "scatter",
         "x": [
          "2022-06",
          "2022-07",
          "2022-08",
          "2022-09",
          "2022-10",
          "2022-11",
          "2022-12"
         ],
         "y": [
          378,
          362,
          374,
          210,
          203,
          184,
          209
         ]
        },
        {
         "marker": {
          "color": "crimson"
         },
         "mode": "lines+markers",
         "name": "Qtd de viagens reprocessadas",
         "opacity": 0.75,
         "type": "scatter",
         "x": [
          "2022-06",
          "2022-07",
          "2022-08",
          "2022-09",
          "2022-10",
          "2022-11",
          "2022-12"
         ],
         "y": [
          447,
          571,
          620,
          422,
          434,
          376,
          388
         ]
        }
       ],
       "layout": {
        "annotations": [
         {
          "font": {
           "color": "black",
           "size": 14
          },
          "showarrow": false,
          "text": "Valores",
          "x": -0.065,
          "xanchor": "left",
          "xref": "paper",
          "y": 1.1,
          "yref": "paper"
         },
         {
          "font": {
           "color": "dodgerblue",
           "size": 14
          },
          "showarrow": false,
          "text": "pré-reprocessamento",
          "x": 0.025,
          "xanchor": "left",
          "xref": "paper",
          "y": 1.1,
          "yref": "paper"
         },
         {
          "font": {
           "color": "black",
           "size": 14
          },
          "showarrow": false,
          "text": "e",
          "x": 0.27,
          "xanchor": "left",
          "xref": "paper",
          "y": 1.1,
          "yref": "paper"
         },
         {
          "font": {
           "color": "crimson",
           "size": 14
          },
          "showarrow": false,
          "text": "pós-reprocessamento.",
          "x": 0.29,
          "xanchor": "left",
          "xref": "paper",
          "y": 1.1,
          "yref": "paper"
         }
        ],
        "height": 600,
        "plot_bgcolor": "white",
        "showlegend": false,
        "template": {
         "data": {
          "bar": [
           {
            "error_x": {
             "color": "#2a3f5f"
            },
            "error_y": {
             "color": "#2a3f5f"
            },
            "marker": {
             "line": {
              "color": "#E5ECF6",
              "width": 0.5
             },
             "pattern": {
              "fillmode": "overlay",
              "size": 10,
              "solidity": 0.2
             }
            },
            "type": "bar"
           }
          ],
          "barpolar": [
           {
            "marker": {
             "line": {
              "color": "#E5ECF6",
              "width": 0.5
             },
             "pattern": {
              "fillmode": "overlay",
              "size": 10,
              "solidity": 0.2
             }
            },
            "type": "barpolar"
           }
          ],
          "carpet": [
           {
            "aaxis": {
             "endlinecolor": "#2a3f5f",
             "gridcolor": "white",
             "linecolor": "white",
             "minorgridcolor": "white",
             "startlinecolor": "#2a3f5f"
            },
            "baxis": {
             "endlinecolor": "#2a3f5f",
             "gridcolor": "white",
             "linecolor": "white",
             "minorgridcolor": "white",
             "startlinecolor": "#2a3f5f"
            },
            "type": "carpet"
           }
          ],
          "choropleth": [
           {
            "colorbar": {
             "outlinewidth": 0,
             "ticks": ""
            },
            "type": "choropleth"
           }
          ],
          "contour": [
           {
            "colorbar": {
             "outlinewidth": 0,
             "ticks": ""
            },
            "colorscale": [
             [
              0,
              "#0d0887"
             ],
             [
              0.1111111111111111,
              "#46039f"
             ],
             [
              0.2222222222222222,
              "#7201a8"
             ],
             [
              0.3333333333333333,
              "#9c179e"
             ],
             [
              0.4444444444444444,
              "#bd3786"
             ],
             [
              0.5555555555555556,
              "#d8576b"
             ],
             [
              0.6666666666666666,
              "#ed7953"
             ],
             [
              0.7777777777777778,
              "#fb9f3a"
             ],
             [
              0.8888888888888888,
              "#fdca26"
             ],
             [
              1,
              "#f0f921"
             ]
            ],
            "type": "contour"
           }
          ],
          "contourcarpet": [
           {
            "colorbar": {
             "outlinewidth": 0,
             "ticks": ""
            },
            "type": "contourcarpet"
           }
          ],
          "heatmap": [
           {
            "colorbar": {
             "outlinewidth": 0,
             "ticks": ""
            },
            "colorscale": [
             [
              0,
              "#0d0887"
             ],
             [
              0.1111111111111111,
              "#46039f"
             ],
             [
              0.2222222222222222,
              "#7201a8"
             ],
             [
              0.3333333333333333,
              "#9c179e"
             ],
             [
              0.4444444444444444,
              "#bd3786"
             ],
             [
              0.5555555555555556,
              "#d8576b"
             ],
             [
              0.6666666666666666,
              "#ed7953"
             ],
             [
              0.7777777777777778,
              "#fb9f3a"
             ],
             [
              0.8888888888888888,
              "#fdca26"
             ],
             [
              1,
              "#f0f921"
             ]
            ],
            "type": "heatmap"
           }
          ],
          "heatmapgl": [
           {
            "colorbar": {
             "outlinewidth": 0,
             "ticks": ""
            },
            "colorscale": [
             [
              0,
              "#0d0887"
             ],
             [
              0.1111111111111111,
              "#46039f"
             ],
             [
              0.2222222222222222,
              "#7201a8"
             ],
             [
              0.3333333333333333,
              "#9c179e"
             ],
             [
              0.4444444444444444,
              "#bd3786"
             ],
             [
              0.5555555555555556,
              "#d8576b"
             ],
             [
              0.6666666666666666,
              "#ed7953"
             ],
             [
              0.7777777777777778,
              "#fb9f3a"
             ],
             [
              0.8888888888888888,
              "#fdca26"
             ],
             [
              1,
              "#f0f921"
             ]
            ],
            "type": "heatmapgl"
           }
          ],
          "histogram": [
           {
            "marker": {
             "pattern": {
              "fillmode": "overlay",
              "size": 10,
              "solidity": 0.2
             }
            },
            "type": "histogram"
           }
          ],
          "histogram2d": [
           {
            "colorbar": {
             "outlinewidth": 0,
             "ticks": ""
            },
            "colorscale": [
             [
              0,
              "#0d0887"
             ],
             [
              0.1111111111111111,
              "#46039f"
             ],
             [
              0.2222222222222222,
              "#7201a8"
             ],
             [
              0.3333333333333333,
              "#9c179e"
             ],
             [
              0.4444444444444444,
              "#bd3786"
             ],
             [
              0.5555555555555556,
              "#d8576b"
             ],
             [
              0.6666666666666666,
              "#ed7953"
             ],
             [
              0.7777777777777778,
              "#fb9f3a"
             ],
             [
              0.8888888888888888,
              "#fdca26"
             ],
             [
              1,
              "#f0f921"
             ]
            ],
            "type": "histogram2d"
           }
          ],
          "histogram2dcontour": [
           {
            "colorbar": {
             "outlinewidth": 0,
             "ticks": ""
            },
            "colorscale": [
             [
              0,
              "#0d0887"
             ],
             [
              0.1111111111111111,
              "#46039f"
             ],
             [
              0.2222222222222222,
              "#7201a8"
             ],
             [
              0.3333333333333333,
              "#9c179e"
             ],
             [
              0.4444444444444444,
              "#bd3786"
             ],
             [
              0.5555555555555556,
              "#d8576b"
             ],
             [
              0.6666666666666666,
              "#ed7953"
             ],
             [
              0.7777777777777778,
              "#fb9f3a"
             ],
             [
              0.8888888888888888,
              "#fdca26"
             ],
             [
              1,
              "#f0f921"
             ]
            ],
            "type": "histogram2dcontour"
           }
          ],
          "mesh3d": [
           {
            "colorbar": {
             "outlinewidth": 0,
             "ticks": ""
            },
            "type": "mesh3d"
           }
          ],
          "parcoords": [
           {
            "line": {
             "colorbar": {
              "outlinewidth": 0,
              "ticks": ""
             }
            },
            "type": "parcoords"
           }
          ],
          "pie": [
           {
            "automargin": true,
            "type": "pie"
           }
          ],
          "scatter": [
           {
            "fillpattern": {
             "fillmode": "overlay",
             "size": 10,
             "solidity": 0.2
            },
            "type": "scatter"
           }
          ],
          "scatter3d": [
           {
            "line": {
             "colorbar": {
              "outlinewidth": 0,
              "ticks": ""
             }
            },
            "marker": {
             "colorbar": {
              "outlinewidth": 0,
              "ticks": ""
             }
            },
            "type": "scatter3d"
           }
          ],
          "scattercarpet": [
           {
            "marker": {
             "colorbar": {
              "outlinewidth": 0,
              "ticks": ""
             }
            },
            "type": "scattercarpet"
           }
          ],
          "scattergeo": [
           {
            "marker": {
             "colorbar": {
              "outlinewidth": 0,
              "ticks": ""
             }
            },
            "type": "scattergeo"
           }
          ],
          "scattergl": [
           {
            "marker": {
             "colorbar": {
              "outlinewidth": 0,
              "ticks": ""
             }
            },
            "type": "scattergl"
           }
          ],
          "scattermapbox": [
           {
            "marker": {
             "colorbar": {
              "outlinewidth": 0,
              "ticks": ""
             }
            },
            "type": "scattermapbox"
           }
          ],
          "scatterpolar": [
           {
            "marker": {
             "colorbar": {
              "outlinewidth": 0,
              "ticks": ""
             }
            },
            "type": "scatterpolar"
           }
          ],
          "scatterpolargl": [
           {
            "marker": {
             "colorbar": {
              "outlinewidth": 0,
              "ticks": ""
             }
            },
            "type": "scatterpolargl"
           }
          ],
          "scatterternary": [
           {
            "marker": {
             "colorbar": {
              "outlinewidth": 0,
              "ticks": ""
             }
            },
            "type": "scatterternary"
           }
          ],
          "surface": [
           {
            "colorbar": {
             "outlinewidth": 0,
             "ticks": ""
            },
            "colorscale": [
             [
              0,
              "#0d0887"
             ],
             [
              0.1111111111111111,
              "#46039f"
             ],
             [
              0.2222222222222222,
              "#7201a8"
             ],
             [
              0.3333333333333333,
              "#9c179e"
             ],
             [
              0.4444444444444444,
              "#bd3786"
             ],
             [
              0.5555555555555556,
              "#d8576b"
             ],
             [
              0.6666666666666666,
              "#ed7953"
             ],
             [
              0.7777777777777778,
              "#fb9f3a"
             ],
             [
              0.8888888888888888,
              "#fdca26"
             ],
             [
              1,
              "#f0f921"
             ]
            ],
            "type": "surface"
           }
          ],
          "table": [
           {
            "cells": {
             "fill": {
              "color": "#EBF0F8"
             },
             "line": {
              "color": "white"
             }
            },
            "header": {
             "fill": {
              "color": "#C8D4E3"
             },
             "line": {
              "color": "white"
             }
            },
            "type": "table"
           }
          ]
         },
         "layout": {
          "annotationdefaults": {
           "arrowcolor": "#2a3f5f",
           "arrowhead": 0,
           "arrowwidth": 1
          },
          "autotypenumbers": "strict",
          "coloraxis": {
           "colorbar": {
            "outlinewidth": 0,
            "ticks": ""
           }
          },
          "colorscale": {
           "diverging": [
            [
             0,
             "#8e0152"
            ],
            [
             0.1,
             "#c51b7d"
            ],
            [
             0.2,
             "#de77ae"
            ],
            [
             0.3,
             "#f1b6da"
            ],
            [
             0.4,
             "#fde0ef"
            ],
            [
             0.5,
             "#f7f7f7"
            ],
            [
             0.6,
             "#e6f5d0"
            ],
            [
             0.7,
             "#b8e186"
            ],
            [
             0.8,
             "#7fbc41"
            ],
            [
             0.9,
             "#4d9221"
            ],
            [
             1,
             "#276419"
            ]
           ],
           "sequential": [
            [
             0,
             "#0d0887"
            ],
            [
             0.1111111111111111,
             "#46039f"
            ],
            [
             0.2222222222222222,
             "#7201a8"
            ],
            [
             0.3333333333333333,
             "#9c179e"
            ],
            [
             0.4444444444444444,
             "#bd3786"
            ],
            [
             0.5555555555555556,
             "#d8576b"
            ],
            [
             0.6666666666666666,
             "#ed7953"
            ],
            [
             0.7777777777777778,
             "#fb9f3a"
            ],
            [
             0.8888888888888888,
             "#fdca26"
            ],
            [
             1,
             "#f0f921"
            ]
           ],
           "sequentialminus": [
            [
             0,
             "#0d0887"
            ],
            [
             0.1111111111111111,
             "#46039f"
            ],
            [
             0.2222222222222222,
             "#7201a8"
            ],
            [
             0.3333333333333333,
             "#9c179e"
            ],
            [
             0.4444444444444444,
             "#bd3786"
            ],
            [
             0.5555555555555556,
             "#d8576b"
            ],
            [
             0.6666666666666666,
             "#ed7953"
            ],
            [
             0.7777777777777778,
             "#fb9f3a"
            ],
            [
             0.8888888888888888,
             "#fdca26"
            ],
            [
             1,
             "#f0f921"
            ]
           ]
          },
          "colorway": [
           "#636efa",
           "#EF553B",
           "#00cc96",
           "#ab63fa",
           "#FFA15A",
           "#19d3f3",
           "#FF6692",
           "#B6E880",
           "#FF97FF",
           "#FECB52"
          ],
          "font": {
           "color": "#2a3f5f"
          },
          "geo": {
           "bgcolor": "white",
           "lakecolor": "white",
           "landcolor": "#E5ECF6",
           "showlakes": true,
           "showland": true,
           "subunitcolor": "white"
          },
          "hoverlabel": {
           "align": "left"
          },
          "hovermode": "closest",
          "mapbox": {
           "style": "light"
          },
          "paper_bgcolor": "white",
          "plot_bgcolor": "#E5ECF6",
          "polar": {
           "angularaxis": {
            "gridcolor": "white",
            "linecolor": "white",
            "ticks": ""
           },
           "bgcolor": "#E5ECF6",
           "radialaxis": {
            "gridcolor": "white",
            "linecolor": "white",
            "ticks": ""
           }
          },
          "scene": {
           "xaxis": {
            "backgroundcolor": "#E5ECF6",
            "gridcolor": "white",
            "gridwidth": 2,
            "linecolor": "white",
            "showbackground": true,
            "ticks": "",
            "zerolinecolor": "white"
           },
           "yaxis": {
            "backgroundcolor": "#E5ECF6",
            "gridcolor": "white",
            "gridwidth": 2,
            "linecolor": "white",
            "showbackground": true,
            "ticks": "",
            "zerolinecolor": "white"
           },
           "zaxis": {
            "backgroundcolor": "#E5ECF6",
            "gridcolor": "white",
            "gridwidth": 2,
            "linecolor": "white",
            "showbackground": true,
            "ticks": "",
            "zerolinecolor": "white"
           }
          },
          "shapedefaults": {
           "line": {
            "color": "#2a3f5f"
           }
          },
          "ternary": {
           "aaxis": {
            "gridcolor": "white",
            "linecolor": "white",
            "ticks": ""
           },
           "baxis": {
            "gridcolor": "white",
            "linecolor": "white",
            "ticks": ""
           },
           "bgcolor": "#E5ECF6",
           "caxis": {
            "gridcolor": "white",
            "linecolor": "white",
            "ticks": ""
           }
          },
          "title": {
           "x": 0.05
          },
          "xaxis": {
           "automargin": true,
           "gridcolor": "white",
           "linecolor": "white",
           "ticks": "",
           "title": {
            "standoff": 15
           },
           "zerolinecolor": "white",
           "zerolinewidth": 2
          },
          "yaxis": {
           "automargin": true,
           "gridcolor": "white",
           "linecolor": "white",
           "ticks": "",
           "title": {
            "standoff": 15
           },
           "zerolinecolor": "white",
           "zerolinewidth": 2
          }
         }
        },
        "title": {
         "font": {
          "color": "black"
         },
         "text": "Quantidade de viagens por mês - Serviço: 844"
        },
        "width": 800,
        "xaxis": {
         "showgrid": false,
         "zeroline": false
        },
        "yaxis": {
         "showgrid": false,
         "zeroline": false
        }
       }
      }
     },
     "metadata": {},
     "output_type": "display_data"
    }
   ],
   "source": [
    "# Criar o gráfico de linha com plotly\n",
    "fig = go.Figure()\n",
    "\n",
    "# Adicionar a linha com pontos para tabela_subsidio_mes['viagens_pre']\n",
    "fig.add_trace(go.Scatter(x=tabela_subsidio_mes['mes_ano'], y=tabela_subsidio_mes['viagens_pre'],\n",
    "                         mode='lines+markers',\n",
    "                         name='Qtd de viagens pré-reprocessamento',\n",
    "                         marker=dict(color='dodgerblue'),\n",
    "                         opacity=0.75))\n",
    "\n",
    "# Adicionar a linha com pontos para tabela_subsidio_mes['viagens_pos']\n",
    "fig.add_trace(go.Scatter(x=tabela_subsidio_mes['mes_ano'], y=tabela_subsidio_mes['viagens_pos'],\n",
    "                         mode='lines+markers',\n",
    "                         name='Qtd de viagens reprocessadas',\n",
    "                         marker=dict(color='crimson'),\n",
    "                         opacity=0.75))\n",
    "\n",
    "# Configurar layout e outros parâmetros do gráfico seguindo o design anterior\n",
    "fig.update_layout(\n",
    "    title=dict(text=\"Quantidade de viagens por mês - Serviço: 844\", font=dict(color='black')),\n",
    "    showlegend=False,\n",
    "    width=800,\n",
    "    height=600,\n",
    "    plot_bgcolor='white',\n",
    "    xaxis=dict(showgrid=False, zeroline=False),\n",
    "    yaxis=dict(showgrid=False, zeroline=False),\n",
    "    # Adicionando anotações para o subtítulo com cores específicas\n",
    "    annotations=[\n",
    "        dict(\n",
    "            x=-0.065,\n",
    "            y=1.10,\n",
    "            xref='paper',\n",
    "            yref='paper',\n",
    "            xanchor='left',\n",
    "            text='Valores',\n",
    "            showarrow=False,\n",
    "            font=dict(color='black', size=14)\n",
    "        ),\n",
    "        dict(\n",
    "            x=0.025,\n",
    "            y=1.10,\n",
    "            xref='paper',\n",
    "            yref='paper',\n",
    "            xanchor='left',\n",
    "            text='pré-reprocessamento',\n",
    "            showarrow=False,\n",
    "            font=dict(color='dodgerblue', size=14)\n",
    "        ),\n",
    "        dict(\n",
    "            x=0.27,\n",
    "            y=1.10,\n",
    "            xref='paper',\n",
    "            yref='paper',\n",
    "            xanchor='left',\n",
    "            text='e',\n",
    "            showarrow=False,\n",
    "            font=dict(color='black', size=14)\n",
    "        ),\n",
    "        dict(\n",
    "            x=0.29,\n",
    "            y=1.10,\n",
    "            xref='paper',\n",
    "            yref='paper',\n",
    "            xanchor='left',\n",
    "            text='pós-reprocessamento.',\n",
    "            showarrow=False,\n",
    "            font=dict(color='crimson', size=14)\n",
    "        )\n",
    "    ]\n",
    ")\n",
    "\n",
    "fig.show()"
   ]
  },
  {
   "cell_type": "code",
   "execution_count": 24,
   "metadata": {},
   "outputs": [
    {
     "data": {
      "application/vnd.plotly.v1+json": {
       "config": {
        "plotlyServerURL": "https://plot.ly"
       },
       "data": [
        {
         "marker": {
          "color": "dodgerblue"
         },
         "mode": "lines+markers",
         "name": "Valor do subsídio pré-reprocessamento",
         "opacity": 0.75,
         "type": "scatter",
         "x": [
          "2022-06",
          "2022-07",
          "2022-08",
          "2022-09",
          "2022-10",
          "2022-11",
          "2022-12"
         ],
         "y": [
          4397.3099999999995,
          0,
          0,
          130.71,
          439.99,
          124.66,
          145.03
         ]
        },
        {
         "marker": {
          "color": "crimson"
         },
         "mode": "lines+markers",
         "name": "Valor do subsídio reprocessado",
         "opacity": 0.75,
         "type": "scatter",
         "x": [
          "2022-06",
          "2022-07",
          "2022-08",
          "2022-09",
          "2022-10",
          "2022-11",
          "2022-12"
         ],
         "y": [
          6262.3491,
          6858.9864,
          7369.865999999999,
          5014.415000000002,
          4619.916000000002,
          3552.935400000001,
          4483.980200000002
         ]
        }
       ],
       "layout": {
        "annotations": [
         {
          "font": {
           "color": "black",
           "size": 14
          },
          "showarrow": false,
          "text": "Valores",
          "x": -0.065,
          "xanchor": "left",
          "xref": "paper",
          "y": 1.1,
          "yref": "paper"
         },
         {
          "font": {
           "color": "dodgerblue",
           "size": 14
          },
          "showarrow": false,
          "text": "pré-reprocessamento",
          "x": 0.025,
          "xanchor": "left",
          "xref": "paper",
          "y": 1.1,
          "yref": "paper"
         },
         {
          "font": {
           "color": "black",
           "size": 14
          },
          "showarrow": false,
          "text": "e",
          "x": 0.27,
          "xanchor": "left",
          "xref": "paper",
          "y": 1.1,
          "yref": "paper"
         },
         {
          "font": {
           "color": "crimson",
           "size": 14
          },
          "showarrow": false,
          "text": "pós-reprocessamento.",
          "x": 0.29,
          "xanchor": "left",
          "xref": "paper",
          "y": 1.1,
          "yref": "paper"
         }
        ],
        "height": 600,
        "plot_bgcolor": "white",
        "showlegend": false,
        "template": {
         "data": {
          "bar": [
           {
            "error_x": {
             "color": "#2a3f5f"
            },
            "error_y": {
             "color": "#2a3f5f"
            },
            "marker": {
             "line": {
              "color": "#E5ECF6",
              "width": 0.5
             },
             "pattern": {
              "fillmode": "overlay",
              "size": 10,
              "solidity": 0.2
             }
            },
            "type": "bar"
           }
          ],
          "barpolar": [
           {
            "marker": {
             "line": {
              "color": "#E5ECF6",
              "width": 0.5
             },
             "pattern": {
              "fillmode": "overlay",
              "size": 10,
              "solidity": 0.2
             }
            },
            "type": "barpolar"
           }
          ],
          "carpet": [
           {
            "aaxis": {
             "endlinecolor": "#2a3f5f",
             "gridcolor": "white",
             "linecolor": "white",
             "minorgridcolor": "white",
             "startlinecolor": "#2a3f5f"
            },
            "baxis": {
             "endlinecolor": "#2a3f5f",
             "gridcolor": "white",
             "linecolor": "white",
             "minorgridcolor": "white",
             "startlinecolor": "#2a3f5f"
            },
            "type": "carpet"
           }
          ],
          "choropleth": [
           {
            "colorbar": {
             "outlinewidth": 0,
             "ticks": ""
            },
            "type": "choropleth"
           }
          ],
          "contour": [
           {
            "colorbar": {
             "outlinewidth": 0,
             "ticks": ""
            },
            "colorscale": [
             [
              0,
              "#0d0887"
             ],
             [
              0.1111111111111111,
              "#46039f"
             ],
             [
              0.2222222222222222,
              "#7201a8"
             ],
             [
              0.3333333333333333,
              "#9c179e"
             ],
             [
              0.4444444444444444,
              "#bd3786"
             ],
             [
              0.5555555555555556,
              "#d8576b"
             ],
             [
              0.6666666666666666,
              "#ed7953"
             ],
             [
              0.7777777777777778,
              "#fb9f3a"
             ],
             [
              0.8888888888888888,
              "#fdca26"
             ],
             [
              1,
              "#f0f921"
             ]
            ],
            "type": "contour"
           }
          ],
          "contourcarpet": [
           {
            "colorbar": {
             "outlinewidth": 0,
             "ticks": ""
            },
            "type": "contourcarpet"
           }
          ],
          "heatmap": [
           {
            "colorbar": {
             "outlinewidth": 0,
             "ticks": ""
            },
            "colorscale": [
             [
              0,
              "#0d0887"
             ],
             [
              0.1111111111111111,
              "#46039f"
             ],
             [
              0.2222222222222222,
              "#7201a8"
             ],
             [
              0.3333333333333333,
              "#9c179e"
             ],
             [
              0.4444444444444444,
              "#bd3786"
             ],
             [
              0.5555555555555556,
              "#d8576b"
             ],
             [
              0.6666666666666666,
              "#ed7953"
             ],
             [
              0.7777777777777778,
              "#fb9f3a"
             ],
             [
              0.8888888888888888,
              "#fdca26"
             ],
             [
              1,
              "#f0f921"
             ]
            ],
            "type": "heatmap"
           }
          ],
          "heatmapgl": [
           {
            "colorbar": {
             "outlinewidth": 0,
             "ticks": ""
            },
            "colorscale": [
             [
              0,
              "#0d0887"
             ],
             [
              0.1111111111111111,
              "#46039f"
             ],
             [
              0.2222222222222222,
              "#7201a8"
             ],
             [
              0.3333333333333333,
              "#9c179e"
             ],
             [
              0.4444444444444444,
              "#bd3786"
             ],
             [
              0.5555555555555556,
              "#d8576b"
             ],
             [
              0.6666666666666666,
              "#ed7953"
             ],
             [
              0.7777777777777778,
              "#fb9f3a"
             ],
             [
              0.8888888888888888,
              "#fdca26"
             ],
             [
              1,
              "#f0f921"
             ]
            ],
            "type": "heatmapgl"
           }
          ],
          "histogram": [
           {
            "marker": {
             "pattern": {
              "fillmode": "overlay",
              "size": 10,
              "solidity": 0.2
             }
            },
            "type": "histogram"
           }
          ],
          "histogram2d": [
           {
            "colorbar": {
             "outlinewidth": 0,
             "ticks": ""
            },
            "colorscale": [
             [
              0,
              "#0d0887"
             ],
             [
              0.1111111111111111,
              "#46039f"
             ],
             [
              0.2222222222222222,
              "#7201a8"
             ],
             [
              0.3333333333333333,
              "#9c179e"
             ],
             [
              0.4444444444444444,
              "#bd3786"
             ],
             [
              0.5555555555555556,
              "#d8576b"
             ],
             [
              0.6666666666666666,
              "#ed7953"
             ],
             [
              0.7777777777777778,
              "#fb9f3a"
             ],
             [
              0.8888888888888888,
              "#fdca26"
             ],
             [
              1,
              "#f0f921"
             ]
            ],
            "type": "histogram2d"
           }
          ],
          "histogram2dcontour": [
           {
            "colorbar": {
             "outlinewidth": 0,
             "ticks": ""
            },
            "colorscale": [
             [
              0,
              "#0d0887"
             ],
             [
              0.1111111111111111,
              "#46039f"
             ],
             [
              0.2222222222222222,
              "#7201a8"
             ],
             [
              0.3333333333333333,
              "#9c179e"
             ],
             [
              0.4444444444444444,
              "#bd3786"
             ],
             [
              0.5555555555555556,
              "#d8576b"
             ],
             [
              0.6666666666666666,
              "#ed7953"
             ],
             [
              0.7777777777777778,
              "#fb9f3a"
             ],
             [
              0.8888888888888888,
              "#fdca26"
             ],
             [
              1,
              "#f0f921"
             ]
            ],
            "type": "histogram2dcontour"
           }
          ],
          "mesh3d": [
           {
            "colorbar": {
             "outlinewidth": 0,
             "ticks": ""
            },
            "type": "mesh3d"
           }
          ],
          "parcoords": [
           {
            "line": {
             "colorbar": {
              "outlinewidth": 0,
              "ticks": ""
             }
            },
            "type": "parcoords"
           }
          ],
          "pie": [
           {
            "automargin": true,
            "type": "pie"
           }
          ],
          "scatter": [
           {
            "fillpattern": {
             "fillmode": "overlay",
             "size": 10,
             "solidity": 0.2
            },
            "type": "scatter"
           }
          ],
          "scatter3d": [
           {
            "line": {
             "colorbar": {
              "outlinewidth": 0,
              "ticks": ""
             }
            },
            "marker": {
             "colorbar": {
              "outlinewidth": 0,
              "ticks": ""
             }
            },
            "type": "scatter3d"
           }
          ],
          "scattercarpet": [
           {
            "marker": {
             "colorbar": {
              "outlinewidth": 0,
              "ticks": ""
             }
            },
            "type": "scattercarpet"
           }
          ],
          "scattergeo": [
           {
            "marker": {
             "colorbar": {
              "outlinewidth": 0,
              "ticks": ""
             }
            },
            "type": "scattergeo"
           }
          ],
          "scattergl": [
           {
            "marker": {
             "colorbar": {
              "outlinewidth": 0,
              "ticks": ""
             }
            },
            "type": "scattergl"
           }
          ],
          "scattermapbox": [
           {
            "marker": {
             "colorbar": {
              "outlinewidth": 0,
              "ticks": ""
             }
            },
            "type": "scattermapbox"
           }
          ],
          "scatterpolar": [
           {
            "marker": {
             "colorbar": {
              "outlinewidth": 0,
              "ticks": ""
             }
            },
            "type": "scatterpolar"
           }
          ],
          "scatterpolargl": [
           {
            "marker": {
             "colorbar": {
              "outlinewidth": 0,
              "ticks": ""
             }
            },
            "type": "scatterpolargl"
           }
          ],
          "scatterternary": [
           {
            "marker": {
             "colorbar": {
              "outlinewidth": 0,
              "ticks": ""
             }
            },
            "type": "scatterternary"
           }
          ],
          "surface": [
           {
            "colorbar": {
             "outlinewidth": 0,
             "ticks": ""
            },
            "colorscale": [
             [
              0,
              "#0d0887"
             ],
             [
              0.1111111111111111,
              "#46039f"
             ],
             [
              0.2222222222222222,
              "#7201a8"
             ],
             [
              0.3333333333333333,
              "#9c179e"
             ],
             [
              0.4444444444444444,
              "#bd3786"
             ],
             [
              0.5555555555555556,
              "#d8576b"
             ],
             [
              0.6666666666666666,
              "#ed7953"
             ],
             [
              0.7777777777777778,
              "#fb9f3a"
             ],
             [
              0.8888888888888888,
              "#fdca26"
             ],
             [
              1,
              "#f0f921"
             ]
            ],
            "type": "surface"
           }
          ],
          "table": [
           {
            "cells": {
             "fill": {
              "color": "#EBF0F8"
             },
             "line": {
              "color": "white"
             }
            },
            "header": {
             "fill": {
              "color": "#C8D4E3"
             },
             "line": {
              "color": "white"
             }
            },
            "type": "table"
           }
          ]
         },
         "layout": {
          "annotationdefaults": {
           "arrowcolor": "#2a3f5f",
           "arrowhead": 0,
           "arrowwidth": 1
          },
          "autotypenumbers": "strict",
          "coloraxis": {
           "colorbar": {
            "outlinewidth": 0,
            "ticks": ""
           }
          },
          "colorscale": {
           "diverging": [
            [
             0,
             "#8e0152"
            ],
            [
             0.1,
             "#c51b7d"
            ],
            [
             0.2,
             "#de77ae"
            ],
            [
             0.3,
             "#f1b6da"
            ],
            [
             0.4,
             "#fde0ef"
            ],
            [
             0.5,
             "#f7f7f7"
            ],
            [
             0.6,
             "#e6f5d0"
            ],
            [
             0.7,
             "#b8e186"
            ],
            [
             0.8,
             "#7fbc41"
            ],
            [
             0.9,
             "#4d9221"
            ],
            [
             1,
             "#276419"
            ]
           ],
           "sequential": [
            [
             0,
             "#0d0887"
            ],
            [
             0.1111111111111111,
             "#46039f"
            ],
            [
             0.2222222222222222,
             "#7201a8"
            ],
            [
             0.3333333333333333,
             "#9c179e"
            ],
            [
             0.4444444444444444,
             "#bd3786"
            ],
            [
             0.5555555555555556,
             "#d8576b"
            ],
            [
             0.6666666666666666,
             "#ed7953"
            ],
            [
             0.7777777777777778,
             "#fb9f3a"
            ],
            [
             0.8888888888888888,
             "#fdca26"
            ],
            [
             1,
             "#f0f921"
            ]
           ],
           "sequentialminus": [
            [
             0,
             "#0d0887"
            ],
            [
             0.1111111111111111,
             "#46039f"
            ],
            [
             0.2222222222222222,
             "#7201a8"
            ],
            [
             0.3333333333333333,
             "#9c179e"
            ],
            [
             0.4444444444444444,
             "#bd3786"
            ],
            [
             0.5555555555555556,
             "#d8576b"
            ],
            [
             0.6666666666666666,
             "#ed7953"
            ],
            [
             0.7777777777777778,
             "#fb9f3a"
            ],
            [
             0.8888888888888888,
             "#fdca26"
            ],
            [
             1,
             "#f0f921"
            ]
           ]
          },
          "colorway": [
           "#636efa",
           "#EF553B",
           "#00cc96",
           "#ab63fa",
           "#FFA15A",
           "#19d3f3",
           "#FF6692",
           "#B6E880",
           "#FF97FF",
           "#FECB52"
          ],
          "font": {
           "color": "#2a3f5f"
          },
          "geo": {
           "bgcolor": "white",
           "lakecolor": "white",
           "landcolor": "#E5ECF6",
           "showlakes": true,
           "showland": true,
           "subunitcolor": "white"
          },
          "hoverlabel": {
           "align": "left"
          },
          "hovermode": "closest",
          "mapbox": {
           "style": "light"
          },
          "paper_bgcolor": "white",
          "plot_bgcolor": "#E5ECF6",
          "polar": {
           "angularaxis": {
            "gridcolor": "white",
            "linecolor": "white",
            "ticks": ""
           },
           "bgcolor": "#E5ECF6",
           "radialaxis": {
            "gridcolor": "white",
            "linecolor": "white",
            "ticks": ""
           }
          },
          "scene": {
           "xaxis": {
            "backgroundcolor": "#E5ECF6",
            "gridcolor": "white",
            "gridwidth": 2,
            "linecolor": "white",
            "showbackground": true,
            "ticks": "",
            "zerolinecolor": "white"
           },
           "yaxis": {
            "backgroundcolor": "#E5ECF6",
            "gridcolor": "white",
            "gridwidth": 2,
            "linecolor": "white",
            "showbackground": true,
            "ticks": "",
            "zerolinecolor": "white"
           },
           "zaxis": {
            "backgroundcolor": "#E5ECF6",
            "gridcolor": "white",
            "gridwidth": 2,
            "linecolor": "white",
            "showbackground": true,
            "ticks": "",
            "zerolinecolor": "white"
           }
          },
          "shapedefaults": {
           "line": {
            "color": "#2a3f5f"
           }
          },
          "ternary": {
           "aaxis": {
            "gridcolor": "white",
            "linecolor": "white",
            "ticks": ""
           },
           "baxis": {
            "gridcolor": "white",
            "linecolor": "white",
            "ticks": ""
           },
           "bgcolor": "#E5ECF6",
           "caxis": {
            "gridcolor": "white",
            "linecolor": "white",
            "ticks": ""
           }
          },
          "title": {
           "x": 0.05
          },
          "xaxis": {
           "automargin": true,
           "gridcolor": "white",
           "linecolor": "white",
           "ticks": "",
           "title": {
            "standoff": 15
           },
           "zerolinecolor": "white",
           "zerolinewidth": 2
          },
          "yaxis": {
           "automargin": true,
           "gridcolor": "white",
           "linecolor": "white",
           "ticks": "",
           "title": {
            "standoff": 15
           },
           "zerolinecolor": "white",
           "zerolinewidth": 2
          }
         }
        },
        "title": {
         "font": {
          "color": "black"
         },
         "text": "Valor do subsídio por mês - Serviço: 844"
        },
        "width": 800,
        "xaxis": {
         "showgrid": false,
         "zeroline": false
        },
        "yaxis": {
         "showgrid": false,
         "zeroline": false
        }
       }
      }
     },
     "metadata": {},
     "output_type": "display_data"
    }
   ],
   "source": [
    "# Criar o gráfico de linha com plotly\n",
    "fig = go.Figure()\n",
    "\n",
    "# Adicionar a linha com pontos para tabela_subsidio_mes['valor_subsidio_pre']\n",
    "fig.add_trace(go.Scatter(x=tabela_subsidio_mes['mes_ano'], y=tabela_subsidio_mes['valor_subsidio_pre'],\n",
    "                         mode='lines+markers',\n",
    "                         name='Valor do subsídio pré-reprocessamento',\n",
    "                         marker=dict(color='dodgerblue'),\n",
    "                         opacity=0.75))\n",
    "\n",
    "# Adicionar a linha com pontos para tabela_subsidio_mes['valor_subsidio_pos']\n",
    "fig.add_trace(go.Scatter(x=tabela_subsidio_mes['mes_ano'], y=tabela_subsidio_mes['valor_subsidio_pos'],\n",
    "                         mode='lines+markers',\n",
    "                         name='Valor do subsídio reprocessado',\n",
    "                         marker=dict(color='crimson'),\n",
    "                         opacity=0.75))\n",
    "\n",
    "# Configurar layout e outros parâmetros do gráfico seguindo o design anterior\n",
    "fig.update_layout(\n",
    "    title=dict(text=\"Valor do subsídio por mês - Serviço: 844\", font=dict(color='black')),\n",
    "    showlegend=False,\n",
    "    width=800,\n",
    "    height=600,\n",
    "    plot_bgcolor='white',\n",
    "    xaxis=dict(showgrid=False, zeroline=False),\n",
    "    yaxis=dict(showgrid=False, zeroline=False),\n",
    "    # Adicionando anotações para o subtítulo com cores específicas\n",
    "    annotations=[\n",
    "        dict(\n",
    "            x=-0.065,\n",
    "            y=1.10,\n",
    "            xref='paper',\n",
    "            yref='paper',\n",
    "            xanchor='left',\n",
    "            text='Valores',\n",
    "            showarrow=False,\n",
    "            font=dict(color='black', size=14)\n",
    "        ),\n",
    "        dict(\n",
    "            x=0.025,\n",
    "            y=1.10,\n",
    "            xref='paper',\n",
    "            yref='paper',\n",
    "            xanchor='left',\n",
    "            text='pré-reprocessamento',\n",
    "            showarrow=False,\n",
    "            font=dict(color='dodgerblue', size=14)\n",
    "        ),\n",
    "        dict(\n",
    "            x=0.27,\n",
    "            y=1.10,\n",
    "            xref='paper',\n",
    "            yref='paper',\n",
    "            xanchor='left',\n",
    "            text='e',\n",
    "            showarrow=False,\n",
    "            font=dict(color='black', size=14)\n",
    "        ),\n",
    "        dict(\n",
    "            x=0.29,\n",
    "            y=1.10,\n",
    "            xref='paper',\n",
    "            yref='paper',\n",
    "            xanchor='left',\n",
    "            text='pós-reprocessamento.',\n",
    "            showarrow=False,\n",
    "            font=dict(color='crimson', size=14)\n",
    "        )\n",
    "    ]\n",
    ")\n",
    "\n",
    "fig.show()"
   ]
  },
  {
   "cell_type": "markdown",
   "metadata": {},
   "source": [
    "### 3. Análise do POD\n"
   ]
  },
  {
   "cell_type": "markdown",
   "metadata": {},
   "source": [
    "3.1 POD pré-reprocessamento"
   ]
  },
  {
   "cell_type": "code",
   "execution_count": 25,
   "metadata": {},
   "outputs": [
    {
     "name": "stderr",
     "output_type": "stream",
     "text": [
      "Downloading: 100%|██████████| 214/214 [00:00<00:00, 621.92rows/s]\n"
     ]
    }
   ],
   "source": [
    "# POD pré-reprocessamento\n",
    "q = f\"\"\"\n",
    "SELECT\n",
    "  data, viagens, perc_km_planejada\n",
    "FROM\n",
    "  `rj-smtr.dashboard_subsidio_sppo.sumario_servico_dia_historico`\n",
    "WHERE\n",
    "  servico = '844'\n",
    "  AND DATA BETWEEN '2022-06-01' AND '2022-12-31'\n",
    "\"\"\"\n",
    "pod_pre_reprocessamento = bd.read_sql(q, from_file=True)"
   ]
  },
  {
   "cell_type": "code",
   "execution_count": 26,
   "metadata": {},
   "outputs": [
    {
     "data": {
      "text/html": [
       "<div>\n",
       "<style scoped>\n",
       "    .dataframe tbody tr th:only-of-type {\n",
       "        vertical-align: middle;\n",
       "    }\n",
       "\n",
       "    .dataframe tbody tr th {\n",
       "        vertical-align: top;\n",
       "    }\n",
       "\n",
       "    .dataframe thead th {\n",
       "        text-align: right;\n",
       "    }\n",
       "</style>\n",
       "<table border=\"1\" class=\"dataframe\">\n",
       "  <thead>\n",
       "    <tr style=\"text-align: right;\">\n",
       "      <th></th>\n",
       "      <th>data</th>\n",
       "      <th>viagens</th>\n",
       "      <th>perc_km_planejada</th>\n",
       "      <th>mes_ano</th>\n",
       "    </tr>\n",
       "  </thead>\n",
       "  <tbody>\n",
       "    <tr>\n",
       "      <th>16</th>\n",
       "      <td>2022-06-01</td>\n",
       "      <td>25</td>\n",
       "      <td>131.59</td>\n",
       "      <td>2022-06</td>\n",
       "    </tr>\n",
       "    <tr>\n",
       "      <th>15</th>\n",
       "      <td>2022-06-02</td>\n",
       "      <td>25</td>\n",
       "      <td>131.59</td>\n",
       "      <td>2022-06</td>\n",
       "    </tr>\n",
       "    <tr>\n",
       "      <th>5</th>\n",
       "      <td>2022-06-03</td>\n",
       "      <td>17</td>\n",
       "      <td>89.48</td>\n",
       "      <td>2022-06</td>\n",
       "    </tr>\n",
       "    <tr>\n",
       "      <th>111</th>\n",
       "      <td>2022-06-04</td>\n",
       "      <td>0</td>\n",
       "      <td>0.00</td>\n",
       "      <td>2022-06</td>\n",
       "    </tr>\n",
       "    <tr>\n",
       "      <th>121</th>\n",
       "      <td>2022-06-05</td>\n",
       "      <td>0</td>\n",
       "      <td>0.00</td>\n",
       "      <td>2022-06</td>\n",
       "    </tr>\n",
       "    <tr>\n",
       "      <th>...</th>\n",
       "      <td>...</td>\n",
       "      <td>...</td>\n",
       "      <td>...</td>\n",
       "      <td>...</td>\n",
       "    </tr>\n",
       "    <tr>\n",
       "      <th>134</th>\n",
       "      <td>2022-12-27</td>\n",
       "      <td>11</td>\n",
       "      <td>55.00</td>\n",
       "      <td>2022-12</td>\n",
       "    </tr>\n",
       "    <tr>\n",
       "      <th>179</th>\n",
       "      <td>2022-12-28</td>\n",
       "      <td>13</td>\n",
       "      <td>65.00</td>\n",
       "      <td>2022-12</td>\n",
       "    </tr>\n",
       "    <tr>\n",
       "      <th>208</th>\n",
       "      <td>2022-12-29</td>\n",
       "      <td>9</td>\n",
       "      <td>45.00</td>\n",
       "      <td>2022-12</td>\n",
       "    </tr>\n",
       "    <tr>\n",
       "      <th>17</th>\n",
       "      <td>2022-12-30</td>\n",
       "      <td>11</td>\n",
       "      <td>55.00</td>\n",
       "      <td>2022-12</td>\n",
       "    </tr>\n",
       "    <tr>\n",
       "      <th>187</th>\n",
       "      <td>2022-12-31</td>\n",
       "      <td>0</td>\n",
       "      <td>0.00</td>\n",
       "      <td>2022-12</td>\n",
       "    </tr>\n",
       "  </tbody>\n",
       "</table>\n",
       "<p>214 rows × 4 columns</p>\n",
       "</div>"
      ],
      "text/plain": [
       "          data  viagens  perc_km_planejada  mes_ano\n",
       "16  2022-06-01       25             131.59  2022-06\n",
       "15  2022-06-02       25             131.59  2022-06\n",
       "5   2022-06-03       17              89.48  2022-06\n",
       "111 2022-06-04        0               0.00  2022-06\n",
       "121 2022-06-05        0               0.00  2022-06\n",
       "..         ...      ...                ...      ...\n",
       "134 2022-12-27       11              55.00  2022-12\n",
       "179 2022-12-28       13              65.00  2022-12\n",
       "208 2022-12-29        9              45.00  2022-12\n",
       "17  2022-12-30       11              55.00  2022-12\n",
       "187 2022-12-31        0               0.00  2022-12\n",
       "\n",
       "[214 rows x 4 columns]"
      ]
     },
     "execution_count": 26,
     "metadata": {},
     "output_type": "execute_result"
    }
   ],
   "source": [
    "# Assegurando que a coluna 'data' seja do tipo datetime\n",
    "pod_pre_reprocessamento = pod_pre_reprocessamento.sort_values('data')\n",
    "pod_pre_reprocessamento['data'] = pd.to_datetime(pod_pre_reprocessamento['data'])\n",
    "# Criando a nova coluna 'mes_ano'\n",
    "pod_pre_reprocessamento['mes_ano'] = pod_pre_reprocessamento['data'].dt.to_period('M')\n",
    "pod_pre_reprocessamento['mes_ano'] = pod_pre_reprocessamento['mes_ano'].astype(str)\n",
    "pod_pre_reprocessamento"
   ]
  },
  {
   "cell_type": "code",
   "execution_count": 28,
   "metadata": {},
   "outputs": [
    {
     "data": {
      "application/vnd.plotly.v1+json": {
       "config": {
        "plotlyServerURL": "https://plot.ly"
       },
       "data": [
        {
         "alignmentgroup": "True",
         "boxpoints": "all",
         "hovertemplate": "=%{y}<extra></extra>",
         "legendgroup": "",
         "marker": {
          "color": "#636efa"
         },
         "name": "",
         "notched": false,
         "offsetgroup": "",
         "orientation": "v",
         "showlegend": false,
         "type": "box",
         "x": [
          "2022-06",
          "2022-06",
          "2022-06",
          "2022-06",
          "2022-06",
          "2022-06",
          "2022-06",
          "2022-06",
          "2022-06",
          "2022-06",
          "2022-06",
          "2022-06",
          "2022-06",
          "2022-06",
          "2022-06",
          "2022-06",
          "2022-06",
          "2022-06",
          "2022-06",
          "2022-06",
          "2022-06",
          "2022-06",
          "2022-06",
          "2022-06",
          "2022-06",
          "2022-06",
          "2022-06",
          "2022-06",
          "2022-06",
          "2022-06",
          "2022-07",
          "2022-07",
          "2022-07",
          "2022-07",
          "2022-07",
          "2022-07",
          "2022-07",
          "2022-07",
          "2022-07",
          "2022-07",
          "2022-07",
          "2022-07",
          "2022-07",
          "2022-07",
          "2022-07",
          "2022-07",
          "2022-07",
          "2022-07",
          "2022-07",
          "2022-07",
          "2022-07",
          "2022-07",
          "2022-07",
          "2022-07",
          "2022-07",
          "2022-07",
          "2022-07",
          "2022-07",
          "2022-07",
          "2022-07",
          "2022-07",
          "2022-08",
          "2022-08",
          "2022-08",
          "2022-08",
          "2022-08",
          "2022-08",
          "2022-08",
          "2022-08",
          "2022-08",
          "2022-08",
          "2022-08",
          "2022-08",
          "2022-08",
          "2022-08",
          "2022-08",
          "2022-08",
          "2022-08",
          "2022-08",
          "2022-08",
          "2022-08",
          "2022-08",
          "2022-08",
          "2022-08",
          "2022-08",
          "2022-08",
          "2022-08",
          "2022-08",
          "2022-08",
          "2022-08",
          "2022-08",
          "2022-08",
          "2022-09",
          "2022-09",
          "2022-09",
          "2022-09",
          "2022-09",
          "2022-09",
          "2022-09",
          "2022-09",
          "2022-09",
          "2022-09",
          "2022-09",
          "2022-09",
          "2022-09",
          "2022-09",
          "2022-09",
          "2022-09",
          "2022-09",
          "2022-09",
          "2022-09",
          "2022-09",
          "2022-09",
          "2022-09",
          "2022-09",
          "2022-09",
          "2022-09",
          "2022-09",
          "2022-09",
          "2022-09",
          "2022-09",
          "2022-09",
          "2022-10",
          "2022-10",
          "2022-10",
          "2022-10",
          "2022-10",
          "2022-10",
          "2022-10",
          "2022-10",
          "2022-10",
          "2022-10",
          "2022-10",
          "2022-10",
          "2022-10",
          "2022-10",
          "2022-10",
          "2022-10",
          "2022-10",
          "2022-10",
          "2022-10",
          "2022-10",
          "2022-10",
          "2022-10",
          "2022-10",
          "2022-10",
          "2022-10",
          "2022-10",
          "2022-10",
          "2022-10",
          "2022-10",
          "2022-10",
          "2022-10",
          "2022-11",
          "2022-11",
          "2022-11",
          "2022-11",
          "2022-11",
          "2022-11",
          "2022-11",
          "2022-11",
          "2022-11",
          "2022-11",
          "2022-11",
          "2022-11",
          "2022-11",
          "2022-11",
          "2022-11",
          "2022-11",
          "2022-11",
          "2022-11",
          "2022-11",
          "2022-11",
          "2022-11",
          "2022-11",
          "2022-11",
          "2022-11",
          "2022-11",
          "2022-11",
          "2022-11",
          "2022-11",
          "2022-11",
          "2022-11",
          "2022-12",
          "2022-12",
          "2022-12",
          "2022-12",
          "2022-12",
          "2022-12",
          "2022-12",
          "2022-12",
          "2022-12",
          "2022-12",
          "2022-12",
          "2022-12",
          "2022-12",
          "2022-12",
          "2022-12",
          "2022-12",
          "2022-12",
          "2022-12",
          "2022-12",
          "2022-12",
          "2022-12",
          "2022-12",
          "2022-12",
          "2022-12",
          "2022-12",
          "2022-12",
          "2022-12",
          "2022-12",
          "2022-12",
          "2022-12",
          "2022-12"
         ],
         "x0": " ",
         "xaxis": "x",
         "y": [
          131.59,
          131.59,
          89.48,
          0,
          0,
          115.8,
          110.53,
          126.32,
          110.53,
          110.53,
          0,
          0,
          131.59,
          110.53,
          105.27,
          0,
          0,
          0,
          0,
          131.59,
          100.01,
          94.74,
          68.43,
          57.9,
          0,
          0,
          78.95,
          68.43,
          47.37,
          68.43,
          60,
          0,
          0,
          50,
          63.33,
          63.33,
          73.33,
          63.33,
          0,
          0,
          43.33,
          53.33,
          70,
          43.33,
          43.33,
          0,
          0,
          60,
          36.66,
          53.33,
          56.66,
          63.33,
          0,
          0,
          66.66,
          60,
          63.33,
          66.66,
          53.33,
          0,
          0,
          60,
          53.34,
          50,
          56.67,
          56.67,
          0,
          0,
          36.67,
          53.34,
          53.34,
          53.34,
          53.34,
          0,
          0,
          76.67,
          66.66,
          60,
          46.66,
          60,
          0,
          0,
          60,
          66.66,
          63.33,
          60,
          43.33,
          0,
          0,
          36.67,
          26.67,
          53.33,
          31.58,
          92.63,
          0,
          0,
          68.42,
          52.63,
          0,
          31.58,
          57.89,
          0,
          0,
          47.37,
          68.42,
          26.31,
          42.1,
          68.42,
          0,
          0,
          73.68,
          36.84,
          42.1,
          57.89,
          47.37,
          0,
          0,
          52.63,
          52.63,
          57.89,
          73.68,
          57.89,
          0,
          263.63,
          27.27,
          63.63,
          27.27,
          45.45,
          36.36,
          0,
          0,
          27.27,
          68.18,
          0,
          22.73,
          63.63,
          0,
          0,
          58.18,
          27.27,
          40.91,
          31.82,
          54.54,
          0,
          0,
          27.27,
          31.82,
          50,
          22.73,
          13.64,
          0,
          100,
          22.73,
          31.82,
          0,
          54.54,
          22.73,
          0,
          0,
          45.45,
          40.91,
          36.36,
          54.54,
          27.27,
          0,
          0,
          36.36,
          0,
          36.36,
          54.54,
          40.91,
          0,
          0,
          50,
          54.54,
          27.27,
          87.27,
          50,
          0,
          0,
          72.72,
          31.82,
          54.54,
          36.36,
          0,
          0,
          0,
          0,
          54.54,
          72.72,
          36.36,
          87.27,
          0,
          0,
          40.91,
          45.45,
          54.54,
          59.09,
          50,
          0,
          0,
          50,
          55,
          30,
          45,
          30,
          0,
          0,
          65,
          55,
          65,
          45,
          55,
          0
         ],
         "y0": " ",
         "yaxis": "y"
        }
       ],
       "layout": {
        "annotations": [
         {
          "showarrow": false,
          "text": "min = 80%",
          "x": 1,
          "xanchor": "right",
          "xref": "x domain",
          "y": 80,
          "yanchor": "bottom",
          "yref": "y"
         }
        ],
        "boxmode": "group",
        "height": 600,
        "legend": {
         "tracegroupgap": 0
        },
        "shapes": [
         {
          "type": "line",
          "x0": 0,
          "x1": 1,
          "xref": "x domain",
          "y0": 80,
          "y1": 80,
          "yref": "y"
         }
        ],
        "showlegend": false,
        "template": {
         "data": {
          "bar": [
           {
            "error_x": {
             "color": "#2a3f5f"
            },
            "error_y": {
             "color": "#2a3f5f"
            },
            "marker": {
             "line": {
              "color": "white",
              "width": 0.5
             },
             "pattern": {
              "fillmode": "overlay",
              "size": 10,
              "solidity": 0.2
             }
            },
            "type": "bar"
           }
          ],
          "barpolar": [
           {
            "marker": {
             "line": {
              "color": "white",
              "width": 0.5
             },
             "pattern": {
              "fillmode": "overlay",
              "size": 10,
              "solidity": 0.2
             }
            },
            "type": "barpolar"
           }
          ],
          "carpet": [
           {
            "aaxis": {
             "endlinecolor": "#2a3f5f",
             "gridcolor": "#C8D4E3",
             "linecolor": "#C8D4E3",
             "minorgridcolor": "#C8D4E3",
             "startlinecolor": "#2a3f5f"
            },
            "baxis": {
             "endlinecolor": "#2a3f5f",
             "gridcolor": "#C8D4E3",
             "linecolor": "#C8D4E3",
             "minorgridcolor": "#C8D4E3",
             "startlinecolor": "#2a3f5f"
            },
            "type": "carpet"
           }
          ],
          "choropleth": [
           {
            "colorbar": {
             "outlinewidth": 0,
             "ticks": ""
            },
            "type": "choropleth"
           }
          ],
          "contour": [
           {
            "colorbar": {
             "outlinewidth": 0,
             "ticks": ""
            },
            "colorscale": [
             [
              0,
              "#0d0887"
             ],
             [
              0.1111111111111111,
              "#46039f"
             ],
             [
              0.2222222222222222,
              "#7201a8"
             ],
             [
              0.3333333333333333,
              "#9c179e"
             ],
             [
              0.4444444444444444,
              "#bd3786"
             ],
             [
              0.5555555555555556,
              "#d8576b"
             ],
             [
              0.6666666666666666,
              "#ed7953"
             ],
             [
              0.7777777777777778,
              "#fb9f3a"
             ],
             [
              0.8888888888888888,
              "#fdca26"
             ],
             [
              1,
              "#f0f921"
             ]
            ],
            "type": "contour"
           }
          ],
          "contourcarpet": [
           {
            "colorbar": {
             "outlinewidth": 0,
             "ticks": ""
            },
            "type": "contourcarpet"
           }
          ],
          "heatmap": [
           {
            "colorbar": {
             "outlinewidth": 0,
             "ticks": ""
            },
            "colorscale": [
             [
              0,
              "#0d0887"
             ],
             [
              0.1111111111111111,
              "#46039f"
             ],
             [
              0.2222222222222222,
              "#7201a8"
             ],
             [
              0.3333333333333333,
              "#9c179e"
             ],
             [
              0.4444444444444444,
              "#bd3786"
             ],
             [
              0.5555555555555556,
              "#d8576b"
             ],
             [
              0.6666666666666666,
              "#ed7953"
             ],
             [
              0.7777777777777778,
              "#fb9f3a"
             ],
             [
              0.8888888888888888,
              "#fdca26"
             ],
             [
              1,
              "#f0f921"
             ]
            ],
            "type": "heatmap"
           }
          ],
          "heatmapgl": [
           {
            "colorbar": {
             "outlinewidth": 0,
             "ticks": ""
            },
            "colorscale": [
             [
              0,
              "#0d0887"
             ],
             [
              0.1111111111111111,
              "#46039f"
             ],
             [
              0.2222222222222222,
              "#7201a8"
             ],
             [
              0.3333333333333333,
              "#9c179e"
             ],
             [
              0.4444444444444444,
              "#bd3786"
             ],
             [
              0.5555555555555556,
              "#d8576b"
             ],
             [
              0.6666666666666666,
              "#ed7953"
             ],
             [
              0.7777777777777778,
              "#fb9f3a"
             ],
             [
              0.8888888888888888,
              "#fdca26"
             ],
             [
              1,
              "#f0f921"
             ]
            ],
            "type": "heatmapgl"
           }
          ],
          "histogram": [
           {
            "marker": {
             "pattern": {
              "fillmode": "overlay",
              "size": 10,
              "solidity": 0.2
             }
            },
            "type": "histogram"
           }
          ],
          "histogram2d": [
           {
            "colorbar": {
             "outlinewidth": 0,
             "ticks": ""
            },
            "colorscale": [
             [
              0,
              "#0d0887"
             ],
             [
              0.1111111111111111,
              "#46039f"
             ],
             [
              0.2222222222222222,
              "#7201a8"
             ],
             [
              0.3333333333333333,
              "#9c179e"
             ],
             [
              0.4444444444444444,
              "#bd3786"
             ],
             [
              0.5555555555555556,
              "#d8576b"
             ],
             [
              0.6666666666666666,
              "#ed7953"
             ],
             [
              0.7777777777777778,
              "#fb9f3a"
             ],
             [
              0.8888888888888888,
              "#fdca26"
             ],
             [
              1,
              "#f0f921"
             ]
            ],
            "type": "histogram2d"
           }
          ],
          "histogram2dcontour": [
           {
            "colorbar": {
             "outlinewidth": 0,
             "ticks": ""
            },
            "colorscale": [
             [
              0,
              "#0d0887"
             ],
             [
              0.1111111111111111,
              "#46039f"
             ],
             [
              0.2222222222222222,
              "#7201a8"
             ],
             [
              0.3333333333333333,
              "#9c179e"
             ],
             [
              0.4444444444444444,
              "#bd3786"
             ],
             [
              0.5555555555555556,
              "#d8576b"
             ],
             [
              0.6666666666666666,
              "#ed7953"
             ],
             [
              0.7777777777777778,
              "#fb9f3a"
             ],
             [
              0.8888888888888888,
              "#fdca26"
             ],
             [
              1,
              "#f0f921"
             ]
            ],
            "type": "histogram2dcontour"
           }
          ],
          "mesh3d": [
           {
            "colorbar": {
             "outlinewidth": 0,
             "ticks": ""
            },
            "type": "mesh3d"
           }
          ],
          "parcoords": [
           {
            "line": {
             "colorbar": {
              "outlinewidth": 0,
              "ticks": ""
             }
            },
            "type": "parcoords"
           }
          ],
          "pie": [
           {
            "automargin": true,
            "type": "pie"
           }
          ],
          "scatter": [
           {
            "fillpattern": {
             "fillmode": "overlay",
             "size": 10,
             "solidity": 0.2
            },
            "type": "scatter"
           }
          ],
          "scatter3d": [
           {
            "line": {
             "colorbar": {
              "outlinewidth": 0,
              "ticks": ""
             }
            },
            "marker": {
             "colorbar": {
              "outlinewidth": 0,
              "ticks": ""
             }
            },
            "type": "scatter3d"
           }
          ],
          "scattercarpet": [
           {
            "marker": {
             "colorbar": {
              "outlinewidth": 0,
              "ticks": ""
             }
            },
            "type": "scattercarpet"
           }
          ],
          "scattergeo": [
           {
            "marker": {
             "colorbar": {
              "outlinewidth": 0,
              "ticks": ""
             }
            },
            "type": "scattergeo"
           }
          ],
          "scattergl": [
           {
            "marker": {
             "colorbar": {
              "outlinewidth": 0,
              "ticks": ""
             }
            },
            "type": "scattergl"
           }
          ],
          "scattermapbox": [
           {
            "marker": {
             "colorbar": {
              "outlinewidth": 0,
              "ticks": ""
             }
            },
            "type": "scattermapbox"
           }
          ],
          "scatterpolar": [
           {
            "marker": {
             "colorbar": {
              "outlinewidth": 0,
              "ticks": ""
             }
            },
            "type": "scatterpolar"
           }
          ],
          "scatterpolargl": [
           {
            "marker": {
             "colorbar": {
              "outlinewidth": 0,
              "ticks": ""
             }
            },
            "type": "scatterpolargl"
           }
          ],
          "scatterternary": [
           {
            "marker": {
             "colorbar": {
              "outlinewidth": 0,
              "ticks": ""
             }
            },
            "type": "scatterternary"
           }
          ],
          "surface": [
           {
            "colorbar": {
             "outlinewidth": 0,
             "ticks": ""
            },
            "colorscale": [
             [
              0,
              "#0d0887"
             ],
             [
              0.1111111111111111,
              "#46039f"
             ],
             [
              0.2222222222222222,
              "#7201a8"
             ],
             [
              0.3333333333333333,
              "#9c179e"
             ],
             [
              0.4444444444444444,
              "#bd3786"
             ],
             [
              0.5555555555555556,
              "#d8576b"
             ],
             [
              0.6666666666666666,
              "#ed7953"
             ],
             [
              0.7777777777777778,
              "#fb9f3a"
             ],
             [
              0.8888888888888888,
              "#fdca26"
             ],
             [
              1,
              "#f0f921"
             ]
            ],
            "type": "surface"
           }
          ],
          "table": [
           {
            "cells": {
             "fill": {
              "color": "#EBF0F8"
             },
             "line": {
              "color": "white"
             }
            },
            "header": {
             "fill": {
              "color": "#C8D4E3"
             },
             "line": {
              "color": "white"
             }
            },
            "type": "table"
           }
          ]
         },
         "layout": {
          "annotationdefaults": {
           "arrowcolor": "#2a3f5f",
           "arrowhead": 0,
           "arrowwidth": 1
          },
          "autotypenumbers": "strict",
          "coloraxis": {
           "colorbar": {
            "outlinewidth": 0,
            "ticks": ""
           }
          },
          "colorscale": {
           "diverging": [
            [
             0,
             "#8e0152"
            ],
            [
             0.1,
             "#c51b7d"
            ],
            [
             0.2,
             "#de77ae"
            ],
            [
             0.3,
             "#f1b6da"
            ],
            [
             0.4,
             "#fde0ef"
            ],
            [
             0.5,
             "#f7f7f7"
            ],
            [
             0.6,
             "#e6f5d0"
            ],
            [
             0.7,
             "#b8e186"
            ],
            [
             0.8,
             "#7fbc41"
            ],
            [
             0.9,
             "#4d9221"
            ],
            [
             1,
             "#276419"
            ]
           ],
           "sequential": [
            [
             0,
             "#0d0887"
            ],
            [
             0.1111111111111111,
             "#46039f"
            ],
            [
             0.2222222222222222,
             "#7201a8"
            ],
            [
             0.3333333333333333,
             "#9c179e"
            ],
            [
             0.4444444444444444,
             "#bd3786"
            ],
            [
             0.5555555555555556,
             "#d8576b"
            ],
            [
             0.6666666666666666,
             "#ed7953"
            ],
            [
             0.7777777777777778,
             "#fb9f3a"
            ],
            [
             0.8888888888888888,
             "#fdca26"
            ],
            [
             1,
             "#f0f921"
            ]
           ],
           "sequentialminus": [
            [
             0,
             "#0d0887"
            ],
            [
             0.1111111111111111,
             "#46039f"
            ],
            [
             0.2222222222222222,
             "#7201a8"
            ],
            [
             0.3333333333333333,
             "#9c179e"
            ],
            [
             0.4444444444444444,
             "#bd3786"
            ],
            [
             0.5555555555555556,
             "#d8576b"
            ],
            [
             0.6666666666666666,
             "#ed7953"
            ],
            [
             0.7777777777777778,
             "#fb9f3a"
            ],
            [
             0.8888888888888888,
             "#fdca26"
            ],
            [
             1,
             "#f0f921"
            ]
           ]
          },
          "colorway": [
           "#636efa",
           "#EF553B",
           "#00cc96",
           "#ab63fa",
           "#FFA15A",
           "#19d3f3",
           "#FF6692",
           "#B6E880",
           "#FF97FF",
           "#FECB52"
          ],
          "font": {
           "color": "#2a3f5f"
          },
          "geo": {
           "bgcolor": "white",
           "lakecolor": "white",
           "landcolor": "white",
           "showlakes": true,
           "showland": true,
           "subunitcolor": "#C8D4E3"
          },
          "hoverlabel": {
           "align": "left"
          },
          "hovermode": "closest",
          "mapbox": {
           "style": "light"
          },
          "paper_bgcolor": "white",
          "plot_bgcolor": "white",
          "polar": {
           "angularaxis": {
            "gridcolor": "#EBF0F8",
            "linecolor": "#EBF0F8",
            "ticks": ""
           },
           "bgcolor": "white",
           "radialaxis": {
            "gridcolor": "#EBF0F8",
            "linecolor": "#EBF0F8",
            "ticks": ""
           }
          },
          "scene": {
           "xaxis": {
            "backgroundcolor": "white",
            "gridcolor": "#DFE8F3",
            "gridwidth": 2,
            "linecolor": "#EBF0F8",
            "showbackground": true,
            "ticks": "",
            "zerolinecolor": "#EBF0F8"
           },
           "yaxis": {
            "backgroundcolor": "white",
            "gridcolor": "#DFE8F3",
            "gridwidth": 2,
            "linecolor": "#EBF0F8",
            "showbackground": true,
            "ticks": "",
            "zerolinecolor": "#EBF0F8"
           },
           "zaxis": {
            "backgroundcolor": "white",
            "gridcolor": "#DFE8F3",
            "gridwidth": 2,
            "linecolor": "#EBF0F8",
            "showbackground": true,
            "ticks": "",
            "zerolinecolor": "#EBF0F8"
           }
          },
          "shapedefaults": {
           "line": {
            "color": "#2a3f5f"
           }
          },
          "ternary": {
           "aaxis": {
            "gridcolor": "#DFE8F3",
            "linecolor": "#A2B1C6",
            "ticks": ""
           },
           "baxis": {
            "gridcolor": "#DFE8F3",
            "linecolor": "#A2B1C6",
            "ticks": ""
           },
           "bgcolor": "white",
           "caxis": {
            "gridcolor": "#DFE8F3",
            "linecolor": "#A2B1C6",
            "ticks": ""
           }
          },
          "title": {
           "x": 0.05
          },
          "xaxis": {
           "automargin": true,
           "gridcolor": "#EBF0F8",
           "linecolor": "#EBF0F8",
           "ticks": "",
           "title": {
            "standoff": 15
           },
           "zerolinecolor": "#EBF0F8",
           "zerolinewidth": 2
          },
          "yaxis": {
           "automargin": true,
           "gridcolor": "#EBF0F8",
           "linecolor": "#EBF0F8",
           "ticks": "",
           "title": {
            "standoff": 15
           },
           "zerolinecolor": "#EBF0F8",
           "zerolinewidth": 2
          }
         }
        },
        "title": {
         "text": "Distribuição do percentual de operação diária (POD) por mês - Serviço: 844"
        },
        "width": 800,
        "xaxis": {
         "anchor": "y",
         "domain": [
          0,
          1
         ],
         "title": {
          "text": ""
         }
        },
        "yaxis": {
         "anchor": "x",
         "domain": [
          0,
          1
         ],
         "range": [
          -10,
          200
         ],
         "ticksuffix": "%",
         "title": {
          "text": ""
         }
        }
       }
      }
     },
     "metadata": {},
     "output_type": "display_data"
    }
   ],
   "source": [
    "y = \"perc_km_planejada\"\n",
    "title = f\"Distribuição do percentual de operação diária (POD) por mês - Serviço: 844\"\n",
    "\n",
    "fig = px.box(\n",
    "    pod_pre_reprocessamento, \n",
    "    x=\"mes_ano\", \n",
    "    y=y, \n",
    "    title=title,\n",
    "    template=\"plotly_white\",\n",
    "    labels={\n",
    "        \"mes_ano\": \"\",\n",
    "        y: \"\"\n",
    "    },\n",
    "    points=\"all\"\n",
    ")\n",
    "\n",
    "fig.update_layout(\n",
    "    yaxis_range=[-10, 200],  \n",
    "    yaxis_ticksuffix=\"%\",\n",
    "    width=800,\n",
    "    height=600,\n",
    "    showlegend=False,\n",
    ")\n",
    "\n",
    "fig.add_hline(y=80, annotation_text=\"min = 80%\")  # Linha horizontal para indicar o mínimo de 80%\n",
    "\n",
    "fig.show()\n"
   ]
  },
  {
   "cell_type": "markdown",
   "metadata": {},
   "source": [
    "3.2 POD pós-reprocessamento"
   ]
  },
  {
   "cell_type": "code",
   "execution_count": 29,
   "metadata": {},
   "outputs": [
    {
     "data": {
      "text/html": [
       "<div>\n",
       "<style scoped>\n",
       "    .dataframe tbody tr th:only-of-type {\n",
       "        vertical-align: middle;\n",
       "    }\n",
       "\n",
       "    .dataframe tbody tr th {\n",
       "        vertical-align: top;\n",
       "    }\n",
       "\n",
       "    .dataframe thead th {\n",
       "        text-align: right;\n",
       "    }\n",
       "</style>\n",
       "<table border=\"1\" class=\"dataframe\">\n",
       "  <thead>\n",
       "    <tr style=\"text-align: right;\">\n",
       "      <th></th>\n",
       "      <th>mes_ano</th>\n",
       "      <th>viagens</th>\n",
       "      <th>perc_km_planejada</th>\n",
       "    </tr>\n",
       "  </thead>\n",
       "  <tbody>\n",
       "    <tr>\n",
       "      <th>166</th>\n",
       "      <td>2022-06</td>\n",
       "      <td>29</td>\n",
       "      <td>153.0</td>\n",
       "    </tr>\n",
       "    <tr>\n",
       "      <th>195</th>\n",
       "      <td>2022-06</td>\n",
       "      <td>23</td>\n",
       "      <td>121.0</td>\n",
       "    </tr>\n",
       "    <tr>\n",
       "      <th>57</th>\n",
       "      <td>2022-06</td>\n",
       "      <td>22</td>\n",
       "      <td>116.0</td>\n",
       "    </tr>\n",
       "    <tr>\n",
       "      <th>1</th>\n",
       "      <td>2022-06</td>\n",
       "      <td>0</td>\n",
       "      <td>0.0</td>\n",
       "    </tr>\n",
       "    <tr>\n",
       "      <th>130</th>\n",
       "      <td>2022-06</td>\n",
       "      <td>0</td>\n",
       "      <td>0.0</td>\n",
       "    </tr>\n",
       "    <tr>\n",
       "      <th>...</th>\n",
       "      <td>...</td>\n",
       "      <td>...</td>\n",
       "      <td>...</td>\n",
       "    </tr>\n",
       "    <tr>\n",
       "      <th>213</th>\n",
       "      <td>2022-12</td>\n",
       "      <td>20</td>\n",
       "      <td>100.0</td>\n",
       "    </tr>\n",
       "    <tr>\n",
       "      <th>75</th>\n",
       "      <td>2022-12</td>\n",
       "      <td>21</td>\n",
       "      <td>105.0</td>\n",
       "    </tr>\n",
       "    <tr>\n",
       "      <th>190</th>\n",
       "      <td>2022-12</td>\n",
       "      <td>21</td>\n",
       "      <td>105.0</td>\n",
       "    </tr>\n",
       "    <tr>\n",
       "      <th>13</th>\n",
       "      <td>2022-12</td>\n",
       "      <td>20</td>\n",
       "      <td>100.0</td>\n",
       "    </tr>\n",
       "    <tr>\n",
       "      <th>32</th>\n",
       "      <td>2022-12</td>\n",
       "      <td>0</td>\n",
       "      <td>0.0</td>\n",
       "    </tr>\n",
       "  </tbody>\n",
       "</table>\n",
       "<p>214 rows × 3 columns</p>\n",
       "</div>"
      ],
      "text/plain": [
       "     mes_ano  viagens  perc_km_planejada\n",
       "166  2022-06       29              153.0\n",
       "195  2022-06       23              121.0\n",
       "57   2022-06       22              116.0\n",
       "1    2022-06        0                0.0\n",
       "130  2022-06        0                0.0\n",
       "..       ...      ...                ...\n",
       "213  2022-12       20              100.0\n",
       "75   2022-12       21              105.0\n",
       "190  2022-12       21              105.0\n",
       "13   2022-12       20              100.0\n",
       "32   2022-12        0                0.0\n",
       "\n",
       "[214 rows x 3 columns]"
      ]
     },
     "execution_count": 29,
     "metadata": {},
     "output_type": "execute_result"
    }
   ],
   "source": [
    "pod_pos_reprocessamento = subsidio_a_pagar_dia[[\"mes_ano\",\"viagens\",\"perc_km_planejada\"]]\n",
    "pod_pos_reprocessamento['perc_km_planejada'] = pod_pos_reprocessamento['perc_km_planejada'] * 100\n",
    "pod_pos_reprocessamento"
   ]
  },
  {
   "cell_type": "code",
   "execution_count": 30,
   "metadata": {},
   "outputs": [
    {
     "data": {
      "application/vnd.plotly.v1+json": {
       "config": {
        "plotlyServerURL": "https://plot.ly"
       },
       "data": [
        {
         "alignmentgroup": "True",
         "boxpoints": "all",
         "hovertemplate": "=%{y}<extra></extra>",
         "legendgroup": "",
         "marker": {
          "color": "#636efa"
         },
         "name": "",
         "notched": false,
         "offsetgroup": "",
         "orientation": "v",
         "showlegend": false,
         "type": "box",
         "x": [
          "2022-06",
          "2022-06",
          "2022-06",
          "2022-06",
          "2022-06",
          "2022-06",
          "2022-06",
          "2022-06",
          "2022-06",
          "2022-06",
          "2022-06",
          "2022-06",
          "2022-06",
          "2022-06",
          "2022-06",
          "2022-06",
          "2022-06",
          "2022-06",
          "2022-06",
          "2022-06",
          "2022-06",
          "2022-06",
          "2022-06",
          "2022-06",
          "2022-06",
          "2022-06",
          "2022-06",
          "2022-06",
          "2022-06",
          "2022-06",
          "2022-07",
          "2022-07",
          "2022-07",
          "2022-07",
          "2022-07",
          "2022-07",
          "2022-07",
          "2022-07",
          "2022-07",
          "2022-07",
          "2022-07",
          "2022-07",
          "2022-07",
          "2022-07",
          "2022-07",
          "2022-07",
          "2022-07",
          "2022-07",
          "2022-07",
          "2022-07",
          "2022-07",
          "2022-07",
          "2022-07",
          "2022-07",
          "2022-07",
          "2022-07",
          "2022-07",
          "2022-07",
          "2022-07",
          "2022-07",
          "2022-07",
          "2022-08",
          "2022-08",
          "2022-08",
          "2022-08",
          "2022-08",
          "2022-08",
          "2022-08",
          "2022-08",
          "2022-08",
          "2022-08",
          "2022-08",
          "2022-08",
          "2022-08",
          "2022-08",
          "2022-08",
          "2022-08",
          "2022-08",
          "2022-08",
          "2022-08",
          "2022-08",
          "2022-08",
          "2022-08",
          "2022-08",
          "2022-08",
          "2022-08",
          "2022-08",
          "2022-08",
          "2022-08",
          "2022-08",
          "2022-08",
          "2022-08",
          "2022-09",
          "2022-09",
          "2022-09",
          "2022-09",
          "2022-09",
          "2022-09",
          "2022-09",
          "2022-09",
          "2022-09",
          "2022-09",
          "2022-09",
          "2022-09",
          "2022-09",
          "2022-09",
          "2022-09",
          "2022-09",
          "2022-09",
          "2022-09",
          "2022-09",
          "2022-09",
          "2022-09",
          "2022-09",
          "2022-09",
          "2022-09",
          "2022-09",
          "2022-09",
          "2022-09",
          "2022-09",
          "2022-09",
          "2022-09",
          "2022-10",
          "2022-10",
          "2022-10",
          "2022-10",
          "2022-10",
          "2022-10",
          "2022-10",
          "2022-10",
          "2022-10",
          "2022-10",
          "2022-10",
          "2022-10",
          "2022-10",
          "2022-10",
          "2022-10",
          "2022-10",
          "2022-10",
          "2022-10",
          "2022-10",
          "2022-10",
          "2022-10",
          "2022-10",
          "2022-10",
          "2022-10",
          "2022-10",
          "2022-10",
          "2022-10",
          "2022-10",
          "2022-10",
          "2022-10",
          "2022-10",
          "2022-11",
          "2022-11",
          "2022-11",
          "2022-11",
          "2022-11",
          "2022-11",
          "2022-11",
          "2022-11",
          "2022-11",
          "2022-11",
          "2022-11",
          "2022-11",
          "2022-11",
          "2022-11",
          "2022-11",
          "2022-11",
          "2022-11",
          "2022-11",
          "2022-11",
          "2022-11",
          "2022-11",
          "2022-11",
          "2022-11",
          "2022-11",
          "2022-11",
          "2022-11",
          "2022-11",
          "2022-11",
          "2022-11",
          "2022-11",
          "2022-12",
          "2022-12",
          "2022-12",
          "2022-12",
          "2022-12",
          "2022-12",
          "2022-12",
          "2022-12",
          "2022-12",
          "2022-12",
          "2022-12",
          "2022-12",
          "2022-12",
          "2022-12",
          "2022-12",
          "2022-12",
          "2022-12",
          "2022-12",
          "2022-12",
          "2022-12",
          "2022-12",
          "2022-12",
          "2022-12",
          "2022-12",
          "2022-12",
          "2022-12",
          "2022-12",
          "2022-12",
          "2022-12",
          "2022-12",
          "2022-12"
         ],
         "x0": " ",
         "xaxis": "x",
         "y": [
          153,
          121,
          115.99999999999999,
          0,
          0,
          126,
          126,
          132,
          137,
          126,
          0,
          0,
          126,
          126,
          115.99999999999999,
          0,
          0,
          0,
          0,
          132,
          115.99999999999999,
          111.00000000000001,
          105,
          100,
          0,
          0,
          100,
          111.00000000000001,
          74,
          100,
          80,
          0,
          0,
          90,
          97,
          97,
          90,
          100,
          0,
          0,
          94,
          104,
          87,
          90,
          87,
          0,
          0,
          84,
          87,
          90,
          73,
          90,
          0,
          0,
          90,
          97,
          87,
          100,
          94,
          0,
          0,
          90,
          90,
          97,
          93,
          87,
          0,
          0,
          83,
          87,
          87,
          103,
          83,
          0,
          0,
          100,
          93,
          90,
          90,
          87,
          0,
          0,
          100,
          97,
          93,
          87,
          87,
          0,
          0,
          97,
          56.99999999999999,
          90,
          115.99999999999999,
          160,
          0,
          0,
          111.00000000000001,
          105,
          0,
          111.00000000000001,
          111.00000000000001,
          0,
          0,
          89,
          100,
          111.00000000000001,
          111.00000000000001,
          105,
          0,
          0,
          111.00000000000001,
          105,
          100,
          111.00000000000001,
          89,
          0,
          0,
          100,
          111.00000000000001,
          100,
          105,
          121,
          0,
          218.00000000000003,
          95,
          82,
          91,
          91,
          91,
          0,
          0,
          86,
          95,
          0,
          64,
          95,
          0,
          0,
          138,
          91,
          86,
          86,
          91,
          0,
          0,
          100,
          95,
          82,
          82,
          86,
          0,
          191,
          91,
          86,
          0,
          77,
          86,
          0,
          0,
          91,
          86,
          86,
          91,
          95,
          0,
          0,
          138,
          0,
          86,
          91,
          86,
          0,
          0,
          86,
          95,
          77,
          115.99999999999999,
          86,
          0,
          0,
          109.00000000000001,
          86,
          86,
          86,
          0,
          0,
          0,
          0,
          91,
          95,
          77,
          153,
          0,
          0,
          91,
          86,
          95,
          82,
          90,
          0,
          0,
          95,
          90,
          80,
          95,
          95,
          0,
          0,
          105,
          100,
          105,
          105,
          100,
          0
         ],
         "y0": " ",
         "yaxis": "y"
        }
       ],
       "layout": {
        "annotations": [
         {
          "showarrow": false,
          "text": "min = 80%",
          "x": 1,
          "xanchor": "right",
          "xref": "x domain",
          "y": 80,
          "yanchor": "bottom",
          "yref": "y"
         }
        ],
        "boxmode": "group",
        "height": 600,
        "legend": {
         "tracegroupgap": 0
        },
        "shapes": [
         {
          "type": "line",
          "x0": 0,
          "x1": 1,
          "xref": "x domain",
          "y0": 80,
          "y1": 80,
          "yref": "y"
         }
        ],
        "showlegend": false,
        "template": {
         "data": {
          "bar": [
           {
            "error_x": {
             "color": "#2a3f5f"
            },
            "error_y": {
             "color": "#2a3f5f"
            },
            "marker": {
             "line": {
              "color": "white",
              "width": 0.5
             },
             "pattern": {
              "fillmode": "overlay",
              "size": 10,
              "solidity": 0.2
             }
            },
            "type": "bar"
           }
          ],
          "barpolar": [
           {
            "marker": {
             "line": {
              "color": "white",
              "width": 0.5
             },
             "pattern": {
              "fillmode": "overlay",
              "size": 10,
              "solidity": 0.2
             }
            },
            "type": "barpolar"
           }
          ],
          "carpet": [
           {
            "aaxis": {
             "endlinecolor": "#2a3f5f",
             "gridcolor": "#C8D4E3",
             "linecolor": "#C8D4E3",
             "minorgridcolor": "#C8D4E3",
             "startlinecolor": "#2a3f5f"
            },
            "baxis": {
             "endlinecolor": "#2a3f5f",
             "gridcolor": "#C8D4E3",
             "linecolor": "#C8D4E3",
             "minorgridcolor": "#C8D4E3",
             "startlinecolor": "#2a3f5f"
            },
            "type": "carpet"
           }
          ],
          "choropleth": [
           {
            "colorbar": {
             "outlinewidth": 0,
             "ticks": ""
            },
            "type": "choropleth"
           }
          ],
          "contour": [
           {
            "colorbar": {
             "outlinewidth": 0,
             "ticks": ""
            },
            "colorscale": [
             [
              0,
              "#0d0887"
             ],
             [
              0.1111111111111111,
              "#46039f"
             ],
             [
              0.2222222222222222,
              "#7201a8"
             ],
             [
              0.3333333333333333,
              "#9c179e"
             ],
             [
              0.4444444444444444,
              "#bd3786"
             ],
             [
              0.5555555555555556,
              "#d8576b"
             ],
             [
              0.6666666666666666,
              "#ed7953"
             ],
             [
              0.7777777777777778,
              "#fb9f3a"
             ],
             [
              0.8888888888888888,
              "#fdca26"
             ],
             [
              1,
              "#f0f921"
             ]
            ],
            "type": "contour"
           }
          ],
          "contourcarpet": [
           {
            "colorbar": {
             "outlinewidth": 0,
             "ticks": ""
            },
            "type": "contourcarpet"
           }
          ],
          "heatmap": [
           {
            "colorbar": {
             "outlinewidth": 0,
             "ticks": ""
            },
            "colorscale": [
             [
              0,
              "#0d0887"
             ],
             [
              0.1111111111111111,
              "#46039f"
             ],
             [
              0.2222222222222222,
              "#7201a8"
             ],
             [
              0.3333333333333333,
              "#9c179e"
             ],
             [
              0.4444444444444444,
              "#bd3786"
             ],
             [
              0.5555555555555556,
              "#d8576b"
             ],
             [
              0.6666666666666666,
              "#ed7953"
             ],
             [
              0.7777777777777778,
              "#fb9f3a"
             ],
             [
              0.8888888888888888,
              "#fdca26"
             ],
             [
              1,
              "#f0f921"
             ]
            ],
            "type": "heatmap"
           }
          ],
          "heatmapgl": [
           {
            "colorbar": {
             "outlinewidth": 0,
             "ticks": ""
            },
            "colorscale": [
             [
              0,
              "#0d0887"
             ],
             [
              0.1111111111111111,
              "#46039f"
             ],
             [
              0.2222222222222222,
              "#7201a8"
             ],
             [
              0.3333333333333333,
              "#9c179e"
             ],
             [
              0.4444444444444444,
              "#bd3786"
             ],
             [
              0.5555555555555556,
              "#d8576b"
             ],
             [
              0.6666666666666666,
              "#ed7953"
             ],
             [
              0.7777777777777778,
              "#fb9f3a"
             ],
             [
              0.8888888888888888,
              "#fdca26"
             ],
             [
              1,
              "#f0f921"
             ]
            ],
            "type": "heatmapgl"
           }
          ],
          "histogram": [
           {
            "marker": {
             "pattern": {
              "fillmode": "overlay",
              "size": 10,
              "solidity": 0.2
             }
            },
            "type": "histogram"
           }
          ],
          "histogram2d": [
           {
            "colorbar": {
             "outlinewidth": 0,
             "ticks": ""
            },
            "colorscale": [
             [
              0,
              "#0d0887"
             ],
             [
              0.1111111111111111,
              "#46039f"
             ],
             [
              0.2222222222222222,
              "#7201a8"
             ],
             [
              0.3333333333333333,
              "#9c179e"
             ],
             [
              0.4444444444444444,
              "#bd3786"
             ],
             [
              0.5555555555555556,
              "#d8576b"
             ],
             [
              0.6666666666666666,
              "#ed7953"
             ],
             [
              0.7777777777777778,
              "#fb9f3a"
             ],
             [
              0.8888888888888888,
              "#fdca26"
             ],
             [
              1,
              "#f0f921"
             ]
            ],
            "type": "histogram2d"
           }
          ],
          "histogram2dcontour": [
           {
            "colorbar": {
             "outlinewidth": 0,
             "ticks": ""
            },
            "colorscale": [
             [
              0,
              "#0d0887"
             ],
             [
              0.1111111111111111,
              "#46039f"
             ],
             [
              0.2222222222222222,
              "#7201a8"
             ],
             [
              0.3333333333333333,
              "#9c179e"
             ],
             [
              0.4444444444444444,
              "#bd3786"
             ],
             [
              0.5555555555555556,
              "#d8576b"
             ],
             [
              0.6666666666666666,
              "#ed7953"
             ],
             [
              0.7777777777777778,
              "#fb9f3a"
             ],
             [
              0.8888888888888888,
              "#fdca26"
             ],
             [
              1,
              "#f0f921"
             ]
            ],
            "type": "histogram2dcontour"
           }
          ],
          "mesh3d": [
           {
            "colorbar": {
             "outlinewidth": 0,
             "ticks": ""
            },
            "type": "mesh3d"
           }
          ],
          "parcoords": [
           {
            "line": {
             "colorbar": {
              "outlinewidth": 0,
              "ticks": ""
             }
            },
            "type": "parcoords"
           }
          ],
          "pie": [
           {
            "automargin": true,
            "type": "pie"
           }
          ],
          "scatter": [
           {
            "fillpattern": {
             "fillmode": "overlay",
             "size": 10,
             "solidity": 0.2
            },
            "type": "scatter"
           }
          ],
          "scatter3d": [
           {
            "line": {
             "colorbar": {
              "outlinewidth": 0,
              "ticks": ""
             }
            },
            "marker": {
             "colorbar": {
              "outlinewidth": 0,
              "ticks": ""
             }
            },
            "type": "scatter3d"
           }
          ],
          "scattercarpet": [
           {
            "marker": {
             "colorbar": {
              "outlinewidth": 0,
              "ticks": ""
             }
            },
            "type": "scattercarpet"
           }
          ],
          "scattergeo": [
           {
            "marker": {
             "colorbar": {
              "outlinewidth": 0,
              "ticks": ""
             }
            },
            "type": "scattergeo"
           }
          ],
          "scattergl": [
           {
            "marker": {
             "colorbar": {
              "outlinewidth": 0,
              "ticks": ""
             }
            },
            "type": "scattergl"
           }
          ],
          "scattermapbox": [
           {
            "marker": {
             "colorbar": {
              "outlinewidth": 0,
              "ticks": ""
             }
            },
            "type": "scattermapbox"
           }
          ],
          "scatterpolar": [
           {
            "marker": {
             "colorbar": {
              "outlinewidth": 0,
              "ticks": ""
             }
            },
            "type": "scatterpolar"
           }
          ],
          "scatterpolargl": [
           {
            "marker": {
             "colorbar": {
              "outlinewidth": 0,
              "ticks": ""
             }
            },
            "type": "scatterpolargl"
           }
          ],
          "scatterternary": [
           {
            "marker": {
             "colorbar": {
              "outlinewidth": 0,
              "ticks": ""
             }
            },
            "type": "scatterternary"
           }
          ],
          "surface": [
           {
            "colorbar": {
             "outlinewidth": 0,
             "ticks": ""
            },
            "colorscale": [
             [
              0,
              "#0d0887"
             ],
             [
              0.1111111111111111,
              "#46039f"
             ],
             [
              0.2222222222222222,
              "#7201a8"
             ],
             [
              0.3333333333333333,
              "#9c179e"
             ],
             [
              0.4444444444444444,
              "#bd3786"
             ],
             [
              0.5555555555555556,
              "#d8576b"
             ],
             [
              0.6666666666666666,
              "#ed7953"
             ],
             [
              0.7777777777777778,
              "#fb9f3a"
             ],
             [
              0.8888888888888888,
              "#fdca26"
             ],
             [
              1,
              "#f0f921"
             ]
            ],
            "type": "surface"
           }
          ],
          "table": [
           {
            "cells": {
             "fill": {
              "color": "#EBF0F8"
             },
             "line": {
              "color": "white"
             }
            },
            "header": {
             "fill": {
              "color": "#C8D4E3"
             },
             "line": {
              "color": "white"
             }
            },
            "type": "table"
           }
          ]
         },
         "layout": {
          "annotationdefaults": {
           "arrowcolor": "#2a3f5f",
           "arrowhead": 0,
           "arrowwidth": 1
          },
          "autotypenumbers": "strict",
          "coloraxis": {
           "colorbar": {
            "outlinewidth": 0,
            "ticks": ""
           }
          },
          "colorscale": {
           "diverging": [
            [
             0,
             "#8e0152"
            ],
            [
             0.1,
             "#c51b7d"
            ],
            [
             0.2,
             "#de77ae"
            ],
            [
             0.3,
             "#f1b6da"
            ],
            [
             0.4,
             "#fde0ef"
            ],
            [
             0.5,
             "#f7f7f7"
            ],
            [
             0.6,
             "#e6f5d0"
            ],
            [
             0.7,
             "#b8e186"
            ],
            [
             0.8,
             "#7fbc41"
            ],
            [
             0.9,
             "#4d9221"
            ],
            [
             1,
             "#276419"
            ]
           ],
           "sequential": [
            [
             0,
             "#0d0887"
            ],
            [
             0.1111111111111111,
             "#46039f"
            ],
            [
             0.2222222222222222,
             "#7201a8"
            ],
            [
             0.3333333333333333,
             "#9c179e"
            ],
            [
             0.4444444444444444,
             "#bd3786"
            ],
            [
             0.5555555555555556,
             "#d8576b"
            ],
            [
             0.6666666666666666,
             "#ed7953"
            ],
            [
             0.7777777777777778,
             "#fb9f3a"
            ],
            [
             0.8888888888888888,
             "#fdca26"
            ],
            [
             1,
             "#f0f921"
            ]
           ],
           "sequentialminus": [
            [
             0,
             "#0d0887"
            ],
            [
             0.1111111111111111,
             "#46039f"
            ],
            [
             0.2222222222222222,
             "#7201a8"
            ],
            [
             0.3333333333333333,
             "#9c179e"
            ],
            [
             0.4444444444444444,
             "#bd3786"
            ],
            [
             0.5555555555555556,
             "#d8576b"
            ],
            [
             0.6666666666666666,
             "#ed7953"
            ],
            [
             0.7777777777777778,
             "#fb9f3a"
            ],
            [
             0.8888888888888888,
             "#fdca26"
            ],
            [
             1,
             "#f0f921"
            ]
           ]
          },
          "colorway": [
           "#636efa",
           "#EF553B",
           "#00cc96",
           "#ab63fa",
           "#FFA15A",
           "#19d3f3",
           "#FF6692",
           "#B6E880",
           "#FF97FF",
           "#FECB52"
          ],
          "font": {
           "color": "#2a3f5f"
          },
          "geo": {
           "bgcolor": "white",
           "lakecolor": "white",
           "landcolor": "white",
           "showlakes": true,
           "showland": true,
           "subunitcolor": "#C8D4E3"
          },
          "hoverlabel": {
           "align": "left"
          },
          "hovermode": "closest",
          "mapbox": {
           "style": "light"
          },
          "paper_bgcolor": "white",
          "plot_bgcolor": "white",
          "polar": {
           "angularaxis": {
            "gridcolor": "#EBF0F8",
            "linecolor": "#EBF0F8",
            "ticks": ""
           },
           "bgcolor": "white",
           "radialaxis": {
            "gridcolor": "#EBF0F8",
            "linecolor": "#EBF0F8",
            "ticks": ""
           }
          },
          "scene": {
           "xaxis": {
            "backgroundcolor": "white",
            "gridcolor": "#DFE8F3",
            "gridwidth": 2,
            "linecolor": "#EBF0F8",
            "showbackground": true,
            "ticks": "",
            "zerolinecolor": "#EBF0F8"
           },
           "yaxis": {
            "backgroundcolor": "white",
            "gridcolor": "#DFE8F3",
            "gridwidth": 2,
            "linecolor": "#EBF0F8",
            "showbackground": true,
            "ticks": "",
            "zerolinecolor": "#EBF0F8"
           },
           "zaxis": {
            "backgroundcolor": "white",
            "gridcolor": "#DFE8F3",
            "gridwidth": 2,
            "linecolor": "#EBF0F8",
            "showbackground": true,
            "ticks": "",
            "zerolinecolor": "#EBF0F8"
           }
          },
          "shapedefaults": {
           "line": {
            "color": "#2a3f5f"
           }
          },
          "ternary": {
           "aaxis": {
            "gridcolor": "#DFE8F3",
            "linecolor": "#A2B1C6",
            "ticks": ""
           },
           "baxis": {
            "gridcolor": "#DFE8F3",
            "linecolor": "#A2B1C6",
            "ticks": ""
           },
           "bgcolor": "white",
           "caxis": {
            "gridcolor": "#DFE8F3",
            "linecolor": "#A2B1C6",
            "ticks": ""
           }
          },
          "title": {
           "x": 0.05
          },
          "xaxis": {
           "automargin": true,
           "gridcolor": "#EBF0F8",
           "linecolor": "#EBF0F8",
           "ticks": "",
           "title": {
            "standoff": 15
           },
           "zerolinecolor": "#EBF0F8",
           "zerolinewidth": 2
          },
          "yaxis": {
           "automargin": true,
           "gridcolor": "#EBF0F8",
           "linecolor": "#EBF0F8",
           "ticks": "",
           "title": {
            "standoff": 15
           },
           "zerolinecolor": "#EBF0F8",
           "zerolinewidth": 2
          }
         }
        },
        "title": {
         "text": "Distribuição do percentual de operação diária (POD) por mês - Serviço: 844 <br>Versão reprocessada"
        },
        "width": 800,
        "xaxis": {
         "anchor": "y",
         "domain": [
          0,
          1
         ],
         "title": {
          "text": ""
         }
        },
        "yaxis": {
         "anchor": "x",
         "domain": [
          0,
          1
         ],
         "range": [
          -50,
          230
         ],
         "ticksuffix": "%",
         "title": {
          "text": ""
         }
        }
       }
      }
     },
     "metadata": {},
     "output_type": "display_data"
    }
   ],
   "source": [
    "\n",
    "y = \"perc_km_planejada\"\n",
    "title = \"Distribuição do percentual de operação diária (POD) por mês - Serviço: 844 <br>Versão reprocessada\"\n",
    "\n",
    "fig = px.box(\n",
    "    pod_pos_reprocessamento, \n",
    "    x=\"mes_ano\", \n",
    "    y=y, \n",
    "    title=title,\n",
    "    template=\"plotly_white\",\n",
    "    labels={\n",
    "        \"mes_ano\": \"\",\n",
    "        y: \"\"\n",
    "    },\n",
    "    points=\"all\"\n",
    ")\n",
    "\n",
    "fig.update_layout(\n",
    "    yaxis_range=[-50, 230],  \n",
    "    yaxis_ticksuffix=\"%\",\n",
    "    width=800,\n",
    "    height=600,\n",
    "    showlegend=False,\n",
    ")\n",
    "\n",
    "fig.add_hline(y=80, annotation_text=\"min = 80%\")  # Linha horizontal para indicar o mínimo de 80%\n",
    "\n",
    "fig.show()\n"
   ]
  },
  {
   "cell_type": "markdown",
   "metadata": {},
   "source": [
    "Consolidar POD pré e pós reprocessamento em apenas um gráfico."
   ]
  },
  {
   "cell_type": "code",
   "execution_count": 31,
   "metadata": {},
   "outputs": [],
   "source": [
    "# Calcular a média e o desvio padrão de perc_km_planejada por mês para ambos os DataFrames\n",
    "media_pre = pod_pre_reprocessamento.groupby('mes_ano')['perc_km_planejada'].mean()\n",
    "std_pre = pod_pre_reprocessamento.groupby('mes_ano')['perc_km_planejada'].std()\n",
    "\n",
    "media_pos = pod_pos_reprocessamento.groupby('mes_ano')['perc_km_planejada'].mean()\n",
    "std_pos = pod_pos_reprocessamento.groupby('mes_ano')['perc_km_planejada'].std()"
   ]
  },
  {
   "cell_type": "markdown",
   "metadata": {},
   "source": [
    "Com o reprocessamento, houve uma melhoria do valor do Percentual de Operação Diária."
   ]
  },
  {
   "cell_type": "code",
   "execution_count": 32,
   "metadata": {},
   "outputs": [
    {
     "data": {
      "text/html": [
       "<div>\n",
       "<style scoped>\n",
       "    .dataframe tbody tr th:only-of-type {\n",
       "        vertical-align: middle;\n",
       "    }\n",
       "\n",
       "    .dataframe tbody tr th {\n",
       "        vertical-align: top;\n",
       "    }\n",
       "\n",
       "    .dataframe thead th {\n",
       "        text-align: right;\n",
       "    }\n",
       "</style>\n",
       "<table border=\"1\" class=\"dataframe\">\n",
       "  <thead>\n",
       "    <tr style=\"text-align: right;\">\n",
       "      <th></th>\n",
       "      <th>DATA</th>\n",
       "      <th>viagens</th>\n",
       "      <th>km_apurada</th>\n",
       "      <th>distancia_total_planejada</th>\n",
       "      <th>perc_km_planejada</th>\n",
       "      <th>valor_subsidio_por_km</th>\n",
       "      <th>valor_subsidio</th>\n",
       "      <th>mes_ano</th>\n",
       "    </tr>\n",
       "  </thead>\n",
       "  <tbody>\n",
       "    <tr>\n",
       "      <th>197</th>\n",
       "      <td>2022-10-02</td>\n",
       "      <td>24</td>\n",
       "      <td>162.96</td>\n",
       "      <td>74.693</td>\n",
       "      <td>2.18</td>\n",
       "      <td>1.62</td>\n",
       "      <td>263.9952</td>\n",
       "      <td>2022-10</td>\n",
       "    </tr>\n",
       "    <tr>\n",
       "      <th>117</th>\n",
       "      <td>2022-10-30</td>\n",
       "      <td>21</td>\n",
       "      <td>142.59</td>\n",
       "      <td>74.693</td>\n",
       "      <td>1.91</td>\n",
       "      <td>1.62</td>\n",
       "      <td>230.9958</td>\n",
       "      <td>2022-10</td>\n",
       "    </tr>\n",
       "    <tr>\n",
       "      <th>184</th>\n",
       "      <td>2022-09-02</td>\n",
       "      <td>19</td>\n",
       "      <td>129.01</td>\n",
       "      <td>80.635</td>\n",
       "      <td>1.60</td>\n",
       "      <td>1.75</td>\n",
       "      <td>225.7675</td>\n",
       "      <td>2022-09</td>\n",
       "    </tr>\n",
       "    <tr>\n",
       "      <th>157</th>\n",
       "      <td>2022-12-09</td>\n",
       "      <td>21</td>\n",
       "      <td>142.59</td>\n",
       "      <td>93.366</td>\n",
       "      <td>1.53</td>\n",
       "      <td>1.78</td>\n",
       "      <td>253.8102</td>\n",
       "      <td>2022-12</td>\n",
       "    </tr>\n",
       "    <tr>\n",
       "      <th>166</th>\n",
       "      <td>2022-06-01</td>\n",
       "      <td>29</td>\n",
       "      <td>196.91</td>\n",
       "      <td>129.020</td>\n",
       "      <td>1.53</td>\n",
       "      <td>2.13</td>\n",
       "      <td>419.4183</td>\n",
       "      <td>2022-06</td>\n",
       "    </tr>\n",
       "    <tr>\n",
       "      <th>...</th>\n",
       "      <td>...</td>\n",
       "      <td>...</td>\n",
       "      <td>...</td>\n",
       "      <td>...</td>\n",
       "      <td>...</td>\n",
       "      <td>...</td>\n",
       "      <td>...</td>\n",
       "      <td>...</td>\n",
       "    </tr>\n",
       "    <tr>\n",
       "      <th>159</th>\n",
       "      <td>2022-10-15</td>\n",
       "      <td>0</td>\n",
       "      <td>0.00</td>\n",
       "      <td>93.367</td>\n",
       "      <td>0.00</td>\n",
       "      <td>1.62</td>\n",
       "      <td>0.0000</td>\n",
       "      <td>2022-10</td>\n",
       "    </tr>\n",
       "    <tr>\n",
       "      <th>123</th>\n",
       "      <td>2022-08-07</td>\n",
       "      <td>0</td>\n",
       "      <td>0.00</td>\n",
       "      <td>101.858</td>\n",
       "      <td>0.00</td>\n",
       "      <td>1.80</td>\n",
       "      <td>0.0000</td>\n",
       "      <td>2022-08</td>\n",
       "    </tr>\n",
       "    <tr>\n",
       "      <th>172</th>\n",
       "      <td>2022-10-12</td>\n",
       "      <td>0</td>\n",
       "      <td>0.00</td>\n",
       "      <td>74.693</td>\n",
       "      <td>0.00</td>\n",
       "      <td>1.62</td>\n",
       "      <td>0.0000</td>\n",
       "      <td>2022-10</td>\n",
       "    </tr>\n",
       "    <tr>\n",
       "      <th>16</th>\n",
       "      <td>2022-10-09</td>\n",
       "      <td>0</td>\n",
       "      <td>0.00</td>\n",
       "      <td>74.693</td>\n",
       "      <td>0.00</td>\n",
       "      <td>1.62</td>\n",
       "      <td>0.0000</td>\n",
       "      <td>2022-10</td>\n",
       "    </tr>\n",
       "    <tr>\n",
       "      <th>32</th>\n",
       "      <td>2022-12-31</td>\n",
       "      <td>0</td>\n",
       "      <td>0.00</td>\n",
       "      <td>84.878</td>\n",
       "      <td>0.00</td>\n",
       "      <td>1.78</td>\n",
       "      <td>0.0000</td>\n",
       "      <td>2022-12</td>\n",
       "    </tr>\n",
       "  </tbody>\n",
       "</table>\n",
       "<p>214 rows × 8 columns</p>\n",
       "</div>"
      ],
      "text/plain": [
       "          DATA  viagens  km_apurada  distancia_total_planejada  \\\n",
       "197 2022-10-02       24      162.96                     74.693   \n",
       "117 2022-10-30       21      142.59                     74.693   \n",
       "184 2022-09-02       19      129.01                     80.635   \n",
       "157 2022-12-09       21      142.59                     93.366   \n",
       "166 2022-06-01       29      196.91                    129.020   \n",
       "..         ...      ...         ...                        ...   \n",
       "159 2022-10-15        0        0.00                     93.367   \n",
       "123 2022-08-07        0        0.00                    101.858   \n",
       "172 2022-10-12        0        0.00                     74.693   \n",
       "16  2022-10-09        0        0.00                     74.693   \n",
       "32  2022-12-31        0        0.00                     84.878   \n",
       "\n",
       "     perc_km_planejada  valor_subsidio_por_km  valor_subsidio  mes_ano  \n",
       "197               2.18                   1.62        263.9952  2022-10  \n",
       "117               1.91                   1.62        230.9958  2022-10  \n",
       "184               1.60                   1.75        225.7675  2022-09  \n",
       "157               1.53                   1.78        253.8102  2022-12  \n",
       "166               1.53                   2.13        419.4183  2022-06  \n",
       "..                 ...                    ...             ...      ...  \n",
       "159               0.00                   1.62          0.0000  2022-10  \n",
       "123               0.00                   1.80          0.0000  2022-08  \n",
       "172               0.00                   1.62          0.0000  2022-10  \n",
       "16                0.00                   1.62          0.0000  2022-10  \n",
       "32                0.00                   1.78          0.0000  2022-12  \n",
       "\n",
       "[214 rows x 8 columns]"
      ]
     },
     "execution_count": 32,
     "metadata": {},
     "output_type": "execute_result"
    }
   ],
   "source": [
    "maiores_perc_pos = subsidio_a_pagar_dia.sort_values(by='perc_km_planejada', ascending=False)\n",
    "maiores_perc_pos"
   ]
  },
  {
   "cell_type": "code",
   "execution_count": 35,
   "metadata": {},
   "outputs": [
    {
     "data": {
      "application/vnd.plotly.v1+json": {
       "config": {
        "plotlyServerURL": "https://plot.ly"
       },
       "data": [
        {
         "error_y": {
          "array": [
           52.354743254688664,
           28.44462655379652,
           25.87637349323298,
           28.741954326484954,
           49.23543530067864,
           25.315321935789076,
           27.526919118002148
          ],
          "color": "dodgerblue",
          "type": "data",
          "visible": true
         },
         "marker": {
          "color": "dodgerblue"
         },
         "mode": "lines+markers",
         "name": "Antes do Reprocessamento",
         "opacity": 0.75,
         "type": "scatter",
         "x": [
          "2022-06",
          "2022-07",
          "2022-08",
          "2022-09",
          "2022-10",
          "2022-11",
          "2022-12"
         ],
         "y": [
          66.32033333333334,
          38.92258064516129,
          40.215806451612906,
          37.998333333333335,
          36.33322580645161,
          30.331666666666667,
          33.29806451612903
         ]
        },
        {
         "error_y": {
          "array": [
           58.086578266520775,
           43.56668353201211,
           40.73016371878634,
           52.01813344302688,
           55.58842611802902,
           45.5762591959767,
           48.23374984029247
          ],
          "color": "crimson",
          "type": "data",
          "visible": true
         },
         "marker": {
          "color": "crimson"
         },
         "mode": "lines+markers",
         "name": "Após Reprocessamento",
         "opacity": 0.75,
         "type": "scatter",
         "x": [
          "2022-06",
          "2022-07",
          "2022-08",
          "2022-09",
          "2022-10",
          "2022-11",
          "2022-12"
         ],
         "y": [
          78.46666666666667,
          61.54838709677419,
          66.70967741935483,
          76.1,
          71.83870967741936,
          61.333333333333336,
          61.806451612903224
         ]
        }
       ],
       "layout": {
        "annotations": [
         {
          "font": {
           "color": "black",
           "size": 14
          },
          "showarrow": false,
          "text": "Valor médio e desvio-padrão mensais do POD",
          "x": -0.065,
          "xanchor": "left",
          "xref": "paper",
          "y": 1.1,
          "yref": "paper"
         },
         {
          "font": {
           "color": "dodgerblue",
           "size": 14
          },
          "showarrow": false,
          "text": "antes do reprocessamento",
          "x": 0.445,
          "xanchor": "left",
          "xref": "paper",
          "y": 1.1,
          "yref": "paper"
         },
         {
          "font": {
           "color": "black",
           "size": 14
          },
          "showarrow": false,
          "text": "e",
          "x": 0.745,
          "xanchor": "left",
          "xref": "paper",
          "y": 1.1,
          "yref": "paper"
         },
         {
          "font": {
           "color": "crimson",
           "size": 14
          },
          "showarrow": false,
          "text": "após o reprocessamento.",
          "x": 0.765,
          "xanchor": "left",
          "xref": "paper",
          "y": 1.1,
          "yref": "paper"
         },
         {
          "showarrow": false,
          "text": "min = 80%",
          "x": 1,
          "xanchor": "right",
          "xref": "x domain",
          "y": 80,
          "yanchor": "bottom",
          "yref": "y"
         }
        ],
        "height": 600,
        "plot_bgcolor": "white",
        "shapes": [
         {
          "type": "line",
          "x0": 0,
          "x1": 1,
          "xref": "x domain",
          "y0": 80,
          "y1": 80,
          "yref": "y"
         }
        ],
        "showlegend": false,
        "template": {
         "data": {
          "bar": [
           {
            "error_x": {
             "color": "#2a3f5f"
            },
            "error_y": {
             "color": "#2a3f5f"
            },
            "marker": {
             "line": {
              "color": "#E5ECF6",
              "width": 0.5
             },
             "pattern": {
              "fillmode": "overlay",
              "size": 10,
              "solidity": 0.2
             }
            },
            "type": "bar"
           }
          ],
          "barpolar": [
           {
            "marker": {
             "line": {
              "color": "#E5ECF6",
              "width": 0.5
             },
             "pattern": {
              "fillmode": "overlay",
              "size": 10,
              "solidity": 0.2
             }
            },
            "type": "barpolar"
           }
          ],
          "carpet": [
           {
            "aaxis": {
             "endlinecolor": "#2a3f5f",
             "gridcolor": "white",
             "linecolor": "white",
             "minorgridcolor": "white",
             "startlinecolor": "#2a3f5f"
            },
            "baxis": {
             "endlinecolor": "#2a3f5f",
             "gridcolor": "white",
             "linecolor": "white",
             "minorgridcolor": "white",
             "startlinecolor": "#2a3f5f"
            },
            "type": "carpet"
           }
          ],
          "choropleth": [
           {
            "colorbar": {
             "outlinewidth": 0,
             "ticks": ""
            },
            "type": "choropleth"
           }
          ],
          "contour": [
           {
            "colorbar": {
             "outlinewidth": 0,
             "ticks": ""
            },
            "colorscale": [
             [
              0,
              "#0d0887"
             ],
             [
              0.1111111111111111,
              "#46039f"
             ],
             [
              0.2222222222222222,
              "#7201a8"
             ],
             [
              0.3333333333333333,
              "#9c179e"
             ],
             [
              0.4444444444444444,
              "#bd3786"
             ],
             [
              0.5555555555555556,
              "#d8576b"
             ],
             [
              0.6666666666666666,
              "#ed7953"
             ],
             [
              0.7777777777777778,
              "#fb9f3a"
             ],
             [
              0.8888888888888888,
              "#fdca26"
             ],
             [
              1,
              "#f0f921"
             ]
            ],
            "type": "contour"
           }
          ],
          "contourcarpet": [
           {
            "colorbar": {
             "outlinewidth": 0,
             "ticks": ""
            },
            "type": "contourcarpet"
           }
          ],
          "heatmap": [
           {
            "colorbar": {
             "outlinewidth": 0,
             "ticks": ""
            },
            "colorscale": [
             [
              0,
              "#0d0887"
             ],
             [
              0.1111111111111111,
              "#46039f"
             ],
             [
              0.2222222222222222,
              "#7201a8"
             ],
             [
              0.3333333333333333,
              "#9c179e"
             ],
             [
              0.4444444444444444,
              "#bd3786"
             ],
             [
              0.5555555555555556,
              "#d8576b"
             ],
             [
              0.6666666666666666,
              "#ed7953"
             ],
             [
              0.7777777777777778,
              "#fb9f3a"
             ],
             [
              0.8888888888888888,
              "#fdca26"
             ],
             [
              1,
              "#f0f921"
             ]
            ],
            "type": "heatmap"
           }
          ],
          "heatmapgl": [
           {
            "colorbar": {
             "outlinewidth": 0,
             "ticks": ""
            },
            "colorscale": [
             [
              0,
              "#0d0887"
             ],
             [
              0.1111111111111111,
              "#46039f"
             ],
             [
              0.2222222222222222,
              "#7201a8"
             ],
             [
              0.3333333333333333,
              "#9c179e"
             ],
             [
              0.4444444444444444,
              "#bd3786"
             ],
             [
              0.5555555555555556,
              "#d8576b"
             ],
             [
              0.6666666666666666,
              "#ed7953"
             ],
             [
              0.7777777777777778,
              "#fb9f3a"
             ],
             [
              0.8888888888888888,
              "#fdca26"
             ],
             [
              1,
              "#f0f921"
             ]
            ],
            "type": "heatmapgl"
           }
          ],
          "histogram": [
           {
            "marker": {
             "pattern": {
              "fillmode": "overlay",
              "size": 10,
              "solidity": 0.2
             }
            },
            "type": "histogram"
           }
          ],
          "histogram2d": [
           {
            "colorbar": {
             "outlinewidth": 0,
             "ticks": ""
            },
            "colorscale": [
             [
              0,
              "#0d0887"
             ],
             [
              0.1111111111111111,
              "#46039f"
             ],
             [
              0.2222222222222222,
              "#7201a8"
             ],
             [
              0.3333333333333333,
              "#9c179e"
             ],
             [
              0.4444444444444444,
              "#bd3786"
             ],
             [
              0.5555555555555556,
              "#d8576b"
             ],
             [
              0.6666666666666666,
              "#ed7953"
             ],
             [
              0.7777777777777778,
              "#fb9f3a"
             ],
             [
              0.8888888888888888,
              "#fdca26"
             ],
             [
              1,
              "#f0f921"
             ]
            ],
            "type": "histogram2d"
           }
          ],
          "histogram2dcontour": [
           {
            "colorbar": {
             "outlinewidth": 0,
             "ticks": ""
            },
            "colorscale": [
             [
              0,
              "#0d0887"
             ],
             [
              0.1111111111111111,
              "#46039f"
             ],
             [
              0.2222222222222222,
              "#7201a8"
             ],
             [
              0.3333333333333333,
              "#9c179e"
             ],
             [
              0.4444444444444444,
              "#bd3786"
             ],
             [
              0.5555555555555556,
              "#d8576b"
             ],
             [
              0.6666666666666666,
              "#ed7953"
             ],
             [
              0.7777777777777778,
              "#fb9f3a"
             ],
             [
              0.8888888888888888,
              "#fdca26"
             ],
             [
              1,
              "#f0f921"
             ]
            ],
            "type": "histogram2dcontour"
           }
          ],
          "mesh3d": [
           {
            "colorbar": {
             "outlinewidth": 0,
             "ticks": ""
            },
            "type": "mesh3d"
           }
          ],
          "parcoords": [
           {
            "line": {
             "colorbar": {
              "outlinewidth": 0,
              "ticks": ""
             }
            },
            "type": "parcoords"
           }
          ],
          "pie": [
           {
            "automargin": true,
            "type": "pie"
           }
          ],
          "scatter": [
           {
            "fillpattern": {
             "fillmode": "overlay",
             "size": 10,
             "solidity": 0.2
            },
            "type": "scatter"
           }
          ],
          "scatter3d": [
           {
            "line": {
             "colorbar": {
              "outlinewidth": 0,
              "ticks": ""
             }
            },
            "marker": {
             "colorbar": {
              "outlinewidth": 0,
              "ticks": ""
             }
            },
            "type": "scatter3d"
           }
          ],
          "scattercarpet": [
           {
            "marker": {
             "colorbar": {
              "outlinewidth": 0,
              "ticks": ""
             }
            },
            "type": "scattercarpet"
           }
          ],
          "scattergeo": [
           {
            "marker": {
             "colorbar": {
              "outlinewidth": 0,
              "ticks": ""
             }
            },
            "type": "scattergeo"
           }
          ],
          "scattergl": [
           {
            "marker": {
             "colorbar": {
              "outlinewidth": 0,
              "ticks": ""
             }
            },
            "type": "scattergl"
           }
          ],
          "scattermapbox": [
           {
            "marker": {
             "colorbar": {
              "outlinewidth": 0,
              "ticks": ""
             }
            },
            "type": "scattermapbox"
           }
          ],
          "scatterpolar": [
           {
            "marker": {
             "colorbar": {
              "outlinewidth": 0,
              "ticks": ""
             }
            },
            "type": "scatterpolar"
           }
          ],
          "scatterpolargl": [
           {
            "marker": {
             "colorbar": {
              "outlinewidth": 0,
              "ticks": ""
             }
            },
            "type": "scatterpolargl"
           }
          ],
          "scatterternary": [
           {
            "marker": {
             "colorbar": {
              "outlinewidth": 0,
              "ticks": ""
             }
            },
            "type": "scatterternary"
           }
          ],
          "surface": [
           {
            "colorbar": {
             "outlinewidth": 0,
             "ticks": ""
            },
            "colorscale": [
             [
              0,
              "#0d0887"
             ],
             [
              0.1111111111111111,
              "#46039f"
             ],
             [
              0.2222222222222222,
              "#7201a8"
             ],
             [
              0.3333333333333333,
              "#9c179e"
             ],
             [
              0.4444444444444444,
              "#bd3786"
             ],
             [
              0.5555555555555556,
              "#d8576b"
             ],
             [
              0.6666666666666666,
              "#ed7953"
             ],
             [
              0.7777777777777778,
              "#fb9f3a"
             ],
             [
              0.8888888888888888,
              "#fdca26"
             ],
             [
              1,
              "#f0f921"
             ]
            ],
            "type": "surface"
           }
          ],
          "table": [
           {
            "cells": {
             "fill": {
              "color": "#EBF0F8"
             },
             "line": {
              "color": "white"
             }
            },
            "header": {
             "fill": {
              "color": "#C8D4E3"
             },
             "line": {
              "color": "white"
             }
            },
            "type": "table"
           }
          ]
         },
         "layout": {
          "annotationdefaults": {
           "arrowcolor": "#2a3f5f",
           "arrowhead": 0,
           "arrowwidth": 1
          },
          "autotypenumbers": "strict",
          "coloraxis": {
           "colorbar": {
            "outlinewidth": 0,
            "ticks": ""
           }
          },
          "colorscale": {
           "diverging": [
            [
             0,
             "#8e0152"
            ],
            [
             0.1,
             "#c51b7d"
            ],
            [
             0.2,
             "#de77ae"
            ],
            [
             0.3,
             "#f1b6da"
            ],
            [
             0.4,
             "#fde0ef"
            ],
            [
             0.5,
             "#f7f7f7"
            ],
            [
             0.6,
             "#e6f5d0"
            ],
            [
             0.7,
             "#b8e186"
            ],
            [
             0.8,
             "#7fbc41"
            ],
            [
             0.9,
             "#4d9221"
            ],
            [
             1,
             "#276419"
            ]
           ],
           "sequential": [
            [
             0,
             "#0d0887"
            ],
            [
             0.1111111111111111,
             "#46039f"
            ],
            [
             0.2222222222222222,
             "#7201a8"
            ],
            [
             0.3333333333333333,
             "#9c179e"
            ],
            [
             0.4444444444444444,
             "#bd3786"
            ],
            [
             0.5555555555555556,
             "#d8576b"
            ],
            [
             0.6666666666666666,
             "#ed7953"
            ],
            [
             0.7777777777777778,
             "#fb9f3a"
            ],
            [
             0.8888888888888888,
             "#fdca26"
            ],
            [
             1,
             "#f0f921"
            ]
           ],
           "sequentialminus": [
            [
             0,
             "#0d0887"
            ],
            [
             0.1111111111111111,
             "#46039f"
            ],
            [
             0.2222222222222222,
             "#7201a8"
            ],
            [
             0.3333333333333333,
             "#9c179e"
            ],
            [
             0.4444444444444444,
             "#bd3786"
            ],
            [
             0.5555555555555556,
             "#d8576b"
            ],
            [
             0.6666666666666666,
             "#ed7953"
            ],
            [
             0.7777777777777778,
             "#fb9f3a"
            ],
            [
             0.8888888888888888,
             "#fdca26"
            ],
            [
             1,
             "#f0f921"
            ]
           ]
          },
          "colorway": [
           "#636efa",
           "#EF553B",
           "#00cc96",
           "#ab63fa",
           "#FFA15A",
           "#19d3f3",
           "#FF6692",
           "#B6E880",
           "#FF97FF",
           "#FECB52"
          ],
          "font": {
           "color": "#2a3f5f"
          },
          "geo": {
           "bgcolor": "white",
           "lakecolor": "white",
           "landcolor": "#E5ECF6",
           "showlakes": true,
           "showland": true,
           "subunitcolor": "white"
          },
          "hoverlabel": {
           "align": "left"
          },
          "hovermode": "closest",
          "mapbox": {
           "style": "light"
          },
          "paper_bgcolor": "white",
          "plot_bgcolor": "#E5ECF6",
          "polar": {
           "angularaxis": {
            "gridcolor": "white",
            "linecolor": "white",
            "ticks": ""
           },
           "bgcolor": "#E5ECF6",
           "radialaxis": {
            "gridcolor": "white",
            "linecolor": "white",
            "ticks": ""
           }
          },
          "scene": {
           "xaxis": {
            "backgroundcolor": "#E5ECF6",
            "gridcolor": "white",
            "gridwidth": 2,
            "linecolor": "white",
            "showbackground": true,
            "ticks": "",
            "zerolinecolor": "white"
           },
           "yaxis": {
            "backgroundcolor": "#E5ECF6",
            "gridcolor": "white",
            "gridwidth": 2,
            "linecolor": "white",
            "showbackground": true,
            "ticks": "",
            "zerolinecolor": "white"
           },
           "zaxis": {
            "backgroundcolor": "#E5ECF6",
            "gridcolor": "white",
            "gridwidth": 2,
            "linecolor": "white",
            "showbackground": true,
            "ticks": "",
            "zerolinecolor": "white"
           }
          },
          "shapedefaults": {
           "line": {
            "color": "#2a3f5f"
           }
          },
          "ternary": {
           "aaxis": {
            "gridcolor": "white",
            "linecolor": "white",
            "ticks": ""
           },
           "baxis": {
            "gridcolor": "white",
            "linecolor": "white",
            "ticks": ""
           },
           "bgcolor": "#E5ECF6",
           "caxis": {
            "gridcolor": "white",
            "linecolor": "white",
            "ticks": ""
           }
          },
          "title": {
           "x": 0.05
          },
          "xaxis": {
           "automargin": true,
           "gridcolor": "white",
           "linecolor": "white",
           "ticks": "",
           "title": {
            "standoff": 15
           },
           "zerolinecolor": "white",
           "zerolinewidth": 2
          },
          "yaxis": {
           "automargin": true,
           "gridcolor": "white",
           "linecolor": "white",
           "ticks": "",
           "title": {
            "standoff": 15
           },
           "zerolinecolor": "white",
           "zerolinewidth": 2
          }
         }
        },
        "title": {
         "font": {
          "color": "black"
         },
         "text": "Percentual de Operação Diária (POD) por mês - Serviço: 844"
        },
        "width": 800,
        "xaxis": {
         "showgrid": false,
         "zeroline": false
        },
        "yaxis": {
         "range": [
          0,
          230
         ],
         "showgrid": false,
         "ticksuffix": "%",
         "zeroline": false
        }
       }
      }
     },
     "metadata": {},
     "output_type": "display_data"
    }
   ],
   "source": [
    "# Criar o gráfico de linha\n",
    "fig = go.Figure()\n",
    "\n",
    "# Adicionar a linha com pontos e desvio padrão para pod_pre_reprocessamento\n",
    "fig.add_trace(go.Scatter(x=media_pre.index, y=media_pre.values,\n",
    "                    mode='lines+markers',\n",
    "                    name='Antes do Reprocessamento',\n",
    "                    marker=dict(color='dodgerblue'),\n",
    "                    opacity=0.75,\n",
    "                    error_y=dict(type='data', array=std_pre, visible=True, color='dodgerblue')  # Corrigindo a cor aqui\n",
    "))\n",
    "\n",
    "# Adicionar a linha com pontos e desvio padrão para pod_pos_reprocessamento\n",
    "fig.add_trace(go.Scatter(x=media_pos.index, y=media_pos.values,\n",
    "                    mode='lines+markers',\n",
    "                    name='Após Reprocessamento',\n",
    "                    marker=dict(color='crimson'),\n",
    "                    opacity=0.75,\n",
    "                    error_y=dict(type='data', array=std_pos, visible=True, color='crimson')  # Corrigindo a cor aqui\n",
    "))\n",
    "\n",
    "# Configurar layout e outros parâmetros do gráfico\n",
    "fig.update_layout(\n",
    "    title=dict(text=\"Percentual de Operação Diária (POD) por mês - Serviço: 844\", font=dict(color='black')),\n",
    "    showlegend=False,\n",
    "    yaxis_range=[0, 230],\n",
    "    yaxis_ticksuffix=\"%\",\n",
    "    width=800,\n",
    "    height=600,\n",
    "    plot_bgcolor='white',\n",
    "    xaxis=dict(showgrid=False, zeroline=False),\n",
    "    yaxis=dict(showgrid=False, zeroline=False),\n",
    "    # Adicionando anotações para o subtítulo com cores específicas\n",
    "    annotations=[\n",
    "        dict(\n",
    "            x=-0.065,\n",
    "            y=1.10,\n",
    "            xref='paper',\n",
    "            yref='paper',\n",
    "            xanchor='left',\n",
    "            text='Valor médio e desvio-padrão mensais do POD',\n",
    "            showarrow=False,\n",
    "            font=dict(color='black', size=14)  # Aplicando a cor do título\n",
    "        ),\n",
    "        dict(\n",
    "            x=0.445,\n",
    "            y=1.10,\n",
    "            xref='paper',\n",
    "            yref='paper',\n",
    "            xanchor='left',\n",
    "            text='antes do reprocessamento',\n",
    "            showarrow=False,\n",
    "            font=dict(color='dodgerblue', size=14)\n",
    "        ),\n",
    "        dict(\n",
    "            x=0.745,\n",
    "            y=1.10,\n",
    "            xref='paper',\n",
    "            yref='paper',\n",
    "            xanchor='left',\n",
    "            text='e',\n",
    "            showarrow=False,\n",
    "            font=dict(color='black', size=14)  # Aplicando a cor do título\n",
    "        ),\n",
    "        dict(\n",
    "            x=0.765,\n",
    "            y=1.10,\n",
    "            xref='paper',\n",
    "            yref='paper',\n",
    "            xanchor='left',\n",
    "            text='após o reprocessamento.',\n",
    "            showarrow=False,\n",
    "            font=dict(color='crimson', size=14)\n",
    "        )\n",
    "    ]\n",
    ")\n",
    "\n",
    "# Adicionar linha horizontal para indicar o mínimo de 80%\n",
    "fig.add_hline(y=80, annotation_text=\"min = 80%\")\n",
    "\n",
    "fig.show()"
   ]
  },
  {
   "cell_type": "markdown",
   "metadata": {},
   "source": [
    "### 4. Exportar planilha com dados"
   ]
  },
  {
   "cell_type": "markdown",
   "metadata": {},
   "source": [
    "Exportar planilha resumo com valores a pagar antes e depois, assim como a km identificada na planilha de viagens completas."
   ]
  },
  {
   "cell_type": "code",
   "execution_count": 23,
   "metadata": {},
   "outputs": [],
   "source": [
    "km_mes_ano_soma = km_mes_ano[['distancia_total', 'distancia_total_reprocessada']].sum()\n",
    "km_mes_ano_soma = km_mes_ano_soma.to_frame().T\n",
    "\n",
    "km_mes_ano_soma = km_mes_ano_soma.rename(columns={\n",
    "    'distancia_total': 'distancia_total_pre',\n",
    "    'distancia_total_reprocessada': 'distancia_total_pos'\n",
    "})\n",
    "km_mes_ano_soma\n",
    "\n",
    "\n",
    "tabela_subsidio_mes_soma = tabela_subsidio_mes[['viagens_pre', 'viagens_pos','valor_subsidio_pre', 'valor_subsidio_pos']].sum()\n",
    "tabela_subsidio_mes_soma = tabela_subsidio_mes_soma.to_frame().T\n",
    "tabela_subsidio_mes_soma\n",
    "\n",
    "km_mes_ano_soma['key'] = 1\n",
    "tabela_subsidio_mes_soma['key'] = 1\n",
    "\n",
    "tabela_comparacao_exportar = km_mes_ano_soma.merge(tabela_subsidio_mes_soma, on='key', how='left').drop('key', axis=1)\n",
    "\n",
    "tabela_comparacao_exportar\n",
    "tabela_comparacao_exportar.to_excel(\"data/output/comparacao_pre_pos_reprocessamento_884.xlsx\", index=False, engine='openpyxl')"
   ]
  }
 ],
 "metadata": {
  "kernelspec": {
   "display_name": "env",
   "language": "python",
   "name": "python3"
  },
  "language_info": {
   "codemirror_mode": {
    "name": "ipython",
    "version": 3
   },
   "file_extension": ".py",
   "mimetype": "text/x-python",
   "name": "python",
   "nbconvert_exporter": "python",
   "pygments_lexer": "ipython3",
   "version": "3.9.0"
  },
  "orig_nbformat": 4
 },
 "nbformat": 4,
 "nbformat_minor": 2
}
