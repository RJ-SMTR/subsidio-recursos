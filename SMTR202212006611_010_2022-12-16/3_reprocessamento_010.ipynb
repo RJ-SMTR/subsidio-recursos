{
 "cells": [
  {
   "cell_type": "markdown",
   "metadata": {},
   "source": [
    "# Métricas do reprocessamento\n",
    "\n",
    "Código feito por Igor Laltuf, ago/23\n",
    "\n",
    "---"
   ]
  },
  {
   "cell_type": "markdown",
   "metadata": {},
   "source": [
    "## Objetivo\n",
    "\n",
    "Analisar o impacto do reprocessamento das viagens da linha 010 entre 01/06/2022 até 31/05/2023\n",
    "\n",
    "## Etapas\n",
    "Comparar valores pré e pós reprocessamento segundo as seguintes variáveis:\n",
    "- A quantidade de viagens completas\n",
    "- Quilometragem total de viagens completas\n",
    "- Valor do subsídio a ser pago\n",
    "- Explicações pontuais sobre os resultados encontrados\n",
    "\n",
    "## Conclusão\n",
    "\n",
    "Sobre o período entre 01/06/2022 e 31/05/2023:\n",
    "\n",
    "1) A linha 010 não teve viagens planejadas no mês de junho de 2022.\n",
    "\n",
    "2) A quilometragem total das viagens completas aumentou de 66.790,1 km para 81.485,2 km, um aumento de 22% após o reprocessamento.\n",
    "\n",
    "3) A quantidade de viagens identificadas aumentou de 6.414 para 15.670 viagens.\n",
    "\n",
    "4) O valor do subsídio antes do reprocessamento era de R$ 100.756,68 e após o reprocessamento foi de R$ 135.630,25.\n",
    "\n",
    "5) Foi identificada uma inconsistência em abril e maio de 2023, em que foram indentificadas mais viagens, mas o POD diário diminuiu, resultando em um pagamento de subsídio menor em relação ao valor do pré-reprocessamento.\n"
   ]
  },
  {
   "cell_type": "markdown",
   "metadata": {},
   "source": [
    "### Carregar bibliotecas"
   ]
  },
  {
   "cell_type": "code",
   "execution_count": 167,
   "metadata": {},
   "outputs": [],
   "source": [
    "#!pip install matplotlib\n",
    "import basedosdados as bd\n",
    "import pandas as pd\n",
    "import numpy as np\n",
    "import plotly.express as px\n",
    "import matplotlib.pyplot as plt\n",
    "\n",
    "import folium\n",
    "from datetime import timedelta, datetime\n",
    "from shapely import wkt\n",
    "\n",
    "# Paths\n",
    "import os\n",
    "import sys\n",
    "from pathlib import Path \n",
    "\n",
    "current_path = Path().resolve()\n",
    "\n",
    "paths = dict()\n",
    "paths[\"raw\"] = current_path / 'data' / 'raw'\n",
    "paths[\"treated\"] = current_path / 'data' / 'treated'\n",
    "\n",
    "for path in paths.values():\n",
    "    if not os.path.exists(path):\n",
    "        os.makedirs(path)\n",
    "\n",
    "# Seta o projeto a ser cobrado\n",
    "bd.config.billing_project_id = \"rj-smtr-dev\"\n",
    "\n",
    "# Seta as configurações a serem usadas\n",
    "bd.config.project_config_path = \"C:/Users/igorl/.basedosdados/\"\n",
    "# bd.config.project_config_path = \"D:\\\\basedosdados\\\\dev\""
   ]
  },
  {
   "cell_type": "markdown",
   "metadata": {},
   "source": [
    "### 1. Comparar a variação na km após o reprocessamento"
   ]
  },
  {
   "cell_type": "code",
   "execution_count": 168,
   "metadata": {},
   "outputs": [
    {
     "name": "stderr",
     "output_type": "stream",
     "text": [
      "Downloading: 100%|██████████| 11/11 [00:00<00:00, 34.37rows/s]\n"
     ]
    }
   ],
   "source": [
    "q = f\"\"\"\n",
    "SELECT\n",
    "  FORMAT_DATETIME('%Y-%m', DATA) AS mes_ano,\n",
    "  SUM(ROUND(distancia_planejada,2)) AS distancia_total\n",
    "FROM\n",
    "  `rj-smtr.projeto_subsidio_sppo.viagem_completa`\n",
    "WHERE\n",
    "  DATA BETWEEN \"2022-06-01\"\n",
    "  AND \"2023-05-31\"\n",
    "  AND servico_informado = \"010\"\n",
    "GROUP BY\n",
    "  mes_ano\n",
    "\"\"\"\n",
    "\n",
    "viagens_realizadas_010 = bd.read_sql(q, from_file=True)\n",
    "\n",
    "viagens_realizadas_010.to_csv('data/treated/viagens_realizadas_010_jun_22-maio_23.csv', index=False)"
   ]
  },
  {
   "cell_type": "code",
   "execution_count": 169,
   "metadata": {},
   "outputs": [
    {
     "name": "stderr",
     "output_type": "stream",
     "text": [
      "Downloading: 100%|██████████| 11/11 [00:01<00:00, 10.10rows/s]\n"
     ]
    }
   ],
   "source": [
    "q = f\"\"\"\n",
    "SELECT\n",
    "  FORMAT_DATETIME('%Y-%m', DATA) AS mes_ano,\n",
    "  SUM(ROUND(distancia_planejada,2)) AS distancia_total\n",
    "FROM\n",
    "  `rj-smtr-dev.SMTR202212006611_reprocessamento.viagem_completa`\n",
    "WHERE\n",
    "  DATA BETWEEN \"2022-06-01\"\n",
    "  AND \"2023-05-31\"\n",
    "GROUP BY\n",
    "  mes_ano\n",
    "\"\"\"\n",
    "viagens_reprocessadas_010 = bd.read_sql(q, from_file=True)\n",
    "\n",
    "viagens_reprocessadas_010.to_csv('data/treated/viagens_reprocessadas_010_jun_22-maio_23.csv', index=False)"
   ]
  },
  {
   "cell_type": "markdown",
   "metadata": {},
   "source": [
    "Não existem viagens planejadas para a linha 010 no mês de junho de 2022."
   ]
  },
  {
   "cell_type": "code",
   "execution_count": 170,
   "metadata": {},
   "outputs": [
    {
     "name": "stderr",
     "output_type": "stream",
     "text": [
      "Downloading: 100%|██████████| 1/1 [00:02<00:00,  2.63s/rows]\n"
     ]
    },
    {
     "data": {
      "text/html": [
       "<div>\n",
       "<style scoped>\n",
       "    .dataframe tbody tr th:only-of-type {\n",
       "        vertical-align: middle;\n",
       "    }\n",
       "\n",
       "    .dataframe tbody tr th {\n",
       "        vertical-align: top;\n",
       "    }\n",
       "\n",
       "    .dataframe thead th {\n",
       "        text-align: right;\n",
       "    }\n",
       "</style>\n",
       "<table border=\"1\" class=\"dataframe\">\n",
       "  <thead>\n",
       "    <tr style=\"text-align: right;\">\n",
       "      <th></th>\n",
       "      <th>total_linhas</th>\n",
       "    </tr>\n",
       "  </thead>\n",
       "  <tbody>\n",
       "    <tr>\n",
       "      <th>0</th>\n",
       "      <td>0</td>\n",
       "    </tr>\n",
       "  </tbody>\n",
       "</table>\n",
       "</div>"
      ],
      "text/plain": [
       "   total_linhas\n",
       "0             0"
      ]
     },
     "execution_count": 170,
     "metadata": {},
     "output_type": "execute_result"
    }
   ],
   "source": [
    "q = f\"\"\"\n",
    "SELECT\n",
    "  COUNT(*) AS total_linhas\n",
    "FROM\n",
    "  `rj-smtr.projeto_subsidio_sppo.viagem_planejada`\n",
    "WHERE\n",
    "  DATA BETWEEN \"2022-06-01\"\n",
    "  AND \"2022-06-30\"\n",
    "  AND servico = '010'\n",
    "\"\"\"\n",
    "viagens_planejadas_jun_2022_010 = bd.read_sql(q, from_file=True)\n",
    "\n",
    "viagens_planejadas_jun_2022_010"
   ]
  },
  {
   "cell_type": "code",
   "execution_count": 171,
   "metadata": {},
   "outputs": [
    {
     "data": {
      "text/html": [
       "<div>\n",
       "<style scoped>\n",
       "    .dataframe tbody tr th:only-of-type {\n",
       "        vertical-align: middle;\n",
       "    }\n",
       "\n",
       "    .dataframe tbody tr th {\n",
       "        vertical-align: top;\n",
       "    }\n",
       "\n",
       "    .dataframe thead th {\n",
       "        text-align: right;\n",
       "    }\n",
       "</style>\n",
       "<table border=\"1\" class=\"dataframe\">\n",
       "  <thead>\n",
       "    <tr style=\"text-align: right;\">\n",
       "      <th></th>\n",
       "      <th>mes_ano</th>\n",
       "      <th>distancia_total</th>\n",
       "      <th>distancia_total_reprocessada</th>\n",
       "    </tr>\n",
       "  </thead>\n",
       "  <tbody>\n",
       "    <tr>\n",
       "      <th>9</th>\n",
       "      <td>2022-07</td>\n",
       "      <td>4235.04</td>\n",
       "      <td>4965.7</td>\n",
       "    </tr>\n",
       "    <tr>\n",
       "      <th>6</th>\n",
       "      <td>2022-08</td>\n",
       "      <td>6825.10</td>\n",
       "      <td>8751.9</td>\n",
       "    </tr>\n",
       "    <tr>\n",
       "      <th>8</th>\n",
       "      <td>2022-09</td>\n",
       "      <td>6408.30</td>\n",
       "      <td>7929.1</td>\n",
       "    </tr>\n",
       "    <tr>\n",
       "      <th>5</th>\n",
       "      <td>2022-10</td>\n",
       "      <td>7356.52</td>\n",
       "      <td>8211.1</td>\n",
       "    </tr>\n",
       "    <tr>\n",
       "      <th>3</th>\n",
       "      <td>2022-11</td>\n",
       "      <td>6658.38</td>\n",
       "      <td>7626.3</td>\n",
       "    </tr>\n",
       "    <tr>\n",
       "      <th>10</th>\n",
       "      <td>2022-12</td>\n",
       "      <td>6793.84</td>\n",
       "      <td>7546.7</td>\n",
       "    </tr>\n",
       "    <tr>\n",
       "      <th>1</th>\n",
       "      <td>2023-01</td>\n",
       "      <td>5933.70</td>\n",
       "      <td>7790.8</td>\n",
       "    </tr>\n",
       "    <tr>\n",
       "      <th>4</th>\n",
       "      <td>2023-02</td>\n",
       "      <td>3747.60</td>\n",
       "      <td>4716.6</td>\n",
       "    </tr>\n",
       "    <tr>\n",
       "      <th>0</th>\n",
       "      <td>2023-03</td>\n",
       "      <td>6412.56</td>\n",
       "      <td>8070.4</td>\n",
       "    </tr>\n",
       "    <tr>\n",
       "      <th>2</th>\n",
       "      <td>2023-04</td>\n",
       "      <td>5860.83</td>\n",
       "      <td>7484.4</td>\n",
       "    </tr>\n",
       "    <tr>\n",
       "      <th>7</th>\n",
       "      <td>2023-05</td>\n",
       "      <td>6558.30</td>\n",
       "      <td>8392.2</td>\n",
       "    </tr>\n",
       "  </tbody>\n",
       "</table>\n",
       "</div>"
      ],
      "text/plain": [
       "    mes_ano  distancia_total  distancia_total_reprocessada\n",
       "9   2022-07          4235.04                        4965.7\n",
       "6   2022-08          6825.10                        8751.9\n",
       "8   2022-09          6408.30                        7929.1\n",
       "5   2022-10          7356.52                        8211.1\n",
       "3   2022-11          6658.38                        7626.3\n",
       "10  2022-12          6793.84                        7546.7\n",
       "1   2023-01          5933.70                        7790.8\n",
       "4   2023-02          3747.60                        4716.6\n",
       "0   2023-03          6412.56                        8070.4\n",
       "2   2023-04          5860.83                        7484.4\n",
       "7   2023-05          6558.30                        8392.2"
      ]
     },
     "execution_count": 171,
     "metadata": {},
     "output_type": "execute_result"
    }
   ],
   "source": [
    "viagens_reprocessadas_010 = pd.read_csv('data/treated/viagens_reprocessadas_010_jun_22-maio_23.csv')\n",
    "viagens_realizadas_010 = pd.read_csv('data/treated/viagens_realizadas_010_jun_22-maio_23.csv')\n",
    "\n",
    "km_mes_ano = pd.merge(viagens_realizadas_010, viagens_reprocessadas_010, how = 'left', on='mes_ano', suffixes=['','_reprocessada'])\n",
    "km_mes_ano = km_mes_ano.sort_values('mes_ano')\n",
    "km_mes_ano"
   ]
  },
  {
   "cell_type": "code",
   "execution_count": 172,
   "metadata": {},
   "outputs": [
    {
     "name": "stdout",
     "output_type": "stream",
     "text": [
      "Comparação da quilometragem das viagens completas\n",
      "Valor total da km pré-reprocessamento: 66790.16999999998\n",
      "Valor total da km pós-reprocessamento: 81485.2\n",
      "Aumento de  22.0 %\n"
     ]
    }
   ],
   "source": [
    "distancia_total_pre_reprocessamento = km_mes_ano['distancia_total'].sum()\n",
    "distancia_total_pos_reprocessamento = km_mes_ano['distancia_total_reprocessada'].sum()\n",
    "print(\"Comparação da quilometragem das viagens completas\")\n",
    "print(\"Valor total da km pré-reprocessamento:\", distancia_total_pre_reprocessamento)\n",
    "print(\"Valor total da km pós-reprocessamento:\", distancia_total_pos_reprocessamento)\n",
    "print(\"Aumento de \",round((distancia_total_pos_reprocessamento / distancia_total_pre_reprocessamento - 1) * 100, 2),\"%\")"
   ]
  },
  {
   "cell_type": "code",
   "execution_count": 173,
   "metadata": {},
   "outputs": [
    {
     "data": {
      "image/png": "[encoded data removed]",
      "text/plain": [
       "<Figure size 1200x700 with 1 Axes>"
      ]
     },
     "metadata": {},
     "output_type": "display_data"
    }
   ],
   "source": [
    "# Definindo o tamanho da figura\n",
    "plt.figure(figsize=(12, 7))\n",
    "\n",
    "# Plotando as duas séries de dados\n",
    "plt.plot(km_mes_ano['mes_ano'], km_mes_ano['distancia_total'], \n",
    "         color='dodgerblue', marker='o', label='Km pré-reprocessamento')\n",
    "plt.plot(km_mes_ano['mes_ano'], km_mes_ano['distancia_total_reprocessada'], \n",
    "         color='crimson', marker='o', label='Km reprocessada')\n",
    "\n",
    "# Título, legendas e rótulos\n",
    "plt.title('Comparação entre pré e pós reprocessamento da quilometragem das viagens realizadas da linha 010 entre jun-22 e maio-23', \n",
    "          fontsize=14, fontweight='bold', pad=20)\n",
    "plt.xlabel('Mês/Ano', fontsize=12)\n",
    "plt.ylabel('Quilômetros', fontsize=12)\n",
    "plt.xticks(rotation=45)\n",
    "plt.legend(frameon=False, fontsize=11)  # frameon=False remove a caixa em torno da legenda\n",
    "\n",
    "# Remover o fundo e as bordas\n",
    "ax = plt.gca()\n",
    "ax.set_facecolor('none')\n",
    "ax.spines['top'].set_visible(False)\n",
    "ax.spines['right'].set_visible(False)\n",
    "ax.spines['bottom'].set_visible(False)\n",
    "ax.spines['left'].set_visible(False)\n",
    "ax.grid(False)  # Remove a grade\n",
    "\n",
    "# Exibir o gráfico\n",
    "plt.tight_layout()\n",
    "plt.show()"
   ]
  },
  {
   "cell_type": "markdown",
   "metadata": {},
   "source": [
    "### 2. Comparar a variação no valor do subsídio após o reprocessamento"
   ]
  },
  {
   "cell_type": "markdown",
   "metadata": {},
   "source": [
    "2.1 Valor recebido pelos consórcios antes do reprocessamento"
   ]
  },
  {
   "cell_type": "code",
   "execution_count": null,
   "metadata": {},
   "outputs": [],
   "source": [
    "q = f\"\"\"\n",
    "SELECT\n",
    "  CONCAT(CAST(EXTRACT(YEAR FROM DATA) AS STRING), '-', LPAD(CAST(EXTRACT(MONTH FROM DATA) AS STRING), 2, '0')) AS mes_ano,\n",
    "  SUM(viagens) as viagens,\n",
    "  \n",
    "  SUM(valor_subsidio_pago) AS valor_subsidio\n",
    "FROM\n",
    "  `rj-smtr.dashboard_subsidio_sppo.sumario_servico_dia_historico`\n",
    "WHERE\n",
    "  servico = '010'\n",
    "  AND DATA BETWEEN '2022-06-01' AND '2023-05-31'\n",
    "GROUP BY\n",
    "  mes_ano\n",
    "\"\"\"\n",
    "subsidio_pago_mes = bd.read_sql(q, from_file=True)\n"
   ]
  },
  {
   "cell_type": "code",
   "execution_count": 193,
   "metadata": {},
   "outputs": [
    {
     "data": {
      "text/html": [
       "<div>\n",
       "<style scoped>\n",
       "    .dataframe tbody tr th:only-of-type {\n",
       "        vertical-align: middle;\n",
       "    }\n",
       "\n",
       "    .dataframe tbody tr th {\n",
       "        vertical-align: top;\n",
       "    }\n",
       "\n",
       "    .dataframe thead th {\n",
       "        text-align: right;\n",
       "    }\n",
       "</style>\n",
       "<table border=\"1\" class=\"dataframe\">\n",
       "  <thead>\n",
       "    <tr style=\"text-align: right;\">\n",
       "      <th></th>\n",
       "      <th>mes_ano</th>\n",
       "      <th>viagens</th>\n",
       "      <th>valor_subsidio</th>\n",
       "    </tr>\n",
       "  </thead>\n",
       "  <tbody>\n",
       "    <tr>\n",
       "      <th>5</th>\n",
       "      <td>2022-07</td>\n",
       "      <td>408</td>\n",
       "      <td>4433.15</td>\n",
       "    </tr>\n",
       "    <tr>\n",
       "      <th>0</th>\n",
       "      <td>2022-08</td>\n",
       "      <td>655</td>\n",
       "      <td>9864.75</td>\n",
       "    </tr>\n",
       "    <tr>\n",
       "      <th>7</th>\n",
       "      <td>2022-09</td>\n",
       "      <td>615</td>\n",
       "      <td>9426.57</td>\n",
       "    </tr>\n",
       "    <tr>\n",
       "      <th>2</th>\n",
       "      <td>2022-10</td>\n",
       "      <td>706</td>\n",
       "      <td>11781.44</td>\n",
       "    </tr>\n",
       "    <tr>\n",
       "      <th>3</th>\n",
       "      <td>2022-11</td>\n",
       "      <td>639</td>\n",
       "      <td>9692.20</td>\n",
       "    </tr>\n",
       "    <tr>\n",
       "      <th>10</th>\n",
       "      <td>2022-12</td>\n",
       "      <td>652</td>\n",
       "      <td>11609.69</td>\n",
       "    </tr>\n",
       "    <tr>\n",
       "      <th>6</th>\n",
       "      <td>2023-01</td>\n",
       "      <td>570</td>\n",
       "      <td>8479.80</td>\n",
       "    </tr>\n",
       "    <tr>\n",
       "      <th>4</th>\n",
       "      <td>2023-02</td>\n",
       "      <td>360</td>\n",
       "      <td>5175.60</td>\n",
       "    </tr>\n",
       "    <tr>\n",
       "      <th>8</th>\n",
       "      <td>2023-03</td>\n",
       "      <td>616</td>\n",
       "      <td>9824.87</td>\n",
       "    </tr>\n",
       "    <tr>\n",
       "      <th>1</th>\n",
       "      <td>2023-04</td>\n",
       "      <td>563</td>\n",
       "      <td>10526.68</td>\n",
       "    </tr>\n",
       "    <tr>\n",
       "      <th>9</th>\n",
       "      <td>2023-05</td>\n",
       "      <td>630</td>\n",
       "      <td>9941.93</td>\n",
       "    </tr>\n",
       "  </tbody>\n",
       "</table>\n",
       "</div>"
      ],
      "text/plain": [
       "    mes_ano  viagens  valor_subsidio\n",
       "5   2022-07      408         4433.15\n",
       "0   2022-08      655         9864.75\n",
       "7   2022-09      615         9426.57\n",
       "2   2022-10      706        11781.44\n",
       "3   2022-11      639         9692.20\n",
       "10  2022-12      652        11609.69\n",
       "6   2023-01      570         8479.80\n",
       "4   2023-02      360         5175.60\n",
       "8   2023-03      616         9824.87\n",
       "1   2023-04      563        10526.68\n",
       "9   2023-05      630         9941.93"
      ]
     },
     "execution_count": 193,
     "metadata": {},
     "output_type": "execute_result"
    }
   ],
   "source": [
    "subsidio_pago_mes = subsidio_pago_mes.sort_values('mes_ano')\n",
    "subsidio_pago_mes = subsidio_pago_mes[['mes_ano', 'viagens', 'valor_subsidio']]\n",
    "subsidio_pago_mes"
   ]
  },
  {
   "cell_type": "markdown",
   "metadata": {},
   "source": [
    "2.2 Valor que deve ser pago após o reprocessamento"
   ]
  },
  {
   "cell_type": "markdown",
   "metadata": {},
   "source": [
    "Com base nas viagens identificadas na tabela de viagem completa que foi reprocessada, foram verificados aqueles dias em que POD >= 80%, para então calcular o valor do subsídio de acordo com os valores por km da tabela `subsidio_data_versao_efetiva` que também está no dataset `rj-smtr-dev.SMTR202212006611_reprocessamento`.\n",
    "\n",
    "Vale destacar que esta tabela exclui as glosas de 2023 do valor do subsídio por km (ex: considera 2.81 por km após 16 de janeiro de 2023). \n",
    "\n",
    "Também não inclui o valor das penalidades."
   ]
  },
  {
   "cell_type": "code",
   "execution_count": 176,
   "metadata": {},
   "outputs": [
    {
     "name": "stderr",
     "output_type": "stream",
     "text": [
      "Downloading: 100%|██████████| 378/378 [00:00<00:00, 959.39rows/s]\n"
     ]
    },
    {
     "data": {
      "text/html": [
       "<div>\n",
       "<style scoped>\n",
       "    .dataframe tbody tr th:only-of-type {\n",
       "        vertical-align: middle;\n",
       "    }\n",
       "\n",
       "    .dataframe tbody tr th {\n",
       "        vertical-align: top;\n",
       "    }\n",
       "\n",
       "    .dataframe thead th {\n",
       "        text-align: right;\n",
       "    }\n",
       "</style>\n",
       "<table border=\"1\" class=\"dataframe\">\n",
       "  <thead>\n",
       "    <tr style=\"text-align: right;\">\n",
       "      <th></th>\n",
       "      <th>DATA</th>\n",
       "      <th>viagens</th>\n",
       "      <th>km_apurada</th>\n",
       "      <th>distancia_total_planejada</th>\n",
       "      <th>perc_km_planejada</th>\n",
       "      <th>valor_subsidio_por_km</th>\n",
       "      <th>valor_subsidio</th>\n",
       "    </tr>\n",
       "  </thead>\n",
       "  <tbody>\n",
       "    <tr>\n",
       "      <th>372</th>\n",
       "      <td>2022-07-01</td>\n",
       "      <td>0</td>\n",
       "      <td>0.000</td>\n",
       "      <td>290.777</td>\n",
       "      <td>0.00</td>\n",
       "      <td>1.84</td>\n",
       "      <td>0.0</td>\n",
       "    </tr>\n",
       "    <tr>\n",
       "      <th>26</th>\n",
       "      <td>2022-07-02</td>\n",
       "      <td>0</td>\n",
       "      <td>0.000</td>\n",
       "      <td>181.736</td>\n",
       "      <td>0.00</td>\n",
       "      <td>1.84</td>\n",
       "      <td>0.0</td>\n",
       "    </tr>\n",
       "    <tr>\n",
       "      <th>7</th>\n",
       "      <td>2022-07-03</td>\n",
       "      <td>0</td>\n",
       "      <td>0.000</td>\n",
       "      <td>145.388</td>\n",
       "      <td>0.00</td>\n",
       "      <td>1.84</td>\n",
       "      <td>0.0</td>\n",
       "    </tr>\n",
       "    <tr>\n",
       "      <th>68</th>\n",
       "      <td>2022-07-04</td>\n",
       "      <td>0</td>\n",
       "      <td>0.000</td>\n",
       "      <td>290.777</td>\n",
       "      <td>0.00</td>\n",
       "      <td>1.84</td>\n",
       "      <td>0.0</td>\n",
       "    </tr>\n",
       "    <tr>\n",
       "      <th>155</th>\n",
       "      <td>2022-07-05</td>\n",
       "      <td>0</td>\n",
       "      <td>0.000</td>\n",
       "      <td>290.777</td>\n",
       "      <td>0.00</td>\n",
       "      <td>1.84</td>\n",
       "      <td>0.0</td>\n",
       "    </tr>\n",
       "    <tr>\n",
       "      <th>...</th>\n",
       "      <td>...</td>\n",
       "      <td>...</td>\n",
       "      <td>...</td>\n",
       "      <td>...</td>\n",
       "      <td>...</td>\n",
       "      <td>...</td>\n",
       "      <td>...</td>\n",
       "    </tr>\n",
       "    <tr>\n",
       "      <th>29</th>\n",
       "      <td>2023-05-29</td>\n",
       "      <td>28</td>\n",
       "      <td>145.698</td>\n",
       "      <td>312.180</td>\n",
       "      <td>0.47</td>\n",
       "      <td>2.81</td>\n",
       "      <td>0.0</td>\n",
       "    </tr>\n",
       "    <tr>\n",
       "      <th>239</th>\n",
       "      <td>2023-05-30</td>\n",
       "      <td>32</td>\n",
       "      <td>166.512</td>\n",
       "      <td>312.180</td>\n",
       "      <td>0.53</td>\n",
       "      <td>2.81</td>\n",
       "      <td>0.0</td>\n",
       "    </tr>\n",
       "    <tr>\n",
       "      <th>240</th>\n",
       "      <td>2023-05-30</td>\n",
       "      <td>32</td>\n",
       "      <td>166.512</td>\n",
       "      <td>312.180</td>\n",
       "      <td>0.53</td>\n",
       "      <td>2.81</td>\n",
       "      <td>0.0</td>\n",
       "    </tr>\n",
       "    <tr>\n",
       "      <th>137</th>\n",
       "      <td>2023-05-31</td>\n",
       "      <td>32</td>\n",
       "      <td>166.512</td>\n",
       "      <td>312.180</td>\n",
       "      <td>0.53</td>\n",
       "      <td>2.81</td>\n",
       "      <td>0.0</td>\n",
       "    </tr>\n",
       "    <tr>\n",
       "      <th>138</th>\n",
       "      <td>2023-05-31</td>\n",
       "      <td>32</td>\n",
       "      <td>166.512</td>\n",
       "      <td>312.180</td>\n",
       "      <td>0.53</td>\n",
       "      <td>2.81</td>\n",
       "      <td>0.0</td>\n",
       "    </tr>\n",
       "  </tbody>\n",
       "</table>\n",
       "<p>378 rows × 7 columns</p>\n",
       "</div>"
      ],
      "text/plain": [
       "           DATA  viagens  km_apurada  distancia_total_planejada  \\\n",
       "372  2022-07-01        0       0.000                    290.777   \n",
       "26   2022-07-02        0       0.000                    181.736   \n",
       "7    2022-07-03        0       0.000                    145.388   \n",
       "68   2022-07-04        0       0.000                    290.777   \n",
       "155  2022-07-05        0       0.000                    290.777   \n",
       "..          ...      ...         ...                        ...   \n",
       "29   2023-05-29       28     145.698                    312.180   \n",
       "239  2023-05-30       32     166.512                    312.180   \n",
       "240  2023-05-30       32     166.512                    312.180   \n",
       "137  2023-05-31       32     166.512                    312.180   \n",
       "138  2023-05-31       32     166.512                    312.180   \n",
       "\n",
       "     perc_km_planejada  valor_subsidio_por_km  valor_subsidio  \n",
       "372               0.00                   1.84             0.0  \n",
       "26                0.00                   1.84             0.0  \n",
       "7                 0.00                   1.84             0.0  \n",
       "68                0.00                   1.84             0.0  \n",
       "155               0.00                   1.84             0.0  \n",
       "..                 ...                    ...             ...  \n",
       "29                0.47                   2.81             0.0  \n",
       "239               0.53                   2.81             0.0  \n",
       "240               0.53                   2.81             0.0  \n",
       "137               0.53                   2.81             0.0  \n",
       "138               0.53                   2.81             0.0  \n",
       "\n",
       "[378 rows x 7 columns]"
      ]
     },
     "execution_count": 176,
     "metadata": {},
     "output_type": "execute_result"
    }
   ],
   "source": [
    "q = f\"\"\"\n",
    "WITH\n",
    "  viagem_dia AS (\n",
    "  SELECT\n",
    "    DATA,\n",
    "    COUNT(*) AS viagens,\n",
    "    SUM(distancia_planejada) AS km_apurada\n",
    "  FROM\n",
    "    `rj-smtr-dev.SMTR202212006611_reprocessamento.viagem_completa`\n",
    "  WHERE\n",
    "    DATA BETWEEN \"2022-06-01\"\n",
    "    AND \"2023-05-31\"\n",
    "  GROUP BY\n",
    "    consorcio,\n",
    "    DATA,\n",
    "    tipo_dia,\n",
    "    id_empresa,\n",
    "    servico_informado ),\n",
    "  viagem_planejada AS ( -- pegar a km planejada para o dia\n",
    "  SELECT DISTINCT \n",
    "    DATA,\n",
    "    distancia_total_planejada\n",
    "  FROM\n",
    "    `rj-smtr.projeto_subsidio_sppo.viagem_planejada`\n",
    "  WHERE\n",
    "    servico = '010'\n",
    "    AND DATA BETWEEN \"2022-06-01\"\n",
    "    AND \"2023-05-31\"\n",
    "  ),\n",
    "  tabela_pod AS (\n",
    "  SELECT\n",
    "    *,\n",
    "    ROUND((km_apurada / distancia_total_planejada),2) AS perc_km_planejada\n",
    "  FROM\n",
    "    viagem_dia vd\n",
    "  RIGHT JOIN\n",
    "    viagem_planejada vp\n",
    "  USING\n",
    "    (DATA) ),\n",
    "  tabela_subsidio_km AS (\n",
    "  SELECT\n",
    "    DATA,\n",
    "    valor_subsidio_por_km\n",
    "  FROM\n",
    "    `rj-smtr-dev.SMTR202212006611_reprocessamento.subsidio_data_versao_efetiva` )\n",
    "SELECT\n",
    "  DATA,\n",
    "  COALESCE(viagens, 0) as viagens,\n",
    "  COALESCE(km_apurada,0) as km_apurada,\n",
    "  COALESCE(distancia_total_planejada,0) as distancia_total_planejada,\n",
    "  COALESCE(perc_km_planejada,0) as perc_km_planejada,\n",
    "  COALESCE(valor_subsidio_por_km,0) as valor_subsidio_por_km,\n",
    "   CASE \n",
    "   WHEN perc_km_planejada >= 0.8 THEN valor_subsidio_por_km * km_apurada\n",
    "   ELSE 0\n",
    "   END as valor_subsidio\n",
    "FROM\n",
    "  tabela_pod\n",
    "LEFT JOIN\n",
    "  tabela_subsidio_km\n",
    "USING\n",
    "  (DATA)\n",
    "\"\"\"\n",
    "\n",
    "subsidio_a_pagar_dia = bd.read_sql(q, from_file=True)\n",
    "subsidio_a_pagar_dia = subsidio_a_pagar_dia.sort_values('DATA')\n",
    "subsidio_a_pagar_dia"
   ]
  },
  {
   "cell_type": "code",
   "execution_count": 177,
   "metadata": {},
   "outputs": [
    {
     "data": {
      "text/html": [
       "<div>\n",
       "<style scoped>\n",
       "    .dataframe tbody tr th:only-of-type {\n",
       "        vertical-align: middle;\n",
       "    }\n",
       "\n",
       "    .dataframe tbody tr th {\n",
       "        vertical-align: top;\n",
       "    }\n",
       "\n",
       "    .dataframe thead th {\n",
       "        text-align: right;\n",
       "    }\n",
       "</style>\n",
       "<table border=\"1\" class=\"dataframe\">\n",
       "  <thead>\n",
       "    <tr style=\"text-align: right;\">\n",
       "      <th></th>\n",
       "      <th>mes_ano</th>\n",
       "      <th>viagens</th>\n",
       "      <th>valor_subsidio</th>\n",
       "    </tr>\n",
       "  </thead>\n",
       "  <tbody>\n",
       "    <tr>\n",
       "      <th>0</th>\n",
       "      <td>2022-07</td>\n",
       "      <td>955</td>\n",
       "      <td>5419.13304</td>\n",
       "    </tr>\n",
       "    <tr>\n",
       "      <th>1</th>\n",
       "      <td>2022-08</td>\n",
       "      <td>1683</td>\n",
       "      <td>14788.84500</td>\n",
       "    </tr>\n",
       "    <tr>\n",
       "      <th>2</th>\n",
       "      <td>2022-09</td>\n",
       "      <td>1525</td>\n",
       "      <td>13548.85875</td>\n",
       "    </tr>\n",
       "    <tr>\n",
       "      <th>3</th>\n",
       "      <td>2022-10</td>\n",
       "      <td>1579</td>\n",
       "      <td>13167.14454</td>\n",
       "    </tr>\n",
       "    <tr>\n",
       "      <th>4</th>\n",
       "      <td>2022-11</td>\n",
       "      <td>1467</td>\n",
       "      <td>11438.16066</td>\n",
       "    </tr>\n",
       "    <tr>\n",
       "      <th>5</th>\n",
       "      <td>2022-12</td>\n",
       "      <td>1451</td>\n",
       "      <td>12960.54312</td>\n",
       "    </tr>\n",
       "    <tr>\n",
       "      <th>6</th>\n",
       "      <td>2023-01</td>\n",
       "      <td>1498</td>\n",
       "      <td>21582.56412</td>\n",
       "    </tr>\n",
       "    <tr>\n",
       "      <th>7</th>\n",
       "      <td>2023-02</td>\n",
       "      <td>906</td>\n",
       "      <td>9555.68319</td>\n",
       "    </tr>\n",
       "    <tr>\n",
       "      <th>8</th>\n",
       "      <td>2023-03</td>\n",
       "      <td>1552</td>\n",
       "      <td>18131.07540</td>\n",
       "    </tr>\n",
       "    <tr>\n",
       "      <th>9</th>\n",
       "      <td>2023-04</td>\n",
       "      <td>1440</td>\n",
       "      <td>9206.67276</td>\n",
       "    </tr>\n",
       "    <tr>\n",
       "      <th>10</th>\n",
       "      <td>2023-05</td>\n",
       "      <td>1614</td>\n",
       "      <td>5831.57052</td>\n",
       "    </tr>\n",
       "  </tbody>\n",
       "</table>\n",
       "</div>"
      ],
      "text/plain": [
       "    mes_ano  viagens  valor_subsidio\n",
       "0   2022-07      955      5419.13304\n",
       "1   2022-08     1683     14788.84500\n",
       "2   2022-09     1525     13548.85875\n",
       "3   2022-10     1579     13167.14454\n",
       "4   2022-11     1467     11438.16066\n",
       "5   2022-12     1451     12960.54312\n",
       "6   2023-01     1498     21582.56412\n",
       "7   2023-02      906      9555.68319\n",
       "8   2023-03     1552     18131.07540\n",
       "9   2023-04     1440      9206.67276\n",
       "10  2023-05     1614      5831.57052"
      ]
     },
     "execution_count": 177,
     "metadata": {},
     "output_type": "execute_result"
    }
   ],
   "source": [
    "# Garanta que a coluna DATA é um tipo de data\n",
    "subsidio_a_pagar_dia['DATA'] = pd.to_datetime(subsidio_a_pagar_dia['DATA'])\n",
    "\n",
    "# Crie uma nova coluna mes_ano\n",
    "subsidio_a_pagar_dia['mes_ano'] = subsidio_a_pagar_dia['DATA'].dt.strftime('%Y-%m')\n",
    "\n",
    "# Agrupar pelo mes_ano e realizar alguma operação, como somar:\n",
    "subsidio_a_pagar_mes = subsidio_a_pagar_dia[['mes_ano', 'viagens', 'valor_subsidio']]\n",
    "\n",
    "subsidio_a_pagar_mes = subsidio_a_pagar_mes.groupby('mes_ano').sum().reset_index()  \n",
    "\n",
    "subsidio_a_pagar_mes"
   ]
  },
  {
   "cell_type": "code",
   "execution_count": 178,
   "metadata": {},
   "outputs": [
    {
     "data": {
      "text/html": [
       "<div>\n",
       "<style scoped>\n",
       "    .dataframe tbody tr th:only-of-type {\n",
       "        vertical-align: middle;\n",
       "    }\n",
       "\n",
       "    .dataframe tbody tr th {\n",
       "        vertical-align: top;\n",
       "    }\n",
       "\n",
       "    .dataframe thead th {\n",
       "        text-align: right;\n",
       "    }\n",
       "</style>\n",
       "<table border=\"1\" class=\"dataframe\">\n",
       "  <thead>\n",
       "    <tr style=\"text-align: right;\">\n",
       "      <th></th>\n",
       "      <th>mes_ano</th>\n",
       "      <th>viagens_pre</th>\n",
       "      <th>valor_subsidio_pre</th>\n",
       "      <th>viagens_pos</th>\n",
       "      <th>valor_subsidio_pos</th>\n",
       "    </tr>\n",
       "  </thead>\n",
       "  <tbody>\n",
       "    <tr>\n",
       "      <th>0</th>\n",
       "      <td>2022-07</td>\n",
       "      <td>408</td>\n",
       "      <td>4433.15</td>\n",
       "      <td>955</td>\n",
       "      <td>5419.13304</td>\n",
       "    </tr>\n",
       "    <tr>\n",
       "      <th>1</th>\n",
       "      <td>2022-08</td>\n",
       "      <td>655</td>\n",
       "      <td>9864.75</td>\n",
       "      <td>1683</td>\n",
       "      <td>14788.84500</td>\n",
       "    </tr>\n",
       "    <tr>\n",
       "      <th>2</th>\n",
       "      <td>2022-09</td>\n",
       "      <td>615</td>\n",
       "      <td>9426.57</td>\n",
       "      <td>1525</td>\n",
       "      <td>13548.85875</td>\n",
       "    </tr>\n",
       "    <tr>\n",
       "      <th>3</th>\n",
       "      <td>2022-10</td>\n",
       "      <td>706</td>\n",
       "      <td>11781.44</td>\n",
       "      <td>1579</td>\n",
       "      <td>13167.14454</td>\n",
       "    </tr>\n",
       "    <tr>\n",
       "      <th>4</th>\n",
       "      <td>2022-11</td>\n",
       "      <td>639</td>\n",
       "      <td>9692.20</td>\n",
       "      <td>1467</td>\n",
       "      <td>11438.16066</td>\n",
       "    </tr>\n",
       "    <tr>\n",
       "      <th>5</th>\n",
       "      <td>2022-12</td>\n",
       "      <td>652</td>\n",
       "      <td>11609.69</td>\n",
       "      <td>1451</td>\n",
       "      <td>12960.54312</td>\n",
       "    </tr>\n",
       "    <tr>\n",
       "      <th>6</th>\n",
       "      <td>2023-01</td>\n",
       "      <td>570</td>\n",
       "      <td>8479.80</td>\n",
       "      <td>1498</td>\n",
       "      <td>21582.56412</td>\n",
       "    </tr>\n",
       "    <tr>\n",
       "      <th>7</th>\n",
       "      <td>2023-02</td>\n",
       "      <td>360</td>\n",
       "      <td>5175.60</td>\n",
       "      <td>906</td>\n",
       "      <td>9555.68319</td>\n",
       "    </tr>\n",
       "    <tr>\n",
       "      <th>8</th>\n",
       "      <td>2023-03</td>\n",
       "      <td>616</td>\n",
       "      <td>9824.87</td>\n",
       "      <td>1552</td>\n",
       "      <td>18131.07540</td>\n",
       "    </tr>\n",
       "    <tr>\n",
       "      <th>9</th>\n",
       "      <td>2023-04</td>\n",
       "      <td>563</td>\n",
       "      <td>10526.68</td>\n",
       "      <td>1440</td>\n",
       "      <td>9206.67276</td>\n",
       "    </tr>\n",
       "    <tr>\n",
       "      <th>10</th>\n",
       "      <td>2023-05</td>\n",
       "      <td>630</td>\n",
       "      <td>9941.93</td>\n",
       "      <td>1614</td>\n",
       "      <td>5831.57052</td>\n",
       "    </tr>\n",
       "  </tbody>\n",
       "</table>\n",
       "</div>"
      ],
      "text/plain": [
       "    mes_ano  viagens_pre  valor_subsidio_pre  viagens_pos  valor_subsidio_pos\n",
       "0   2022-07          408             4433.15          955          5419.13304\n",
       "1   2022-08          655             9864.75         1683         14788.84500\n",
       "2   2022-09          615             9426.57         1525         13548.85875\n",
       "3   2022-10          706            11781.44         1579         13167.14454\n",
       "4   2022-11          639             9692.20         1467         11438.16066\n",
       "5   2022-12          652            11609.69         1451         12960.54312\n",
       "6   2023-01          570             8479.80         1498         21582.56412\n",
       "7   2023-02          360             5175.60          906          9555.68319\n",
       "8   2023-03          616             9824.87         1552         18131.07540\n",
       "9   2023-04          563            10526.68         1440          9206.67276\n",
       "10  2023-05          630             9941.93         1614          5831.57052"
      ]
     },
     "execution_count": 178,
     "metadata": {},
     "output_type": "execute_result"
    }
   ],
   "source": [
    "# juntar as duas tabelas\n",
    "tabela_subsidio_mes = pd.merge(subsidio_pago_mes, subsidio_a_pagar_mes, how='left', on='mes_ano', suffixes=['_pre','_pos'])\n",
    "tabela_subsidio_mes\n",
    "\n",
    "# o valor não foi tão maior, porque o POD diário permaneceu baixo."
   ]
  },
  {
   "cell_type": "code",
   "execution_count": 179,
   "metadata": {},
   "outputs": [
    {
     "data": {
      "text/plain": [
       "viagens_pre             6414.0000\n",
       "viagens_pos            15670.0000\n",
       "valor_subsidio_pre    100756.6800\n",
       "valor_subsidio_pos    135630.2511\n",
       "dtype: float64"
      ]
     },
     "execution_count": 179,
     "metadata": {},
     "output_type": "execute_result"
    }
   ],
   "source": [
    "tabela_subsidio_mes\n",
    "total_subsidio_comparacao = tabela_subsidio_mes[['viagens_pre', 'viagens_pos','valor_subsidio_pre','valor_subsidio_pos']].sum(axis=0)\n",
    "total_subsidio_comparacao"
   ]
  },
  {
   "cell_type": "code",
   "execution_count": 180,
   "metadata": {},
   "outputs": [
    {
     "data": {
      "image/png": "[encoded data removed]",
      "text/plain": [
       "<Figure size 1200x700 with 1 Axes>"
      ]
     },
     "metadata": {},
     "output_type": "display_data"
    }
   ],
   "source": [
    "# Definindo o tamanho da figura\n",
    "plt.figure(figsize=(12, 7))\n",
    "\n",
    "# Plotando as duas séries de dados\n",
    "plt.plot(tabela_subsidio_mes['mes_ano'], tabela_subsidio_mes['viagens_pre'], \n",
    "         color='dodgerblue', marker='o', label='Qtd de viagens pré-reprocessamento')\n",
    "plt.plot(tabela_subsidio_mes['mes_ano'], tabela_subsidio_mes['viagens_pos'], \n",
    "         color='crimson', marker='o', label='Qtd de viagens reprocessadas')\n",
    "\n",
    "# Título, legendas e rótulos\n",
    "plt.title('Comparação entre quantidade de viagens pré e pós reprocessamento realizadas pela linha 010 entre jun-22 e maio-23', \n",
    "          fontsize=14, fontweight='bold', pad=20)\n",
    "plt.xlabel('Mês/Ano', fontsize=12)\n",
    "plt.ylabel('Quantidade de Viagens', fontsize=12)\n",
    "plt.xticks(rotation=45)\n",
    "plt.legend(frameon=False, fontsize=11) \n",
    "\n",
    "# Remover o fundo e as bordas\n",
    "ax = plt.gca()\n",
    "ax.set_facecolor('none')\n",
    "ax.spines['top'].set_visible(False)\n",
    "ax.spines['right'].set_visible(False)\n",
    "ax.spines['bottom'].set_visible(False)\n",
    "ax.spines['left'].set_visible(False)\n",
    "ax.grid(False)  \n",
    "\n",
    "# Exibir o gráfico\n",
    "plt.tight_layout()\n",
    "plt.show()"
   ]
  },
  {
   "cell_type": "code",
   "execution_count": 181,
   "metadata": {},
   "outputs": [
    {
     "data": {
      "image/png": "[encoded data removed]",
      "text/plain": [
       "<Figure size 1200x700 with 1 Axes>"
      ]
     },
     "metadata": {},
     "output_type": "display_data"
    }
   ],
   "source": [
    "# Definindo o tamanho da figura\n",
    "plt.figure(figsize=(12, 7))\n",
    "\n",
    "# Plotando as duas séries de dados\n",
    "plt.plot(tabela_subsidio_mes['mes_ano'], tabela_subsidio_mes['valor_subsidio_pre'], \n",
    "         color='dodgerblue', marker='o', label='Valor do subsídio pré-reprocessamento')\n",
    "plt.plot(tabela_subsidio_mes['mes_ano'], tabela_subsidio_mes['valor_subsidio_pos'], \n",
    "         color='crimson', marker='o', label='Valor do subsídio reprocessado')\n",
    "\n",
    "# Título, legendas e rótulos\n",
    "plt.title('Comparação entre o valor do subsídio pré e pós reprocessamento realizadas pela linha 010 entre jun-22 e maio-23', \n",
    "          fontsize=14, fontweight='bold', pad=20)\n",
    "plt.xlabel('Mês/Ano', fontsize=12)\n",
    "plt.ylabel('Valor do subsídio', fontsize=12)\n",
    "plt.xticks(rotation=45)\n",
    "plt.legend(frameon=False, fontsize=11) \n",
    "\n",
    "# Remover o fundo e as bordas\n",
    "ax = plt.gca()\n",
    "ax.set_facecolor('none')\n",
    "ax.spines['top'].set_visible(False)\n",
    "ax.spines['right'].set_visible(False)\n",
    "ax.spines['bottom'].set_visible(False)\n",
    "ax.spines['left'].set_visible(False)\n",
    "ax.grid(False)  \n",
    "\n",
    "# Exibir o gráfico\n",
    "plt.tight_layout()\n",
    "plt.show()"
   ]
  },
  {
   "cell_type": "markdown",
   "metadata": {},
   "source": [
    "### 3. Análise do POD\n"
   ]
  },
  {
   "cell_type": "markdown",
   "metadata": {},
   "source": [
    "3.1 POD pré-reprocessamento"
   ]
  },
  {
   "cell_type": "code",
   "execution_count": 182,
   "metadata": {},
   "outputs": [
    {
     "name": "stderr",
     "output_type": "stream",
     "text": [
      "Downloading: 100%|██████████| 335/335 [00:00<00:00, 935.72rows/s]\n"
     ]
    },
    {
     "data": {
      "text/html": [
       "<div>\n",
       "<style scoped>\n",
       "    .dataframe tbody tr th:only-of-type {\n",
       "        vertical-align: middle;\n",
       "    }\n",
       "\n",
       "    .dataframe tbody tr th {\n",
       "        vertical-align: top;\n",
       "    }\n",
       "\n",
       "    .dataframe thead th {\n",
       "        text-align: right;\n",
       "    }\n",
       "</style>\n",
       "<table border=\"1\" class=\"dataframe\">\n",
       "  <thead>\n",
       "    <tr style=\"text-align: right;\">\n",
       "      <th></th>\n",
       "      <th>data</th>\n",
       "      <th>viagens</th>\n",
       "      <th>perc_km_planejada</th>\n",
       "    </tr>\n",
       "  </thead>\n",
       "  <tbody>\n",
       "    <tr>\n",
       "      <th>229</th>\n",
       "      <td>2022-07-01</td>\n",
       "      <td>0</td>\n",
       "      <td>0.00</td>\n",
       "    </tr>\n",
       "    <tr>\n",
       "      <th>325</th>\n",
       "      <td>2022-07-02</td>\n",
       "      <td>0</td>\n",
       "      <td>0.00</td>\n",
       "    </tr>\n",
       "    <tr>\n",
       "      <th>255</th>\n",
       "      <td>2022-07-03</td>\n",
       "      <td>0</td>\n",
       "      <td>0.00</td>\n",
       "    </tr>\n",
       "    <tr>\n",
       "      <th>199</th>\n",
       "      <td>2022-07-04</td>\n",
       "      <td>0</td>\n",
       "      <td>0.00</td>\n",
       "    </tr>\n",
       "    <tr>\n",
       "      <th>261</th>\n",
       "      <td>2022-07-05</td>\n",
       "      <td>0</td>\n",
       "      <td>0.00</td>\n",
       "    </tr>\n",
       "    <tr>\n",
       "      <th>...</th>\n",
       "      <td>...</td>\n",
       "      <td>...</td>\n",
       "      <td>...</td>\n",
       "    </tr>\n",
       "    <tr>\n",
       "      <th>334</th>\n",
       "      <td>2023-05-27</td>\n",
       "      <td>13</td>\n",
       "      <td>81.25</td>\n",
       "    </tr>\n",
       "    <tr>\n",
       "      <th>51</th>\n",
       "      <td>2023-05-28</td>\n",
       "      <td>15</td>\n",
       "      <td>107.15</td>\n",
       "    </tr>\n",
       "    <tr>\n",
       "      <th>108</th>\n",
       "      <td>2023-05-29</td>\n",
       "      <td>22</td>\n",
       "      <td>73.33</td>\n",
       "    </tr>\n",
       "    <tr>\n",
       "      <th>54</th>\n",
       "      <td>2023-05-30</td>\n",
       "      <td>28</td>\n",
       "      <td>93.33</td>\n",
       "    </tr>\n",
       "    <tr>\n",
       "      <th>22</th>\n",
       "      <td>2023-05-31</td>\n",
       "      <td>26</td>\n",
       "      <td>86.67</td>\n",
       "    </tr>\n",
       "  </tbody>\n",
       "</table>\n",
       "<p>335 rows × 3 columns</p>\n",
       "</div>"
      ],
      "text/plain": [
       "           data  viagens  perc_km_planejada\n",
       "229  2022-07-01        0               0.00\n",
       "325  2022-07-02        0               0.00\n",
       "255  2022-07-03        0               0.00\n",
       "199  2022-07-04        0               0.00\n",
       "261  2022-07-05        0               0.00\n",
       "..          ...      ...                ...\n",
       "334  2023-05-27       13              81.25\n",
       "51   2023-05-28       15             107.15\n",
       "108  2023-05-29       22              73.33\n",
       "54   2023-05-30       28              93.33\n",
       "22   2023-05-31       26              86.67\n",
       "\n",
       "[335 rows x 3 columns]"
      ]
     },
     "execution_count": 182,
     "metadata": {},
     "output_type": "execute_result"
    }
   ],
   "source": [
    "# POD pré-reprocessamento\n",
    "q = f\"\"\"\n",
    "SELECT\n",
    "  data, viagens, perc_km_planejada\n",
    "FROM\n",
    "  `rj-smtr.dashboard_subsidio_sppo.sumario_servico_dia_historico`\n",
    "WHERE\n",
    "  servico = '010'\n",
    "  AND DATA BETWEEN '2022-06-01' AND '2023-05-31'\n",
    "\"\"\"\n",
    "pod_pre_reprocessamento = bd.read_sql(q, from_file=True)\n",
    "\n",
    "pod_pre_reprocessamento = pod_pre_reprocessamento.sort_values('data')\n",
    "pod_pre_reprocessamento"
   ]
  },
  {
   "cell_type": "code",
   "execution_count": 183,
   "metadata": {},
   "outputs": [
    {
     "data": {
      "text/html": [
       "<div>\n",
       "<style scoped>\n",
       "    .dataframe tbody tr th:only-of-type {\n",
       "        vertical-align: middle;\n",
       "    }\n",
       "\n",
       "    .dataframe tbody tr th {\n",
       "        vertical-align: top;\n",
       "    }\n",
       "\n",
       "    .dataframe thead th {\n",
       "        text-align: right;\n",
       "    }\n",
       "</style>\n",
       "<table border=\"1\" class=\"dataframe\">\n",
       "  <thead>\n",
       "    <tr style=\"text-align: right;\">\n",
       "      <th></th>\n",
       "      <th>data</th>\n",
       "      <th>viagens</th>\n",
       "      <th>perc_km_planejada</th>\n",
       "      <th>mes_ano</th>\n",
       "    </tr>\n",
       "  </thead>\n",
       "  <tbody>\n",
       "    <tr>\n",
       "      <th>229</th>\n",
       "      <td>2022-07-01</td>\n",
       "      <td>0</td>\n",
       "      <td>0.00</td>\n",
       "      <td>2022-07</td>\n",
       "    </tr>\n",
       "    <tr>\n",
       "      <th>325</th>\n",
       "      <td>2022-07-02</td>\n",
       "      <td>0</td>\n",
       "      <td>0.00</td>\n",
       "      <td>2022-07</td>\n",
       "    </tr>\n",
       "    <tr>\n",
       "      <th>255</th>\n",
       "      <td>2022-07-03</td>\n",
       "      <td>0</td>\n",
       "      <td>0.00</td>\n",
       "      <td>2022-07</td>\n",
       "    </tr>\n",
       "    <tr>\n",
       "      <th>199</th>\n",
       "      <td>2022-07-04</td>\n",
       "      <td>0</td>\n",
       "      <td>0.00</td>\n",
       "      <td>2022-07</td>\n",
       "    </tr>\n",
       "    <tr>\n",
       "      <th>261</th>\n",
       "      <td>2022-07-05</td>\n",
       "      <td>0</td>\n",
       "      <td>0.00</td>\n",
       "      <td>2022-07</td>\n",
       "    </tr>\n",
       "    <tr>\n",
       "      <th>...</th>\n",
       "      <td>...</td>\n",
       "      <td>...</td>\n",
       "      <td>...</td>\n",
       "      <td>...</td>\n",
       "    </tr>\n",
       "    <tr>\n",
       "      <th>334</th>\n",
       "      <td>2023-05-27</td>\n",
       "      <td>13</td>\n",
       "      <td>81.25</td>\n",
       "      <td>2023-05</td>\n",
       "    </tr>\n",
       "    <tr>\n",
       "      <th>51</th>\n",
       "      <td>2023-05-28</td>\n",
       "      <td>15</td>\n",
       "      <td>107.15</td>\n",
       "      <td>2023-05</td>\n",
       "    </tr>\n",
       "    <tr>\n",
       "      <th>108</th>\n",
       "      <td>2023-05-29</td>\n",
       "      <td>22</td>\n",
       "      <td>73.33</td>\n",
       "      <td>2023-05</td>\n",
       "    </tr>\n",
       "    <tr>\n",
       "      <th>54</th>\n",
       "      <td>2023-05-30</td>\n",
       "      <td>28</td>\n",
       "      <td>93.33</td>\n",
       "      <td>2023-05</td>\n",
       "    </tr>\n",
       "    <tr>\n",
       "      <th>22</th>\n",
       "      <td>2023-05-31</td>\n",
       "      <td>26</td>\n",
       "      <td>86.67</td>\n",
       "      <td>2023-05</td>\n",
       "    </tr>\n",
       "  </tbody>\n",
       "</table>\n",
       "<p>335 rows × 4 columns</p>\n",
       "</div>"
      ],
      "text/plain": [
       "          data  viagens  perc_km_planejada  mes_ano\n",
       "229 2022-07-01        0               0.00  2022-07\n",
       "325 2022-07-02        0               0.00  2022-07\n",
       "255 2022-07-03        0               0.00  2022-07\n",
       "199 2022-07-04        0               0.00  2022-07\n",
       "261 2022-07-05        0               0.00  2022-07\n",
       "..         ...      ...                ...      ...\n",
       "334 2023-05-27       13              81.25  2023-05\n",
       "51  2023-05-28       15             107.15  2023-05\n",
       "108 2023-05-29       22              73.33  2023-05\n",
       "54  2023-05-30       28              93.33  2023-05\n",
       "22  2023-05-31       26              86.67  2023-05\n",
       "\n",
       "[335 rows x 4 columns]"
      ]
     },
     "execution_count": 183,
     "metadata": {},
     "output_type": "execute_result"
    }
   ],
   "source": [
    "# Assegurando que a coluna 'data' seja do tipo datetime\n",
    "pod_pre_reprocessamento['data'] = pd.to_datetime(pod_pre_reprocessamento['data'])\n",
    "# Criando a nova coluna 'mes_ano'\n",
    "pod_pre_reprocessamento['mes_ano'] = pod_pre_reprocessamento['data'].dt.to_period('M')\n",
    "pod_pre_reprocessamento['mes_ano'] = pod_pre_reprocessamento['mes_ano'].astype(str)\n",
    "pod_pre_reprocessamento"
   ]
  },
  {
   "cell_type": "code",
   "execution_count": 184,
   "metadata": {},
   "outputs": [
    {
     "data": {
      "application/vnd.plotly.v1+json": {
       "config": {
        "plotlyServerURL": "https://plot.ly"
       },
       "data": [
        {
         "alignmentgroup": "True",
         "boxpoints": "all",
         "hovertemplate": "=%{y}<extra></extra>",
         "legendgroup": "",
         "marker": {
          "color": "#636efa"
         },
         "name": "",
         "notched": false,
         "offsetgroup": "",
         "orientation": "v",
         "showlegend": false,
         "type": "box",
         "x": [
          "2022-07",
          "2022-07",
          "2022-07",
          "2022-07",
          "2022-07",
          "2022-07",
          "2022-07",
          "2022-07",
          "2022-07",
          "2022-07",
          "2022-07",
          "2022-07",
          "2022-07",
          "2022-07",
          "2022-07",
          "2022-07",
          "2022-07",
          "2022-07",
          "2022-07",
          "2022-07",
          "2022-07",
          "2022-07",
          "2022-07",
          "2022-07",
          "2022-07",
          "2022-07",
          "2022-07",
          "2022-07",
          "2022-07",
          "2022-07",
          "2022-07",
          "2022-08",
          "2022-08",
          "2022-08",
          "2022-08",
          "2022-08",
          "2022-08",
          "2022-08",
          "2022-08",
          "2022-08",
          "2022-08",
          "2022-08",
          "2022-08",
          "2022-08",
          "2022-08",
          "2022-08",
          "2022-08",
          "2022-08",
          "2022-08",
          "2022-08",
          "2022-08",
          "2022-08",
          "2022-08",
          "2022-08",
          "2022-08",
          "2022-08",
          "2022-08",
          "2022-08",
          "2022-08",
          "2022-08",
          "2022-08",
          "2022-08",
          "2022-09",
          "2022-09",
          "2022-09",
          "2022-09",
          "2022-09",
          "2022-09",
          "2022-09",
          "2022-09",
          "2022-09",
          "2022-09",
          "2022-09",
          "2022-09",
          "2022-09",
          "2022-09",
          "2022-09",
          "2022-09",
          "2022-09",
          "2022-09",
          "2022-09",
          "2022-09",
          "2022-09",
          "2022-09",
          "2022-09",
          "2022-09",
          "2022-09",
          "2022-09",
          "2022-09",
          "2022-09",
          "2022-09",
          "2022-09",
          "2022-10",
          "2022-10",
          "2022-10",
          "2022-10",
          "2022-10",
          "2022-10",
          "2022-10",
          "2022-10",
          "2022-10",
          "2022-10",
          "2022-10",
          "2022-10",
          "2022-10",
          "2022-10",
          "2022-10",
          "2022-10",
          "2022-10",
          "2022-10",
          "2022-10",
          "2022-10",
          "2022-10",
          "2022-10",
          "2022-10",
          "2022-10",
          "2022-10",
          "2022-10",
          "2022-10",
          "2022-10",
          "2022-10",
          "2022-10",
          "2022-10",
          "2022-11",
          "2022-11",
          "2022-11",
          "2022-11",
          "2022-11",
          "2022-11",
          "2022-11",
          "2022-11",
          "2022-11",
          "2022-11",
          "2022-11",
          "2022-11",
          "2022-11",
          "2022-11",
          "2022-11",
          "2022-11",
          "2022-11",
          "2022-11",
          "2022-11",
          "2022-11",
          "2022-11",
          "2022-11",
          "2022-11",
          "2022-11",
          "2022-11",
          "2022-11",
          "2022-11",
          "2022-11",
          "2022-11",
          "2022-11",
          "2022-12",
          "2022-12",
          "2022-12",
          "2022-12",
          "2022-12",
          "2022-12",
          "2022-12",
          "2022-12",
          "2022-12",
          "2022-12",
          "2022-12",
          "2022-12",
          "2022-12",
          "2022-12",
          "2022-12",
          "2022-12",
          "2022-12",
          "2022-12",
          "2022-12",
          "2022-12",
          "2022-12",
          "2022-12",
          "2022-12",
          "2022-12",
          "2022-12",
          "2022-12",
          "2022-12",
          "2022-12",
          "2022-12",
          "2022-12",
          "2022-12",
          "2023-01",
          "2023-01",
          "2023-01",
          "2023-01",
          "2023-01",
          "2023-01",
          "2023-01",
          "2023-01",
          "2023-01",
          "2023-01",
          "2023-01",
          "2023-01",
          "2023-01",
          "2023-01",
          "2023-01",
          "2023-01",
          "2023-01",
          "2023-01",
          "2023-01",
          "2023-01",
          "2023-01",
          "2023-01",
          "2023-01",
          "2023-01",
          "2023-01",
          "2023-01",
          "2023-01",
          "2023-01",
          "2023-01",
          "2023-01",
          "2023-01",
          "2023-02",
          "2023-02",
          "2023-02",
          "2023-02",
          "2023-02",
          "2023-02",
          "2023-02",
          "2023-02",
          "2023-02",
          "2023-02",
          "2023-02",
          "2023-02",
          "2023-02",
          "2023-02",
          "2023-02",
          "2023-02",
          "2023-02",
          "2023-02",
          "2023-02",
          "2023-02",
          "2023-02",
          "2023-02",
          "2023-02",
          "2023-02",
          "2023-02",
          "2023-02",
          "2023-02",
          "2023-02",
          "2023-03",
          "2023-03",
          "2023-03",
          "2023-03",
          "2023-03",
          "2023-03",
          "2023-03",
          "2023-03",
          "2023-03",
          "2023-03",
          "2023-03",
          "2023-03",
          "2023-03",
          "2023-03",
          "2023-03",
          "2023-03",
          "2023-03",
          "2023-03",
          "2023-03",
          "2023-03",
          "2023-03",
          "2023-03",
          "2023-03",
          "2023-03",
          "2023-03",
          "2023-03",
          "2023-03",
          "2023-03",
          "2023-03",
          "2023-03",
          "2023-03",
          "2023-04",
          "2023-04",
          "2023-04",
          "2023-04",
          "2023-04",
          "2023-04",
          "2023-04",
          "2023-04",
          "2023-04",
          "2023-04",
          "2023-04",
          "2023-04",
          "2023-04",
          "2023-04",
          "2023-04",
          "2023-04",
          "2023-04",
          "2023-04",
          "2023-04",
          "2023-04",
          "2023-04",
          "2023-04",
          "2023-04",
          "2023-04",
          "2023-04",
          "2023-04",
          "2023-04",
          "2023-04",
          "2023-04",
          "2023-04",
          "2023-05",
          "2023-05",
          "2023-05",
          "2023-05",
          "2023-05",
          "2023-05",
          "2023-05",
          "2023-05",
          "2023-05",
          "2023-05",
          "2023-05",
          "2023-05",
          "2023-05",
          "2023-05",
          "2023-05",
          "2023-05",
          "2023-05",
          "2023-05",
          "2023-05",
          "2023-05",
          "2023-05",
          "2023-05",
          "2023-05",
          "2023-05",
          "2023-05",
          "2023-05",
          "2023-05",
          "2023-05",
          "2023-05",
          "2023-05",
          "2023-05"
         ],
         "x0": " ",
         "xaxis": "x",
         "y": [
          0,
          0,
          0,
          0,
          0,
          64.29,
          46.43,
          57.14,
          62.86,
          35.71,
          60.71,
          57.14,
          35.71,
          35.71,
          32.14,
          57.14,
          0,
          35.71,
          35.71,
          35.71,
          89.29,
          92.86,
          114.29,
          92.86,
          92.86,
          85.72,
          89.29,
          89.29,
          89.29,
          131.43,
          78.57,
          85.71,
          89.28,
          39.28,
          60.71,
          67.85,
          137.14,
          85.71,
          71.43,
          75,
          85.71,
          82.14,
          85.71,
          125.71,
          85.71,
          89.28,
          82.14,
          82.14,
          85.71,
          85.71,
          142.85,
          85.71,
          82.14,
          89.28,
          89.28,
          82.14,
          89.28,
          137.14,
          85.71,
          67.85,
          78.57,
          82.14,
          88,
          159.99,
          159.99,
          80,
          88,
          96,
          96,
          88,
          100,
          115.19,
          96,
          104,
          111.99,
          96,
          108,
          100,
          127.99,
          104,
          104,
          108,
          72,
          72,
          64,
          127.99,
          96,
          72,
          40,
          72,
          100,
          108,
          159.99,
          66.66,
          108.33,
          112.5,
          112.5,
          108.33,
          108.33,
          166.66,
          108.33,
          108.33,
          100,
          91.66,
          108.33,
          112.5,
          186.66,
          100,
          93.33,
          112.5,
          104.16,
          100,
          112.5,
          186.66,
          133.33,
          112.5,
          112.5,
          112.5,
          112.5,
          112.5,
          179.99,
          0,
          112.5,
          116.66,
          41.67,
          116.66,
          108.33,
          173.33,
          50,
          116.66,
          108.33,
          116.66,
          116.66,
          116.66,
          166.66,
          50,
          0,
          66.66,
          104.16,
          112.5,
          108.33,
          166.66,
          91.66,
          104.16,
          112.5,
          104.16,
          126.66,
          116.66,
          159.99,
          50,
          133.33,
          112.5,
          116.66,
          89.65,
          77.24,
          154.48,
          48.27,
          110.34,
          82.76,
          89.65,
          96.55,
          110.34,
          132.41,
          82.76,
          96.55,
          89.65,
          89.65,
          93.1,
          96.29,
          94.81,
          96.29,
          96.29,
          103.7,
          103.7,
          100,
          92.59,
          29.63,
          0,
          81.48,
          92.59,
          92.59,
          96.29,
          88.89,
          0,
          0,
          76.67,
          63.33,
          70,
          73.33,
          70,
          81.25,
          71.43,
          80,
          63.33,
          76.67,
          86.67,
          86.67,
          62.5,
          85.72,
          76.67,
          63.33,
          83.33,
          86.67,
          85.72,
          68.75,
          64.28,
          80,
          63.33,
          80,
          90,
          90,
          43.75,
          71.43,
          80,
          46.67,
          70,
          83.33,
          83.33,
          81.25,
          107.15,
          86.67,
          56.67,
          30,
          0,
          0,
          0,
          0,
          0,
          0,
          60,
          86.66,
          36.67,
          43.75,
          85.72,
          30,
          33.33,
          50,
          86.67,
          70,
          43.75,
          85.72,
          80,
          36.67,
          63.33,
          80,
          100,
          25,
          85.72,
          76.67,
          53.33,
          63.33,
          66.67,
          73.33,
          50,
          107.15,
          83.33,
          80,
          83.33,
          80,
          83.33,
          93.75,
          100,
          76.67,
          80,
          50,
          93.33,
          76.67,
          93.75,
          71.43,
          76.67,
          70,
          66.67,
          80,
          86.67,
          75,
          100,
          83.33,
          83.33,
          76.67,
          81.25,
          85.72,
          87.5,
          64.28,
          90,
          86.67,
          76.67,
          76.67,
          60,
          81.25,
          92.86,
          80,
          80,
          76.67,
          90,
          107.15,
          81.25,
          64.28,
          83.33,
          86.67,
          80,
          76.67,
          56.67,
          75,
          78.58,
          85.72,
          70,
          66.67,
          76.67,
          73.33,
          75,
          71.43,
          70,
          86.67,
          86.67,
          93.33,
          73.33,
          81.25,
          57.15,
          66.67,
          73.33,
          80,
          70,
          76.67,
          81.25,
          85.72,
          80,
          76.67,
          86.67,
          86.67,
          93.33,
          81.25,
          107.15,
          73.33,
          93.33,
          86.67
         ],
         "y0": " ",
         "yaxis": "y"
        }
       ],
       "layout": {
        "annotations": [
         {
          "showarrow": false,
          "text": "min = 80%",
          "x": 1,
          "xanchor": "right",
          "xref": "x domain",
          "y": 80,
          "yanchor": "bottom",
          "yref": "y"
         }
        ],
        "boxmode": "group",
        "height": 600,
        "legend": {
         "tracegroupgap": 0
        },
        "shapes": [
         {
          "type": "line",
          "x0": 0,
          "x1": 1,
          "xref": "x domain",
          "y0": 80,
          "y1": 80,
          "yref": "y"
         }
        ],
        "showlegend": false,
        "template": {
         "data": {
          "bar": [
           {
            "error_x": {
             "color": "#2a3f5f"
            },
            "error_y": {
             "color": "#2a3f5f"
            },
            "marker": {
             "line": {
              "color": "white",
              "width": 0.5
             },
             "pattern": {
              "fillmode": "overlay",
              "size": 10,
              "solidity": 0.2
             }
            },
            "type": "bar"
           }
          ],
          "barpolar": [
           {
            "marker": {
             "line": {
              "color": "white",
              "width": 0.5
             },
             "pattern": {
              "fillmode": "overlay",
              "size": 10,
              "solidity": 0.2
             }
            },
            "type": "barpolar"
           }
          ],
          "carpet": [
           {
            "aaxis": {
             "endlinecolor": "#2a3f5f",
             "gridcolor": "#C8D4E3",
             "linecolor": "#C8D4E3",
             "minorgridcolor": "#C8D4E3",
             "startlinecolor": "#2a3f5f"
            },
            "baxis": {
             "endlinecolor": "#2a3f5f",
             "gridcolor": "#C8D4E3",
             "linecolor": "#C8D4E3",
             "minorgridcolor": "#C8D4E3",
             "startlinecolor": "#2a3f5f"
            },
            "type": "carpet"
           }
          ],
          "choropleth": [
           {
            "colorbar": {
             "outlinewidth": 0,
             "ticks": ""
            },
            "type": "choropleth"
           }
          ],
          "contour": [
           {
            "colorbar": {
             "outlinewidth": 0,
             "ticks": ""
            },
            "colorscale": [
             [
              0,
              "#0d0887"
             ],
             [
              0.1111111111111111,
              "#46039f"
             ],
             [
              0.2222222222222222,
              "#7201a8"
             ],
             [
              0.3333333333333333,
              "#9c179e"
             ],
             [
              0.4444444444444444,
              "#bd3786"
             ],
             [
              0.5555555555555556,
              "#d8576b"
             ],
             [
              0.6666666666666666,
              "#ed7953"
             ],
             [
              0.7777777777777778,
              "#fb9f3a"
             ],
             [
              0.8888888888888888,
              "#fdca26"
             ],
             [
              1,
              "#f0f921"
             ]
            ],
            "type": "contour"
           }
          ],
          "contourcarpet": [
           {
            "colorbar": {
             "outlinewidth": 0,
             "ticks": ""
            },
            "type": "contourcarpet"
           }
          ],
          "heatmap": [
           {
            "colorbar": {
             "outlinewidth": 0,
             "ticks": ""
            },
            "colorscale": [
             [
              0,
              "#0d0887"
             ],
             [
              0.1111111111111111,
              "#46039f"
             ],
             [
              0.2222222222222222,
              "#7201a8"
             ],
             [
              0.3333333333333333,
              "#9c179e"
             ],
             [
              0.4444444444444444,
              "#bd3786"
             ],
             [
              0.5555555555555556,
              "#d8576b"
             ],
             [
              0.6666666666666666,
              "#ed7953"
             ],
             [
              0.7777777777777778,
              "#fb9f3a"
             ],
             [
              0.8888888888888888,
              "#fdca26"
             ],
             [
              1,
              "#f0f921"
             ]
            ],
            "type": "heatmap"
           }
          ],
          "heatmapgl": [
           {
            "colorbar": {
             "outlinewidth": 0,
             "ticks": ""
            },
            "colorscale": [
             [
              0,
              "#0d0887"
             ],
             [
              0.1111111111111111,
              "#46039f"
             ],
             [
              0.2222222222222222,
              "#7201a8"
             ],
             [
              0.3333333333333333,
              "#9c179e"
             ],
             [
              0.4444444444444444,
              "#bd3786"
             ],
             [
              0.5555555555555556,
              "#d8576b"
             ],
             [
              0.6666666666666666,
              "#ed7953"
             ],
             [
              0.7777777777777778,
              "#fb9f3a"
             ],
             [
              0.8888888888888888,
              "#fdca26"
             ],
             [
              1,
              "#f0f921"
             ]
            ],
            "type": "heatmapgl"
           }
          ],
          "histogram": [
           {
            "marker": {
             "pattern": {
              "fillmode": "overlay",
              "size": 10,
              "solidity": 0.2
             }
            },
            "type": "histogram"
           }
          ],
          "histogram2d": [
           {
            "colorbar": {
             "outlinewidth": 0,
             "ticks": ""
            },
            "colorscale": [
             [
              0,
              "#0d0887"
             ],
             [
              0.1111111111111111,
              "#46039f"
             ],
             [
              0.2222222222222222,
              "#7201a8"
             ],
             [
              0.3333333333333333,
              "#9c179e"
             ],
             [
              0.4444444444444444,
              "#bd3786"
             ],
             [
              0.5555555555555556,
              "#d8576b"
             ],
             [
              0.6666666666666666,
              "#ed7953"
             ],
             [
              0.7777777777777778,
              "#fb9f3a"
             ],
             [
              0.8888888888888888,
              "#fdca26"
             ],
             [
              1,
              "#f0f921"
             ]
            ],
            "type": "histogram2d"
           }
          ],
          "histogram2dcontour": [
           {
            "colorbar": {
             "outlinewidth": 0,
             "ticks": ""
            },
            "colorscale": [
             [
              0,
              "#0d0887"
             ],
             [
              0.1111111111111111,
              "#46039f"
             ],
             [
              0.2222222222222222,
              "#7201a8"
             ],
             [
              0.3333333333333333,
              "#9c179e"
             ],
             [
              0.4444444444444444,
              "#bd3786"
             ],
             [
              0.5555555555555556,
              "#d8576b"
             ],
             [
              0.6666666666666666,
              "#ed7953"
             ],
             [
              0.7777777777777778,
              "#fb9f3a"
             ],
             [
              0.8888888888888888,
              "#fdca26"
             ],
             [
              1,
              "#f0f921"
             ]
            ],
            "type": "histogram2dcontour"
           }
          ],
          "mesh3d": [
           {
            "colorbar": {
             "outlinewidth": 0,
             "ticks": ""
            },
            "type": "mesh3d"
           }
          ],
          "parcoords": [
           {
            "line": {
             "colorbar": {
              "outlinewidth": 0,
              "ticks": ""
             }
            },
            "type": "parcoords"
           }
          ],
          "pie": [
           {
            "automargin": true,
            "type": "pie"
           }
          ],
          "scatter": [
           {
            "fillpattern": {
             "fillmode": "overlay",
             "size": 10,
             "solidity": 0.2
            },
            "type": "scatter"
           }
          ],
          "scatter3d": [
           {
            "line": {
             "colorbar": {
              "outlinewidth": 0,
              "ticks": ""
             }
            },
            "marker": {
             "colorbar": {
              "outlinewidth": 0,
              "ticks": ""
             }
            },
            "type": "scatter3d"
           }
          ],
          "scattercarpet": [
           {
            "marker": {
             "colorbar": {
              "outlinewidth": 0,
              "ticks": ""
             }
            },
            "type": "scattercarpet"
           }
          ],
          "scattergeo": [
           {
            "marker": {
             "colorbar": {
              "outlinewidth": 0,
              "ticks": ""
             }
            },
            "type": "scattergeo"
           }
          ],
          "scattergl": [
           {
            "marker": {
             "colorbar": {
              "outlinewidth": 0,
              "ticks": ""
             }
            },
            "type": "scattergl"
           }
          ],
          "scattermapbox": [
           {
            "marker": {
             "colorbar": {
              "outlinewidth": 0,
              "ticks": ""
             }
            },
            "type": "scattermapbox"
           }
          ],
          "scatterpolar": [
           {
            "marker": {
             "colorbar": {
              "outlinewidth": 0,
              "ticks": ""
             }
            },
            "type": "scatterpolar"
           }
          ],
          "scatterpolargl": [
           {
            "marker": {
             "colorbar": {
              "outlinewidth": 0,
              "ticks": ""
             }
            },
            "type": "scatterpolargl"
           }
          ],
          "scatterternary": [
           {
            "marker": {
             "colorbar": {
              "outlinewidth": 0,
              "ticks": ""
             }
            },
            "type": "scatterternary"
           }
          ],
          "surface": [
           {
            "colorbar": {
             "outlinewidth": 0,
             "ticks": ""
            },
            "colorscale": [
             [
              0,
              "#0d0887"
             ],
             [
              0.1111111111111111,
              "#46039f"
             ],
             [
              0.2222222222222222,
              "#7201a8"
             ],
             [
              0.3333333333333333,
              "#9c179e"
             ],
             [
              0.4444444444444444,
              "#bd3786"
             ],
             [
              0.5555555555555556,
              "#d8576b"
             ],
             [
              0.6666666666666666,
              "#ed7953"
             ],
             [
              0.7777777777777778,
              "#fb9f3a"
             ],
             [
              0.8888888888888888,
              "#fdca26"
             ],
             [
              1,
              "#f0f921"
             ]
            ],
            "type": "surface"
           }
          ],
          "table": [
           {
            "cells": {
             "fill": {
              "color": "#EBF0F8"
             },
             "line": {
              "color": "white"
             }
            },
            "header": {
             "fill": {
              "color": "#C8D4E3"
             },
             "line": {
              "color": "white"
             }
            },
            "type": "table"
           }
          ]
         },
         "layout": {
          "annotationdefaults": {
           "arrowcolor": "#2a3f5f",
           "arrowhead": 0,
           "arrowwidth": 1
          },
          "autotypenumbers": "strict",
          "coloraxis": {
           "colorbar": {
            "outlinewidth": 0,
            "ticks": ""
           }
          },
          "colorscale": {
           "diverging": [
            [
             0,
             "#8e0152"
            ],
            [
             0.1,
             "#c51b7d"
            ],
            [
             0.2,
             "#de77ae"
            ],
            [
             0.3,
             "#f1b6da"
            ],
            [
             0.4,
             "#fde0ef"
            ],
            [
             0.5,
             "#f7f7f7"
            ],
            [
             0.6,
             "#e6f5d0"
            ],
            [
             0.7,
             "#b8e186"
            ],
            [
             0.8,
             "#7fbc41"
            ],
            [
             0.9,
             "#4d9221"
            ],
            [
             1,
             "#276419"
            ]
           ],
           "sequential": [
            [
             0,
             "#0d0887"
            ],
            [
             0.1111111111111111,
             "#46039f"
            ],
            [
             0.2222222222222222,
             "#7201a8"
            ],
            [
             0.3333333333333333,
             "#9c179e"
            ],
            [
             0.4444444444444444,
             "#bd3786"
            ],
            [
             0.5555555555555556,
             "#d8576b"
            ],
            [
             0.6666666666666666,
             "#ed7953"
            ],
            [
             0.7777777777777778,
             "#fb9f3a"
            ],
            [
             0.8888888888888888,
             "#fdca26"
            ],
            [
             1,
             "#f0f921"
            ]
           ],
           "sequentialminus": [
            [
             0,
             "#0d0887"
            ],
            [
             0.1111111111111111,
             "#46039f"
            ],
            [
             0.2222222222222222,
             "#7201a8"
            ],
            [
             0.3333333333333333,
             "#9c179e"
            ],
            [
             0.4444444444444444,
             "#bd3786"
            ],
            [
             0.5555555555555556,
             "#d8576b"
            ],
            [
             0.6666666666666666,
             "#ed7953"
            ],
            [
             0.7777777777777778,
             "#fb9f3a"
            ],
            [
             0.8888888888888888,
             "#fdca26"
            ],
            [
             1,
             "#f0f921"
            ]
           ]
          },
          "colorway": [
           "#636efa",
           "#EF553B",
           "#00cc96",
           "#ab63fa",
           "#FFA15A",
           "#19d3f3",
           "#FF6692",
           "#B6E880",
           "#FF97FF",
           "#FECB52"
          ],
          "font": {
           "color": "#2a3f5f"
          },
          "geo": {
           "bgcolor": "white",
           "lakecolor": "white",
           "landcolor": "white",
           "showlakes": true,
           "showland": true,
           "subunitcolor": "#C8D4E3"
          },
          "hoverlabel": {
           "align": "left"
          },
          "hovermode": "closest",
          "mapbox": {
           "style": "light"
          },
          "paper_bgcolor": "white",
          "plot_bgcolor": "white",
          "polar": {
           "angularaxis": {
            "gridcolor": "#EBF0F8",
            "linecolor": "#EBF0F8",
            "ticks": ""
           },
           "bgcolor": "white",
           "radialaxis": {
            "gridcolor": "#EBF0F8",
            "linecolor": "#EBF0F8",
            "ticks": ""
           }
          },
          "scene": {
           "xaxis": {
            "backgroundcolor": "white",
            "gridcolor": "#DFE8F3",
            "gridwidth": 2,
            "linecolor": "#EBF0F8",
            "showbackground": true,
            "ticks": "",
            "zerolinecolor": "#EBF0F8"
           },
           "yaxis": {
            "backgroundcolor": "white",
            "gridcolor": "#DFE8F3",
            "gridwidth": 2,
            "linecolor": "#EBF0F8",
            "showbackground": true,
            "ticks": "",
            "zerolinecolor": "#EBF0F8"
           },
           "zaxis": {
            "backgroundcolor": "white",
            "gridcolor": "#DFE8F3",
            "gridwidth": 2,
            "linecolor": "#EBF0F8",
            "showbackground": true,
            "ticks": "",
            "zerolinecolor": "#EBF0F8"
           }
          },
          "shapedefaults": {
           "line": {
            "color": "#2a3f5f"
           }
          },
          "ternary": {
           "aaxis": {
            "gridcolor": "#DFE8F3",
            "linecolor": "#A2B1C6",
            "ticks": ""
           },
           "baxis": {
            "gridcolor": "#DFE8F3",
            "linecolor": "#A2B1C6",
            "ticks": ""
           },
           "bgcolor": "white",
           "caxis": {
            "gridcolor": "#DFE8F3",
            "linecolor": "#A2B1C6",
            "ticks": ""
           }
          },
          "title": {
           "x": 0.05
          },
          "xaxis": {
           "automargin": true,
           "gridcolor": "#EBF0F8",
           "linecolor": "#EBF0F8",
           "ticks": "",
           "title": {
            "standoff": 15
           },
           "zerolinecolor": "#EBF0F8",
           "zerolinewidth": 2
          },
          "yaxis": {
           "automargin": true,
           "gridcolor": "#EBF0F8",
           "linecolor": "#EBF0F8",
           "ticks": "",
           "title": {
            "standoff": 15
           },
           "zerolinecolor": "#EBF0F8",
           "zerolinewidth": 2
          }
         }
        },
        "title": {
         "text": "Distribuição do percentual de operação diária (POD) por mês - Serviço: 010"
        },
        "width": 800,
        "xaxis": {
         "anchor": "y",
         "domain": [
          0,
          1
         ],
         "title": {
          "text": ""
         }
        },
        "yaxis": {
         "anchor": "x",
         "domain": [
          0,
          1
         ],
         "range": [
          -10,
          200
         ],
         "ticksuffix": "%",
         "title": {
          "text": ""
         }
        }
       }
      }
     },
     "metadata": {},
     "output_type": "display_data"
    }
   ],
   "source": [
    "\n",
    "y = \"perc_km_planejada\"\n",
    "title = f\"Distribuição do percentual de operação diária (POD) por mês - Serviço: 010\"\n",
    "\n",
    "fig = px.box(\n",
    "    pod_pre_reprocessamento, \n",
    "    x=\"mes_ano\", \n",
    "    y=y, \n",
    "    title=title,\n",
    "    template=\"plotly_white\",\n",
    "    labels={\n",
    "        \"mes_ano\": \"\",\n",
    "        y: \"\"\n",
    "    },\n",
    "    points=\"all\"\n",
    ")\n",
    "\n",
    "fig.update_layout(\n",
    "    yaxis_range=[-10, 200],  \n",
    "    yaxis_ticksuffix=\"%\",\n",
    "    width=800,\n",
    "    height=600,\n",
    "    showlegend=False,\n",
    ")\n",
    "\n",
    "fig.add_hline(y=80, annotation_text=\"min = 80%\")  # Linha horizontal para indicar o mínimo de 80%\n",
    "\n",
    "fig.show()\n"
   ]
  },
  {
   "cell_type": "markdown",
   "metadata": {},
   "source": [
    "3.2 POD pós-reprocessamento"
   ]
  },
  {
   "cell_type": "code",
   "execution_count": 185,
   "metadata": {},
   "outputs": [
    {
     "data": {
      "text/html": [
       "<div>\n",
       "<style scoped>\n",
       "    .dataframe tbody tr th:only-of-type {\n",
       "        vertical-align: middle;\n",
       "    }\n",
       "\n",
       "    .dataframe tbody tr th {\n",
       "        vertical-align: top;\n",
       "    }\n",
       "\n",
       "    .dataframe thead th {\n",
       "        text-align: right;\n",
       "    }\n",
       "</style>\n",
       "<table border=\"1\" class=\"dataframe\">\n",
       "  <thead>\n",
       "    <tr style=\"text-align: right;\">\n",
       "      <th></th>\n",
       "      <th>mes_ano</th>\n",
       "      <th>viagens</th>\n",
       "      <th>perc_km_planejada</th>\n",
       "    </tr>\n",
       "  </thead>\n",
       "  <tbody>\n",
       "    <tr>\n",
       "      <th>372</th>\n",
       "      <td>2022-07</td>\n",
       "      <td>0</td>\n",
       "      <td>0.0</td>\n",
       "    </tr>\n",
       "    <tr>\n",
       "      <th>26</th>\n",
       "      <td>2022-07</td>\n",
       "      <td>0</td>\n",
       "      <td>0.0</td>\n",
       "    </tr>\n",
       "    <tr>\n",
       "      <th>7</th>\n",
       "      <td>2022-07</td>\n",
       "      <td>0</td>\n",
       "      <td>0.0</td>\n",
       "    </tr>\n",
       "    <tr>\n",
       "      <th>68</th>\n",
       "      <td>2022-07</td>\n",
       "      <td>0</td>\n",
       "      <td>0.0</td>\n",
       "    </tr>\n",
       "    <tr>\n",
       "      <th>155</th>\n",
       "      <td>2022-07</td>\n",
       "      <td>0</td>\n",
       "      <td>0.0</td>\n",
       "    </tr>\n",
       "    <tr>\n",
       "      <th>...</th>\n",
       "      <td>...</td>\n",
       "      <td>...</td>\n",
       "      <td>...</td>\n",
       "    </tr>\n",
       "    <tr>\n",
       "      <th>29</th>\n",
       "      <td>2023-05</td>\n",
       "      <td>28</td>\n",
       "      <td>47.0</td>\n",
       "    </tr>\n",
       "    <tr>\n",
       "      <th>239</th>\n",
       "      <td>2023-05</td>\n",
       "      <td>32</td>\n",
       "      <td>53.0</td>\n",
       "    </tr>\n",
       "    <tr>\n",
       "      <th>240</th>\n",
       "      <td>2023-05</td>\n",
       "      <td>32</td>\n",
       "      <td>53.0</td>\n",
       "    </tr>\n",
       "    <tr>\n",
       "      <th>137</th>\n",
       "      <td>2023-05</td>\n",
       "      <td>32</td>\n",
       "      <td>53.0</td>\n",
       "    </tr>\n",
       "    <tr>\n",
       "      <th>138</th>\n",
       "      <td>2023-05</td>\n",
       "      <td>32</td>\n",
       "      <td>53.0</td>\n",
       "    </tr>\n",
       "  </tbody>\n",
       "</table>\n",
       "<p>378 rows × 3 columns</p>\n",
       "</div>"
      ],
      "text/plain": [
       "     mes_ano  viagens  perc_km_planejada\n",
       "372  2022-07        0                0.0\n",
       "26   2022-07        0                0.0\n",
       "7    2022-07        0                0.0\n",
       "68   2022-07        0                0.0\n",
       "155  2022-07        0                0.0\n",
       "..       ...      ...                ...\n",
       "29   2023-05       28               47.0\n",
       "239  2023-05       32               53.0\n",
       "240  2023-05       32               53.0\n",
       "137  2023-05       32               53.0\n",
       "138  2023-05       32               53.0\n",
       "\n",
       "[378 rows x 3 columns]"
      ]
     },
     "execution_count": 185,
     "metadata": {},
     "output_type": "execute_result"
    }
   ],
   "source": [
    "pod_pos_reprocessamento = subsidio_a_pagar_dia[[\"mes_ano\",\"viagens\",\"perc_km_planejada\"]]\n",
    "pod_pos_reprocessamento['perc_km_planejada'] = pod_pos_reprocessamento['perc_km_planejada'] * 100\n",
    "pod_pos_reprocessamento"
   ]
  },
  {
   "cell_type": "code",
   "execution_count": 194,
   "metadata": {},
   "outputs": [
    {
     "data": {
      "application/vnd.plotly.v1+json": {
       "config": {
        "plotlyServerURL": "https://plot.ly"
       },
       "data": [
        {
         "alignmentgroup": "True",
         "boxpoints": "all",
         "hovertemplate": "=%{y}<extra></extra>",
         "legendgroup": "",
         "marker": {
          "color": "#636efa"
         },
         "name": "",
         "notched": false,
         "offsetgroup": "",
         "orientation": "v",
         "showlegend": false,
         "type": "box",
         "x": [
          "2022-07",
          "2022-07",
          "2022-07",
          "2022-07",
          "2022-07",
          "2022-07",
          "2022-07",
          "2022-07",
          "2022-07",
          "2022-07",
          "2022-07",
          "2022-07",
          "2022-07",
          "2022-07",
          "2022-07",
          "2022-07",
          "2022-07",
          "2022-07",
          "2022-07",
          "2022-07",
          "2022-07",
          "2022-07",
          "2022-07",
          "2022-07",
          "2022-07",
          "2022-07",
          "2022-07",
          "2022-07",
          "2022-07",
          "2022-07",
          "2022-07",
          "2022-08",
          "2022-08",
          "2022-08",
          "2022-08",
          "2022-08",
          "2022-08",
          "2022-08",
          "2022-08",
          "2022-08",
          "2022-08",
          "2022-08",
          "2022-08",
          "2022-08",
          "2022-08",
          "2022-08",
          "2022-08",
          "2022-08",
          "2022-08",
          "2022-08",
          "2022-08",
          "2022-08",
          "2022-08",
          "2022-08",
          "2022-08",
          "2022-08",
          "2022-08",
          "2022-08",
          "2022-08",
          "2022-08",
          "2022-08",
          "2022-08",
          "2022-08",
          "2022-09",
          "2022-09",
          "2022-09",
          "2022-09",
          "2022-09",
          "2022-09",
          "2022-09",
          "2022-09",
          "2022-09",
          "2022-09",
          "2022-09",
          "2022-09",
          "2022-09",
          "2022-09",
          "2022-09",
          "2022-09",
          "2022-09",
          "2022-09",
          "2022-09",
          "2022-09",
          "2022-09",
          "2022-09",
          "2022-09",
          "2022-09",
          "2022-09",
          "2022-09",
          "2022-09",
          "2022-09",
          "2022-09",
          "2022-09",
          "2022-10",
          "2022-10",
          "2022-10",
          "2022-10",
          "2022-10",
          "2022-10",
          "2022-10",
          "2022-10",
          "2022-10",
          "2022-10",
          "2022-10",
          "2022-10",
          "2022-10",
          "2022-10",
          "2022-10",
          "2022-10",
          "2022-10",
          "2022-10",
          "2022-10",
          "2022-10",
          "2022-10",
          "2022-10",
          "2022-10",
          "2022-10",
          "2022-10",
          "2022-10",
          "2022-10",
          "2022-10",
          "2022-10",
          "2022-10",
          "2022-10",
          "2022-11",
          "2022-11",
          "2022-11",
          "2022-11",
          "2022-11",
          "2022-11",
          "2022-11",
          "2022-11",
          "2022-11",
          "2022-11",
          "2022-11",
          "2022-11",
          "2022-11",
          "2022-11",
          "2022-11",
          "2022-11",
          "2022-11",
          "2022-11",
          "2022-11",
          "2022-11",
          "2022-11",
          "2022-11",
          "2022-11",
          "2022-11",
          "2022-11",
          "2022-11",
          "2022-11",
          "2022-11",
          "2022-11",
          "2022-11",
          "2022-12",
          "2022-12",
          "2022-12",
          "2022-12",
          "2022-12",
          "2022-12",
          "2022-12",
          "2022-12",
          "2022-12",
          "2022-12",
          "2022-12",
          "2022-12",
          "2022-12",
          "2022-12",
          "2022-12",
          "2022-12",
          "2022-12",
          "2022-12",
          "2022-12",
          "2022-12",
          "2022-12",
          "2022-12",
          "2022-12",
          "2022-12",
          "2022-12",
          "2022-12",
          "2022-12",
          "2022-12",
          "2022-12",
          "2022-12",
          "2022-12",
          "2022-12",
          "2023-01",
          "2023-01",
          "2023-01",
          "2023-01",
          "2023-01",
          "2023-01",
          "2023-01",
          "2023-01",
          "2023-01",
          "2023-01",
          "2023-01",
          "2023-01",
          "2023-01",
          "2023-01",
          "2023-01",
          "2023-01",
          "2023-01",
          "2023-01",
          "2023-01",
          "2023-01",
          "2023-01",
          "2023-01",
          "2023-01",
          "2023-01",
          "2023-01",
          "2023-01",
          "2023-01",
          "2023-01",
          "2023-01",
          "2023-01",
          "2023-01",
          "2023-01",
          "2023-01",
          "2023-02",
          "2023-02",
          "2023-02",
          "2023-02",
          "2023-02",
          "2023-02",
          "2023-02",
          "2023-02",
          "2023-02",
          "2023-02",
          "2023-02",
          "2023-02",
          "2023-02",
          "2023-02",
          "2023-02",
          "2023-02",
          "2023-02",
          "2023-02",
          "2023-02",
          "2023-02",
          "2023-02",
          "2023-02",
          "2023-02",
          "2023-02",
          "2023-02",
          "2023-02",
          "2023-02",
          "2023-02",
          "2023-03",
          "2023-03",
          "2023-03",
          "2023-03",
          "2023-03",
          "2023-03",
          "2023-03",
          "2023-03",
          "2023-03",
          "2023-03",
          "2023-03",
          "2023-03",
          "2023-03",
          "2023-03",
          "2023-03",
          "2023-03",
          "2023-03",
          "2023-03",
          "2023-03",
          "2023-03",
          "2023-03",
          "2023-03",
          "2023-03",
          "2023-03",
          "2023-03",
          "2023-03",
          "2023-03",
          "2023-03",
          "2023-03",
          "2023-03",
          "2023-03",
          "2023-03",
          "2023-03",
          "2023-03",
          "2023-03",
          "2023-03",
          "2023-04",
          "2023-04",
          "2023-04",
          "2023-04",
          "2023-04",
          "2023-04",
          "2023-04",
          "2023-04",
          "2023-04",
          "2023-04",
          "2023-04",
          "2023-04",
          "2023-04",
          "2023-04",
          "2023-04",
          "2023-04",
          "2023-04",
          "2023-04",
          "2023-04",
          "2023-04",
          "2023-04",
          "2023-04",
          "2023-04",
          "2023-04",
          "2023-04",
          "2023-04",
          "2023-04",
          "2023-04",
          "2023-04",
          "2023-04",
          "2023-04",
          "2023-04",
          "2023-04",
          "2023-04",
          "2023-04",
          "2023-04",
          "2023-04",
          "2023-04",
          "2023-04",
          "2023-04",
          "2023-04",
          "2023-04",
          "2023-04",
          "2023-04",
          "2023-05",
          "2023-05",
          "2023-05",
          "2023-05",
          "2023-05",
          "2023-05",
          "2023-05",
          "2023-05",
          "2023-05",
          "2023-05",
          "2023-05",
          "2023-05",
          "2023-05",
          "2023-05",
          "2023-05",
          "2023-05",
          "2023-05",
          "2023-05",
          "2023-05",
          "2023-05",
          "2023-05",
          "2023-05",
          "2023-05",
          "2023-05",
          "2023-05",
          "2023-05",
          "2023-05",
          "2023-05",
          "2023-05",
          "2023-05",
          "2023-05",
          "2023-05",
          "2023-05",
          "2023-05",
          "2023-05",
          "2023-05",
          "2023-05",
          "2023-05",
          "2023-05",
          "2023-05",
          "2023-05",
          "2023-05",
          "2023-05",
          "2023-05",
          "2023-05",
          "2023-05",
          "2023-05",
          "2023-05",
          "2023-05",
          "2023-05",
          "2023-05"
         ],
         "x0": " ",
         "xaxis": "x",
         "y": [
          0,
          0,
          0,
          0,
          0,
          73,
          65,
          75,
          69,
          43,
          72,
          73,
          39,
          39,
          36,
          69,
          0,
          37,
          39,
          39,
          104,
          102,
          137,
          107,
          107,
          100,
          106,
          107,
          104,
          149,
          100,
          107,
          107,
          79,
          84,
          103,
          154,
          100,
          107,
          107,
          107,
          107,
          107,
          146,
          100,
          107,
          32,
          75,
          111.00000000000001,
          107,
          107,
          160,
          100,
          109.00000000000001,
          107,
          111.00000000000001,
          107,
          107,
          160,
          100,
          107,
          107,
          107,
          120,
          192,
          179,
          112.00000000000001,
          118,
          120,
          112.00000000000001,
          120,
          122,
          134,
          112.00000000000001,
          120,
          126,
          122,
          124,
          120,
          141,
          112.00000000000001,
          120,
          120,
          86,
          84,
          108,
          163,
          112.00000000000001,
          103,
          74,
          115.99999999999999,
          120,
          120,
          186,
          71,
          125,
          125,
          125,
          125,
          125,
          186,
          117,
          125,
          121,
          117,
          125,
          125,
          197,
          117,
          100,
          121,
          119,
          112.00000000000001,
          121,
          200,
          158,
          118,
          125,
          125,
          121,
          121,
          202.99999999999997,
          0,
          125,
          125,
          66,
          125,
          125,
          200,
          87,
          125,
          121,
          125,
          125,
          125,
          183,
          121,
          0,
          90,
          129,
          125,
          119,
          200,
          125,
          123,
          121,
          121,
          146,
          129,
          200,
          57.99999999999999,
          146,
          121,
          125,
          103,
          83,
          165,
          69,
          133,
          93,
          96,
          103,
          121,
          160,
          104,
          103,
          96,
          100,
          100,
          104,
          101,
          111.00000000000001,
          26,
          85,
          111.00000000000001,
          111.00000000000001,
          111.00000000000001,
          100,
          53,
          0,
          91,
          100,
          100,
          104,
          100,
          0,
          0,
          97,
          10,
          83,
          92,
          2,
          97,
          100,
          175,
          113.99999999999999,
          100,
          90,
          100,
          100,
          100,
          100,
          113.99999999999999,
          100,
          97,
          102,
          97,
          100,
          103,
          118,
          97,
          97,
          97,
          103,
          100,
          66,
          89,
          100,
          52,
          93,
          103,
          107,
          106,
          97,
          107,
          77,
          38,
          0,
          0,
          0,
          0,
          0,
          0,
          65,
          105,
          80,
          50,
          92,
          47,
          45,
          56.99999999999999,
          107,
          90,
          44,
          97,
          107,
          43,
          87,
          80,
          23,
          107,
          94,
          107,
          100,
          60,
          80,
          80,
          107,
          97,
          113.99999999999999,
          103,
          90,
          107,
          100,
          103,
          100,
          113.99999999999999,
          107,
          107,
          52,
          53,
          56.99999999999999,
          50,
          53,
          97,
          111.00000000000001,
          37,
          52,
          53,
          30,
          82,
          107,
          107,
          97,
          103,
          103,
          53,
          53,
          50,
          53,
          100,
          93,
          94,
          100,
          52,
          52,
          53,
          52,
          53,
          53,
          50,
          50,
          98,
          94,
          96,
          53,
          53,
          2,
          107,
          53,
          53,
          102,
          113.99999999999999,
          100,
          107,
          53,
          52,
          52,
          53,
          53,
          48,
          52,
          53,
          47,
          47,
          100,
          89,
          103,
          53,
          47,
          50,
          50,
          50,
          53,
          50,
          53,
          100,
          113.99999999999999,
          47,
          53,
          53,
          53,
          50,
          53,
          100,
          50,
          50,
          100,
          113.99999999999999,
          93,
          50,
          50,
          47,
          50,
          53,
          43,
          53,
          48,
          97,
          111.00000000000001,
          47,
          53,
          50,
          50,
          50,
          50,
          50,
          50,
          53,
          53,
          100,
          113.99999999999999,
          47,
          47,
          53,
          53,
          53,
          53
         ],
         "y0": " ",
         "yaxis": "y"
        }
       ],
       "layout": {
        "annotations": [
         {
          "showarrow": false,
          "text": "min = 80%",
          "x": 1,
          "xanchor": "right",
          "xref": "x domain",
          "y": 80,
          "yanchor": "bottom",
          "yref": "y"
         }
        ],
        "boxmode": "group",
        "height": 600,
        "legend": {
         "tracegroupgap": 0
        },
        "shapes": [
         {
          "type": "line",
          "x0": 0,
          "x1": 1,
          "xref": "x domain",
          "y0": 80,
          "y1": 80,
          "yref": "y"
         }
        ],
        "showlegend": false,
        "template": {
         "data": {
          "bar": [
           {
            "error_x": {
             "color": "#2a3f5f"
            },
            "error_y": {
             "color": "#2a3f5f"
            },
            "marker": {
             "line": {
              "color": "white",
              "width": 0.5
             },
             "pattern": {
              "fillmode": "overlay",
              "size": 10,
              "solidity": 0.2
             }
            },
            "type": "bar"
           }
          ],
          "barpolar": [
           {
            "marker": {
             "line": {
              "color": "white",
              "width": 0.5
             },
             "pattern": {
              "fillmode": "overlay",
              "size": 10,
              "solidity": 0.2
             }
            },
            "type": "barpolar"
           }
          ],
          "carpet": [
           {
            "aaxis": {
             "endlinecolor": "#2a3f5f",
             "gridcolor": "#C8D4E3",
             "linecolor": "#C8D4E3",
             "minorgridcolor": "#C8D4E3",
             "startlinecolor": "#2a3f5f"
            },
            "baxis": {
             "endlinecolor": "#2a3f5f",
             "gridcolor": "#C8D4E3",
             "linecolor": "#C8D4E3",
             "minorgridcolor": "#C8D4E3",
             "startlinecolor": "#2a3f5f"
            },
            "type": "carpet"
           }
          ],
          "choropleth": [
           {
            "colorbar": {
             "outlinewidth": 0,
             "ticks": ""
            },
            "type": "choropleth"
           }
          ],
          "contour": [
           {
            "colorbar": {
             "outlinewidth": 0,
             "ticks": ""
            },
            "colorscale": [
             [
              0,
              "#0d0887"
             ],
             [
              0.1111111111111111,
              "#46039f"
             ],
             [
              0.2222222222222222,
              "#7201a8"
             ],
             [
              0.3333333333333333,
              "#9c179e"
             ],
             [
              0.4444444444444444,
              "#bd3786"
             ],
             [
              0.5555555555555556,
              "#d8576b"
             ],
             [
              0.6666666666666666,
              "#ed7953"
             ],
             [
              0.7777777777777778,
              "#fb9f3a"
             ],
             [
              0.8888888888888888,
              "#fdca26"
             ],
             [
              1,
              "#f0f921"
             ]
            ],
            "type": "contour"
           }
          ],
          "contourcarpet": [
           {
            "colorbar": {
             "outlinewidth": 0,
             "ticks": ""
            },
            "type": "contourcarpet"
           }
          ],
          "heatmap": [
           {
            "colorbar": {
             "outlinewidth": 0,
             "ticks": ""
            },
            "colorscale": [
             [
              0,
              "#0d0887"
             ],
             [
              0.1111111111111111,
              "#46039f"
             ],
             [
              0.2222222222222222,
              "#7201a8"
             ],
             [
              0.3333333333333333,
              "#9c179e"
             ],
             [
              0.4444444444444444,
              "#bd3786"
             ],
             [
              0.5555555555555556,
              "#d8576b"
             ],
             [
              0.6666666666666666,
              "#ed7953"
             ],
             [
              0.7777777777777778,
              "#fb9f3a"
             ],
             [
              0.8888888888888888,
              "#fdca26"
             ],
             [
              1,
              "#f0f921"
             ]
            ],
            "type": "heatmap"
           }
          ],
          "heatmapgl": [
           {
            "colorbar": {
             "outlinewidth": 0,
             "ticks": ""
            },
            "colorscale": [
             [
              0,
              "#0d0887"
             ],
             [
              0.1111111111111111,
              "#46039f"
             ],
             [
              0.2222222222222222,
              "#7201a8"
             ],
             [
              0.3333333333333333,
              "#9c179e"
             ],
             [
              0.4444444444444444,
              "#bd3786"
             ],
             [
              0.5555555555555556,
              "#d8576b"
             ],
             [
              0.6666666666666666,
              "#ed7953"
             ],
             [
              0.7777777777777778,
              "#fb9f3a"
             ],
             [
              0.8888888888888888,
              "#fdca26"
             ],
             [
              1,
              "#f0f921"
             ]
            ],
            "type": "heatmapgl"
           }
          ],
          "histogram": [
           {
            "marker": {
             "pattern": {
              "fillmode": "overlay",
              "size": 10,
              "solidity": 0.2
             }
            },
            "type": "histogram"
           }
          ],
          "histogram2d": [
           {
            "colorbar": {
             "outlinewidth": 0,
             "ticks": ""
            },
            "colorscale": [
             [
              0,
              "#0d0887"
             ],
             [
              0.1111111111111111,
              "#46039f"
             ],
             [
              0.2222222222222222,
              "#7201a8"
             ],
             [
              0.3333333333333333,
              "#9c179e"
             ],
             [
              0.4444444444444444,
              "#bd3786"
             ],
             [
              0.5555555555555556,
              "#d8576b"
             ],
             [
              0.6666666666666666,
              "#ed7953"
             ],
             [
              0.7777777777777778,
              "#fb9f3a"
             ],
             [
              0.8888888888888888,
              "#fdca26"
             ],
             [
              1,
              "#f0f921"
             ]
            ],
            "type": "histogram2d"
           }
          ],
          "histogram2dcontour": [
           {
            "colorbar": {
             "outlinewidth": 0,
             "ticks": ""
            },
            "colorscale": [
             [
              0,
              "#0d0887"
             ],
             [
              0.1111111111111111,
              "#46039f"
             ],
             [
              0.2222222222222222,
              "#7201a8"
             ],
             [
              0.3333333333333333,
              "#9c179e"
             ],
             [
              0.4444444444444444,
              "#bd3786"
             ],
             [
              0.5555555555555556,
              "#d8576b"
             ],
             [
              0.6666666666666666,
              "#ed7953"
             ],
             [
              0.7777777777777778,
              "#fb9f3a"
             ],
             [
              0.8888888888888888,
              "#fdca26"
             ],
             [
              1,
              "#f0f921"
             ]
            ],
            "type": "histogram2dcontour"
           }
          ],
          "mesh3d": [
           {
            "colorbar": {
             "outlinewidth": 0,
             "ticks": ""
            },
            "type": "mesh3d"
           }
          ],
          "parcoords": [
           {
            "line": {
             "colorbar": {
              "outlinewidth": 0,
              "ticks": ""
             }
            },
            "type": "parcoords"
           }
          ],
          "pie": [
           {
            "automargin": true,
            "type": "pie"
           }
          ],
          "scatter": [
           {
            "fillpattern": {
             "fillmode": "overlay",
             "size": 10,
             "solidity": 0.2
            },
            "type": "scatter"
           }
          ],
          "scatter3d": [
           {
            "line": {
             "colorbar": {
              "outlinewidth": 0,
              "ticks": ""
             }
            },
            "marker": {
             "colorbar": {
              "outlinewidth": 0,
              "ticks": ""
             }
            },
            "type": "scatter3d"
           }
          ],
          "scattercarpet": [
           {
            "marker": {
             "colorbar": {
              "outlinewidth": 0,
              "ticks": ""
             }
            },
            "type": "scattercarpet"
           }
          ],
          "scattergeo": [
           {
            "marker": {
             "colorbar": {
              "outlinewidth": 0,
              "ticks": ""
             }
            },
            "type": "scattergeo"
           }
          ],
          "scattergl": [
           {
            "marker": {
             "colorbar": {
              "outlinewidth": 0,
              "ticks": ""
             }
            },
            "type": "scattergl"
           }
          ],
          "scattermapbox": [
           {
            "marker": {
             "colorbar": {
              "outlinewidth": 0,
              "ticks": ""
             }
            },
            "type": "scattermapbox"
           }
          ],
          "scatterpolar": [
           {
            "marker": {
             "colorbar": {
              "outlinewidth": 0,
              "ticks": ""
             }
            },
            "type": "scatterpolar"
           }
          ],
          "scatterpolargl": [
           {
            "marker": {
             "colorbar": {
              "outlinewidth": 0,
              "ticks": ""
             }
            },
            "type": "scatterpolargl"
           }
          ],
          "scatterternary": [
           {
            "marker": {
             "colorbar": {
              "outlinewidth": 0,
              "ticks": ""
             }
            },
            "type": "scatterternary"
           }
          ],
          "surface": [
           {
            "colorbar": {
             "outlinewidth": 0,
             "ticks": ""
            },
            "colorscale": [
             [
              0,
              "#0d0887"
             ],
             [
              0.1111111111111111,
              "#46039f"
             ],
             [
              0.2222222222222222,
              "#7201a8"
             ],
             [
              0.3333333333333333,
              "#9c179e"
             ],
             [
              0.4444444444444444,
              "#bd3786"
             ],
             [
              0.5555555555555556,
              "#d8576b"
             ],
             [
              0.6666666666666666,
              "#ed7953"
             ],
             [
              0.7777777777777778,
              "#fb9f3a"
             ],
             [
              0.8888888888888888,
              "#fdca26"
             ],
             [
              1,
              "#f0f921"
             ]
            ],
            "type": "surface"
           }
          ],
          "table": [
           {
            "cells": {
             "fill": {
              "color": "#EBF0F8"
             },
             "line": {
              "color": "white"
             }
            },
            "header": {
             "fill": {
              "color": "#C8D4E3"
             },
             "line": {
              "color": "white"
             }
            },
            "type": "table"
           }
          ]
         },
         "layout": {
          "annotationdefaults": {
           "arrowcolor": "#2a3f5f",
           "arrowhead": 0,
           "arrowwidth": 1
          },
          "autotypenumbers": "strict",
          "coloraxis": {
           "colorbar": {
            "outlinewidth": 0,
            "ticks": ""
           }
          },
          "colorscale": {
           "diverging": [
            [
             0,
             "#8e0152"
            ],
            [
             0.1,
             "#c51b7d"
            ],
            [
             0.2,
             "#de77ae"
            ],
            [
             0.3,
             "#f1b6da"
            ],
            [
             0.4,
             "#fde0ef"
            ],
            [
             0.5,
             "#f7f7f7"
            ],
            [
             0.6,
             "#e6f5d0"
            ],
            [
             0.7,
             "#b8e186"
            ],
            [
             0.8,
             "#7fbc41"
            ],
            [
             0.9,
             "#4d9221"
            ],
            [
             1,
             "#276419"
            ]
           ],
           "sequential": [
            [
             0,
             "#0d0887"
            ],
            [
             0.1111111111111111,
             "#46039f"
            ],
            [
             0.2222222222222222,
             "#7201a8"
            ],
            [
             0.3333333333333333,
             "#9c179e"
            ],
            [
             0.4444444444444444,
             "#bd3786"
            ],
            [
             0.5555555555555556,
             "#d8576b"
            ],
            [
             0.6666666666666666,
             "#ed7953"
            ],
            [
             0.7777777777777778,
             "#fb9f3a"
            ],
            [
             0.8888888888888888,
             "#fdca26"
            ],
            [
             1,
             "#f0f921"
            ]
           ],
           "sequentialminus": [
            [
             0,
             "#0d0887"
            ],
            [
             0.1111111111111111,
             "#46039f"
            ],
            [
             0.2222222222222222,
             "#7201a8"
            ],
            [
             0.3333333333333333,
             "#9c179e"
            ],
            [
             0.4444444444444444,
             "#bd3786"
            ],
            [
             0.5555555555555556,
             "#d8576b"
            ],
            [
             0.6666666666666666,
             "#ed7953"
            ],
            [
             0.7777777777777778,
             "#fb9f3a"
            ],
            [
             0.8888888888888888,
             "#fdca26"
            ],
            [
             1,
             "#f0f921"
            ]
           ]
          },
          "colorway": [
           "#636efa",
           "#EF553B",
           "#00cc96",
           "#ab63fa",
           "#FFA15A",
           "#19d3f3",
           "#FF6692",
           "#B6E880",
           "#FF97FF",
           "#FECB52"
          ],
          "font": {
           "color": "#2a3f5f"
          },
          "geo": {
           "bgcolor": "white",
           "lakecolor": "white",
           "landcolor": "white",
           "showlakes": true,
           "showland": true,
           "subunitcolor": "#C8D4E3"
          },
          "hoverlabel": {
           "align": "left"
          },
          "hovermode": "closest",
          "mapbox": {
           "style": "light"
          },
          "paper_bgcolor": "white",
          "plot_bgcolor": "white",
          "polar": {
           "angularaxis": {
            "gridcolor": "#EBF0F8",
            "linecolor": "#EBF0F8",
            "ticks": ""
           },
           "bgcolor": "white",
           "radialaxis": {
            "gridcolor": "#EBF0F8",
            "linecolor": "#EBF0F8",
            "ticks": ""
           }
          },
          "scene": {
           "xaxis": {
            "backgroundcolor": "white",
            "gridcolor": "#DFE8F3",
            "gridwidth": 2,
            "linecolor": "#EBF0F8",
            "showbackground": true,
            "ticks": "",
            "zerolinecolor": "#EBF0F8"
           },
           "yaxis": {
            "backgroundcolor": "white",
            "gridcolor": "#DFE8F3",
            "gridwidth": 2,
            "linecolor": "#EBF0F8",
            "showbackground": true,
            "ticks": "",
            "zerolinecolor": "#EBF0F8"
           },
           "zaxis": {
            "backgroundcolor": "white",
            "gridcolor": "#DFE8F3",
            "gridwidth": 2,
            "linecolor": "#EBF0F8",
            "showbackground": true,
            "ticks": "",
            "zerolinecolor": "#EBF0F8"
           }
          },
          "shapedefaults": {
           "line": {
            "color": "#2a3f5f"
           }
          },
          "ternary": {
           "aaxis": {
            "gridcolor": "#DFE8F3",
            "linecolor": "#A2B1C6",
            "ticks": ""
           },
           "baxis": {
            "gridcolor": "#DFE8F3",
            "linecolor": "#A2B1C6",
            "ticks": ""
           },
           "bgcolor": "white",
           "caxis": {
            "gridcolor": "#DFE8F3",
            "linecolor": "#A2B1C6",
            "ticks": ""
           }
          },
          "title": {
           "x": 0.05
          },
          "xaxis": {
           "automargin": true,
           "gridcolor": "#EBF0F8",
           "linecolor": "#EBF0F8",
           "ticks": "",
           "title": {
            "standoff": 15
           },
           "zerolinecolor": "#EBF0F8",
           "zerolinewidth": 2
          },
          "yaxis": {
           "automargin": true,
           "gridcolor": "#EBF0F8",
           "linecolor": "#EBF0F8",
           "ticks": "",
           "title": {
            "standoff": 15
           },
           "zerolinecolor": "#EBF0F8",
           "zerolinewidth": 2
          }
         }
        },
        "title": {
         "text": "Distribuição do percentual de operação diária (POD) por mês - Serviço: 010 <br>Versão reprocessada"
        },
        "width": 800,
        "xaxis": {
         "anchor": "y",
         "domain": [
          0,
          1
         ],
         "title": {
          "text": ""
         }
        },
        "yaxis": {
         "anchor": "x",
         "domain": [
          0,
          1
         ],
         "range": [
          -50,
          230
         ],
         "ticksuffix": "%",
         "title": {
          "text": ""
         }
        }
       }
      }
     },
     "metadata": {},
     "output_type": "display_data"
    }
   ],
   "source": [
    "\n",
    "y = \"perc_km_planejada\"\n",
    "title = \"Distribuição do percentual de operação diária (POD) por mês - Serviço: 010 <br>Versão reprocessada\"\n",
    "\n",
    "fig = px.box(\n",
    "    pod_pos_reprocessamento, \n",
    "    x=\"mes_ano\", \n",
    "    y=y, \n",
    "    title=title,\n",
    "    template=\"plotly_white\",\n",
    "    labels={\n",
    "        \"mes_ano\": \"\",\n",
    "        y: \"\"\n",
    "    },\n",
    "    points=\"all\"\n",
    ")\n",
    "\n",
    "fig.update_layout(\n",
    "    yaxis_range=[-50, 230],  \n",
    "    yaxis_ticksuffix=\"%\",\n",
    "    width=800,\n",
    "    height=600,\n",
    "    showlegend=False,\n",
    ")\n",
    "\n",
    "fig.add_hline(y=80, annotation_text=\"min = 80%\")  # Linha horizontal para indicar o mínimo de 80%\n",
    "\n",
    "fig.show()\n"
   ]
  },
  {
   "cell_type": "markdown",
   "metadata": {},
   "source": [
    "Nota-se que apesar do aumento geral do valor a ser pago após o reprocessamento, em abril e maio de 2023 o valor foi menor, já que o POD da maior parte dos dias ficou abaixo de 80%."
   ]
  },
  {
   "cell_type": "markdown",
   "metadata": {},
   "source": [
    "No novo shape o valor da distância planejada para os sábados e domingos é fixo em 88.08 km e 77.07 km, respectivamente. \n",
    "\n",
    "No shape original, estes valores eram maiores. O resultado é um aumento generalizado do POD, chegando a 360% em alguns casos."
   ]
  },
  {
   "cell_type": "code",
   "execution_count": 187,
   "metadata": {},
   "outputs": [
    {
     "data": {
      "text/html": [
       "<div>\n",
       "<style scoped>\n",
       "    .dataframe tbody tr th:only-of-type {\n",
       "        vertical-align: middle;\n",
       "    }\n",
       "\n",
       "    .dataframe tbody tr th {\n",
       "        vertical-align: top;\n",
       "    }\n",
       "\n",
       "    .dataframe thead th {\n",
       "        text-align: right;\n",
       "    }\n",
       "</style>\n",
       "<table border=\"1\" class=\"dataframe\">\n",
       "  <thead>\n",
       "    <tr style=\"text-align: right;\">\n",
       "      <th></th>\n",
       "      <th>DATA</th>\n",
       "      <th>viagens</th>\n",
       "      <th>km_apurada</th>\n",
       "      <th>distancia_total_planejada</th>\n",
       "      <th>perc_km_planejada</th>\n",
       "      <th>valor_subsidio_por_km</th>\n",
       "      <th>valor_subsidio</th>\n",
       "      <th>mes_ano</th>\n",
       "    </tr>\n",
       "  </thead>\n",
       "  <tbody>\n",
       "    <tr>\n",
       "      <th>38</th>\n",
       "      <td>2022-10-29</td>\n",
       "      <td>61</td>\n",
       "      <td>317.112</td>\n",
       "      <td>156.292</td>\n",
       "      <td>2.03</td>\n",
       "      <td>1.62</td>\n",
       "      <td>513.72144</td>\n",
       "      <td>2022-10</td>\n",
       "    </tr>\n",
       "    <tr>\n",
       "      <th>287</th>\n",
       "      <td>2022-10-22</td>\n",
       "      <td>60</td>\n",
       "      <td>312.210</td>\n",
       "      <td>156.292</td>\n",
       "      <td>2.00</td>\n",
       "      <td>1.62</td>\n",
       "      <td>505.78020</td>\n",
       "      <td>2022-10</td>\n",
       "    </tr>\n",
       "    <tr>\n",
       "      <th>111</th>\n",
       "      <td>2022-11-26</td>\n",
       "      <td>60</td>\n",
       "      <td>312.210</td>\n",
       "      <td>156.291</td>\n",
       "      <td>2.00</td>\n",
       "      <td>1.53</td>\n",
       "      <td>477.68130</td>\n",
       "      <td>2022-11</td>\n",
       "    </tr>\n",
       "    <tr>\n",
       "      <th>150</th>\n",
       "      <td>2022-11-05</td>\n",
       "      <td>60</td>\n",
       "      <td>312.210</td>\n",
       "      <td>156.291</td>\n",
       "      <td>2.00</td>\n",
       "      <td>1.53</td>\n",
       "      <td>477.68130</td>\n",
       "      <td>2022-11</td>\n",
       "    </tr>\n",
       "    <tr>\n",
       "      <th>302</th>\n",
       "      <td>2022-11-19</td>\n",
       "      <td>60</td>\n",
       "      <td>312.210</td>\n",
       "      <td>156.291</td>\n",
       "      <td>2.00</td>\n",
       "      <td>1.53</td>\n",
       "      <td>477.68130</td>\n",
       "      <td>2022-11</td>\n",
       "    </tr>\n",
       "    <tr>\n",
       "      <th>...</th>\n",
       "      <td>...</td>\n",
       "      <td>...</td>\n",
       "      <td>...</td>\n",
       "      <td>...</td>\n",
       "      <td>...</td>\n",
       "      <td>...</td>\n",
       "      <td>...</td>\n",
       "      <td>...</td>\n",
       "    </tr>\n",
       "    <tr>\n",
       "      <th>277</th>\n",
       "      <td>2023-01-01</td>\n",
       "      <td>0</td>\n",
       "      <td>0.000</td>\n",
       "      <td>145.680</td>\n",
       "      <td>0.00</td>\n",
       "      <td>3.18</td>\n",
       "      <td>0.00000</td>\n",
       "      <td>2023-01</td>\n",
       "    </tr>\n",
       "    <tr>\n",
       "      <th>89</th>\n",
       "      <td>2022-12-31</td>\n",
       "      <td>0</td>\n",
       "      <td>0.000</td>\n",
       "      <td>175.828</td>\n",
       "      <td>0.00</td>\n",
       "      <td>1.78</td>\n",
       "      <td>0.00000</td>\n",
       "      <td>2022-12</td>\n",
       "    </tr>\n",
       "    <tr>\n",
       "      <th>190</th>\n",
       "      <td>2022-12-25</td>\n",
       "      <td>0</td>\n",
       "      <td>0.000</td>\n",
       "      <td>140.662</td>\n",
       "      <td>0.00</td>\n",
       "      <td>1.78</td>\n",
       "      <td>0.00000</td>\n",
       "      <td>2022-12</td>\n",
       "    </tr>\n",
       "    <tr>\n",
       "      <th>236</th>\n",
       "      <td>2022-11-14</td>\n",
       "      <td>0</td>\n",
       "      <td>0.000</td>\n",
       "      <td>156.291</td>\n",
       "      <td>0.00</td>\n",
       "      <td>1.53</td>\n",
       "      <td>0.00000</td>\n",
       "      <td>2022-11</td>\n",
       "    </tr>\n",
       "    <tr>\n",
       "      <th>372</th>\n",
       "      <td>2022-07-01</td>\n",
       "      <td>0</td>\n",
       "      <td>0.000</td>\n",
       "      <td>290.777</td>\n",
       "      <td>0.00</td>\n",
       "      <td>1.84</td>\n",
       "      <td>0.00000</td>\n",
       "      <td>2022-07</td>\n",
       "    </tr>\n",
       "  </tbody>\n",
       "</table>\n",
       "<p>378 rows × 8 columns</p>\n",
       "</div>"
      ],
      "text/plain": [
       "          DATA  viagens  km_apurada  distancia_total_planejada  \\\n",
       "38  2022-10-29       61     317.112                    156.292   \n",
       "287 2022-10-22       60     312.210                    156.292   \n",
       "111 2022-11-26       60     312.210                    156.291   \n",
       "150 2022-11-05       60     312.210                    156.291   \n",
       "302 2022-11-19       60     312.210                    156.291   \n",
       "..         ...      ...         ...                        ...   \n",
       "277 2023-01-01        0       0.000                    145.680   \n",
       "89  2022-12-31        0       0.000                    175.828   \n",
       "190 2022-12-25        0       0.000                    140.662   \n",
       "236 2022-11-14        0       0.000                    156.291   \n",
       "372 2022-07-01        0       0.000                    290.777   \n",
       "\n",
       "     perc_km_planejada  valor_subsidio_por_km  valor_subsidio  mes_ano  \n",
       "38                2.03                   1.62       513.72144  2022-10  \n",
       "287               2.00                   1.62       505.78020  2022-10  \n",
       "111               2.00                   1.53       477.68130  2022-11  \n",
       "150               2.00                   1.53       477.68130  2022-11  \n",
       "302               2.00                   1.53       477.68130  2022-11  \n",
       "..                 ...                    ...             ...      ...  \n",
       "277               0.00                   3.18         0.00000  2023-01  \n",
       "89                0.00                   1.78         0.00000  2022-12  \n",
       "190               0.00                   1.78         0.00000  2022-12  \n",
       "236               0.00                   1.53         0.00000  2022-11  \n",
       "372               0.00                   1.84         0.00000  2022-07  \n",
       "\n",
       "[378 rows x 8 columns]"
      ]
     },
     "execution_count": 187,
     "metadata": {},
     "output_type": "execute_result"
    }
   ],
   "source": [
    "maiores_perc_pos = subsidio_a_pagar_dia.sort_values(by='perc_km_planejada', ascending=False)\n",
    "maiores_perc_pos"
   ]
  },
  {
   "cell_type": "code",
   "execution_count": 188,
   "metadata": {},
   "outputs": [
    {
     "name": "stderr",
     "output_type": "stream",
     "text": [
      "Downloading: 100%|██████████| 1/1 [00:00<00:00,  3.17rows/s]\n"
     ]
    },
    {
     "data": {
      "text/html": [
       "<div>\n",
       "<style scoped>\n",
       "    .dataframe tbody tr th:only-of-type {\n",
       "        vertical-align: middle;\n",
       "    }\n",
       "\n",
       "    .dataframe tbody tr th {\n",
       "        vertical-align: top;\n",
       "    }\n",
       "\n",
       "    .dataframe thead th {\n",
       "        text-align: right;\n",
       "    }\n",
       "</style>\n",
       "<table border=\"1\" class=\"dataframe\">\n",
       "  <thead>\n",
       "    <tr style=\"text-align: right;\">\n",
       "      <th></th>\n",
       "      <th>data</th>\n",
       "      <th>tipo_dia</th>\n",
       "      <th>consorcio</th>\n",
       "      <th>servico</th>\n",
       "      <th>vista</th>\n",
       "      <th>viagens</th>\n",
       "      <th>km_apurada</th>\n",
       "      <th>km_planejada</th>\n",
       "      <th>perc_km_planejada</th>\n",
       "      <th>valor_subsidio_pago</th>\n",
       "      <th>valor_penalidade</th>\n",
       "    </tr>\n",
       "  </thead>\n",
       "  <tbody>\n",
       "    <tr>\n",
       "      <th>0</th>\n",
       "      <td>2022-10-29</td>\n",
       "      <td>Sabado</td>\n",
       "      <td>Intersul</td>\n",
       "      <td>010</td>\n",
       "      <td>Bairro de Fátima ↔ Central</td>\n",
       "      <td>27</td>\n",
       "      <td>281.313</td>\n",
       "      <td>156.292</td>\n",
       "      <td>179.99</td>\n",
       "      <td>455.73</td>\n",
       "      <td>NaN</td>\n",
       "    </tr>\n",
       "  </tbody>\n",
       "</table>\n",
       "</div>"
      ],
      "text/plain": [
       "         data tipo_dia consorcio servico                       vista  viagens  \\\n",
       "0  2022-10-29   Sabado  Intersul     010  Bairro de Fátima ↔ Central       27   \n",
       "\n",
       "   km_apurada  km_planejada  perc_km_planejada  valor_subsidio_pago  \\\n",
       "0     281.313       156.292             179.99               455.73   \n",
       "\n",
       "   valor_penalidade  \n",
       "0               NaN  "
      ]
     },
     "execution_count": 188,
     "metadata": {},
     "output_type": "execute_result"
    }
   ],
   "source": [
    "q = f\"\"\"\n",
    "SELECT\n",
    "  *\n",
    "FROM\n",
    "  `rj-smtr.dashboard_subsidio_sppo.sumario_servico_dia_historico`\n",
    "WHERE\n",
    "  servico = '010'\n",
    "  AND DATA = '2022-10-29'\n",
    "\"\"\"\n",
    "\n",
    "perc_pre_29_10_2022 = bd.read_sql(q, from_file=True)\n",
    "perc_pre_29_10_2022"
   ]
  },
  {
   "cell_type": "markdown",
   "metadata": {},
   "source": [
    "#### Comparação entre a km planejada dos shapes:"
   ]
  },
  {
   "cell_type": "code",
   "execution_count": 189,
   "metadata": {},
   "outputs": [
    {
     "name": "stderr",
     "output_type": "stream",
     "text": [
      "Downloading: 100%|██████████| 3/3 [00:00<00:00,  9.58rows/s]\n"
     ]
    },
    {
     "data": {
      "text/html": [
       "<div>\n",
       "<style scoped>\n",
       "    .dataframe tbody tr th:only-of-type {\n",
       "        vertical-align: middle;\n",
       "    }\n",
       "\n",
       "    .dataframe tbody tr th {\n",
       "        vertical-align: top;\n",
       "    }\n",
       "\n",
       "    .dataframe thead th {\n",
       "        text-align: right;\n",
       "    }\n",
       "</style>\n",
       "<table border=\"1\" class=\"dataframe\">\n",
       "  <thead>\n",
       "    <tr style=\"text-align: right;\">\n",
       "      <th></th>\n",
       "      <th>tipo_dia</th>\n",
       "      <th>distancia_total_planejada</th>\n",
       "    </tr>\n",
       "  </thead>\n",
       "  <tbody>\n",
       "    <tr>\n",
       "      <th>0</th>\n",
       "      <td>Domingo</td>\n",
       "      <td>77.07</td>\n",
       "    </tr>\n",
       "    <tr>\n",
       "      <th>1</th>\n",
       "      <td>Sabado</td>\n",
       "      <td>88.08</td>\n",
       "    </tr>\n",
       "    <tr>\n",
       "      <th>2</th>\n",
       "      <td>Dia Útil</td>\n",
       "      <td>312.21</td>\n",
       "    </tr>\n",
       "  </tbody>\n",
       "</table>\n",
       "</div>"
      ],
      "text/plain": [
       "   tipo_dia  distancia_total_planejada\n",
       "0   Domingo                      77.07\n",
       "1    Sabado                      88.08\n",
       "2  Dia Útil                     312.21"
      ]
     },
     "execution_count": 189,
     "metadata": {},
     "output_type": "execute_result"
    }
   ],
   "source": [
    "q = f\"\"\"\n",
    "    SELECT\n",
    "      DISTINCT tipo_dia,\n",
    "      distancia_total_planejada,\n",
    "    FROM\n",
    "      `rj-smtr-dev.SMTR202212006611_reprocessamento.viagem_planejada`\n",
    "    WHERE\n",
    "      servico = '010'\n",
    "      AND DATA BETWEEN \"2022-06-01\"\n",
    "      AND \"2023-05-31\"\n",
    "\"\"\"\n",
    "\n",
    "planejado_reprocessamento = bd.read_sql(q, from_file=True)\n",
    "planejado_reprocessamento"
   ]
  },
  {
   "cell_type": "code",
   "execution_count": 190,
   "metadata": {},
   "outputs": [
    {
     "name": "stderr",
     "output_type": "stream",
     "text": [
      "Downloading: 100%|██████████| 11/11 [00:00<00:00, 30.05rows/s]\n"
     ]
    },
    {
     "data": {
      "text/html": [
       "<div>\n",
       "<style scoped>\n",
       "    .dataframe tbody tr th:only-of-type {\n",
       "        vertical-align: middle;\n",
       "    }\n",
       "\n",
       "    .dataframe tbody tr th {\n",
       "        vertical-align: top;\n",
       "    }\n",
       "\n",
       "    .dataframe thead th {\n",
       "        text-align: right;\n",
       "    }\n",
       "</style>\n",
       "<table border=\"1\" class=\"dataframe\">\n",
       "  <thead>\n",
       "    <tr style=\"text-align: right;\">\n",
       "      <th></th>\n",
       "      <th>tipo_dia</th>\n",
       "      <th>perc_km_planejada</th>\n",
       "    </tr>\n",
       "  </thead>\n",
       "  <tbody>\n",
       "    <tr>\n",
       "      <th>0</th>\n",
       "      <td>Domingo</td>\n",
       "      <td>100.00</td>\n",
       "    </tr>\n",
       "    <tr>\n",
       "      <th>1</th>\n",
       "      <td>Domingo</td>\n",
       "      <td>57.15</td>\n",
       "    </tr>\n",
       "    <tr>\n",
       "      <th>2</th>\n",
       "      <td>Sabado</td>\n",
       "      <td>81.25</td>\n",
       "    </tr>\n",
       "    <tr>\n",
       "      <th>3</th>\n",
       "      <td>Sabado</td>\n",
       "      <td>75.00</td>\n",
       "    </tr>\n",
       "    <tr>\n",
       "      <th>4</th>\n",
       "      <td>Domingo</td>\n",
       "      <td>85.72</td>\n",
       "    </tr>\n",
       "    <tr>\n",
       "      <th>5</th>\n",
       "      <td>Domingo</td>\n",
       "      <td>92.86</td>\n",
       "    </tr>\n",
       "    <tr>\n",
       "      <th>6</th>\n",
       "      <td>Sabado</td>\n",
       "      <td>87.50</td>\n",
       "    </tr>\n",
       "    <tr>\n",
       "      <th>7</th>\n",
       "      <td>Domingo</td>\n",
       "      <td>64.28</td>\n",
       "    </tr>\n",
       "    <tr>\n",
       "      <th>8</th>\n",
       "      <td>Domingo</td>\n",
       "      <td>107.15</td>\n",
       "    </tr>\n",
       "    <tr>\n",
       "      <th>9</th>\n",
       "      <td>Domingo</td>\n",
       "      <td>78.58</td>\n",
       "    </tr>\n",
       "    <tr>\n",
       "      <th>10</th>\n",
       "      <td>Domingo</td>\n",
       "      <td>71.43</td>\n",
       "    </tr>\n",
       "  </tbody>\n",
       "</table>\n",
       "</div>"
      ],
      "text/plain": [
       "   tipo_dia  perc_km_planejada\n",
       "0   Domingo             100.00\n",
       "1   Domingo              57.15\n",
       "2    Sabado              81.25\n",
       "3    Sabado              75.00\n",
       "4   Domingo              85.72\n",
       "5   Domingo              92.86\n",
       "6    Sabado              87.50\n",
       "7   Domingo              64.28\n",
       "8   Domingo             107.15\n",
       "9   Domingo              78.58\n",
       "10  Domingo              71.43"
      ]
     },
     "execution_count": 190,
     "metadata": {},
     "output_type": "execute_result"
    }
   ],
   "source": [
    "q = f\"\"\"\n",
    "    SELECT\n",
    "    DISTINCT tipo_dia, perc_km_planejada\n",
    "    FROM\n",
    "    `rj-smtr.dashboard_subsidio_sppo.sumario_servico_dia_historico`\n",
    "    WHERE\n",
    "    tipo_dia IN (\"Domingo\", \"Sabado\")\n",
    "    AND servico = '010'\n",
    "    AND DATA BETWEEN '2023-04-01' \n",
    "    AND '2023-05-31'\n",
    "\"\"\"\n",
    "\n",
    "planejado_reprocessamento = bd.read_sql(q, from_file=True)\n",
    "planejado_reprocessamento"
   ]
  },
  {
   "cell_type": "code",
   "execution_count": 191,
   "metadata": {},
   "outputs": [
    {
     "name": "stderr",
     "output_type": "stream",
     "text": [
      "Downloading: 100%|██████████| 57/57 [00:00<00:00, 165.69rows/s]\n"
     ]
    },
    {
     "data": {
      "text/html": [
       "<div>\n",
       "<style scoped>\n",
       "    .dataframe tbody tr th:only-of-type {\n",
       "        vertical-align: middle;\n",
       "    }\n",
       "\n",
       "    .dataframe tbody tr th {\n",
       "        vertical-align: top;\n",
       "    }\n",
       "\n",
       "    .dataframe thead th {\n",
       "        text-align: right;\n",
       "    }\n",
       "</style>\n",
       "<table border=\"1\" class=\"dataframe\">\n",
       "  <thead>\n",
       "    <tr style=\"text-align: right;\">\n",
       "      <th></th>\n",
       "      <th>tipo_dia</th>\n",
       "      <th>perc_km_planejada</th>\n",
       "    </tr>\n",
       "  </thead>\n",
       "  <tbody>\n",
       "    <tr>\n",
       "      <th>0</th>\n",
       "      <td>Domingo</td>\n",
       "      <td>133.33</td>\n",
       "    </tr>\n",
       "    <tr>\n",
       "      <th>1</th>\n",
       "      <td>Domingo</td>\n",
       "      <td>96.00</td>\n",
       "    </tr>\n",
       "    <tr>\n",
       "      <th>2</th>\n",
       "      <td>Domingo</td>\n",
       "      <td>50.00</td>\n",
       "    </tr>\n",
       "    <tr>\n",
       "      <th>3</th>\n",
       "      <td>Sabado</td>\n",
       "      <td>186.66</td>\n",
       "    </tr>\n",
       "    <tr>\n",
       "      <th>4</th>\n",
       "      <td>Domingo</td>\n",
       "      <td>48.27</td>\n",
       "    </tr>\n",
       "    <tr>\n",
       "      <th>5</th>\n",
       "      <td>Sabado</td>\n",
       "      <td>77.24</td>\n",
       "    </tr>\n",
       "    <tr>\n",
       "      <th>6</th>\n",
       "      <td>Domingo</td>\n",
       "      <td>85.71</td>\n",
       "    </tr>\n",
       "    <tr>\n",
       "      <th>7</th>\n",
       "      <td>Sabado</td>\n",
       "      <td>43.75</td>\n",
       "    </tr>\n",
       "    <tr>\n",
       "      <th>8</th>\n",
       "      <td>Sabado</td>\n",
       "      <td>125.71</td>\n",
       "    </tr>\n",
       "    <tr>\n",
       "      <th>9</th>\n",
       "      <td>Sabado</td>\n",
       "      <td>179.99</td>\n",
       "    </tr>\n",
       "    <tr>\n",
       "      <th>10</th>\n",
       "      <td>Sabado</td>\n",
       "      <td>62.86</td>\n",
       "    </tr>\n",
       "    <tr>\n",
       "      <th>11</th>\n",
       "      <td>Sabado</td>\n",
       "      <td>115.19</td>\n",
       "    </tr>\n",
       "    <tr>\n",
       "      <th>12</th>\n",
       "      <td>Domingo</td>\n",
       "      <td>57.15</td>\n",
       "    </tr>\n",
       "    <tr>\n",
       "      <th>13</th>\n",
       "      <td>Domingo</td>\n",
       "      <td>92.86</td>\n",
       "    </tr>\n",
       "    <tr>\n",
       "      <th>14</th>\n",
       "      <td>Sabado</td>\n",
       "      <td>126.66</td>\n",
       "    </tr>\n",
       "    <tr>\n",
       "      <th>15</th>\n",
       "      <td>Sabado</td>\n",
       "      <td>94.81</td>\n",
       "    </tr>\n",
       "    <tr>\n",
       "      <th>16</th>\n",
       "      <td>Domingo</td>\n",
       "      <td>78.58</td>\n",
       "    </tr>\n",
       "    <tr>\n",
       "      <th>17</th>\n",
       "      <td>Sabado</td>\n",
       "      <td>87.50</td>\n",
       "    </tr>\n",
       "    <tr>\n",
       "      <th>18</th>\n",
       "      <td>Domingo</td>\n",
       "      <td>82.76</td>\n",
       "    </tr>\n",
       "    <tr>\n",
       "      <th>19</th>\n",
       "      <td>Sabado</td>\n",
       "      <td>62.50</td>\n",
       "    </tr>\n",
       "    <tr>\n",
       "      <th>20</th>\n",
       "      <td>Sabado</td>\n",
       "      <td>25.00</td>\n",
       "    </tr>\n",
       "    <tr>\n",
       "      <th>21</th>\n",
       "      <td>Domingo</td>\n",
       "      <td>91.66</td>\n",
       "    </tr>\n",
       "    <tr>\n",
       "      <th>22</th>\n",
       "      <td>Sabado</td>\n",
       "      <td>50.00</td>\n",
       "    </tr>\n",
       "    <tr>\n",
       "      <th>23</th>\n",
       "      <td>Domingo</td>\n",
       "      <td>96.29</td>\n",
       "    </tr>\n",
       "    <tr>\n",
       "      <th>24</th>\n",
       "      <td>Sabado</td>\n",
       "      <td>127.99</td>\n",
       "    </tr>\n",
       "    <tr>\n",
       "      <th>25</th>\n",
       "      <td>Sabado</td>\n",
       "      <td>57.14</td>\n",
       "    </tr>\n",
       "    <tr>\n",
       "      <th>26</th>\n",
       "      <td>Sabado</td>\n",
       "      <td>154.48</td>\n",
       "    </tr>\n",
       "    <tr>\n",
       "      <th>27</th>\n",
       "      <td>Domingo</td>\n",
       "      <td>80.00</td>\n",
       "    </tr>\n",
       "    <tr>\n",
       "      <th>28</th>\n",
       "      <td>Domingo</td>\n",
       "      <td>104.00</td>\n",
       "    </tr>\n",
       "    <tr>\n",
       "      <th>29</th>\n",
       "      <td>Sabado</td>\n",
       "      <td>137.14</td>\n",
       "    </tr>\n",
       "    <tr>\n",
       "      <th>30</th>\n",
       "      <td>Domingo</td>\n",
       "      <td>71.43</td>\n",
       "    </tr>\n",
       "    <tr>\n",
       "      <th>31</th>\n",
       "      <td>Domingo</td>\n",
       "      <td>66.66</td>\n",
       "    </tr>\n",
       "    <tr>\n",
       "      <th>32</th>\n",
       "      <td>Sabado</td>\n",
       "      <td>166.66</td>\n",
       "    </tr>\n",
       "    <tr>\n",
       "      <th>33</th>\n",
       "      <td>Domingo</td>\n",
       "      <td>100.00</td>\n",
       "    </tr>\n",
       "    <tr>\n",
       "      <th>34</th>\n",
       "      <td>Sabado</td>\n",
       "      <td>75.00</td>\n",
       "    </tr>\n",
       "    <tr>\n",
       "      <th>35</th>\n",
       "      <td>Domingo</td>\n",
       "      <td>35.71</td>\n",
       "    </tr>\n",
       "    <tr>\n",
       "      <th>36</th>\n",
       "      <td>Domingo</td>\n",
       "      <td>41.67</td>\n",
       "    </tr>\n",
       "    <tr>\n",
       "      <th>37</th>\n",
       "      <td>Sabado</td>\n",
       "      <td>0.00</td>\n",
       "    </tr>\n",
       "    <tr>\n",
       "      <th>38</th>\n",
       "      <td>Domingo</td>\n",
       "      <td>85.72</td>\n",
       "    </tr>\n",
       "    <tr>\n",
       "      <th>39</th>\n",
       "      <td>Sabado</td>\n",
       "      <td>29.63</td>\n",
       "    </tr>\n",
       "    <tr>\n",
       "      <th>40</th>\n",
       "      <td>Domingo</td>\n",
       "      <td>0.00</td>\n",
       "    </tr>\n",
       "    <tr>\n",
       "      <th>41</th>\n",
       "      <td>Sabado</td>\n",
       "      <td>93.75</td>\n",
       "    </tr>\n",
       "    <tr>\n",
       "      <th>42</th>\n",
       "      <td>Sabado</td>\n",
       "      <td>131.43</td>\n",
       "    </tr>\n",
       "    <tr>\n",
       "      <th>43</th>\n",
       "      <td>Domingo</td>\n",
       "      <td>78.57</td>\n",
       "    </tr>\n",
       "    <tr>\n",
       "      <th>44</th>\n",
       "      <td>Sabado</td>\n",
       "      <td>114.29</td>\n",
       "    </tr>\n",
       "    <tr>\n",
       "      <th>45</th>\n",
       "      <td>Domingo</td>\n",
       "      <td>64.28</td>\n",
       "    </tr>\n",
       "    <tr>\n",
       "      <th>46</th>\n",
       "      <td>Sabado</td>\n",
       "      <td>68.75</td>\n",
       "    </tr>\n",
       "    <tr>\n",
       "      <th>47</th>\n",
       "      <td>Sabado</td>\n",
       "      <td>173.33</td>\n",
       "    </tr>\n",
       "    <tr>\n",
       "      <th>48</th>\n",
       "      <td>Sabado</td>\n",
       "      <td>110.34</td>\n",
       "    </tr>\n",
       "    <tr>\n",
       "      <th>49</th>\n",
       "      <td>Sabado</td>\n",
       "      <td>133.33</td>\n",
       "    </tr>\n",
       "    <tr>\n",
       "      <th>50</th>\n",
       "      <td>Sabado</td>\n",
       "      <td>132.41</td>\n",
       "    </tr>\n",
       "    <tr>\n",
       "      <th>51</th>\n",
       "      <td>Sabado</td>\n",
       "      <td>142.85</td>\n",
       "    </tr>\n",
       "    <tr>\n",
       "      <th>52</th>\n",
       "      <td>Sabado</td>\n",
       "      <td>93.33</td>\n",
       "    </tr>\n",
       "    <tr>\n",
       "      <th>53</th>\n",
       "      <td>Sabado</td>\n",
       "      <td>81.25</td>\n",
       "    </tr>\n",
       "    <tr>\n",
       "      <th>54</th>\n",
       "      <td>Domingo</td>\n",
       "      <td>107.15</td>\n",
       "    </tr>\n",
       "    <tr>\n",
       "      <th>55</th>\n",
       "      <td>Sabado</td>\n",
       "      <td>159.99</td>\n",
       "    </tr>\n",
       "    <tr>\n",
       "      <th>56</th>\n",
       "      <td>Domingo</td>\n",
       "      <td>108.33</td>\n",
       "    </tr>\n",
       "  </tbody>\n",
       "</table>\n",
       "</div>"
      ],
      "text/plain": [
       "   tipo_dia  perc_km_planejada\n",
       "0   Domingo             133.33\n",
       "1   Domingo              96.00\n",
       "2   Domingo              50.00\n",
       "3    Sabado             186.66\n",
       "4   Domingo              48.27\n",
       "5    Sabado              77.24\n",
       "6   Domingo              85.71\n",
       "7    Sabado              43.75\n",
       "8    Sabado             125.71\n",
       "9    Sabado             179.99\n",
       "10   Sabado              62.86\n",
       "11   Sabado             115.19\n",
       "12  Domingo              57.15\n",
       "13  Domingo              92.86\n",
       "14   Sabado             126.66\n",
       "15   Sabado              94.81\n",
       "16  Domingo              78.58\n",
       "17   Sabado              87.50\n",
       "18  Domingo              82.76\n",
       "19   Sabado              62.50\n",
       "20   Sabado              25.00\n",
       "21  Domingo              91.66\n",
       "22   Sabado              50.00\n",
       "23  Domingo              96.29\n",
       "24   Sabado             127.99\n",
       "25   Sabado              57.14\n",
       "26   Sabado             154.48\n",
       "27  Domingo              80.00\n",
       "28  Domingo             104.00\n",
       "29   Sabado             137.14\n",
       "30  Domingo              71.43\n",
       "31  Domingo              66.66\n",
       "32   Sabado             166.66\n",
       "33  Domingo             100.00\n",
       "34   Sabado              75.00\n",
       "35  Domingo              35.71\n",
       "36  Domingo              41.67\n",
       "37   Sabado               0.00\n",
       "38  Domingo              85.72\n",
       "39   Sabado              29.63\n",
       "40  Domingo               0.00\n",
       "41   Sabado              93.75\n",
       "42   Sabado             131.43\n",
       "43  Domingo              78.57\n",
       "44   Sabado             114.29\n",
       "45  Domingo              64.28\n",
       "46   Sabado              68.75\n",
       "47   Sabado             173.33\n",
       "48   Sabado             110.34\n",
       "49   Sabado             133.33\n",
       "50   Sabado             132.41\n",
       "51   Sabado             142.85\n",
       "52   Sabado              93.33\n",
       "53   Sabado              81.25\n",
       "54  Domingo             107.15\n",
       "55   Sabado             159.99\n",
       "56  Domingo             108.33"
      ]
     },
     "execution_count": 191,
     "metadata": {},
     "output_type": "execute_result"
    }
   ],
   "source": [
    "q = f\"\"\"\n",
    "    SELECT\n",
    "    DISTINCT tipo_dia, perc_km_planejada\n",
    "    FROM\n",
    "    `rj-smtr.dashboard_subsidio_sppo.sumario_servico_dia_historico`\n",
    "    WHERE\n",
    "    tipo_dia IN (\"Domingo\", \"Sabado\")\n",
    "    AND servico = '010'\n",
    "    AND DATA BETWEEN '2022-06-01' \n",
    "    AND '2023-05-31'\n",
    "\"\"\"\n",
    "\n",
    "fds_planejado_original = bd.read_sql(q, from_file=True)\n",
    "fds_planejado_original"
   ]
  },
  {
   "cell_type": "markdown",
   "metadata": {},
   "source": [
    "### 4. Exportar planilha com dados"
   ]
  },
  {
   "cell_type": "markdown",
   "metadata": {},
   "source": [
    "Exportar planilha resumo com valores a pagar antes e depois, assim como a km identificada na planilha de viagens completas."
   ]
  },
  {
   "cell_type": "code",
   "execution_count": 192,
   "metadata": {},
   "outputs": [],
   "source": [
    "km_mes_ano_soma = km_mes_ano[['distancia_total', 'distancia_total_reprocessada']].sum()\n",
    "km_mes_ano_soma = km_mes_ano_soma.to_frame().T\n",
    "\n",
    "km_mes_ano_soma = km_mes_ano_soma.rename(columns={\n",
    "    'distancia_total': 'distancia_total_pre',\n",
    "    'distancia_total_reprocessada': 'distancia_total_pos'\n",
    "})\n",
    "km_mes_ano_soma\n",
    "\n",
    "\n",
    "tabela_subsidio_mes_soma = tabela_subsidio_mes[['viagens_pre', 'viagens_pos','valor_subsidio_pre', 'valor_subsidio_pos']].sum()\n",
    "tabela_subsidio_mes_soma = tabela_subsidio_mes_soma.to_frame().T\n",
    "tabela_subsidio_mes_soma\n",
    "\n",
    "km_mes_ano_soma['key'] = 1\n",
    "tabela_subsidio_mes_soma['key'] = 1\n",
    "\n",
    "tabela_comparacao_exportar = km_mes_ano_soma.merge(tabela_subsidio_mes_soma, on='key', how='left').drop('key', axis=1)\n",
    "\n",
    "tabela_comparacao_exportar\n",
    "tabela_comparacao_exportar.to_excel(\"data/output/comparacao_pre_pos_reprocessamento_010.xlsx\", index=False, engine='openpyxl')"
   ]
  }
 ],
 "metadata": {
  "kernelspec": {
   "display_name": "env",
   "language": "python",
   "name": "python3"
  },
  "language_info": {
   "codemirror_mode": {
    "name": "ipython",
    "version": 3
   },
   "file_extension": ".py",
   "mimetype": "text/x-python",
   "name": "python",
   "nbconvert_exporter": "python",
   "pygments_lexer": "ipython3",
   "version": "3.9.0"
  },
  "orig_nbformat": 4
 },
 "nbformat": 4,
 "nbformat_minor": 2
}
