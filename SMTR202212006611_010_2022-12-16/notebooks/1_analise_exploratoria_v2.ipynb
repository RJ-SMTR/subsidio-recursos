{
 "cells": [
  {
   "cell_type": "markdown",
   "metadata": {},
   "source": [
    "# Análise exploratória\n",
    "\n",
    "**TODO:**\n",
    "- (1) Tabela\n",
    "- (2) Gráfico\n",
    "- (3) Tabela"
   ]
  },
  {
   "cell_type": "markdown",
   "metadata": {},
   "source": [
    "## Análise das viagens da amostra x apuradas\n",
    "\n",
    "- Tabela de viagens identificadas da amostra: `output/analise_amostra_pre_solucao.csv`\n",
    "\n",
    "> data\tservico\tsentido\tid_veiculo\tdatetime_partida_amostra\tdatetime_chegada_amostra\tdatetime_partida_apuracao\tdatetime_chegada_apuracao\tstatus"
   ]
  },
  {
   "cell_type": "code",
   "execution_count": null,
   "metadata": {
    "vscode": {
     "languageId": "plaintext"
    }
   },
   "outputs": [],
   "source": []
  },
  {
   "cell_type": "markdown",
   "metadata": {},
   "source": [
    "### Exemplos (mapa)\n",
    "\n",
    "- Mapa de 1 viagem identificada e 1 não ientificada"
   ]
  },
  {
   "cell_type": "markdown",
   "metadata": {},
   "source": [
    "## Análise histórica da linha\n",
    "\n",
    "- Gráfico POD até a data mais recente (quando fazemos a avaliação): `analise_pod_historico.png`"
   ]
  },
  {
   "cell_type": "code",
   "execution_count": null,
   "metadata": {
    "vscode": {
     "languageId": "plaintext"
    }
   },
   "outputs": [],
   "source": []
  },
  {
   "cell_type": "markdown",
   "metadata": {},
   "source": [
    "### Exemplos (mapa)"
   ]
  },
  {
   "cell_type": "markdown",
   "metadata": {},
   "source": [
    "## Análise das viagens da amostra x apuradas (pós-solução)\n",
    "\n",
    "- Tabela de viagens identificadas da amostra: `output/analise_amostra_pos_solucao.csv`\n",
    "\n",
    "> data\tservico\tsentido\tid_veiculo\tdatetime_partida_amostra\tdatetime_chegada_amostra\tdatetime_partida_apuracao_solucao\tdatetime_chegada_apuracao_solucao\tstatus"
   ]
  },
  {
   "cell_type": "code",
   "execution_count": null,
   "metadata": {
    "vscode": {
     "languageId": "plaintext"
    }
   },
   "outputs": [],
   "source": []
  },
  {
   "cell_type": "markdown",
   "metadata": {},
   "source": [
    "### Exemplos (mapa)\n",
    "\n",
    "- Mapa de 1 viagem identificada (que não foi iedntificada antes da\n",
    "  solução): `analise_mapa_viagem_identificada_pos_solucao.html`\n",
    "- Mapa de viagens não identificadas (se necessário i.e. teve sinal de\n",
    "  GPS na linha no período, mas não teve a viagem): `analise_mapa_viagem_nao_identificada_pos_solucao_[descricao].html`"
   ]
  },
  {
   "cell_type": "markdown",
   "metadata": {},
   "source": []
  }
 ],
 "metadata": {
  "language_info": {
   "name": "python"
  },
  "orig_nbformat": 4
 },
 "nbformat": 4,
 "nbformat_minor": 2
}
