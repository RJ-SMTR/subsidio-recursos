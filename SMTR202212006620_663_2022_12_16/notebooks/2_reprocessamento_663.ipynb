{
 "cells": [
  {
   "cell_type": "markdown",
   "metadata": {},
   "source": [
    "# Métricas do reprocessamento\n",
    "\n",
    "Código feito por Igor Laltuf, ago/23\n",
    "\n",
    "---"
   ]
  },
  {
   "cell_type": "markdown",
   "metadata": {},
   "source": [
    "## Objetivo\n",
    "\n",
    "Analisar o impacto do reprocessamento das viagens da linha 663 entre 01/06/2022 até 30/04/2023\n",
    "\n",
    "## Etapas\n",
    "Comparar valores pré e pós reprocessamento segundo as seguintes variáveis:\n",
    "- A quantidade de viagens completas\n",
    "- Quilometragem total de viagens completas\n",
    "- Valor do subsídio a ser pago\n",
    "- Explicações pontuais sobre os resultados encontrados\n",
    "\n",
    "## Conclusão\n",
    "\n",
    "REESCREVER!!!!!\n",
    "\n",
    "Sobre o período entre 01/06/2022 e 30/04/2023:\n",
    "\n",
    "1) A linha 010 não teve viagens planejadas no mês de junho de 2022.\n",
    "\n",
    "2) A quilometragem total das viagens completas aumentou de 66.790,1 km para 81.485,2 km, um aumento de 22% após o reprocessamento.\n",
    "\n",
    "3) A quantidade de viagens identificadas aumentou de 6.414 para 15.670 viagens. Como as viagens que antes eram circulares foram divididas em duas viagens (ida e volta), era esperado que a quantidade de viagens pelo menos dobrasse, caso nenhuma nova viagem fosse identificada.\n",
    "\n",
    "4) O valor do subsídio antes do reprocessamento era de R$ 100.756,68 e após o reprocessamento foi de R$ 169.626,86. Vale destacar que o valor do reprocessamento foi calculado sem os descontos por km."
   ]
  },
  {
   "cell_type": "markdown",
   "metadata": {},
   "source": [
    "### Carregar bibliotecas"
   ]
  },
  {
   "cell_type": "code",
   "execution_count": 2,
   "metadata": {},
   "outputs": [],
   "source": [
    "#!pip install matplotlib\n",
    "import basedosdados as bd\n",
    "import pandas as pd\n",
    "import numpy as np\n",
    "import plotly.express as px\n",
    "import matplotlib.pyplot as plt\n",
    "import plotly.graph_objects as go\n",
    "\n",
    "import folium\n",
    "from datetime import timedelta, datetime\n",
    "from shapely import wkt\n",
    "\n",
    "# Paths\n",
    "import os\n",
    "import sys\n",
    "from pathlib import Path \n",
    "\n",
    "current_path = Path().resolve()\n",
    "\n",
    "paths = dict()\n",
    "paths[\"raw\"] = current_path / 'data' / 'raw'\n",
    "paths[\"treated\"] = current_path / 'data' / 'treated'\n",
    "\n",
    "for path in paths.values():\n",
    "    if not os.path.exists(path):\n",
    "        os.makedirs(path)\n",
    "\n",
    "# Seta o projeto a ser cobrado\n",
    "bd.config.billing_project_id = \"rj-smtr-dev\"\n",
    "\n",
    "# Seta as configurações a serem usadas\n",
    "bd.config.project_config_path = \"C:/Users/igorl/.basedosdados/\"\n",
    "# bd.config.project_config_path = \"D:\\\\basedosdados\\\\dev\""
   ]
  },
  {
   "cell_type": "markdown",
   "metadata": {},
   "source": [
    "### 1. Comparar a variação na km após o reprocessamento"
   ]
  },
  {
   "cell_type": "code",
   "execution_count": 3,
   "metadata": {},
   "outputs": [
    {
     "name": "stderr",
     "output_type": "stream",
     "text": [
      "Downloading: 100%|██████████| 11/11 [00:00<00:00, 25.17rows/s]\n"
     ]
    }
   ],
   "source": [
    "q = f\"\"\"\n",
    "SELECT\n",
    "  FORMAT_DATETIME('%Y-%m', DATA) AS mes_ano,\n",
    "  SUM(ROUND(distancia_planejada,2)) AS distancia_total\n",
    "FROM\n",
    "  `rj-smtr.projeto_subsidio_sppo.viagem_completa`\n",
    "WHERE\n",
    "  DATA BETWEEN \"2022-06-01\"\n",
    "  AND \"2023-04-30\"\n",
    "  AND servico_informado = \"663\"\n",
    "GROUP BY\n",
    "  mes_ano\n",
    "\"\"\"\n",
    "\n",
    "viagens_realizadas_663 = bd.read_sql(q, from_file=True)\n",
    "\n",
    "viagens_realizadas_663.to_csv('data/treated/viagens_realizadas_663_jun_22-abril_23.csv', index=False)"
   ]
  },
  {
   "cell_type": "code",
   "execution_count": 4,
   "metadata": {},
   "outputs": [
    {
     "name": "stderr",
     "output_type": "stream",
     "text": [
      "Downloading: 100%|██████████| 11/11 [00:00<00:00, 24.77rows/s]\n"
     ]
    }
   ],
   "source": [
    "q = f\"\"\"\n",
    "SELECT\n",
    "  FORMAT_DATETIME('%Y-%m', DATA) AS mes_ano,\n",
    "  SUM(ROUND(distancia_planejada,2)) AS distancia_total\n",
    "FROM\n",
    "  `rj-smtr-dev.SMTR202212006620_reprocessamento.viagem_completa`\n",
    "WHERE\n",
    "  DATA BETWEEN \"2022-06-01\"\n",
    "  AND \"2023-04-30\"\n",
    "GROUP BY\n",
    "  mes_ano\n",
    "\"\"\"\n",
    "viagens_reprocessadas_663 = bd.read_sql(q, from_file=True)\n",
    "\n",
    "viagens_reprocessadas_663.to_csv('data/treated/viagens_reprocessadas_663_jun_22-abril_23.csv', index=False)"
   ]
  },
  {
   "cell_type": "code",
   "execution_count": 5,
   "metadata": {},
   "outputs": [
    {
     "data": {
      "text/html": [
       "<div>\n",
       "<style scoped>\n",
       "    .dataframe tbody tr th:only-of-type {\n",
       "        vertical-align: middle;\n",
       "    }\n",
       "\n",
       "    .dataframe tbody tr th {\n",
       "        vertical-align: top;\n",
       "    }\n",
       "\n",
       "    .dataframe thead th {\n",
       "        text-align: right;\n",
       "    }\n",
       "</style>\n",
       "<table border=\"1\" class=\"dataframe\">\n",
       "  <thead>\n",
       "    <tr style=\"text-align: right;\">\n",
       "      <th></th>\n",
       "      <th>mes_ano</th>\n",
       "      <th>distancia_total</th>\n",
       "      <th>distancia_total_reprocessada</th>\n",
       "    </tr>\n",
       "  </thead>\n",
       "  <tbody>\n",
       "    <tr>\n",
       "      <th>10</th>\n",
       "      <td>2022-06</td>\n",
       "      <td>887.04</td>\n",
       "      <td>1305.13</td>\n",
       "    </tr>\n",
       "    <tr>\n",
       "      <th>2</th>\n",
       "      <td>2022-07</td>\n",
       "      <td>604.05</td>\n",
       "      <td>971.08</td>\n",
       "    </tr>\n",
       "    <tr>\n",
       "      <th>7</th>\n",
       "      <td>2022-08</td>\n",
       "      <td>1249.92</td>\n",
       "      <td>1481.77</td>\n",
       "    </tr>\n",
       "    <tr>\n",
       "      <th>4</th>\n",
       "      <td>2022-09</td>\n",
       "      <td>1249.92</td>\n",
       "      <td>1543.08</td>\n",
       "    </tr>\n",
       "    <tr>\n",
       "      <th>6</th>\n",
       "      <td>2022-10</td>\n",
       "      <td>766.08</td>\n",
       "      <td>1091.89</td>\n",
       "    </tr>\n",
       "    <tr>\n",
       "      <th>8</th>\n",
       "      <td>2022-11</td>\n",
       "      <td>564.48</td>\n",
       "      <td>952.78</td>\n",
       "    </tr>\n",
       "    <tr>\n",
       "      <th>9</th>\n",
       "      <td>2022-12</td>\n",
       "      <td>1008.00</td>\n",
       "      <td>1286.83</td>\n",
       "    </tr>\n",
       "    <tr>\n",
       "      <th>5</th>\n",
       "      <td>2023-01</td>\n",
       "      <td>1207.80</td>\n",
       "      <td>1372.85</td>\n",
       "    </tr>\n",
       "    <tr>\n",
       "      <th>3</th>\n",
       "      <td>2023-02</td>\n",
       "      <td>1087.02</td>\n",
       "      <td>1245.63</td>\n",
       "    </tr>\n",
       "    <tr>\n",
       "      <th>0</th>\n",
       "      <td>2023-03</td>\n",
       "      <td>1449.36</td>\n",
       "      <td>1654.74</td>\n",
       "    </tr>\n",
       "    <tr>\n",
       "      <th>1</th>\n",
       "      <td>2023-04</td>\n",
       "      <td>1248.06</td>\n",
       "      <td>1387.48</td>\n",
       "    </tr>\n",
       "  </tbody>\n",
       "</table>\n",
       "</div>"
      ],
      "text/plain": [
       "    mes_ano  distancia_total  distancia_total_reprocessada\n",
       "10  2022-06           887.04                       1305.13\n",
       "2   2022-07           604.05                        971.08\n",
       "7   2022-08          1249.92                       1481.77\n",
       "4   2022-09          1249.92                       1543.08\n",
       "6   2022-10           766.08                       1091.89\n",
       "8   2022-11           564.48                        952.78\n",
       "9   2022-12          1008.00                       1286.83\n",
       "5   2023-01          1207.80                       1372.85\n",
       "3   2023-02          1087.02                       1245.63\n",
       "0   2023-03          1449.36                       1654.74\n",
       "1   2023-04          1248.06                       1387.48"
      ]
     },
     "execution_count": 5,
     "metadata": {},
     "output_type": "execute_result"
    }
   ],
   "source": [
    "viagens_reprocessadas_663 = pd.read_csv('data/treated/viagens_reprocessadas_663_jun_22-abril_23.csv')\n",
    "viagens_realizadas_663 = pd.read_csv('data/treated/viagens_realizadas_663_jun_22-abril_23.csv')\n",
    "\n",
    "km_mes_ano = pd.merge(viagens_realizadas_663, viagens_reprocessadas_663, how = 'left', on='mes_ano', suffixes=['','_reprocessada'])\n",
    "km_mes_ano = km_mes_ano.sort_values('mes_ano')\n",
    "km_mes_ano"
   ]
  },
  {
   "cell_type": "code",
   "execution_count": 6,
   "metadata": {},
   "outputs": [
    {
     "name": "stdout",
     "output_type": "stream",
     "text": [
      "Comparação da quilometragem das viagens completas\n",
      "Valor total da km pré-reprocessamento: 11321.730000000001\n",
      "Valor total da km pós-reprocessamento: 14293.26\n",
      "Aumento de  26.25 %\n"
     ]
    }
   ],
   "source": [
    "distancia_total_pre_reprocessamento = km_mes_ano['distancia_total'].sum()\n",
    "distancia_total_pos_reprocessamento = km_mes_ano['distancia_total_reprocessada'].sum()\n",
    "print(\"Comparação da quilometragem das viagens completas\")\n",
    "print(\"Valor total da km pré-reprocessamento:\", distancia_total_pre_reprocessamento)\n",
    "print(\"Valor total da km pós-reprocessamento:\", distancia_total_pos_reprocessamento)\n",
    "print(\"Aumento de \",round((distancia_total_pos_reprocessamento / distancia_total_pre_reprocessamento - 1) * 100, 2),\"%\")"
   ]
  },
  {
   "cell_type": "code",
   "execution_count": 7,
   "metadata": {},
   "outputs": [
    {
     "data": {
      "application/vnd.plotly.v1+json": {
       "config": {
        "plotlyServerURL": "https://plot.ly"
       },
       "data": [
        {
         "marker": {
          "color": "dodgerblue"
         },
         "mode": "lines+markers",
         "name": "Km pré-reprocessamento",
         "opacity": 0.75,
         "type": "scatter",
         "x": [
          "2022-06",
          "2022-07",
          "2022-08",
          "2022-09",
          "2022-10",
          "2022-11",
          "2022-12",
          "2023-01",
          "2023-02",
          "2023-03",
          "2023-04"
         ],
         "y": [
          887.0400000000002,
          604.05,
          1249.92,
          1249.9200000000003,
          766.08,
          564.48,
          1008,
          1207.8,
          1087.02,
          1449.36,
          1248.06
         ]
        },
        {
         "marker": {
          "color": "crimson"
         },
         "mode": "lines+markers",
         "name": "Km reprocessada",
         "opacity": 0.75,
         "type": "scatter",
         "x": [
          "2022-06",
          "2022-07",
          "2022-08",
          "2022-09",
          "2022-10",
          "2022-11",
          "2022-12",
          "2023-01",
          "2023-02",
          "2023-03",
          "2023-04"
         ],
         "y": [
          1305.13,
          971.08,
          1481.7699999999995,
          1543.0799999999997,
          1091.89,
          952.78,
          1286.8299999999997,
          1372.85,
          1245.63,
          1654.739999999999,
          1387.4799999999998
         ]
        }
       ],
       "layout": {
        "annotations": [
         {
          "font": {
           "color": "black",
           "size": 14
          },
          "showarrow": false,
          "text": "Valores",
          "x": -0.065,
          "xanchor": "left",
          "xref": "paper",
          "y": 1.1,
          "yref": "paper"
         },
         {
          "font": {
           "color": "dodgerblue",
           "size": 14
          },
          "showarrow": false,
          "text": "pré-reprocessamento",
          "x": 0.025,
          "xanchor": "left",
          "xref": "paper",
          "y": 1.1,
          "yref": "paper"
         },
         {
          "font": {
           "color": "black",
           "size": 14
          },
          "showarrow": false,
          "text": "e",
          "x": 0.27,
          "xanchor": "left",
          "xref": "paper",
          "y": 1.1,
          "yref": "paper"
         },
         {
          "font": {
           "color": "crimson",
           "size": 14
          },
          "showarrow": false,
          "text": "pós-reprocessamento.",
          "x": 0.29,
          "xanchor": "left",
          "xref": "paper",
          "y": 1.1,
          "yref": "paper"
         }
        ],
        "height": 600,
        "plot_bgcolor": "white",
        "showlegend": false,
        "template": {
         "data": {
          "bar": [
           {
            "error_x": {
             "color": "#2a3f5f"
            },
            "error_y": {
             "color": "#2a3f5f"
            },
            "marker": {
             "line": {
              "color": "#E5ECF6",
              "width": 0.5
             },
             "pattern": {
              "fillmode": "overlay",
              "size": 10,
              "solidity": 0.2
             }
            },
            "type": "bar"
           }
          ],
          "barpolar": [
           {
            "marker": {
             "line": {
              "color": "#E5ECF6",
              "width": 0.5
             },
             "pattern": {
              "fillmode": "overlay",
              "size": 10,
              "solidity": 0.2
             }
            },
            "type": "barpolar"
           }
          ],
          "carpet": [
           {
            "aaxis": {
             "endlinecolor": "#2a3f5f",
             "gridcolor": "white",
             "linecolor": "white",
             "minorgridcolor": "white",
             "startlinecolor": "#2a3f5f"
            },
            "baxis": {
             "endlinecolor": "#2a3f5f",
             "gridcolor": "white",
             "linecolor": "white",
             "minorgridcolor": "white",
             "startlinecolor": "#2a3f5f"
            },
            "type": "carpet"
           }
          ],
          "choropleth": [
           {
            "colorbar": {
             "outlinewidth": 0,
             "ticks": ""
            },
            "type": "choropleth"
           }
          ],
          "contour": [
           {
            "colorbar": {
             "outlinewidth": 0,
             "ticks": ""
            },
            "colorscale": [
             [
              0,
              "#0d0887"
             ],
             [
              0.1111111111111111,
              "#46039f"
             ],
             [
              0.2222222222222222,
              "#7201a8"
             ],
             [
              0.3333333333333333,
              "#9c179e"
             ],
             [
              0.4444444444444444,
              "#bd3786"
             ],
             [
              0.5555555555555556,
              "#d8576b"
             ],
             [
              0.6666666666666666,
              "#ed7953"
             ],
             [
              0.7777777777777778,
              "#fb9f3a"
             ],
             [
              0.8888888888888888,
              "#fdca26"
             ],
             [
              1,
              "#f0f921"
             ]
            ],
            "type": "contour"
           }
          ],
          "contourcarpet": [
           {
            "colorbar": {
             "outlinewidth": 0,
             "ticks": ""
            },
            "type": "contourcarpet"
           }
          ],
          "heatmap": [
           {
            "colorbar": {
             "outlinewidth": 0,
             "ticks": ""
            },
            "colorscale": [
             [
              0,
              "#0d0887"
             ],
             [
              0.1111111111111111,
              "#46039f"
             ],
             [
              0.2222222222222222,
              "#7201a8"
             ],
             [
              0.3333333333333333,
              "#9c179e"
             ],
             [
              0.4444444444444444,
              "#bd3786"
             ],
             [
              0.5555555555555556,
              "#d8576b"
             ],
             [
              0.6666666666666666,
              "#ed7953"
             ],
             [
              0.7777777777777778,
              "#fb9f3a"
             ],
             [
              0.8888888888888888,
              "#fdca26"
             ],
             [
              1,
              "#f0f921"
             ]
            ],
            "type": "heatmap"
           }
          ],
          "heatmapgl": [
           {
            "colorbar": {
             "outlinewidth": 0,
             "ticks": ""
            },
            "colorscale": [
             [
              0,
              "#0d0887"
             ],
             [
              0.1111111111111111,
              "#46039f"
             ],
             [
              0.2222222222222222,
              "#7201a8"
             ],
             [
              0.3333333333333333,
              "#9c179e"
             ],
             [
              0.4444444444444444,
              "#bd3786"
             ],
             [
              0.5555555555555556,
              "#d8576b"
             ],
             [
              0.6666666666666666,
              "#ed7953"
             ],
             [
              0.7777777777777778,
              "#fb9f3a"
             ],
             [
              0.8888888888888888,
              "#fdca26"
             ],
             [
              1,
              "#f0f921"
             ]
            ],
            "type": "heatmapgl"
           }
          ],
          "histogram": [
           {
            "marker": {
             "pattern": {
              "fillmode": "overlay",
              "size": 10,
              "solidity": 0.2
             }
            },
            "type": "histogram"
           }
          ],
          "histogram2d": [
           {
            "colorbar": {
             "outlinewidth": 0,
             "ticks": ""
            },
            "colorscale": [
             [
              0,
              "#0d0887"
             ],
             [
              0.1111111111111111,
              "#46039f"
             ],
             [
              0.2222222222222222,
              "#7201a8"
             ],
             [
              0.3333333333333333,
              "#9c179e"
             ],
             [
              0.4444444444444444,
              "#bd3786"
             ],
             [
              0.5555555555555556,
              "#d8576b"
             ],
             [
              0.6666666666666666,
              "#ed7953"
             ],
             [
              0.7777777777777778,
              "#fb9f3a"
             ],
             [
              0.8888888888888888,
              "#fdca26"
             ],
             [
              1,
              "#f0f921"
             ]
            ],
            "type": "histogram2d"
           }
          ],
          "histogram2dcontour": [
           {
            "colorbar": {
             "outlinewidth": 0,
             "ticks": ""
            },
            "colorscale": [
             [
              0,
              "#0d0887"
             ],
             [
              0.1111111111111111,
              "#46039f"
             ],
             [
              0.2222222222222222,
              "#7201a8"
             ],
             [
              0.3333333333333333,
              "#9c179e"
             ],
             [
              0.4444444444444444,
              "#bd3786"
             ],
             [
              0.5555555555555556,
              "#d8576b"
             ],
             [
              0.6666666666666666,
              "#ed7953"
             ],
             [
              0.7777777777777778,
              "#fb9f3a"
             ],
             [
              0.8888888888888888,
              "#fdca26"
             ],
             [
              1,
              "#f0f921"
             ]
            ],
            "type": "histogram2dcontour"
           }
          ],
          "mesh3d": [
           {
            "colorbar": {
             "outlinewidth": 0,
             "ticks": ""
            },
            "type": "mesh3d"
           }
          ],
          "parcoords": [
           {
            "line": {
             "colorbar": {
              "outlinewidth": 0,
              "ticks": ""
             }
            },
            "type": "parcoords"
           }
          ],
          "pie": [
           {
            "automargin": true,
            "type": "pie"
           }
          ],
          "scatter": [
           {
            "fillpattern": {
             "fillmode": "overlay",
             "size": 10,
             "solidity": 0.2
            },
            "type": "scatter"
           }
          ],
          "scatter3d": [
           {
            "line": {
             "colorbar": {
              "outlinewidth": 0,
              "ticks": ""
             }
            },
            "marker": {
             "colorbar": {
              "outlinewidth": 0,
              "ticks": ""
             }
            },
            "type": "scatter3d"
           }
          ],
          "scattercarpet": [
           {
            "marker": {
             "colorbar": {
              "outlinewidth": 0,
              "ticks": ""
             }
            },
            "type": "scattercarpet"
           }
          ],
          "scattergeo": [
           {
            "marker": {
             "colorbar": {
              "outlinewidth": 0,
              "ticks": ""
             }
            },
            "type": "scattergeo"
           }
          ],
          "scattergl": [
           {
            "marker": {
             "colorbar": {
              "outlinewidth": 0,
              "ticks": ""
             }
            },
            "type": "scattergl"
           }
          ],
          "scattermapbox": [
           {
            "marker": {
             "colorbar": {
              "outlinewidth": 0,
              "ticks": ""
             }
            },
            "type": "scattermapbox"
           }
          ],
          "scatterpolar": [
           {
            "marker": {
             "colorbar": {
              "outlinewidth": 0,
              "ticks": ""
             }
            },
            "type": "scatterpolar"
           }
          ],
          "scatterpolargl": [
           {
            "marker": {
             "colorbar": {
              "outlinewidth": 0,
              "ticks": ""
             }
            },
            "type": "scatterpolargl"
           }
          ],
          "scatterternary": [
           {
            "marker": {
             "colorbar": {
              "outlinewidth": 0,
              "ticks": ""
             }
            },
            "type": "scatterternary"
           }
          ],
          "surface": [
           {
            "colorbar": {
             "outlinewidth": 0,
             "ticks": ""
            },
            "colorscale": [
             [
              0,
              "#0d0887"
             ],
             [
              0.1111111111111111,
              "#46039f"
             ],
             [
              0.2222222222222222,
              "#7201a8"
             ],
             [
              0.3333333333333333,
              "#9c179e"
             ],
             [
              0.4444444444444444,
              "#bd3786"
             ],
             [
              0.5555555555555556,
              "#d8576b"
             ],
             [
              0.6666666666666666,
              "#ed7953"
             ],
             [
              0.7777777777777778,
              "#fb9f3a"
             ],
             [
              0.8888888888888888,
              "#fdca26"
             ],
             [
              1,
              "#f0f921"
             ]
            ],
            "type": "surface"
           }
          ],
          "table": [
           {
            "cells": {
             "fill": {
              "color": "#EBF0F8"
             },
             "line": {
              "color": "white"
             }
            },
            "header": {
             "fill": {
              "color": "#C8D4E3"
             },
             "line": {
              "color": "white"
             }
            },
            "type": "table"
           }
          ]
         },
         "layout": {
          "annotationdefaults": {
           "arrowcolor": "#2a3f5f",
           "arrowhead": 0,
           "arrowwidth": 1
          },
          "autotypenumbers": "strict",
          "coloraxis": {
           "colorbar": {
            "outlinewidth": 0,
            "ticks": ""
           }
          },
          "colorscale": {
           "diverging": [
            [
             0,
             "#8e0152"
            ],
            [
             0.1,
             "#c51b7d"
            ],
            [
             0.2,
             "#de77ae"
            ],
            [
             0.3,
             "#f1b6da"
            ],
            [
             0.4,
             "#fde0ef"
            ],
            [
             0.5,
             "#f7f7f7"
            ],
            [
             0.6,
             "#e6f5d0"
            ],
            [
             0.7,
             "#b8e186"
            ],
            [
             0.8,
             "#7fbc41"
            ],
            [
             0.9,
             "#4d9221"
            ],
            [
             1,
             "#276419"
            ]
           ],
           "sequential": [
            [
             0,
             "#0d0887"
            ],
            [
             0.1111111111111111,
             "#46039f"
            ],
            [
             0.2222222222222222,
             "#7201a8"
            ],
            [
             0.3333333333333333,
             "#9c179e"
            ],
            [
             0.4444444444444444,
             "#bd3786"
            ],
            [
             0.5555555555555556,
             "#d8576b"
            ],
            [
             0.6666666666666666,
             "#ed7953"
            ],
            [
             0.7777777777777778,
             "#fb9f3a"
            ],
            [
             0.8888888888888888,
             "#fdca26"
            ],
            [
             1,
             "#f0f921"
            ]
           ],
           "sequentialminus": [
            [
             0,
             "#0d0887"
            ],
            [
             0.1111111111111111,
             "#46039f"
            ],
            [
             0.2222222222222222,
             "#7201a8"
            ],
            [
             0.3333333333333333,
             "#9c179e"
            ],
            [
             0.4444444444444444,
             "#bd3786"
            ],
            [
             0.5555555555555556,
             "#d8576b"
            ],
            [
             0.6666666666666666,
             "#ed7953"
            ],
            [
             0.7777777777777778,
             "#fb9f3a"
            ],
            [
             0.8888888888888888,
             "#fdca26"
            ],
            [
             1,
             "#f0f921"
            ]
           ]
          },
          "colorway": [
           "#636efa",
           "#EF553B",
           "#00cc96",
           "#ab63fa",
           "#FFA15A",
           "#19d3f3",
           "#FF6692",
           "#B6E880",
           "#FF97FF",
           "#FECB52"
          ],
          "font": {
           "color": "#2a3f5f"
          },
          "geo": {
           "bgcolor": "white",
           "lakecolor": "white",
           "landcolor": "#E5ECF6",
           "showlakes": true,
           "showland": true,
           "subunitcolor": "white"
          },
          "hoverlabel": {
           "align": "left"
          },
          "hovermode": "closest",
          "mapbox": {
           "style": "light"
          },
          "paper_bgcolor": "white",
          "plot_bgcolor": "#E5ECF6",
          "polar": {
           "angularaxis": {
            "gridcolor": "white",
            "linecolor": "white",
            "ticks": ""
           },
           "bgcolor": "#E5ECF6",
           "radialaxis": {
            "gridcolor": "white",
            "linecolor": "white",
            "ticks": ""
           }
          },
          "scene": {
           "xaxis": {
            "backgroundcolor": "#E5ECF6",
            "gridcolor": "white",
            "gridwidth": 2,
            "linecolor": "white",
            "showbackground": true,
            "ticks": "",
            "zerolinecolor": "white"
           },
           "yaxis": {
            "backgroundcolor": "#E5ECF6",
            "gridcolor": "white",
            "gridwidth": 2,
            "linecolor": "white",
            "showbackground": true,
            "ticks": "",
            "zerolinecolor": "white"
           },
           "zaxis": {
            "backgroundcolor": "#E5ECF6",
            "gridcolor": "white",
            "gridwidth": 2,
            "linecolor": "white",
            "showbackground": true,
            "ticks": "",
            "zerolinecolor": "white"
           }
          },
          "shapedefaults": {
           "line": {
            "color": "#2a3f5f"
           }
          },
          "ternary": {
           "aaxis": {
            "gridcolor": "white",
            "linecolor": "white",
            "ticks": ""
           },
           "baxis": {
            "gridcolor": "white",
            "linecolor": "white",
            "ticks": ""
           },
           "bgcolor": "#E5ECF6",
           "caxis": {
            "gridcolor": "white",
            "linecolor": "white",
            "ticks": ""
           }
          },
          "title": {
           "x": 0.05
          },
          "xaxis": {
           "automargin": true,
           "gridcolor": "white",
           "linecolor": "white",
           "ticks": "",
           "title": {
            "standoff": 15
           },
           "zerolinecolor": "white",
           "zerolinewidth": 2
          },
          "yaxis": {
           "automargin": true,
           "gridcolor": "white",
           "linecolor": "white",
           "ticks": "",
           "title": {
            "standoff": 15
           },
           "zerolinecolor": "white",
           "zerolinewidth": 2
          }
         }
        },
        "title": {
         "font": {
          "color": "black"
         },
         "text": "Quilometragem apurada por mês - Serviço: 663"
        },
        "width": 800,
        "xaxis": {
         "showgrid": false,
         "zeroline": false
        },
        "yaxis": {
         "showgrid": false,
         "zeroline": false
        }
       }
      }
     },
     "metadata": {},
     "output_type": "display_data"
    }
   ],
   "source": [
    "# Criar o gráfico de linha\n",
    "fig = go.Figure()\n",
    "\n",
    "# Adicionar a linha com pontos para km_mes_ano['distancia_total']\n",
    "fig.add_trace(go.Scatter(x=km_mes_ano['mes_ano'], y=km_mes_ano['distancia_total'],\n",
    "                         mode='lines+markers',\n",
    "                         name='Km pré-reprocessamento',\n",
    "                         marker=dict(color='dodgerblue'),\n",
    "                         opacity=0.75))\n",
    "\n",
    "# Adicionar a linha com pontos para km_mes_ano['distancia_total_reprocessada']\n",
    "fig.add_trace(go.Scatter(x=km_mes_ano['mes_ano'], y=km_mes_ano['distancia_total_reprocessada'],\n",
    "                         mode='lines+markers',\n",
    "                         name='Km reprocessada',\n",
    "                         marker=dict(color='crimson'),\n",
    "                         opacity=0.75))\n",
    "\n",
    "# Configurar layout e outros parâmetros do gráfico\n",
    "fig.update_layout(\n",
    "    title=dict(text=\"Quilometragem apurada por mês - Serviço: 663\", font=dict(color='black')),\n",
    "    showlegend=False,\n",
    "    width=800,\n",
    "    height=600,\n",
    "    plot_bgcolor='white',\n",
    "    xaxis=dict(showgrid=False, zeroline=False),\n",
    "    yaxis=dict(showgrid=False, zeroline=False),\n",
    "    # Adicionando anotações para o subtítulo com cores específicas\n",
    "    annotations=[\n",
    "        dict(\n",
    "            x=-0.065,\n",
    "            y=1.10,\n",
    "            xref='paper',\n",
    "            yref='paper',\n",
    "            xanchor='left',\n",
    "            text='Valores',\n",
    "            showarrow=False,\n",
    "            font=dict(color='black', size=14)\n",
    "        ),\n",
    "        dict(\n",
    "            x=0.025,\n",
    "            y=1.10,\n",
    "            xref='paper',\n",
    "            yref='paper',\n",
    "            xanchor='left',\n",
    "            text='pré-reprocessamento',\n",
    "            showarrow=False,\n",
    "            font=dict(color='dodgerblue', size=14)\n",
    "        ),\n",
    "        dict(\n",
    "            x=0.27,\n",
    "            y=1.10,\n",
    "            xref='paper',\n",
    "            yref='paper',\n",
    "            xanchor='left',\n",
    "            text='e',\n",
    "            showarrow=False,\n",
    "            font=dict(color='black', size=14)\n",
    "        ),\n",
    "        dict(\n",
    "            x=0.29,\n",
    "            y=1.10,\n",
    "            xref='paper',\n",
    "            yref='paper',\n",
    "            xanchor='left',\n",
    "            text='pós-reprocessamento.',\n",
    "            showarrow=False,\n",
    "            font=dict(color='crimson', size=14)\n",
    "        )\n",
    "    ]\n",
    ")\n",
    "\n",
    "fig.show()"
   ]
  },
  {
   "cell_type": "markdown",
   "metadata": {},
   "source": [
    "### 2. Comparar a variação no valor do subsídio após o reprocessamento"
   ]
  },
  {
   "cell_type": "markdown",
   "metadata": {},
   "source": [
    "2.1 Valor recebido pelos consórcios antes do reprocessamento"
   ]
  },
  {
   "cell_type": "code",
   "execution_count": 8,
   "metadata": {},
   "outputs": [
    {
     "name": "stderr",
     "output_type": "stream",
     "text": [
      "Downloading: 100%|██████████| 11/11 [00:00<00:00, 29.73rows/s]\n"
     ]
    }
   ],
   "source": [
    "q = f\"\"\"\n",
    "SELECT\n",
    "  CONCAT(CAST(EXTRACT(YEAR FROM DATA) AS STRING), '-', LPAD(CAST(EXTRACT(MONTH FROM DATA) AS STRING), 2, '0')) AS mes_ano,\n",
    "  SUM(viagens) as viagens,\n",
    "  SUM(valor_subsidio_pago) AS valor_subsidio\n",
    "FROM\n",
    "  `rj-smtr.dashboard_subsidio_sppo.sumario_servico_dia_historico`\n",
    "WHERE\n",
    "  servico = '663'\n",
    "  AND DATA BETWEEN '2022-06-01' AND '2023-04-30'\n",
    "GROUP BY\n",
    "  mes_ano\n",
    "\"\"\"\n",
    "subsidio_pago_mes = bd.read_sql(q, from_file=True)\n"
   ]
  },
  {
   "cell_type": "code",
   "execution_count": 9,
   "metadata": {},
   "outputs": [
    {
     "data": {
      "text/html": [
       "<div>\n",
       "<style scoped>\n",
       "    .dataframe tbody tr th:only-of-type {\n",
       "        vertical-align: middle;\n",
       "    }\n",
       "\n",
       "    .dataframe tbody tr th {\n",
       "        vertical-align: top;\n",
       "    }\n",
       "\n",
       "    .dataframe thead th {\n",
       "        text-align: right;\n",
       "    }\n",
       "</style>\n",
       "<table border=\"1\" class=\"dataframe\">\n",
       "  <thead>\n",
       "    <tr style=\"text-align: right;\">\n",
       "      <th></th>\n",
       "      <th>mes_ano</th>\n",
       "      <th>viagens</th>\n",
       "      <th>valor_subsidio</th>\n",
       "    </tr>\n",
       "  </thead>\n",
       "  <tbody>\n",
       "    <tr>\n",
       "      <th>8</th>\n",
       "      <td>2022-06</td>\n",
       "      <td>22</td>\n",
       "      <td>1288.10</td>\n",
       "    </tr>\n",
       "    <tr>\n",
       "      <th>5</th>\n",
       "      <td>2022-07</td>\n",
       "      <td>15</td>\n",
       "      <td>889.26</td>\n",
       "    </tr>\n",
       "    <tr>\n",
       "      <th>0</th>\n",
       "      <td>2022-08</td>\n",
       "      <td>31</td>\n",
       "      <td>1306.26</td>\n",
       "    </tr>\n",
       "    <tr>\n",
       "      <th>4</th>\n",
       "      <td>2022-09</td>\n",
       "      <td>31</td>\n",
       "      <td>1834.43</td>\n",
       "    </tr>\n",
       "    <tr>\n",
       "      <th>3</th>\n",
       "      <td>2022-10</td>\n",
       "      <td>19</td>\n",
       "      <td>783.72</td>\n",
       "    </tr>\n",
       "    <tr>\n",
       "      <th>6</th>\n",
       "      <td>2022-11</td>\n",
       "      <td>14</td>\n",
       "      <td>308.42</td>\n",
       "    </tr>\n",
       "    <tr>\n",
       "      <th>9</th>\n",
       "      <td>2022-12</td>\n",
       "      <td>25</td>\n",
       "      <td>1291.68</td>\n",
       "    </tr>\n",
       "    <tr>\n",
       "      <th>2</th>\n",
       "      <td>2023-01</td>\n",
       "      <td>30</td>\n",
       "      <td>3031.06</td>\n",
       "    </tr>\n",
       "    <tr>\n",
       "      <th>1</th>\n",
       "      <td>2023-02</td>\n",
       "      <td>27</td>\n",
       "      <td>2489.19</td>\n",
       "    </tr>\n",
       "    <tr>\n",
       "      <th>10</th>\n",
       "      <td>2023-03</td>\n",
       "      <td>36</td>\n",
       "      <td>3394.35</td>\n",
       "    </tr>\n",
       "    <tr>\n",
       "      <th>7</th>\n",
       "      <td>2023-04</td>\n",
       "      <td>30</td>\n",
       "      <td>2941.77</td>\n",
       "    </tr>\n",
       "  </tbody>\n",
       "</table>\n",
       "</div>"
      ],
      "text/plain": [
       "    mes_ano  viagens  valor_subsidio\n",
       "8   2022-06       22         1288.10\n",
       "5   2022-07       15          889.26\n",
       "0   2022-08       31         1306.26\n",
       "4   2022-09       31         1834.43\n",
       "3   2022-10       19          783.72\n",
       "6   2022-11       14          308.42\n",
       "9   2022-12       25         1291.68\n",
       "2   2023-01       30         3031.06\n",
       "1   2023-02       27         2489.19\n",
       "10  2023-03       36         3394.35\n",
       "7   2023-04       30         2941.77"
      ]
     },
     "execution_count": 9,
     "metadata": {},
     "output_type": "execute_result"
    }
   ],
   "source": [
    "subsidio_pago_mes = subsidio_pago_mes.sort_values('mes_ano')\n",
    "subsidio_pago_mes = subsidio_pago_mes[['mes_ano', 'viagens', 'valor_subsidio']]\n",
    "subsidio_pago_mes"
   ]
  },
  {
   "cell_type": "markdown",
   "metadata": {},
   "source": [
    "2.2 Valor que deve ser pago após o reprocessamento"
   ]
  },
  {
   "cell_type": "markdown",
   "metadata": {},
   "source": [
    "Com base nas viagens identificadas na tabela de viagem completa que foi reprocessada, foram verificados aqueles dias em que POD >= 80%, para então calcular o valor do subsídio de acordo com os valores por km da tabela `subsidio_data_versao_efetiva` que está no dataset `rj-smtr-dev.SMTR202212006620_reprocessamento`.\n",
    "\n",
    "Vale destacar que esta tabela exclui as glosas de 2023 do valor do subsídio por km. Ex: considera 2.81 por km após 16 de janeiro de 2023. "
   ]
  },
  {
   "cell_type": "code",
   "execution_count": 10,
   "metadata": {},
   "outputs": [
    {
     "name": "stderr",
     "output_type": "stream",
     "text": [
      "Downloading: 100%|██████████| 334/334 [00:00<00:00, 856.42rows/s]\n"
     ]
    },
    {
     "data": {
      "text/html": [
       "<div>\n",
       "<style scoped>\n",
       "    .dataframe tbody tr th:only-of-type {\n",
       "        vertical-align: middle;\n",
       "    }\n",
       "\n",
       "    .dataframe tbody tr th {\n",
       "        vertical-align: top;\n",
       "    }\n",
       "\n",
       "    .dataframe thead th {\n",
       "        text-align: right;\n",
       "    }\n",
       "</style>\n",
       "<table border=\"1\" class=\"dataframe\">\n",
       "  <thead>\n",
       "    <tr style=\"text-align: right;\">\n",
       "      <th></th>\n",
       "      <th>DATA</th>\n",
       "      <th>viagens</th>\n",
       "      <th>km_apurada</th>\n",
       "      <th>distancia_total_planejada</th>\n",
       "      <th>perc_km_planejada</th>\n",
       "      <th>valor_subsidio_por_km</th>\n",
       "      <th>valor_subsidio</th>\n",
       "    </tr>\n",
       "  </thead>\n",
       "  <tbody>\n",
       "    <tr>\n",
       "      <th>304</th>\n",
       "      <td>2022-06-01</td>\n",
       "      <td>13</td>\n",
       "      <td>266.341</td>\n",
       "      <td>80.633</td>\n",
       "      <td>3.30</td>\n",
       "      <td>2.13</td>\n",
       "      <td>567.30633</td>\n",
       "    </tr>\n",
       "    <tr>\n",
       "      <th>209</th>\n",
       "      <td>2022-06-02</td>\n",
       "      <td>12</td>\n",
       "      <td>241.626</td>\n",
       "      <td>80.633</td>\n",
       "      <td>3.00</td>\n",
       "      <td>2.13</td>\n",
       "      <td>514.66338</td>\n",
       "    </tr>\n",
       "    <tr>\n",
       "      <th>56</th>\n",
       "      <td>2022-06-03</td>\n",
       "      <td>11</td>\n",
       "      <td>216.911</td>\n",
       "      <td>80.633</td>\n",
       "      <td>2.69</td>\n",
       "      <td>2.13</td>\n",
       "      <td>462.02043</td>\n",
       "    </tr>\n",
       "    <tr>\n",
       "      <th>280</th>\n",
       "      <td>2022-06-04</td>\n",
       "      <td>0</td>\n",
       "      <td>0.000</td>\n",
       "      <td>50.395</td>\n",
       "      <td>0.00</td>\n",
       "      <td>2.13</td>\n",
       "      <td>0.00000</td>\n",
       "    </tr>\n",
       "    <tr>\n",
       "      <th>137</th>\n",
       "      <td>2022-06-05</td>\n",
       "      <td>0</td>\n",
       "      <td>0.000</td>\n",
       "      <td>40.316</td>\n",
       "      <td>0.00</td>\n",
       "      <td>2.13</td>\n",
       "      <td>0.00000</td>\n",
       "    </tr>\n",
       "    <tr>\n",
       "      <th>...</th>\n",
       "      <td>...</td>\n",
       "      <td>...</td>\n",
       "      <td>...</td>\n",
       "      <td>...</td>\n",
       "      <td>...</td>\n",
       "      <td>...</td>\n",
       "      <td>...</td>\n",
       "    </tr>\n",
       "    <tr>\n",
       "      <th>244</th>\n",
       "      <td>2023-04-26</td>\n",
       "      <td>4</td>\n",
       "      <td>80.542</td>\n",
       "      <td>80.520</td>\n",
       "      <td>1.00</td>\n",
       "      <td>2.81</td>\n",
       "      <td>226.32302</td>\n",
       "    </tr>\n",
       "    <tr>\n",
       "      <th>202</th>\n",
       "      <td>2023-04-27</td>\n",
       "      <td>4</td>\n",
       "      <td>80.542</td>\n",
       "      <td>80.520</td>\n",
       "      <td>1.00</td>\n",
       "      <td>2.81</td>\n",
       "      <td>226.32302</td>\n",
       "    </tr>\n",
       "    <tr>\n",
       "      <th>45</th>\n",
       "      <td>2023-04-28</td>\n",
       "      <td>4</td>\n",
       "      <td>80.542</td>\n",
       "      <td>80.520</td>\n",
       "      <td>1.00</td>\n",
       "      <td>2.81</td>\n",
       "      <td>226.32302</td>\n",
       "    </tr>\n",
       "    <tr>\n",
       "      <th>184</th>\n",
       "      <td>2023-04-29</td>\n",
       "      <td>0</td>\n",
       "      <td>0.000</td>\n",
       "      <td>0.000</td>\n",
       "      <td>0.00</td>\n",
       "      <td>2.81</td>\n",
       "      <td>0.00000</td>\n",
       "    </tr>\n",
       "    <tr>\n",
       "      <th>34</th>\n",
       "      <td>2023-04-30</td>\n",
       "      <td>0</td>\n",
       "      <td>0.000</td>\n",
       "      <td>0.000</td>\n",
       "      <td>0.00</td>\n",
       "      <td>2.81</td>\n",
       "      <td>0.00000</td>\n",
       "    </tr>\n",
       "  </tbody>\n",
       "</table>\n",
       "<p>334 rows × 7 columns</p>\n",
       "</div>"
      ],
      "text/plain": [
       "           DATA  viagens  km_apurada  distancia_total_planejada  \\\n",
       "304  2022-06-01       13     266.341                     80.633   \n",
       "209  2022-06-02       12     241.626                     80.633   \n",
       "56   2022-06-03       11     216.911                     80.633   \n",
       "280  2022-06-04        0       0.000                     50.395   \n",
       "137  2022-06-05        0       0.000                     40.316   \n",
       "..          ...      ...         ...                        ...   \n",
       "244  2023-04-26        4      80.542                     80.520   \n",
       "202  2023-04-27        4      80.542                     80.520   \n",
       "45   2023-04-28        4      80.542                     80.520   \n",
       "184  2023-04-29        0       0.000                      0.000   \n",
       "34   2023-04-30        0       0.000                      0.000   \n",
       "\n",
       "     perc_km_planejada  valor_subsidio_por_km  valor_subsidio  \n",
       "304               3.30                   2.13       567.30633  \n",
       "209               3.00                   2.13       514.66338  \n",
       "56                2.69                   2.13       462.02043  \n",
       "280               0.00                   2.13         0.00000  \n",
       "137               0.00                   2.13         0.00000  \n",
       "..                 ...                    ...             ...  \n",
       "244               1.00                   2.81       226.32302  \n",
       "202               1.00                   2.81       226.32302  \n",
       "45                1.00                   2.81       226.32302  \n",
       "184               0.00                   2.81         0.00000  \n",
       "34                0.00                   2.81         0.00000  \n",
       "\n",
       "[334 rows x 7 columns]"
      ]
     },
     "execution_count": 10,
     "metadata": {},
     "output_type": "execute_result"
    }
   ],
   "source": [
    "q = f\"\"\"\n",
    "WITH\n",
    "  viagem_dia AS (\n",
    "  SELECT\n",
    "    DATA,\n",
    "    COUNT(*) AS viagens,\n",
    "    SUM(distancia_planejada) AS km_apurada\n",
    "  FROM\n",
    "    `rj-smtr-dev.SMTR202212006620_reprocessamento.viagem_completa`\n",
    "  WHERE\n",
    "    DATA BETWEEN \"2022-06-01\"\n",
    "    AND \"2023-04-30\"\n",
    "  GROUP BY\n",
    "    DATA\n",
    "  ),\n",
    "  viagem_planejada AS ( -- pegar a km planejada para o dia\n",
    "  SELECT DISTINCT \n",
    "    DATA,\n",
    "    distancia_total_planejada\n",
    "  FROM\n",
    "    `rj-smtr.projeto_subsidio_sppo.viagem_planejada`\n",
    "  WHERE\n",
    "    servico = '663'\n",
    "    AND DATA BETWEEN \"2022-06-01\"\n",
    "    AND \"2023-04-30\"\n",
    "  ),\n",
    "  tabela_pod AS (\n",
    "  SELECT\n",
    "    *,\n",
    "  ROUND(CASE WHEN distancia_total_planejada = 0 THEN 0 ELSE km_apurada / distancia_total_planejada END, 2) AS perc_km_planejada\n",
    "  FROM\n",
    "    viagem_dia vd\n",
    "  RIGHT JOIN\n",
    "    viagem_planejada vp\n",
    "  USING\n",
    "    (DATA) \n",
    "  ),\n",
    "  tabela_subsidio_km AS (\n",
    "  SELECT\n",
    "    DATA,\n",
    "    valor_subsidio_por_km\n",
    "  FROM\n",
    "    `rj-smtr-dev.SMTR202212006620_reprocessamento.subsidio_data_versao_efetiva` )\n",
    "SELECT\n",
    "  DATA,\n",
    "  COALESCE(viagens, 0) as viagens,\n",
    "  COALESCE(km_apurada,0) as km_apurada,\n",
    "  COALESCE(distancia_total_planejada,0) as distancia_total_planejada,\n",
    "  COALESCE(perc_km_planejada,0) as perc_km_planejada,\n",
    "  COALESCE(valor_subsidio_por_km,0) as valor_subsidio_por_km,\n",
    "   CASE \n",
    "   WHEN perc_km_planejada >= 0.8 THEN valor_subsidio_por_km * km_apurada\n",
    "   ELSE 0\n",
    "   END as valor_subsidio\n",
    "FROM\n",
    "  tabela_pod\n",
    "LEFT JOIN\n",
    "  tabela_subsidio_km\n",
    "USING\n",
    "  (DATA)\n",
    "\"\"\"\n",
    "\n",
    "subsidio_a_pagar_dia = bd.read_sql(q, from_file=True)\n",
    "subsidio_a_pagar_dia = subsidio_a_pagar_dia.sort_values('DATA')\n",
    "subsidio_a_pagar_dia"
   ]
  },
  {
   "cell_type": "code",
   "execution_count": 11,
   "metadata": {},
   "outputs": [
    {
     "data": {
      "text/html": [
       "<div>\n",
       "<style scoped>\n",
       "    .dataframe tbody tr th:only-of-type {\n",
       "        vertical-align: middle;\n",
       "    }\n",
       "\n",
       "    .dataframe tbody tr th {\n",
       "        vertical-align: top;\n",
       "    }\n",
       "\n",
       "    .dataframe thead th {\n",
       "        text-align: right;\n",
       "    }\n",
       "</style>\n",
       "<table border=\"1\" class=\"dataframe\">\n",
       "  <thead>\n",
       "    <tr style=\"text-align: right;\">\n",
       "      <th></th>\n",
       "      <th>mes_ano</th>\n",
       "      <th>viagens</th>\n",
       "      <th>valor_subsidio</th>\n",
       "    </tr>\n",
       "  </thead>\n",
       "  <tbody>\n",
       "    <tr>\n",
       "      <th>0</th>\n",
       "      <td>2022-06</td>\n",
       "      <td>68</td>\n",
       "      <td>1543.99014</td>\n",
       "    </tr>\n",
       "    <tr>\n",
       "      <th>1</th>\n",
       "      <td>2022-07</td>\n",
       "      <td>53</td>\n",
       "      <td>934.65928</td>\n",
       "    </tr>\n",
       "    <tr>\n",
       "      <th>2</th>\n",
       "      <td>2022-08</td>\n",
       "      <td>77</td>\n",
       "      <td>1304.78040</td>\n",
       "    </tr>\n",
       "    <tr>\n",
       "      <th>3</th>\n",
       "      <td>2022-09</td>\n",
       "      <td>78</td>\n",
       "      <td>2243.98125</td>\n",
       "    </tr>\n",
       "    <tr>\n",
       "      <th>4</th>\n",
       "      <td>2022-10</td>\n",
       "      <td>59</td>\n",
       "      <td>782.86824</td>\n",
       "    </tr>\n",
       "    <tr>\n",
       "      <th>5</th>\n",
       "      <td>2022-11</td>\n",
       "      <td>53</td>\n",
       "      <td>331.87383</td>\n",
       "    </tr>\n",
       "    <tr>\n",
       "      <th>6</th>\n",
       "      <td>2022-12</td>\n",
       "      <td>68</td>\n",
       "      <td>1290.28284</td>\n",
       "    </tr>\n",
       "    <tr>\n",
       "      <th>7</th>\n",
       "      <td>2023-01</td>\n",
       "      <td>70</td>\n",
       "      <td>3214.21154</td>\n",
       "    </tr>\n",
       "    <tr>\n",
       "      <th>8</th>\n",
       "      <td>2023-02</td>\n",
       "      <td>63</td>\n",
       "      <td>2785.32539</td>\n",
       "    </tr>\n",
       "    <tr>\n",
       "      <th>9</th>\n",
       "      <td>2023-03</td>\n",
       "      <td>84</td>\n",
       "      <td>3394.84530</td>\n",
       "    </tr>\n",
       "    <tr>\n",
       "      <th>10</th>\n",
       "      <td>2023-04</td>\n",
       "      <td>68</td>\n",
       "      <td>3333.15737</td>\n",
       "    </tr>\n",
       "  </tbody>\n",
       "</table>\n",
       "</div>"
      ],
      "text/plain": [
       "    mes_ano  viagens  valor_subsidio\n",
       "0   2022-06       68      1543.99014\n",
       "1   2022-07       53       934.65928\n",
       "2   2022-08       77      1304.78040\n",
       "3   2022-09       78      2243.98125\n",
       "4   2022-10       59       782.86824\n",
       "5   2022-11       53       331.87383\n",
       "6   2022-12       68      1290.28284\n",
       "7   2023-01       70      3214.21154\n",
       "8   2023-02       63      2785.32539\n",
       "9   2023-03       84      3394.84530\n",
       "10  2023-04       68      3333.15737"
      ]
     },
     "execution_count": 11,
     "metadata": {},
     "output_type": "execute_result"
    }
   ],
   "source": [
    "subsidio_a_pagar_dia['DATA'] = pd.to_datetime(subsidio_a_pagar_dia['DATA'])\n",
    "subsidio_a_pagar_dia['mes_ano'] = subsidio_a_pagar_dia['DATA'].dt.strftime('%Y-%m')\n",
    "subsidio_a_pagar_mes = subsidio_a_pagar_dia[['mes_ano', 'viagens', 'valor_subsidio']]\n",
    "subsidio_a_pagar_mes = subsidio_a_pagar_mes.groupby('mes_ano').sum().reset_index()  \n",
    "subsidio_a_pagar_mes"
   ]
  },
  {
   "cell_type": "markdown",
   "metadata": {},
   "source": [
    "O aumento do valor do subsídio não é proporcional ao aumento da quantidade de viagens, pois com o reprocessamento, cada viagem circular virou duas viagens separadas, uma de ida e outra de volta.\n",
    "\n",
    "Isto quer dizer que o esperado era que a quantidade de viagens pelo menos dobrasse após o reprocessamento, mesmo que não fosse identificada nenhuma viagem nova."
   ]
  },
  {
   "cell_type": "code",
   "execution_count": 12,
   "metadata": {},
   "outputs": [
    {
     "data": {
      "text/html": [
       "<div>\n",
       "<style scoped>\n",
       "    .dataframe tbody tr th:only-of-type {\n",
       "        vertical-align: middle;\n",
       "    }\n",
       "\n",
       "    .dataframe tbody tr th {\n",
       "        vertical-align: top;\n",
       "    }\n",
       "\n",
       "    .dataframe thead th {\n",
       "        text-align: right;\n",
       "    }\n",
       "</style>\n",
       "<table border=\"1\" class=\"dataframe\">\n",
       "  <thead>\n",
       "    <tr style=\"text-align: right;\">\n",
       "      <th></th>\n",
       "      <th>mes_ano</th>\n",
       "      <th>viagens_pre</th>\n",
       "      <th>valor_subsidio_pre</th>\n",
       "      <th>viagens_pos</th>\n",
       "      <th>valor_subsidio_pos</th>\n",
       "    </tr>\n",
       "  </thead>\n",
       "  <tbody>\n",
       "    <tr>\n",
       "      <th>0</th>\n",
       "      <td>2022-06</td>\n",
       "      <td>22</td>\n",
       "      <td>1288.10</td>\n",
       "      <td>68</td>\n",
       "      <td>1543.99014</td>\n",
       "    </tr>\n",
       "    <tr>\n",
       "      <th>1</th>\n",
       "      <td>2022-07</td>\n",
       "      <td>15</td>\n",
       "      <td>889.26</td>\n",
       "      <td>53</td>\n",
       "      <td>934.65928</td>\n",
       "    </tr>\n",
       "    <tr>\n",
       "      <th>2</th>\n",
       "      <td>2022-08</td>\n",
       "      <td>31</td>\n",
       "      <td>1306.26</td>\n",
       "      <td>77</td>\n",
       "      <td>1304.78040</td>\n",
       "    </tr>\n",
       "    <tr>\n",
       "      <th>3</th>\n",
       "      <td>2022-09</td>\n",
       "      <td>31</td>\n",
       "      <td>1834.43</td>\n",
       "      <td>78</td>\n",
       "      <td>2243.98125</td>\n",
       "    </tr>\n",
       "    <tr>\n",
       "      <th>4</th>\n",
       "      <td>2022-10</td>\n",
       "      <td>19</td>\n",
       "      <td>783.72</td>\n",
       "      <td>59</td>\n",
       "      <td>782.86824</td>\n",
       "    </tr>\n",
       "    <tr>\n",
       "      <th>5</th>\n",
       "      <td>2022-11</td>\n",
       "      <td>14</td>\n",
       "      <td>308.42</td>\n",
       "      <td>53</td>\n",
       "      <td>331.87383</td>\n",
       "    </tr>\n",
       "    <tr>\n",
       "      <th>6</th>\n",
       "      <td>2022-12</td>\n",
       "      <td>25</td>\n",
       "      <td>1291.68</td>\n",
       "      <td>68</td>\n",
       "      <td>1290.28284</td>\n",
       "    </tr>\n",
       "    <tr>\n",
       "      <th>7</th>\n",
       "      <td>2023-01</td>\n",
       "      <td>30</td>\n",
       "      <td>3031.06</td>\n",
       "      <td>70</td>\n",
       "      <td>3214.21154</td>\n",
       "    </tr>\n",
       "    <tr>\n",
       "      <th>8</th>\n",
       "      <td>2023-02</td>\n",
       "      <td>27</td>\n",
       "      <td>2489.19</td>\n",
       "      <td>63</td>\n",
       "      <td>2785.32539</td>\n",
       "    </tr>\n",
       "    <tr>\n",
       "      <th>9</th>\n",
       "      <td>2023-03</td>\n",
       "      <td>36</td>\n",
       "      <td>3394.35</td>\n",
       "      <td>84</td>\n",
       "      <td>3394.84530</td>\n",
       "    </tr>\n",
       "    <tr>\n",
       "      <th>10</th>\n",
       "      <td>2023-04</td>\n",
       "      <td>30</td>\n",
       "      <td>2941.77</td>\n",
       "      <td>68</td>\n",
       "      <td>3333.15737</td>\n",
       "    </tr>\n",
       "  </tbody>\n",
       "</table>\n",
       "</div>"
      ],
      "text/plain": [
       "    mes_ano  viagens_pre  valor_subsidio_pre  viagens_pos  valor_subsidio_pos\n",
       "0   2022-06           22             1288.10           68          1543.99014\n",
       "1   2022-07           15              889.26           53           934.65928\n",
       "2   2022-08           31             1306.26           77          1304.78040\n",
       "3   2022-09           31             1834.43           78          2243.98125\n",
       "4   2022-10           19              783.72           59           782.86824\n",
       "5   2022-11           14              308.42           53           331.87383\n",
       "6   2022-12           25             1291.68           68          1290.28284\n",
       "7   2023-01           30             3031.06           70          3214.21154\n",
       "8   2023-02           27             2489.19           63          2785.32539\n",
       "9   2023-03           36             3394.35           84          3394.84530\n",
       "10  2023-04           30             2941.77           68          3333.15737"
      ]
     },
     "execution_count": 12,
     "metadata": {},
     "output_type": "execute_result"
    }
   ],
   "source": [
    "# juntar as duas tabelas\n",
    "tabela_subsidio_mes = pd.merge(subsidio_pago_mes, subsidio_a_pagar_mes, how='left', on='mes_ano', suffixes=['_pre','_pos'])\n",
    "tabela_subsidio_mes"
   ]
  },
  {
   "cell_type": "code",
   "execution_count": 13,
   "metadata": {},
   "outputs": [
    {
     "data": {
      "text/plain": [
       "viagens_pre             280.00000\n",
       "viagens_pos             741.00000\n",
       "valor_subsidio_pre    19558.24000\n",
       "valor_subsidio_pos    21159.97558\n",
       "dtype: float64"
      ]
     },
     "execution_count": 13,
     "metadata": {},
     "output_type": "execute_result"
    }
   ],
   "source": [
    "tabela_subsidio_mes\n",
    "total_subsidio_comparacao = tabela_subsidio_mes[['viagens_pre', 'viagens_pos','valor_subsidio_pre','valor_subsidio_pos']].sum(axis=0)\n",
    "total_subsidio_comparacao"
   ]
  },
  {
   "cell_type": "code",
   "execution_count": 14,
   "metadata": {},
   "outputs": [
    {
     "data": {
      "application/vnd.plotly.v1+json": {
       "config": {
        "plotlyServerURL": "https://plot.ly"
       },
       "data": [
        {
         "marker": {
          "color": "dodgerblue"
         },
         "mode": "lines+markers",
         "name": "Qtd de viagens pré-reprocessamento",
         "opacity": 0.75,
         "type": "scatter",
         "x": [
          "2022-06",
          "2022-07",
          "2022-08",
          "2022-09",
          "2022-10",
          "2022-11",
          "2022-12",
          "2023-01",
          "2023-02",
          "2023-03",
          "2023-04"
         ],
         "y": [
          22,
          15,
          31,
          31,
          19,
          14,
          25,
          30,
          27,
          36,
          30
         ]
        },
        {
         "marker": {
          "color": "crimson"
         },
         "mode": "lines+markers",
         "name": "Qtd de viagens reprocessadas",
         "opacity": 0.75,
         "type": "scatter",
         "x": [
          "2022-06",
          "2022-07",
          "2022-08",
          "2022-09",
          "2022-10",
          "2022-11",
          "2022-12",
          "2023-01",
          "2023-02",
          "2023-03",
          "2023-04"
         ],
         "y": [
          68,
          53,
          77,
          78,
          59,
          53,
          68,
          70,
          63,
          84,
          68
         ]
        }
       ],
       "layout": {
        "annotations": [
         {
          "font": {
           "color": "black",
           "size": 14
          },
          "showarrow": false,
          "text": "Valores",
          "x": -0.065,
          "xanchor": "left",
          "xref": "paper",
          "y": 1.1,
          "yref": "paper"
         },
         {
          "font": {
           "color": "dodgerblue",
           "size": 14
          },
          "showarrow": false,
          "text": "pré-reprocessamento",
          "x": 0.025,
          "xanchor": "left",
          "xref": "paper",
          "y": 1.1,
          "yref": "paper"
         },
         {
          "font": {
           "color": "black",
           "size": 14
          },
          "showarrow": false,
          "text": "e",
          "x": 0.27,
          "xanchor": "left",
          "xref": "paper",
          "y": 1.1,
          "yref": "paper"
         },
         {
          "font": {
           "color": "crimson",
           "size": 14
          },
          "showarrow": false,
          "text": "pós-reprocessamento.",
          "x": 0.29,
          "xanchor": "left",
          "xref": "paper",
          "y": 1.1,
          "yref": "paper"
         }
        ],
        "height": 600,
        "plot_bgcolor": "white",
        "showlegend": false,
        "template": {
         "data": {
          "bar": [
           {
            "error_x": {
             "color": "#2a3f5f"
            },
            "error_y": {
             "color": "#2a3f5f"
            },
            "marker": {
             "line": {
              "color": "#E5ECF6",
              "width": 0.5
             },
             "pattern": {
              "fillmode": "overlay",
              "size": 10,
              "solidity": 0.2
             }
            },
            "type": "bar"
           }
          ],
          "barpolar": [
           {
            "marker": {
             "line": {
              "color": "#E5ECF6",
              "width": 0.5
             },
             "pattern": {
              "fillmode": "overlay",
              "size": 10,
              "solidity": 0.2
             }
            },
            "type": "barpolar"
           }
          ],
          "carpet": [
           {
            "aaxis": {
             "endlinecolor": "#2a3f5f",
             "gridcolor": "white",
             "linecolor": "white",
             "minorgridcolor": "white",
             "startlinecolor": "#2a3f5f"
            },
            "baxis": {
             "endlinecolor": "#2a3f5f",
             "gridcolor": "white",
             "linecolor": "white",
             "minorgridcolor": "white",
             "startlinecolor": "#2a3f5f"
            },
            "type": "carpet"
           }
          ],
          "choropleth": [
           {
            "colorbar": {
             "outlinewidth": 0,
             "ticks": ""
            },
            "type": "choropleth"
           }
          ],
          "contour": [
           {
            "colorbar": {
             "outlinewidth": 0,
             "ticks": ""
            },
            "colorscale": [
             [
              0,
              "#0d0887"
             ],
             [
              0.1111111111111111,
              "#46039f"
             ],
             [
              0.2222222222222222,
              "#7201a8"
             ],
             [
              0.3333333333333333,
              "#9c179e"
             ],
             [
              0.4444444444444444,
              "#bd3786"
             ],
             [
              0.5555555555555556,
              "#d8576b"
             ],
             [
              0.6666666666666666,
              "#ed7953"
             ],
             [
              0.7777777777777778,
              "#fb9f3a"
             ],
             [
              0.8888888888888888,
              "#fdca26"
             ],
             [
              1,
              "#f0f921"
             ]
            ],
            "type": "contour"
           }
          ],
          "contourcarpet": [
           {
            "colorbar": {
             "outlinewidth": 0,
             "ticks": ""
            },
            "type": "contourcarpet"
           }
          ],
          "heatmap": [
           {
            "colorbar": {
             "outlinewidth": 0,
             "ticks": ""
            },
            "colorscale": [
             [
              0,
              "#0d0887"
             ],
             [
              0.1111111111111111,
              "#46039f"
             ],
             [
              0.2222222222222222,
              "#7201a8"
             ],
             [
              0.3333333333333333,
              "#9c179e"
             ],
             [
              0.4444444444444444,
              "#bd3786"
             ],
             [
              0.5555555555555556,
              "#d8576b"
             ],
             [
              0.6666666666666666,
              "#ed7953"
             ],
             [
              0.7777777777777778,
              "#fb9f3a"
             ],
             [
              0.8888888888888888,
              "#fdca26"
             ],
             [
              1,
              "#f0f921"
             ]
            ],
            "type": "heatmap"
           }
          ],
          "heatmapgl": [
           {
            "colorbar": {
             "outlinewidth": 0,
             "ticks": ""
            },
            "colorscale": [
             [
              0,
              "#0d0887"
             ],
             [
              0.1111111111111111,
              "#46039f"
             ],
             [
              0.2222222222222222,
              "#7201a8"
             ],
             [
              0.3333333333333333,
              "#9c179e"
             ],
             [
              0.4444444444444444,
              "#bd3786"
             ],
             [
              0.5555555555555556,
              "#d8576b"
             ],
             [
              0.6666666666666666,
              "#ed7953"
             ],
             [
              0.7777777777777778,
              "#fb9f3a"
             ],
             [
              0.8888888888888888,
              "#fdca26"
             ],
             [
              1,
              "#f0f921"
             ]
            ],
            "type": "heatmapgl"
           }
          ],
          "histogram": [
           {
            "marker": {
             "pattern": {
              "fillmode": "overlay",
              "size": 10,
              "solidity": 0.2
             }
            },
            "type": "histogram"
           }
          ],
          "histogram2d": [
           {
            "colorbar": {
             "outlinewidth": 0,
             "ticks": ""
            },
            "colorscale": [
             [
              0,
              "#0d0887"
             ],
             [
              0.1111111111111111,
              "#46039f"
             ],
             [
              0.2222222222222222,
              "#7201a8"
             ],
             [
              0.3333333333333333,
              "#9c179e"
             ],
             [
              0.4444444444444444,
              "#bd3786"
             ],
             [
              0.5555555555555556,
              "#d8576b"
             ],
             [
              0.6666666666666666,
              "#ed7953"
             ],
             [
              0.7777777777777778,
              "#fb9f3a"
             ],
             [
              0.8888888888888888,
              "#fdca26"
             ],
             [
              1,
              "#f0f921"
             ]
            ],
            "type": "histogram2d"
           }
          ],
          "histogram2dcontour": [
           {
            "colorbar": {
             "outlinewidth": 0,
             "ticks": ""
            },
            "colorscale": [
             [
              0,
              "#0d0887"
             ],
             [
              0.1111111111111111,
              "#46039f"
             ],
             [
              0.2222222222222222,
              "#7201a8"
             ],
             [
              0.3333333333333333,
              "#9c179e"
             ],
             [
              0.4444444444444444,
              "#bd3786"
             ],
             [
              0.5555555555555556,
              "#d8576b"
             ],
             [
              0.6666666666666666,
              "#ed7953"
             ],
             [
              0.7777777777777778,
              "#fb9f3a"
             ],
             [
              0.8888888888888888,
              "#fdca26"
             ],
             [
              1,
              "#f0f921"
             ]
            ],
            "type": "histogram2dcontour"
           }
          ],
          "mesh3d": [
           {
            "colorbar": {
             "outlinewidth": 0,
             "ticks": ""
            },
            "type": "mesh3d"
           }
          ],
          "parcoords": [
           {
            "line": {
             "colorbar": {
              "outlinewidth": 0,
              "ticks": ""
             }
            },
            "type": "parcoords"
           }
          ],
          "pie": [
           {
            "automargin": true,
            "type": "pie"
           }
          ],
          "scatter": [
           {
            "fillpattern": {
             "fillmode": "overlay",
             "size": 10,
             "solidity": 0.2
            },
            "type": "scatter"
           }
          ],
          "scatter3d": [
           {
            "line": {
             "colorbar": {
              "outlinewidth": 0,
              "ticks": ""
             }
            },
            "marker": {
             "colorbar": {
              "outlinewidth": 0,
              "ticks": ""
             }
            },
            "type": "scatter3d"
           }
          ],
          "scattercarpet": [
           {
            "marker": {
             "colorbar": {
              "outlinewidth": 0,
              "ticks": ""
             }
            },
            "type": "scattercarpet"
           }
          ],
          "scattergeo": [
           {
            "marker": {
             "colorbar": {
              "outlinewidth": 0,
              "ticks": ""
             }
            },
            "type": "scattergeo"
           }
          ],
          "scattergl": [
           {
            "marker": {
             "colorbar": {
              "outlinewidth": 0,
              "ticks": ""
             }
            },
            "type": "scattergl"
           }
          ],
          "scattermapbox": [
           {
            "marker": {
             "colorbar": {
              "outlinewidth": 0,
              "ticks": ""
             }
            },
            "type": "scattermapbox"
           }
          ],
          "scatterpolar": [
           {
            "marker": {
             "colorbar": {
              "outlinewidth": 0,
              "ticks": ""
             }
            },
            "type": "scatterpolar"
           }
          ],
          "scatterpolargl": [
           {
            "marker": {
             "colorbar": {
              "outlinewidth": 0,
              "ticks": ""
             }
            },
            "type": "scatterpolargl"
           }
          ],
          "scatterternary": [
           {
            "marker": {
             "colorbar": {
              "outlinewidth": 0,
              "ticks": ""
             }
            },
            "type": "scatterternary"
           }
          ],
          "surface": [
           {
            "colorbar": {
             "outlinewidth": 0,
             "ticks": ""
            },
            "colorscale": [
             [
              0,
              "#0d0887"
             ],
             [
              0.1111111111111111,
              "#46039f"
             ],
             [
              0.2222222222222222,
              "#7201a8"
             ],
             [
              0.3333333333333333,
              "#9c179e"
             ],
             [
              0.4444444444444444,
              "#bd3786"
             ],
             [
              0.5555555555555556,
              "#d8576b"
             ],
             [
              0.6666666666666666,
              "#ed7953"
             ],
             [
              0.7777777777777778,
              "#fb9f3a"
             ],
             [
              0.8888888888888888,
              "#fdca26"
             ],
             [
              1,
              "#f0f921"
             ]
            ],
            "type": "surface"
           }
          ],
          "table": [
           {
            "cells": {
             "fill": {
              "color": "#EBF0F8"
             },
             "line": {
              "color": "white"
             }
            },
            "header": {
             "fill": {
              "color": "#C8D4E3"
             },
             "line": {
              "color": "white"
             }
            },
            "type": "table"
           }
          ]
         },
         "layout": {
          "annotationdefaults": {
           "arrowcolor": "#2a3f5f",
           "arrowhead": 0,
           "arrowwidth": 1
          },
          "autotypenumbers": "strict",
          "coloraxis": {
           "colorbar": {
            "outlinewidth": 0,
            "ticks": ""
           }
          },
          "colorscale": {
           "diverging": [
            [
             0,
             "#8e0152"
            ],
            [
             0.1,
             "#c51b7d"
            ],
            [
             0.2,
             "#de77ae"
            ],
            [
             0.3,
             "#f1b6da"
            ],
            [
             0.4,
             "#fde0ef"
            ],
            [
             0.5,
             "#f7f7f7"
            ],
            [
             0.6,
             "#e6f5d0"
            ],
            [
             0.7,
             "#b8e186"
            ],
            [
             0.8,
             "#7fbc41"
            ],
            [
             0.9,
             "#4d9221"
            ],
            [
             1,
             "#276419"
            ]
           ],
           "sequential": [
            [
             0,
             "#0d0887"
            ],
            [
             0.1111111111111111,
             "#46039f"
            ],
            [
             0.2222222222222222,
             "#7201a8"
            ],
            [
             0.3333333333333333,
             "#9c179e"
            ],
            [
             0.4444444444444444,
             "#bd3786"
            ],
            [
             0.5555555555555556,
             "#d8576b"
            ],
            [
             0.6666666666666666,
             "#ed7953"
            ],
            [
             0.7777777777777778,
             "#fb9f3a"
            ],
            [
             0.8888888888888888,
             "#fdca26"
            ],
            [
             1,
             "#f0f921"
            ]
           ],
           "sequentialminus": [
            [
             0,
             "#0d0887"
            ],
            [
             0.1111111111111111,
             "#46039f"
            ],
            [
             0.2222222222222222,
             "#7201a8"
            ],
            [
             0.3333333333333333,
             "#9c179e"
            ],
            [
             0.4444444444444444,
             "#bd3786"
            ],
            [
             0.5555555555555556,
             "#d8576b"
            ],
            [
             0.6666666666666666,
             "#ed7953"
            ],
            [
             0.7777777777777778,
             "#fb9f3a"
            ],
            [
             0.8888888888888888,
             "#fdca26"
            ],
            [
             1,
             "#f0f921"
            ]
           ]
          },
          "colorway": [
           "#636efa",
           "#EF553B",
           "#00cc96",
           "#ab63fa",
           "#FFA15A",
           "#19d3f3",
           "#FF6692",
           "#B6E880",
           "#FF97FF",
           "#FECB52"
          ],
          "font": {
           "color": "#2a3f5f"
          },
          "geo": {
           "bgcolor": "white",
           "lakecolor": "white",
           "landcolor": "#E5ECF6",
           "showlakes": true,
           "showland": true,
           "subunitcolor": "white"
          },
          "hoverlabel": {
           "align": "left"
          },
          "hovermode": "closest",
          "mapbox": {
           "style": "light"
          },
          "paper_bgcolor": "white",
          "plot_bgcolor": "#E5ECF6",
          "polar": {
           "angularaxis": {
            "gridcolor": "white",
            "linecolor": "white",
            "ticks": ""
           },
           "bgcolor": "#E5ECF6",
           "radialaxis": {
            "gridcolor": "white",
            "linecolor": "white",
            "ticks": ""
           }
          },
          "scene": {
           "xaxis": {
            "backgroundcolor": "#E5ECF6",
            "gridcolor": "white",
            "gridwidth": 2,
            "linecolor": "white",
            "showbackground": true,
            "ticks": "",
            "zerolinecolor": "white"
           },
           "yaxis": {
            "backgroundcolor": "#E5ECF6",
            "gridcolor": "white",
            "gridwidth": 2,
            "linecolor": "white",
            "showbackground": true,
            "ticks": "",
            "zerolinecolor": "white"
           },
           "zaxis": {
            "backgroundcolor": "#E5ECF6",
            "gridcolor": "white",
            "gridwidth": 2,
            "linecolor": "white",
            "showbackground": true,
            "ticks": "",
            "zerolinecolor": "white"
           }
          },
          "shapedefaults": {
           "line": {
            "color": "#2a3f5f"
           }
          },
          "ternary": {
           "aaxis": {
            "gridcolor": "white",
            "linecolor": "white",
            "ticks": ""
           },
           "baxis": {
            "gridcolor": "white",
            "linecolor": "white",
            "ticks": ""
           },
           "bgcolor": "#E5ECF6",
           "caxis": {
            "gridcolor": "white",
            "linecolor": "white",
            "ticks": ""
           }
          },
          "title": {
           "x": 0.05
          },
          "xaxis": {
           "automargin": true,
           "gridcolor": "white",
           "linecolor": "white",
           "ticks": "",
           "title": {
            "standoff": 15
           },
           "zerolinecolor": "white",
           "zerolinewidth": 2
          },
          "yaxis": {
           "automargin": true,
           "gridcolor": "white",
           "linecolor": "white",
           "ticks": "",
           "title": {
            "standoff": 15
           },
           "zerolinecolor": "white",
           "zerolinewidth": 2
          }
         }
        },
        "title": {
         "font": {
          "color": "black"
         },
         "text": "Quantidade de viagens por mês - Serviço: 663"
        },
        "width": 800,
        "xaxis": {
         "showgrid": false,
         "zeroline": false
        },
        "yaxis": {
         "showgrid": false,
         "zeroline": false
        }
       }
      }
     },
     "metadata": {},
     "output_type": "display_data"
    }
   ],
   "source": [
    "# Criar o gráfico de linha com plotly\n",
    "fig = go.Figure()\n",
    "\n",
    "# Adicionar a linha com pontos para tabela_subsidio_mes['viagens_pre']\n",
    "fig.add_trace(go.Scatter(x=tabela_subsidio_mes['mes_ano'], y=tabela_subsidio_mes['viagens_pre'],\n",
    "                         mode='lines+markers',\n",
    "                         name='Qtd de viagens pré-reprocessamento',\n",
    "                         marker=dict(color='dodgerblue'),\n",
    "                         opacity=0.75))\n",
    "\n",
    "# Adicionar a linha com pontos para tabela_subsidio_mes['viagens_pos']\n",
    "fig.add_trace(go.Scatter(x=tabela_subsidio_mes['mes_ano'], y=tabela_subsidio_mes['viagens_pos'],\n",
    "                         mode='lines+markers',\n",
    "                         name='Qtd de viagens reprocessadas',\n",
    "                         marker=dict(color='crimson'),\n",
    "                         opacity=0.75))\n",
    "\n",
    "# Configurar layout e outros parâmetros do gráfico seguindo o design anterior\n",
    "fig.update_layout(\n",
    "    title=dict(text=\"Quantidade de viagens por mês - Serviço: 663\", font=dict(color='black')),\n",
    "    showlegend=False,\n",
    "    width=800,\n",
    "    height=600,\n",
    "    plot_bgcolor='white',\n",
    "    xaxis=dict(showgrid=False, zeroline=False),\n",
    "    yaxis=dict(showgrid=False, zeroline=False),\n",
    "    # Adicionando anotações para o subtítulo com cores específicas\n",
    "    annotations=[\n",
    "        dict(\n",
    "            x=-0.065,\n",
    "            y=1.10,\n",
    "            xref='paper',\n",
    "            yref='paper',\n",
    "            xanchor='left',\n",
    "            text='Valores',\n",
    "            showarrow=False,\n",
    "            font=dict(color='black', size=14)\n",
    "        ),\n",
    "        dict(\n",
    "            x=0.025,\n",
    "            y=1.10,\n",
    "            xref='paper',\n",
    "            yref='paper',\n",
    "            xanchor='left',\n",
    "            text='pré-reprocessamento',\n",
    "            showarrow=False,\n",
    "            font=dict(color='dodgerblue', size=14)\n",
    "        ),\n",
    "        dict(\n",
    "            x=0.27,\n",
    "            y=1.10,\n",
    "            xref='paper',\n",
    "            yref='paper',\n",
    "            xanchor='left',\n",
    "            text='e',\n",
    "            showarrow=False,\n",
    "            font=dict(color='black', size=14)\n",
    "        ),\n",
    "        dict(\n",
    "            x=0.29,\n",
    "            y=1.10,\n",
    "            xref='paper',\n",
    "            yref='paper',\n",
    "            xanchor='left',\n",
    "            text='pós-reprocessamento.',\n",
    "            showarrow=False,\n",
    "            font=dict(color='crimson', size=14)\n",
    "        )\n",
    "    ]\n",
    ")\n",
    "\n",
    "fig.show()"
   ]
  },
  {
   "cell_type": "code",
   "execution_count": 15,
   "metadata": {},
   "outputs": [
    {
     "data": {
      "application/vnd.plotly.v1+json": {
       "config": {
        "plotlyServerURL": "https://plot.ly"
       },
       "data": [
        {
         "marker": {
          "color": "dodgerblue"
         },
         "mode": "lines+markers",
         "name": "Valor do subsídio pré-reprocessamento",
         "opacity": 0.75,
         "type": "scatter",
         "x": [
          "2022-06",
          "2022-07",
          "2022-08",
          "2022-09",
          "2022-10",
          "2022-11",
          "2022-12",
          "2023-01",
          "2023-02",
          "2023-03",
          "2023-04"
         ],
         "y": [
          1288.1,
          889.2600000000001,
          1306.2599999999998,
          1834.4300000000007,
          783.72,
          308.42,
          1291.68,
          3031.06,
          2489.19,
          3394.35,
          2941.77
         ]
        },
        {
         "marker": {
          "color": "crimson"
         },
         "mode": "lines+markers",
         "name": "Valor do subsídio reprocessado",
         "opacity": 0.75,
         "type": "scatter",
         "x": [
          "2022-06",
          "2022-07",
          "2022-08",
          "2022-09",
          "2022-10",
          "2022-11",
          "2022-12",
          "2023-01",
          "2023-02",
          "2023-03",
          "2023-04"
         ],
         "y": [
          1543.99014,
          934.6592800000001,
          1304.7804,
          2243.98125,
          782.8682400000001,
          331.87383,
          1290.28284,
          3214.2115400000002,
          2785.32539,
          3394.8453000000004,
          3333.1573700000004
         ]
        }
       ],
       "layout": {
        "annotations": [
         {
          "font": {
           "color": "black",
           "size": 14
          },
          "showarrow": false,
          "text": "Valores",
          "x": -0.065,
          "xanchor": "left",
          "xref": "paper",
          "y": 1.1,
          "yref": "paper"
         },
         {
          "font": {
           "color": "dodgerblue",
           "size": 14
          },
          "showarrow": false,
          "text": "pré-reprocessamento",
          "x": 0.025,
          "xanchor": "left",
          "xref": "paper",
          "y": 1.1,
          "yref": "paper"
         },
         {
          "font": {
           "color": "black",
           "size": 14
          },
          "showarrow": false,
          "text": "e",
          "x": 0.27,
          "xanchor": "left",
          "xref": "paper",
          "y": 1.1,
          "yref": "paper"
         },
         {
          "font": {
           "color": "crimson",
           "size": 14
          },
          "showarrow": false,
          "text": "pós-reprocessamento.",
          "x": 0.29,
          "xanchor": "left",
          "xref": "paper",
          "y": 1.1,
          "yref": "paper"
         }
        ],
        "height": 600,
        "plot_bgcolor": "white",
        "showlegend": false,
        "template": {
         "data": {
          "bar": [
           {
            "error_x": {
             "color": "#2a3f5f"
            },
            "error_y": {
             "color": "#2a3f5f"
            },
            "marker": {
             "line": {
              "color": "#E5ECF6",
              "width": 0.5
             },
             "pattern": {
              "fillmode": "overlay",
              "size": 10,
              "solidity": 0.2
             }
            },
            "type": "bar"
           }
          ],
          "barpolar": [
           {
            "marker": {
             "line": {
              "color": "#E5ECF6",
              "width": 0.5
             },
             "pattern": {
              "fillmode": "overlay",
              "size": 10,
              "solidity": 0.2
             }
            },
            "type": "barpolar"
           }
          ],
          "carpet": [
           {
            "aaxis": {
             "endlinecolor": "#2a3f5f",
             "gridcolor": "white",
             "linecolor": "white",
             "minorgridcolor": "white",
             "startlinecolor": "#2a3f5f"
            },
            "baxis": {
             "endlinecolor": "#2a3f5f",
             "gridcolor": "white",
             "linecolor": "white",
             "minorgridcolor": "white",
             "startlinecolor": "#2a3f5f"
            },
            "type": "carpet"
           }
          ],
          "choropleth": [
           {
            "colorbar": {
             "outlinewidth": 0,
             "ticks": ""
            },
            "type": "choropleth"
           }
          ],
          "contour": [
           {
            "colorbar": {
             "outlinewidth": 0,
             "ticks": ""
            },
            "colorscale": [
             [
              0,
              "#0d0887"
             ],
             [
              0.1111111111111111,
              "#46039f"
             ],
             [
              0.2222222222222222,
              "#7201a8"
             ],
             [
              0.3333333333333333,
              "#9c179e"
             ],
             [
              0.4444444444444444,
              "#bd3786"
             ],
             [
              0.5555555555555556,
              "#d8576b"
             ],
             [
              0.6666666666666666,
              "#ed7953"
             ],
             [
              0.7777777777777778,
              "#fb9f3a"
             ],
             [
              0.8888888888888888,
              "#fdca26"
             ],
             [
              1,
              "#f0f921"
             ]
            ],
            "type": "contour"
           }
          ],
          "contourcarpet": [
           {
            "colorbar": {
             "outlinewidth": 0,
             "ticks": ""
            },
            "type": "contourcarpet"
           }
          ],
          "heatmap": [
           {
            "colorbar": {
             "outlinewidth": 0,
             "ticks": ""
            },
            "colorscale": [
             [
              0,
              "#0d0887"
             ],
             [
              0.1111111111111111,
              "#46039f"
             ],
             [
              0.2222222222222222,
              "#7201a8"
             ],
             [
              0.3333333333333333,
              "#9c179e"
             ],
             [
              0.4444444444444444,
              "#bd3786"
             ],
             [
              0.5555555555555556,
              "#d8576b"
             ],
             [
              0.6666666666666666,
              "#ed7953"
             ],
             [
              0.7777777777777778,
              "#fb9f3a"
             ],
             [
              0.8888888888888888,
              "#fdca26"
             ],
             [
              1,
              "#f0f921"
             ]
            ],
            "type": "heatmap"
           }
          ],
          "heatmapgl": [
           {
            "colorbar": {
             "outlinewidth": 0,
             "ticks": ""
            },
            "colorscale": [
             [
              0,
              "#0d0887"
             ],
             [
              0.1111111111111111,
              "#46039f"
             ],
             [
              0.2222222222222222,
              "#7201a8"
             ],
             [
              0.3333333333333333,
              "#9c179e"
             ],
             [
              0.4444444444444444,
              "#bd3786"
             ],
             [
              0.5555555555555556,
              "#d8576b"
             ],
             [
              0.6666666666666666,
              "#ed7953"
             ],
             [
              0.7777777777777778,
              "#fb9f3a"
             ],
             [
              0.8888888888888888,
              "#fdca26"
             ],
             [
              1,
              "#f0f921"
             ]
            ],
            "type": "heatmapgl"
           }
          ],
          "histogram": [
           {
            "marker": {
             "pattern": {
              "fillmode": "overlay",
              "size": 10,
              "solidity": 0.2
             }
            },
            "type": "histogram"
           }
          ],
          "histogram2d": [
           {
            "colorbar": {
             "outlinewidth": 0,
             "ticks": ""
            },
            "colorscale": [
             [
              0,
              "#0d0887"
             ],
             [
              0.1111111111111111,
              "#46039f"
             ],
             [
              0.2222222222222222,
              "#7201a8"
             ],
             [
              0.3333333333333333,
              "#9c179e"
             ],
             [
              0.4444444444444444,
              "#bd3786"
             ],
             [
              0.5555555555555556,
              "#d8576b"
             ],
             [
              0.6666666666666666,
              "#ed7953"
             ],
             [
              0.7777777777777778,
              "#fb9f3a"
             ],
             [
              0.8888888888888888,
              "#fdca26"
             ],
             [
              1,
              "#f0f921"
             ]
            ],
            "type": "histogram2d"
           }
          ],
          "histogram2dcontour": [
           {
            "colorbar": {
             "outlinewidth": 0,
             "ticks": ""
            },
            "colorscale": [
             [
              0,
              "#0d0887"
             ],
             [
              0.1111111111111111,
              "#46039f"
             ],
             [
              0.2222222222222222,
              "#7201a8"
             ],
             [
              0.3333333333333333,
              "#9c179e"
             ],
             [
              0.4444444444444444,
              "#bd3786"
             ],
             [
              0.5555555555555556,
              "#d8576b"
             ],
             [
              0.6666666666666666,
              "#ed7953"
             ],
             [
              0.7777777777777778,
              "#fb9f3a"
             ],
             [
              0.8888888888888888,
              "#fdca26"
             ],
             [
              1,
              "#f0f921"
             ]
            ],
            "type": "histogram2dcontour"
           }
          ],
          "mesh3d": [
           {
            "colorbar": {
             "outlinewidth": 0,
             "ticks": ""
            },
            "type": "mesh3d"
           }
          ],
          "parcoords": [
           {
            "line": {
             "colorbar": {
              "outlinewidth": 0,
              "ticks": ""
             }
            },
            "type": "parcoords"
           }
          ],
          "pie": [
           {
            "automargin": true,
            "type": "pie"
           }
          ],
          "scatter": [
           {
            "fillpattern": {
             "fillmode": "overlay",
             "size": 10,
             "solidity": 0.2
            },
            "type": "scatter"
           }
          ],
          "scatter3d": [
           {
            "line": {
             "colorbar": {
              "outlinewidth": 0,
              "ticks": ""
             }
            },
            "marker": {
             "colorbar": {
              "outlinewidth": 0,
              "ticks": ""
             }
            },
            "type": "scatter3d"
           }
          ],
          "scattercarpet": [
           {
            "marker": {
             "colorbar": {
              "outlinewidth": 0,
              "ticks": ""
             }
            },
            "type": "scattercarpet"
           }
          ],
          "scattergeo": [
           {
            "marker": {
             "colorbar": {
              "outlinewidth": 0,
              "ticks": ""
             }
            },
            "type": "scattergeo"
           }
          ],
          "scattergl": [
           {
            "marker": {
             "colorbar": {
              "outlinewidth": 0,
              "ticks": ""
             }
            },
            "type": "scattergl"
           }
          ],
          "scattermapbox": [
           {
            "marker": {
             "colorbar": {
              "outlinewidth": 0,
              "ticks": ""
             }
            },
            "type": "scattermapbox"
           }
          ],
          "scatterpolar": [
           {
            "marker": {
             "colorbar": {
              "outlinewidth": 0,
              "ticks": ""
             }
            },
            "type": "scatterpolar"
           }
          ],
          "scatterpolargl": [
           {
            "marker": {
             "colorbar": {
              "outlinewidth": 0,
              "ticks": ""
             }
            },
            "type": "scatterpolargl"
           }
          ],
          "scatterternary": [
           {
            "marker": {
             "colorbar": {
              "outlinewidth": 0,
              "ticks": ""
             }
            },
            "type": "scatterternary"
           }
          ],
          "surface": [
           {
            "colorbar": {
             "outlinewidth": 0,
             "ticks": ""
            },
            "colorscale": [
             [
              0,
              "#0d0887"
             ],
             [
              0.1111111111111111,
              "#46039f"
             ],
             [
              0.2222222222222222,
              "#7201a8"
             ],
             [
              0.3333333333333333,
              "#9c179e"
             ],
             [
              0.4444444444444444,
              "#bd3786"
             ],
             [
              0.5555555555555556,
              "#d8576b"
             ],
             [
              0.6666666666666666,
              "#ed7953"
             ],
             [
              0.7777777777777778,
              "#fb9f3a"
             ],
             [
              0.8888888888888888,
              "#fdca26"
             ],
             [
              1,
              "#f0f921"
             ]
            ],
            "type": "surface"
           }
          ],
          "table": [
           {
            "cells": {
             "fill": {
              "color": "#EBF0F8"
             },
             "line": {
              "color": "white"
             }
            },
            "header": {
             "fill": {
              "color": "#C8D4E3"
             },
             "line": {
              "color": "white"
             }
            },
            "type": "table"
           }
          ]
         },
         "layout": {
          "annotationdefaults": {
           "arrowcolor": "#2a3f5f",
           "arrowhead": 0,
           "arrowwidth": 1
          },
          "autotypenumbers": "strict",
          "coloraxis": {
           "colorbar": {
            "outlinewidth": 0,
            "ticks": ""
           }
          },
          "colorscale": {
           "diverging": [
            [
             0,
             "#8e0152"
            ],
            [
             0.1,
             "#c51b7d"
            ],
            [
             0.2,
             "#de77ae"
            ],
            [
             0.3,
             "#f1b6da"
            ],
            [
             0.4,
             "#fde0ef"
            ],
            [
             0.5,
             "#f7f7f7"
            ],
            [
             0.6,
             "#e6f5d0"
            ],
            [
             0.7,
             "#b8e186"
            ],
            [
             0.8,
             "#7fbc41"
            ],
            [
             0.9,
             "#4d9221"
            ],
            [
             1,
             "#276419"
            ]
           ],
           "sequential": [
            [
             0,
             "#0d0887"
            ],
            [
             0.1111111111111111,
             "#46039f"
            ],
            [
             0.2222222222222222,
             "#7201a8"
            ],
            [
             0.3333333333333333,
             "#9c179e"
            ],
            [
             0.4444444444444444,
             "#bd3786"
            ],
            [
             0.5555555555555556,
             "#d8576b"
            ],
            [
             0.6666666666666666,
             "#ed7953"
            ],
            [
             0.7777777777777778,
             "#fb9f3a"
            ],
            [
             0.8888888888888888,
             "#fdca26"
            ],
            [
             1,
             "#f0f921"
            ]
           ],
           "sequentialminus": [
            [
             0,
             "#0d0887"
            ],
            [
             0.1111111111111111,
             "#46039f"
            ],
            [
             0.2222222222222222,
             "#7201a8"
            ],
            [
             0.3333333333333333,
             "#9c179e"
            ],
            [
             0.4444444444444444,
             "#bd3786"
            ],
            [
             0.5555555555555556,
             "#d8576b"
            ],
            [
             0.6666666666666666,
             "#ed7953"
            ],
            [
             0.7777777777777778,
             "#fb9f3a"
            ],
            [
             0.8888888888888888,
             "#fdca26"
            ],
            [
             1,
             "#f0f921"
            ]
           ]
          },
          "colorway": [
           "#636efa",
           "#EF553B",
           "#00cc96",
           "#ab63fa",
           "#FFA15A",
           "#19d3f3",
           "#FF6692",
           "#B6E880",
           "#FF97FF",
           "#FECB52"
          ],
          "font": {
           "color": "#2a3f5f"
          },
          "geo": {
           "bgcolor": "white",
           "lakecolor": "white",
           "landcolor": "#E5ECF6",
           "showlakes": true,
           "showland": true,
           "subunitcolor": "white"
          },
          "hoverlabel": {
           "align": "left"
          },
          "hovermode": "closest",
          "mapbox": {
           "style": "light"
          },
          "paper_bgcolor": "white",
          "plot_bgcolor": "#E5ECF6",
          "polar": {
           "angularaxis": {
            "gridcolor": "white",
            "linecolor": "white",
            "ticks": ""
           },
           "bgcolor": "#E5ECF6",
           "radialaxis": {
            "gridcolor": "white",
            "linecolor": "white",
            "ticks": ""
           }
          },
          "scene": {
           "xaxis": {
            "backgroundcolor": "#E5ECF6",
            "gridcolor": "white",
            "gridwidth": 2,
            "linecolor": "white",
            "showbackground": true,
            "ticks": "",
            "zerolinecolor": "white"
           },
           "yaxis": {
            "backgroundcolor": "#E5ECF6",
            "gridcolor": "white",
            "gridwidth": 2,
            "linecolor": "white",
            "showbackground": true,
            "ticks": "",
            "zerolinecolor": "white"
           },
           "zaxis": {
            "backgroundcolor": "#E5ECF6",
            "gridcolor": "white",
            "gridwidth": 2,
            "linecolor": "white",
            "showbackground": true,
            "ticks": "",
            "zerolinecolor": "white"
           }
          },
          "shapedefaults": {
           "line": {
            "color": "#2a3f5f"
           }
          },
          "ternary": {
           "aaxis": {
            "gridcolor": "white",
            "linecolor": "white",
            "ticks": ""
           },
           "baxis": {
            "gridcolor": "white",
            "linecolor": "white",
            "ticks": ""
           },
           "bgcolor": "#E5ECF6",
           "caxis": {
            "gridcolor": "white",
            "linecolor": "white",
            "ticks": ""
           }
          },
          "title": {
           "x": 0.05
          },
          "xaxis": {
           "automargin": true,
           "gridcolor": "white",
           "linecolor": "white",
           "ticks": "",
           "title": {
            "standoff": 15
           },
           "zerolinecolor": "white",
           "zerolinewidth": 2
          },
          "yaxis": {
           "automargin": true,
           "gridcolor": "white",
           "linecolor": "white",
           "ticks": "",
           "title": {
            "standoff": 15
           },
           "zerolinecolor": "white",
           "zerolinewidth": 2
          }
         }
        },
        "title": {
         "font": {
          "color": "black"
         },
         "text": "Valor do subsídio por mês - Serviço: 663"
        },
        "width": 800,
        "xaxis": {
         "showgrid": false,
         "zeroline": false
        },
        "yaxis": {
         "showgrid": false,
         "zeroline": false
        }
       }
      }
     },
     "metadata": {},
     "output_type": "display_data"
    }
   ],
   "source": [
    "# Criar o gráfico de linha com plotly\n",
    "fig = go.Figure()\n",
    "\n",
    "# Adicionar a linha com pontos para tabela_subsidio_mes['valor_subsidio_pre']\n",
    "fig.add_trace(go.Scatter(x=tabela_subsidio_mes['mes_ano'], y=tabela_subsidio_mes['valor_subsidio_pre'],\n",
    "                         mode='lines+markers',\n",
    "                         name='Valor do subsídio pré-reprocessamento',\n",
    "                         marker=dict(color='dodgerblue'),\n",
    "                         opacity=0.75))\n",
    "\n",
    "# Adicionar a linha com pontos para tabela_subsidio_mes['valor_subsidio_pos']\n",
    "fig.add_trace(go.Scatter(x=tabela_subsidio_mes['mes_ano'], y=tabela_subsidio_mes['valor_subsidio_pos'],\n",
    "                         mode='lines+markers',\n",
    "                         name='Valor do subsídio reprocessado',\n",
    "                         marker=dict(color='crimson'),\n",
    "                         opacity=0.75))\n",
    "\n",
    "# Configurar layout e outros parâmetros do gráfico seguindo o design anterior\n",
    "fig.update_layout(\n",
    "    title=dict(text=\"Valor do subsídio por mês - Serviço: 663\", font=dict(color='black')),\n",
    "    showlegend=False,\n",
    "    width=800,\n",
    "    height=600,\n",
    "    plot_bgcolor='white',\n",
    "    xaxis=dict(showgrid=False, zeroline=False),\n",
    "    yaxis=dict(showgrid=False, zeroline=False),\n",
    "    # Adicionando anotações para o subtítulo com cores específicas\n",
    "    annotations=[\n",
    "        dict(\n",
    "            x=-0.065,\n",
    "            y=1.10,\n",
    "            xref='paper',\n",
    "            yref='paper',\n",
    "            xanchor='left',\n",
    "            text='Valores',\n",
    "            showarrow=False,\n",
    "            font=dict(color='black', size=14)\n",
    "        ),\n",
    "        dict(\n",
    "            x=0.025,\n",
    "            y=1.10,\n",
    "            xref='paper',\n",
    "            yref='paper',\n",
    "            xanchor='left',\n",
    "            text='pré-reprocessamento',\n",
    "            showarrow=False,\n",
    "            font=dict(color='dodgerblue', size=14)\n",
    "        ),\n",
    "        dict(\n",
    "            x=0.27,\n",
    "            y=1.10,\n",
    "            xref='paper',\n",
    "            yref='paper',\n",
    "            xanchor='left',\n",
    "            text='e',\n",
    "            showarrow=False,\n",
    "            font=dict(color='black', size=14)\n",
    "        ),\n",
    "        dict(\n",
    "            x=0.29,\n",
    "            y=1.10,\n",
    "            xref='paper',\n",
    "            yref='paper',\n",
    "            xanchor='left',\n",
    "            text='pós-reprocessamento.',\n",
    "            showarrow=False,\n",
    "            font=dict(color='crimson', size=14)\n",
    "        )\n",
    "    ]\n",
    ")\n",
    "\n",
    "fig.show()"
   ]
  },
  {
   "cell_type": "markdown",
   "metadata": {},
   "source": [
    "### 3. Análise do POD\n"
   ]
  },
  {
   "cell_type": "markdown",
   "metadata": {},
   "source": [
    "3.1 POD pré-reprocessamento"
   ]
  },
  {
   "cell_type": "code",
   "execution_count": 16,
   "metadata": {},
   "outputs": [
    {
     "name": "stderr",
     "output_type": "stream",
     "text": [
      "Downloading: 100%|██████████| 295/295 [00:00<00:00, 817.16rows/s]\n"
     ]
    }
   ],
   "source": [
    "# POD pré-reprocessamento\n",
    "q = f\"\"\"\n",
    "SELECT\n",
    "  data, viagens, perc_km_planejada\n",
    "FROM\n",
    "  `rj-smtr.dashboard_subsidio_sppo.sumario_servico_dia_historico`\n",
    "WHERE\n",
    "  servico = '663'\n",
    "  AND DATA BETWEEN '2022-06-01' AND '2023-04-30'\n",
    "\"\"\"\n",
    "pod_pre_reprocessamento = bd.read_sql(q, from_file=True)"
   ]
  },
  {
   "cell_type": "code",
   "execution_count": 17,
   "metadata": {},
   "outputs": [
    {
     "data": {
      "text/html": [
       "<div>\n",
       "<style scoped>\n",
       "    .dataframe tbody tr th:only-of-type {\n",
       "        vertical-align: middle;\n",
       "    }\n",
       "\n",
       "    .dataframe tbody tr th {\n",
       "        vertical-align: top;\n",
       "    }\n",
       "\n",
       "    .dataframe thead th {\n",
       "        text-align: right;\n",
       "    }\n",
       "</style>\n",
       "<table border=\"1\" class=\"dataframe\">\n",
       "  <thead>\n",
       "    <tr style=\"text-align: right;\">\n",
       "      <th></th>\n",
       "      <th>data</th>\n",
       "      <th>viagens</th>\n",
       "      <th>perc_km_planejada</th>\n",
       "      <th>mes_ano</th>\n",
       "    </tr>\n",
       "  </thead>\n",
       "  <tbody>\n",
       "    <tr>\n",
       "      <th>232</th>\n",
       "      <td>2022-06-01</td>\n",
       "      <td>6</td>\n",
       "      <td>300.00</td>\n",
       "      <td>2022-06</td>\n",
       "    </tr>\n",
       "    <tr>\n",
       "      <th>219</th>\n",
       "      <td>2022-06-02</td>\n",
       "      <td>5</td>\n",
       "      <td>250.00</td>\n",
       "      <td>2022-06</td>\n",
       "    </tr>\n",
       "    <tr>\n",
       "      <th>276</th>\n",
       "      <td>2022-06-03</td>\n",
       "      <td>4</td>\n",
       "      <td>200.00</td>\n",
       "      <td>2022-06</td>\n",
       "    </tr>\n",
       "    <tr>\n",
       "      <th>240</th>\n",
       "      <td>2022-06-04</td>\n",
       "      <td>0</td>\n",
       "      <td>0.00</td>\n",
       "      <td>2022-06</td>\n",
       "    </tr>\n",
       "    <tr>\n",
       "      <th>208</th>\n",
       "      <td>2022-06-05</td>\n",
       "      <td>0</td>\n",
       "      <td>0.00</td>\n",
       "      <td>2022-06</td>\n",
       "    </tr>\n",
       "    <tr>\n",
       "      <th>...</th>\n",
       "      <td>...</td>\n",
       "      <td>...</td>\n",
       "      <td>...</td>\n",
       "      <td>...</td>\n",
       "    </tr>\n",
       "    <tr>\n",
       "      <th>61</th>\n",
       "      <td>2023-04-24</td>\n",
       "      <td>2</td>\n",
       "      <td>100.01</td>\n",
       "      <td>2023-04</td>\n",
       "    </tr>\n",
       "    <tr>\n",
       "      <th>11</th>\n",
       "      <td>2023-04-25</td>\n",
       "      <td>2</td>\n",
       "      <td>100.01</td>\n",
       "      <td>2023-04</td>\n",
       "    </tr>\n",
       "    <tr>\n",
       "      <th>43</th>\n",
       "      <td>2023-04-26</td>\n",
       "      <td>2</td>\n",
       "      <td>100.01</td>\n",
       "      <td>2023-04</td>\n",
       "    </tr>\n",
       "    <tr>\n",
       "      <th>39</th>\n",
       "      <td>2023-04-27</td>\n",
       "      <td>2</td>\n",
       "      <td>100.01</td>\n",
       "      <td>2023-04</td>\n",
       "    </tr>\n",
       "    <tr>\n",
       "      <th>12</th>\n",
       "      <td>2023-04-28</td>\n",
       "      <td>2</td>\n",
       "      <td>100.01</td>\n",
       "      <td>2023-04</td>\n",
       "    </tr>\n",
       "  </tbody>\n",
       "</table>\n",
       "<p>295 rows × 4 columns</p>\n",
       "</div>"
      ],
      "text/plain": [
       "          data  viagens  perc_km_planejada  mes_ano\n",
       "232 2022-06-01        6             300.00  2022-06\n",
       "219 2022-06-02        5             250.00  2022-06\n",
       "276 2022-06-03        4             200.00  2022-06\n",
       "240 2022-06-04        0               0.00  2022-06\n",
       "208 2022-06-05        0               0.00  2022-06\n",
       "..         ...      ...                ...      ...\n",
       "61  2023-04-24        2             100.01  2023-04\n",
       "11  2023-04-25        2             100.01  2023-04\n",
       "43  2023-04-26        2             100.01  2023-04\n",
       "39  2023-04-27        2             100.01  2023-04\n",
       "12  2023-04-28        2             100.01  2023-04\n",
       "\n",
       "[295 rows x 4 columns]"
      ]
     },
     "execution_count": 17,
     "metadata": {},
     "output_type": "execute_result"
    }
   ],
   "source": [
    "# Assegurando que a coluna 'data' seja do tipo datetime\n",
    "pod_pre_reprocessamento = pod_pre_reprocessamento.sort_values('data')\n",
    "pod_pre_reprocessamento['data'] = pd.to_datetime(pod_pre_reprocessamento['data'])\n",
    "# Criando a nova coluna 'mes_ano'\n",
    "pod_pre_reprocessamento['mes_ano'] = pod_pre_reprocessamento['data'].dt.to_period('M')\n",
    "pod_pre_reprocessamento['mes_ano'] = pod_pre_reprocessamento['mes_ano'].astype(str)\n",
    "pod_pre_reprocessamento"
   ]
  },
  {
   "cell_type": "code",
   "execution_count": 18,
   "metadata": {},
   "outputs": [
    {
     "data": {
      "application/vnd.plotly.v1+json": {
       "config": {
        "plotlyServerURL": "https://plot.ly"
       },
       "data": [
        {
         "alignmentgroup": "True",
         "boxpoints": "all",
         "hovertemplate": "=%{y}<extra></extra>",
         "legendgroup": "",
         "marker": {
          "color": "#636efa"
         },
         "name": "",
         "notched": false,
         "offsetgroup": "",
         "orientation": "v",
         "showlegend": false,
         "type": "box",
         "x": [
          "2022-06",
          "2022-06",
          "2022-06",
          "2022-06",
          "2022-06",
          "2022-06",
          "2022-06",
          "2022-06",
          "2022-06",
          "2022-06",
          "2022-06",
          "2022-06",
          "2022-06",
          "2022-06",
          "2022-06",
          "2022-06",
          "2022-06",
          "2022-06",
          "2022-06",
          "2022-06",
          "2022-06",
          "2022-06",
          "2022-06",
          "2022-06",
          "2022-06",
          "2022-06",
          "2022-06",
          "2022-06",
          "2022-06",
          "2022-06",
          "2022-07",
          "2022-07",
          "2022-07",
          "2022-07",
          "2022-07",
          "2022-07",
          "2022-07",
          "2022-07",
          "2022-07",
          "2022-07",
          "2022-07",
          "2022-07",
          "2022-07",
          "2022-07",
          "2022-07",
          "2022-07",
          "2022-07",
          "2022-07",
          "2022-07",
          "2022-07",
          "2022-07",
          "2022-07",
          "2022-07",
          "2022-07",
          "2022-07",
          "2022-07",
          "2022-07",
          "2022-07",
          "2022-07",
          "2022-07",
          "2022-07",
          "2022-08",
          "2022-08",
          "2022-08",
          "2022-08",
          "2022-08",
          "2022-08",
          "2022-08",
          "2022-08",
          "2022-08",
          "2022-08",
          "2022-08",
          "2022-08",
          "2022-08",
          "2022-08",
          "2022-08",
          "2022-08",
          "2022-08",
          "2022-08",
          "2022-08",
          "2022-08",
          "2022-08",
          "2022-08",
          "2022-08",
          "2022-08",
          "2022-08",
          "2022-08",
          "2022-08",
          "2022-08",
          "2022-08",
          "2022-08",
          "2022-08",
          "2022-09",
          "2022-09",
          "2022-09",
          "2022-09",
          "2022-09",
          "2022-09",
          "2022-09",
          "2022-09",
          "2022-09",
          "2022-09",
          "2022-09",
          "2022-09",
          "2022-09",
          "2022-09",
          "2022-09",
          "2022-09",
          "2022-09",
          "2022-09",
          "2022-09",
          "2022-09",
          "2022-09",
          "2022-09",
          "2022-09",
          "2022-09",
          "2022-09",
          "2022-09",
          "2022-09",
          "2022-09",
          "2022-09",
          "2022-09",
          "2022-10",
          "2022-10",
          "2022-10",
          "2022-10",
          "2022-10",
          "2022-10",
          "2022-10",
          "2022-10",
          "2022-10",
          "2022-10",
          "2022-10",
          "2022-10",
          "2022-10",
          "2022-10",
          "2022-10",
          "2022-10",
          "2022-10",
          "2022-10",
          "2022-10",
          "2022-10",
          "2022-10",
          "2022-10",
          "2022-10",
          "2022-10",
          "2022-10",
          "2022-10",
          "2022-10",
          "2022-10",
          "2022-10",
          "2022-10",
          "2022-10",
          "2022-11",
          "2022-11",
          "2022-11",
          "2022-11",
          "2022-11",
          "2022-11",
          "2022-11",
          "2022-11",
          "2022-11",
          "2022-11",
          "2022-11",
          "2022-11",
          "2022-11",
          "2022-11",
          "2022-11",
          "2022-11",
          "2022-11",
          "2022-11",
          "2022-11",
          "2022-11",
          "2022-11",
          "2022-11",
          "2022-11",
          "2022-11",
          "2022-11",
          "2022-11",
          "2022-11",
          "2022-11",
          "2022-11",
          "2022-11",
          "2022-12",
          "2022-12",
          "2022-12",
          "2022-12",
          "2022-12",
          "2022-12",
          "2022-12",
          "2022-12",
          "2022-12",
          "2022-12",
          "2022-12",
          "2022-12",
          "2022-12",
          "2022-12",
          "2022-12",
          "2022-12",
          "2022-12",
          "2022-12",
          "2022-12",
          "2022-12",
          "2022-12",
          "2022-12",
          "2022-12",
          "2022-12",
          "2022-12",
          "2022-12",
          "2022-12",
          "2022-12",
          "2022-12",
          "2022-12",
          "2022-12",
          "2023-01",
          "2023-01",
          "2023-01",
          "2023-01",
          "2023-01",
          "2023-01",
          "2023-01",
          "2023-01",
          "2023-01",
          "2023-01",
          "2023-01",
          "2023-01",
          "2023-01",
          "2023-01",
          "2023-01",
          "2023-01",
          "2023-01",
          "2023-01",
          "2023-01",
          "2023-01",
          "2023-01",
          "2023-02",
          "2023-02",
          "2023-02",
          "2023-02",
          "2023-02",
          "2023-02",
          "2023-02",
          "2023-02",
          "2023-02",
          "2023-02",
          "2023-02",
          "2023-02",
          "2023-02",
          "2023-02",
          "2023-02",
          "2023-02",
          "2023-02",
          "2023-02",
          "2023-02",
          "2023-02",
          "2023-03",
          "2023-03",
          "2023-03",
          "2023-03",
          "2023-03",
          "2023-03",
          "2023-03",
          "2023-03",
          "2023-03",
          "2023-03",
          "2023-03",
          "2023-03",
          "2023-03",
          "2023-03",
          "2023-03",
          "2023-03",
          "2023-03",
          "2023-03",
          "2023-03",
          "2023-03",
          "2023-03",
          "2023-03",
          "2023-03",
          "2023-04",
          "2023-04",
          "2023-04",
          "2023-04",
          "2023-04",
          "2023-04",
          "2023-04",
          "2023-04",
          "2023-04",
          "2023-04",
          "2023-04",
          "2023-04",
          "2023-04",
          "2023-04",
          "2023-04",
          "2023-04",
          "2023-04"
         ],
         "x0": " ",
         "xaxis": "x",
         "y": [
          300,
          250,
          200,
          0,
          0,
          50,
          0,
          0,
          50,
          0,
          0,
          0,
          0,
          50,
          0,
          0,
          0,
          0,
          0,
          0,
          0,
          0,
          50,
          50,
          0,
          0,
          50,
          0,
          0,
          50,
          50,
          0,
          0,
          0,
          0,
          0,
          0,
          0,
          0,
          0,
          100,
          100,
          50,
          0,
          50,
          0,
          0,
          0,
          0,
          0,
          0,
          100,
          0,
          0,
          0,
          0,
          100,
          100,
          100,
          0,
          0,
          50,
          100,
          100,
          100,
          50,
          0,
          0,
          100,
          50,
          50,
          50,
          100,
          0,
          0,
          100,
          100,
          50,
          50,
          100,
          0,
          0,
          50,
          50,
          50,
          50,
          100,
          0,
          0,
          50,
          0,
          50,
          0,
          160,
          0,
          0,
          50,
          100,
          0,
          100,
          100,
          0,
          0,
          100,
          100,
          50,
          100,
          50,
          0,
          0,
          100,
          0,
          100,
          0,
          50,
          0,
          0,
          100,
          100,
          100,
          50,
          100,
          0,
          0,
          0,
          100,
          100,
          100,
          100,
          0,
          0,
          0,
          50,
          0,
          0,
          50,
          0,
          0,
          160,
          0,
          50,
          50,
          50,
          0,
          0,
          50,
          100,
          0,
          0,
          50,
          0,
          0,
          0,
          50,
          0,
          50,
          100,
          0,
          0,
          0,
          50,
          50,
          50,
          0,
          0,
          0,
          0,
          0,
          0,
          50,
          50,
          0,
          0,
          0,
          0,
          50,
          80,
          100,
          0,
          0,
          0,
          0,
          50,
          50,
          0,
          0,
          0,
          0,
          0,
          0,
          50,
          0,
          0,
          0,
          0,
          100,
          50,
          100,
          100,
          0,
          0,
          100,
          100,
          100,
          100,
          100,
          0,
          0,
          50,
          50,
          50,
          100,
          50,
          0,
          100,
          50,
          0,
          100,
          100,
          100,
          100,
          100,
          100,
          100,
          49.99,
          100,
          0,
          0,
          49.99,
          0,
          100,
          100,
          49.99,
          100,
          100,
          100.01,
          50,
          50,
          100.01,
          100.01,
          0,
          50,
          100.01,
          100.01,
          100.01,
          100.01,
          100.01,
          100.01,
          0,
          0,
          0,
          50,
          50,
          100.01,
          100.01,
          100.01,
          100.01,
          100.01,
          100.01,
          50,
          100.01,
          100.01,
          50,
          0,
          100.01,
          0,
          100.01,
          50,
          50,
          100.01,
          50,
          50,
          100.01,
          100.01,
          100.01,
          100.01,
          100.01,
          100.01,
          100.01,
          100.01,
          50,
          50,
          50,
          100.01,
          100.01,
          100.01,
          50,
          100.01,
          100.01,
          100.01,
          100.01,
          100.01,
          100.01,
          100.01,
          100.01
         ],
         "y0": " ",
         "yaxis": "y"
        }
       ],
       "layout": {
        "annotations": [
         {
          "showarrow": false,
          "text": "min = 80%",
          "x": 1,
          "xanchor": "right",
          "xref": "x domain",
          "y": 80,
          "yanchor": "bottom",
          "yref": "y"
         }
        ],
        "boxmode": "group",
        "height": 600,
        "legend": {
         "tracegroupgap": 0
        },
        "shapes": [
         {
          "type": "line",
          "x0": 0,
          "x1": 1,
          "xref": "x domain",
          "y0": 80,
          "y1": 80,
          "yref": "y"
         }
        ],
        "showlegend": false,
        "template": {
         "data": {
          "bar": [
           {
            "error_x": {
             "color": "#2a3f5f"
            },
            "error_y": {
             "color": "#2a3f5f"
            },
            "marker": {
             "line": {
              "color": "white",
              "width": 0.5
             },
             "pattern": {
              "fillmode": "overlay",
              "size": 10,
              "solidity": 0.2
             }
            },
            "type": "bar"
           }
          ],
          "barpolar": [
           {
            "marker": {
             "line": {
              "color": "white",
              "width": 0.5
             },
             "pattern": {
              "fillmode": "overlay",
              "size": 10,
              "solidity": 0.2
             }
            },
            "type": "barpolar"
           }
          ],
          "carpet": [
           {
            "aaxis": {
             "endlinecolor": "#2a3f5f",
             "gridcolor": "#C8D4E3",
             "linecolor": "#C8D4E3",
             "minorgridcolor": "#C8D4E3",
             "startlinecolor": "#2a3f5f"
            },
            "baxis": {
             "endlinecolor": "#2a3f5f",
             "gridcolor": "#C8D4E3",
             "linecolor": "#C8D4E3",
             "minorgridcolor": "#C8D4E3",
             "startlinecolor": "#2a3f5f"
            },
            "type": "carpet"
           }
          ],
          "choropleth": [
           {
            "colorbar": {
             "outlinewidth": 0,
             "ticks": ""
            },
            "type": "choropleth"
           }
          ],
          "contour": [
           {
            "colorbar": {
             "outlinewidth": 0,
             "ticks": ""
            },
            "colorscale": [
             [
              0,
              "#0d0887"
             ],
             [
              0.1111111111111111,
              "#46039f"
             ],
             [
              0.2222222222222222,
              "#7201a8"
             ],
             [
              0.3333333333333333,
              "#9c179e"
             ],
             [
              0.4444444444444444,
              "#bd3786"
             ],
             [
              0.5555555555555556,
              "#d8576b"
             ],
             [
              0.6666666666666666,
              "#ed7953"
             ],
             [
              0.7777777777777778,
              "#fb9f3a"
             ],
             [
              0.8888888888888888,
              "#fdca26"
             ],
             [
              1,
              "#f0f921"
             ]
            ],
            "type": "contour"
           }
          ],
          "contourcarpet": [
           {
            "colorbar": {
             "outlinewidth": 0,
             "ticks": ""
            },
            "type": "contourcarpet"
           }
          ],
          "heatmap": [
           {
            "colorbar": {
             "outlinewidth": 0,
             "ticks": ""
            },
            "colorscale": [
             [
              0,
              "#0d0887"
             ],
             [
              0.1111111111111111,
              "#46039f"
             ],
             [
              0.2222222222222222,
              "#7201a8"
             ],
             [
              0.3333333333333333,
              "#9c179e"
             ],
             [
              0.4444444444444444,
              "#bd3786"
             ],
             [
              0.5555555555555556,
              "#d8576b"
             ],
             [
              0.6666666666666666,
              "#ed7953"
             ],
             [
              0.7777777777777778,
              "#fb9f3a"
             ],
             [
              0.8888888888888888,
              "#fdca26"
             ],
             [
              1,
              "#f0f921"
             ]
            ],
            "type": "heatmap"
           }
          ],
          "heatmapgl": [
           {
            "colorbar": {
             "outlinewidth": 0,
             "ticks": ""
            },
            "colorscale": [
             [
              0,
              "#0d0887"
             ],
             [
              0.1111111111111111,
              "#46039f"
             ],
             [
              0.2222222222222222,
              "#7201a8"
             ],
             [
              0.3333333333333333,
              "#9c179e"
             ],
             [
              0.4444444444444444,
              "#bd3786"
             ],
             [
              0.5555555555555556,
              "#d8576b"
             ],
             [
              0.6666666666666666,
              "#ed7953"
             ],
             [
              0.7777777777777778,
              "#fb9f3a"
             ],
             [
              0.8888888888888888,
              "#fdca26"
             ],
             [
              1,
              "#f0f921"
             ]
            ],
            "type": "heatmapgl"
           }
          ],
          "histogram": [
           {
            "marker": {
             "pattern": {
              "fillmode": "overlay",
              "size": 10,
              "solidity": 0.2
             }
            },
            "type": "histogram"
           }
          ],
          "histogram2d": [
           {
            "colorbar": {
             "outlinewidth": 0,
             "ticks": ""
            },
            "colorscale": [
             [
              0,
              "#0d0887"
             ],
             [
              0.1111111111111111,
              "#46039f"
             ],
             [
              0.2222222222222222,
              "#7201a8"
             ],
             [
              0.3333333333333333,
              "#9c179e"
             ],
             [
              0.4444444444444444,
              "#bd3786"
             ],
             [
              0.5555555555555556,
              "#d8576b"
             ],
             [
              0.6666666666666666,
              "#ed7953"
             ],
             [
              0.7777777777777778,
              "#fb9f3a"
             ],
             [
              0.8888888888888888,
              "#fdca26"
             ],
             [
              1,
              "#f0f921"
             ]
            ],
            "type": "histogram2d"
           }
          ],
          "histogram2dcontour": [
           {
            "colorbar": {
             "outlinewidth": 0,
             "ticks": ""
            },
            "colorscale": [
             [
              0,
              "#0d0887"
             ],
             [
              0.1111111111111111,
              "#46039f"
             ],
             [
              0.2222222222222222,
              "#7201a8"
             ],
             [
              0.3333333333333333,
              "#9c179e"
             ],
             [
              0.4444444444444444,
              "#bd3786"
             ],
             [
              0.5555555555555556,
              "#d8576b"
             ],
             [
              0.6666666666666666,
              "#ed7953"
             ],
             [
              0.7777777777777778,
              "#fb9f3a"
             ],
             [
              0.8888888888888888,
              "#fdca26"
             ],
             [
              1,
              "#f0f921"
             ]
            ],
            "type": "histogram2dcontour"
           }
          ],
          "mesh3d": [
           {
            "colorbar": {
             "outlinewidth": 0,
             "ticks": ""
            },
            "type": "mesh3d"
           }
          ],
          "parcoords": [
           {
            "line": {
             "colorbar": {
              "outlinewidth": 0,
              "ticks": ""
             }
            },
            "type": "parcoords"
           }
          ],
          "pie": [
           {
            "automargin": true,
            "type": "pie"
           }
          ],
          "scatter": [
           {
            "fillpattern": {
             "fillmode": "overlay",
             "size": 10,
             "solidity": 0.2
            },
            "type": "scatter"
           }
          ],
          "scatter3d": [
           {
            "line": {
             "colorbar": {
              "outlinewidth": 0,
              "ticks": ""
             }
            },
            "marker": {
             "colorbar": {
              "outlinewidth": 0,
              "ticks": ""
             }
            },
            "type": "scatter3d"
           }
          ],
          "scattercarpet": [
           {
            "marker": {
             "colorbar": {
              "outlinewidth": 0,
              "ticks": ""
             }
            },
            "type": "scattercarpet"
           }
          ],
          "scattergeo": [
           {
            "marker": {
             "colorbar": {
              "outlinewidth": 0,
              "ticks": ""
             }
            },
            "type": "scattergeo"
           }
          ],
          "scattergl": [
           {
            "marker": {
             "colorbar": {
              "outlinewidth": 0,
              "ticks": ""
             }
            },
            "type": "scattergl"
           }
          ],
          "scattermapbox": [
           {
            "marker": {
             "colorbar": {
              "outlinewidth": 0,
              "ticks": ""
             }
            },
            "type": "scattermapbox"
           }
          ],
          "scatterpolar": [
           {
            "marker": {
             "colorbar": {
              "outlinewidth": 0,
              "ticks": ""
             }
            },
            "type": "scatterpolar"
           }
          ],
          "scatterpolargl": [
           {
            "marker": {
             "colorbar": {
              "outlinewidth": 0,
              "ticks": ""
             }
            },
            "type": "scatterpolargl"
           }
          ],
          "scatterternary": [
           {
            "marker": {
             "colorbar": {
              "outlinewidth": 0,
              "ticks": ""
             }
            },
            "type": "scatterternary"
           }
          ],
          "surface": [
           {
            "colorbar": {
             "outlinewidth": 0,
             "ticks": ""
            },
            "colorscale": [
             [
              0,
              "#0d0887"
             ],
             [
              0.1111111111111111,
              "#46039f"
             ],
             [
              0.2222222222222222,
              "#7201a8"
             ],
             [
              0.3333333333333333,
              "#9c179e"
             ],
             [
              0.4444444444444444,
              "#bd3786"
             ],
             [
              0.5555555555555556,
              "#d8576b"
             ],
             [
              0.6666666666666666,
              "#ed7953"
             ],
             [
              0.7777777777777778,
              "#fb9f3a"
             ],
             [
              0.8888888888888888,
              "#fdca26"
             ],
             [
              1,
              "#f0f921"
             ]
            ],
            "type": "surface"
           }
          ],
          "table": [
           {
            "cells": {
             "fill": {
              "color": "#EBF0F8"
             },
             "line": {
              "color": "white"
             }
            },
            "header": {
             "fill": {
              "color": "#C8D4E3"
             },
             "line": {
              "color": "white"
             }
            },
            "type": "table"
           }
          ]
         },
         "layout": {
          "annotationdefaults": {
           "arrowcolor": "#2a3f5f",
           "arrowhead": 0,
           "arrowwidth": 1
          },
          "autotypenumbers": "strict",
          "coloraxis": {
           "colorbar": {
            "outlinewidth": 0,
            "ticks": ""
           }
          },
          "colorscale": {
           "diverging": [
            [
             0,
             "#8e0152"
            ],
            [
             0.1,
             "#c51b7d"
            ],
            [
             0.2,
             "#de77ae"
            ],
            [
             0.3,
             "#f1b6da"
            ],
            [
             0.4,
             "#fde0ef"
            ],
            [
             0.5,
             "#f7f7f7"
            ],
            [
             0.6,
             "#e6f5d0"
            ],
            [
             0.7,
             "#b8e186"
            ],
            [
             0.8,
             "#7fbc41"
            ],
            [
             0.9,
             "#4d9221"
            ],
            [
             1,
             "#276419"
            ]
           ],
           "sequential": [
            [
             0,
             "#0d0887"
            ],
            [
             0.1111111111111111,
             "#46039f"
            ],
            [
             0.2222222222222222,
             "#7201a8"
            ],
            [
             0.3333333333333333,
             "#9c179e"
            ],
            [
             0.4444444444444444,
             "#bd3786"
            ],
            [
             0.5555555555555556,
             "#d8576b"
            ],
            [
             0.6666666666666666,
             "#ed7953"
            ],
            [
             0.7777777777777778,
             "#fb9f3a"
            ],
            [
             0.8888888888888888,
             "#fdca26"
            ],
            [
             1,
             "#f0f921"
            ]
           ],
           "sequentialminus": [
            [
             0,
             "#0d0887"
            ],
            [
             0.1111111111111111,
             "#46039f"
            ],
            [
             0.2222222222222222,
             "#7201a8"
            ],
            [
             0.3333333333333333,
             "#9c179e"
            ],
            [
             0.4444444444444444,
             "#bd3786"
            ],
            [
             0.5555555555555556,
             "#d8576b"
            ],
            [
             0.6666666666666666,
             "#ed7953"
            ],
            [
             0.7777777777777778,
             "#fb9f3a"
            ],
            [
             0.8888888888888888,
             "#fdca26"
            ],
            [
             1,
             "#f0f921"
            ]
           ]
          },
          "colorway": [
           "#636efa",
           "#EF553B",
           "#00cc96",
           "#ab63fa",
           "#FFA15A",
           "#19d3f3",
           "#FF6692",
           "#B6E880",
           "#FF97FF",
           "#FECB52"
          ],
          "font": {
           "color": "#2a3f5f"
          },
          "geo": {
           "bgcolor": "white",
           "lakecolor": "white",
           "landcolor": "white",
           "showlakes": true,
           "showland": true,
           "subunitcolor": "#C8D4E3"
          },
          "hoverlabel": {
           "align": "left"
          },
          "hovermode": "closest",
          "mapbox": {
           "style": "light"
          },
          "paper_bgcolor": "white",
          "plot_bgcolor": "white",
          "polar": {
           "angularaxis": {
            "gridcolor": "#EBF0F8",
            "linecolor": "#EBF0F8",
            "ticks": ""
           },
           "bgcolor": "white",
           "radialaxis": {
            "gridcolor": "#EBF0F8",
            "linecolor": "#EBF0F8",
            "ticks": ""
           }
          },
          "scene": {
           "xaxis": {
            "backgroundcolor": "white",
            "gridcolor": "#DFE8F3",
            "gridwidth": 2,
            "linecolor": "#EBF0F8",
            "showbackground": true,
            "ticks": "",
            "zerolinecolor": "#EBF0F8"
           },
           "yaxis": {
            "backgroundcolor": "white",
            "gridcolor": "#DFE8F3",
            "gridwidth": 2,
            "linecolor": "#EBF0F8",
            "showbackground": true,
            "ticks": "",
            "zerolinecolor": "#EBF0F8"
           },
           "zaxis": {
            "backgroundcolor": "white",
            "gridcolor": "#DFE8F3",
            "gridwidth": 2,
            "linecolor": "#EBF0F8",
            "showbackground": true,
            "ticks": "",
            "zerolinecolor": "#EBF0F8"
           }
          },
          "shapedefaults": {
           "line": {
            "color": "#2a3f5f"
           }
          },
          "ternary": {
           "aaxis": {
            "gridcolor": "#DFE8F3",
            "linecolor": "#A2B1C6",
            "ticks": ""
           },
           "baxis": {
            "gridcolor": "#DFE8F3",
            "linecolor": "#A2B1C6",
            "ticks": ""
           },
           "bgcolor": "white",
           "caxis": {
            "gridcolor": "#DFE8F3",
            "linecolor": "#A2B1C6",
            "ticks": ""
           }
          },
          "title": {
           "x": 0.05
          },
          "xaxis": {
           "automargin": true,
           "gridcolor": "#EBF0F8",
           "linecolor": "#EBF0F8",
           "ticks": "",
           "title": {
            "standoff": 15
           },
           "zerolinecolor": "#EBF0F8",
           "zerolinewidth": 2
          },
          "yaxis": {
           "automargin": true,
           "gridcolor": "#EBF0F8",
           "linecolor": "#EBF0F8",
           "ticks": "",
           "title": {
            "standoff": 15
           },
           "zerolinecolor": "#EBF0F8",
           "zerolinewidth": 2
          }
         }
        },
        "title": {
         "text": "Distribuição do percentual de operação diária (POD) por mês - Serviço: 663"
        },
        "width": 800,
        "xaxis": {
         "anchor": "y",
         "domain": [
          0,
          1
         ],
         "title": {
          "text": ""
         }
        },
        "yaxis": {
         "anchor": "x",
         "domain": [
          0,
          1
         ],
         "range": [
          -10,
          200
         ],
         "ticksuffix": "%",
         "title": {
          "text": ""
         }
        }
       }
      }
     },
     "metadata": {},
     "output_type": "display_data"
    }
   ],
   "source": [
    "\n",
    "y = \"perc_km_planejada\"\n",
    "title = f\"Distribuição do percentual de operação diária (POD) por mês - Serviço: 663\"\n",
    "\n",
    "fig = px.box(\n",
    "    pod_pre_reprocessamento, \n",
    "    x=\"mes_ano\", \n",
    "    y=y, \n",
    "    title=title,\n",
    "    template=\"plotly_white\",\n",
    "    labels={\n",
    "        \"mes_ano\": \"\",\n",
    "        y: \"\"\n",
    "    },\n",
    "    points=\"all\"\n",
    ")\n",
    "\n",
    "fig.update_layout(\n",
    "    yaxis_range=[-10, 200],  \n",
    "    yaxis_ticksuffix=\"%\",\n",
    "    width=800,\n",
    "    height=600,\n",
    "    showlegend=False,\n",
    ")\n",
    "\n",
    "fig.add_hline(y=80, annotation_text=\"min = 80%\")  # Linha horizontal para indicar o mínimo de 80%\n",
    "\n",
    "fig.show()\n"
   ]
  },
  {
   "cell_type": "markdown",
   "metadata": {},
   "source": [
    "3.2 POD pós-reprocessamento"
   ]
  },
  {
   "cell_type": "code",
   "execution_count": 19,
   "metadata": {},
   "outputs": [
    {
     "data": {
      "text/html": [
       "<div>\n",
       "<style scoped>\n",
       "    .dataframe tbody tr th:only-of-type {\n",
       "        vertical-align: middle;\n",
       "    }\n",
       "\n",
       "    .dataframe tbody tr th {\n",
       "        vertical-align: top;\n",
       "    }\n",
       "\n",
       "    .dataframe thead th {\n",
       "        text-align: right;\n",
       "    }\n",
       "</style>\n",
       "<table border=\"1\" class=\"dataframe\">\n",
       "  <thead>\n",
       "    <tr style=\"text-align: right;\">\n",
       "      <th></th>\n",
       "      <th>mes_ano</th>\n",
       "      <th>viagens</th>\n",
       "      <th>perc_km_planejada</th>\n",
       "    </tr>\n",
       "  </thead>\n",
       "  <tbody>\n",
       "    <tr>\n",
       "      <th>304</th>\n",
       "      <td>2022-06</td>\n",
       "      <td>13</td>\n",
       "      <td>330.0</td>\n",
       "    </tr>\n",
       "    <tr>\n",
       "      <th>209</th>\n",
       "      <td>2022-06</td>\n",
       "      <td>12</td>\n",
       "      <td>300.0</td>\n",
       "    </tr>\n",
       "    <tr>\n",
       "      <th>56</th>\n",
       "      <td>2022-06</td>\n",
       "      <td>11</td>\n",
       "      <td>269.0</td>\n",
       "    </tr>\n",
       "    <tr>\n",
       "      <th>280</th>\n",
       "      <td>2022-06</td>\n",
       "      <td>0</td>\n",
       "      <td>0.0</td>\n",
       "    </tr>\n",
       "    <tr>\n",
       "      <th>137</th>\n",
       "      <td>2022-06</td>\n",
       "      <td>0</td>\n",
       "      <td>0.0</td>\n",
       "    </tr>\n",
       "    <tr>\n",
       "      <th>...</th>\n",
       "      <td>...</td>\n",
       "      <td>...</td>\n",
       "      <td>...</td>\n",
       "    </tr>\n",
       "    <tr>\n",
       "      <th>244</th>\n",
       "      <td>2023-04</td>\n",
       "      <td>4</td>\n",
       "      <td>100.0</td>\n",
       "    </tr>\n",
       "    <tr>\n",
       "      <th>202</th>\n",
       "      <td>2023-04</td>\n",
       "      <td>4</td>\n",
       "      <td>100.0</td>\n",
       "    </tr>\n",
       "    <tr>\n",
       "      <th>45</th>\n",
       "      <td>2023-04</td>\n",
       "      <td>4</td>\n",
       "      <td>100.0</td>\n",
       "    </tr>\n",
       "    <tr>\n",
       "      <th>184</th>\n",
       "      <td>2023-04</td>\n",
       "      <td>0</td>\n",
       "      <td>0.0</td>\n",
       "    </tr>\n",
       "    <tr>\n",
       "      <th>34</th>\n",
       "      <td>2023-04</td>\n",
       "      <td>0</td>\n",
       "      <td>0.0</td>\n",
       "    </tr>\n",
       "  </tbody>\n",
       "</table>\n",
       "<p>334 rows × 3 columns</p>\n",
       "</div>"
      ],
      "text/plain": [
       "     mes_ano  viagens  perc_km_planejada\n",
       "304  2022-06       13              330.0\n",
       "209  2022-06       12              300.0\n",
       "56   2022-06       11              269.0\n",
       "280  2022-06        0                0.0\n",
       "137  2022-06        0                0.0\n",
       "..       ...      ...                ...\n",
       "244  2023-04        4              100.0\n",
       "202  2023-04        4              100.0\n",
       "45   2023-04        4              100.0\n",
       "184  2023-04        0                0.0\n",
       "34   2023-04        0                0.0\n",
       "\n",
       "[334 rows x 3 columns]"
      ]
     },
     "execution_count": 19,
     "metadata": {},
     "output_type": "execute_result"
    }
   ],
   "source": [
    "pod_pos_reprocessamento = subsidio_a_pagar_dia[[\"mes_ano\",\"viagens\",\"perc_km_planejada\"]]\n",
    "pod_pos_reprocessamento['perc_km_planejada'] = pod_pos_reprocessamento['perc_km_planejada'] * 100\n",
    "pod_pos_reprocessamento"
   ]
  },
  {
   "cell_type": "code",
   "execution_count": 20,
   "metadata": {},
   "outputs": [
    {
     "data": {
      "application/vnd.plotly.v1+json": {
       "config": {
        "plotlyServerURL": "https://plot.ly"
       },
       "data": [
        {
         "alignmentgroup": "True",
         "boxpoints": "all",
         "hovertemplate": "=%{y}<extra></extra>",
         "legendgroup": "",
         "marker": {
          "color": "#636efa"
         },
         "name": "",
         "notched": false,
         "offsetgroup": "",
         "orientation": "v",
         "showlegend": false,
         "type": "box",
         "x": [
          "2022-06",
          "2022-06",
          "2022-06",
          "2022-06",
          "2022-06",
          "2022-06",
          "2022-06",
          "2022-06",
          "2022-06",
          "2022-06",
          "2022-06",
          "2022-06",
          "2022-06",
          "2022-06",
          "2022-06",
          "2022-06",
          "2022-06",
          "2022-06",
          "2022-06",
          "2022-06",
          "2022-06",
          "2022-06",
          "2022-06",
          "2022-06",
          "2022-06",
          "2022-06",
          "2022-06",
          "2022-06",
          "2022-06",
          "2022-06",
          "2022-07",
          "2022-07",
          "2022-07",
          "2022-07",
          "2022-07",
          "2022-07",
          "2022-07",
          "2022-07",
          "2022-07",
          "2022-07",
          "2022-07",
          "2022-07",
          "2022-07",
          "2022-07",
          "2022-07",
          "2022-07",
          "2022-07",
          "2022-07",
          "2022-07",
          "2022-07",
          "2022-07",
          "2022-07",
          "2022-07",
          "2022-07",
          "2022-07",
          "2022-07",
          "2022-07",
          "2022-07",
          "2022-07",
          "2022-07",
          "2022-07",
          "2022-08",
          "2022-08",
          "2022-08",
          "2022-08",
          "2022-08",
          "2022-08",
          "2022-08",
          "2022-08",
          "2022-08",
          "2022-08",
          "2022-08",
          "2022-08",
          "2022-08",
          "2022-08",
          "2022-08",
          "2022-08",
          "2022-08",
          "2022-08",
          "2022-08",
          "2022-08",
          "2022-08",
          "2022-08",
          "2022-08",
          "2022-08",
          "2022-08",
          "2022-08",
          "2022-08",
          "2022-08",
          "2022-08",
          "2022-08",
          "2022-08",
          "2022-09",
          "2022-09",
          "2022-09",
          "2022-09",
          "2022-09",
          "2022-09",
          "2022-09",
          "2022-09",
          "2022-09",
          "2022-09",
          "2022-09",
          "2022-09",
          "2022-09",
          "2022-09",
          "2022-09",
          "2022-09",
          "2022-09",
          "2022-09",
          "2022-09",
          "2022-09",
          "2022-09",
          "2022-09",
          "2022-09",
          "2022-09",
          "2022-09",
          "2022-09",
          "2022-09",
          "2022-09",
          "2022-09",
          "2022-09",
          "2022-10",
          "2022-10",
          "2022-10",
          "2022-10",
          "2022-10",
          "2022-10",
          "2022-10",
          "2022-10",
          "2022-10",
          "2022-10",
          "2022-10",
          "2022-10",
          "2022-10",
          "2022-10",
          "2022-10",
          "2022-10",
          "2022-10",
          "2022-10",
          "2022-10",
          "2022-10",
          "2022-10",
          "2022-10",
          "2022-10",
          "2022-10",
          "2022-10",
          "2022-10",
          "2022-10",
          "2022-10",
          "2022-10",
          "2022-10",
          "2022-10",
          "2022-11",
          "2022-11",
          "2022-11",
          "2022-11",
          "2022-11",
          "2022-11",
          "2022-11",
          "2022-11",
          "2022-11",
          "2022-11",
          "2022-11",
          "2022-11",
          "2022-11",
          "2022-11",
          "2022-11",
          "2022-11",
          "2022-11",
          "2022-11",
          "2022-11",
          "2022-11",
          "2022-11",
          "2022-11",
          "2022-11",
          "2022-11",
          "2022-11",
          "2022-11",
          "2022-11",
          "2022-11",
          "2022-11",
          "2022-11",
          "2022-12",
          "2022-12",
          "2022-12",
          "2022-12",
          "2022-12",
          "2022-12",
          "2022-12",
          "2022-12",
          "2022-12",
          "2022-12",
          "2022-12",
          "2022-12",
          "2022-12",
          "2022-12",
          "2022-12",
          "2022-12",
          "2022-12",
          "2022-12",
          "2022-12",
          "2022-12",
          "2022-12",
          "2022-12",
          "2022-12",
          "2022-12",
          "2022-12",
          "2022-12",
          "2022-12",
          "2022-12",
          "2022-12",
          "2022-12",
          "2022-12",
          "2023-01",
          "2023-01",
          "2023-01",
          "2023-01",
          "2023-01",
          "2023-01",
          "2023-01",
          "2023-01",
          "2023-01",
          "2023-01",
          "2023-01",
          "2023-01",
          "2023-01",
          "2023-01",
          "2023-01",
          "2023-01",
          "2023-01",
          "2023-01",
          "2023-01",
          "2023-01",
          "2023-01",
          "2023-01",
          "2023-01",
          "2023-01",
          "2023-01",
          "2023-01",
          "2023-01",
          "2023-01",
          "2023-01",
          "2023-01",
          "2023-01",
          "2023-02",
          "2023-02",
          "2023-02",
          "2023-02",
          "2023-02",
          "2023-02",
          "2023-02",
          "2023-02",
          "2023-02",
          "2023-02",
          "2023-02",
          "2023-02",
          "2023-02",
          "2023-02",
          "2023-02",
          "2023-02",
          "2023-02",
          "2023-02",
          "2023-02",
          "2023-02",
          "2023-02",
          "2023-02",
          "2023-02",
          "2023-02",
          "2023-02",
          "2023-02",
          "2023-02",
          "2023-02",
          "2023-03",
          "2023-03",
          "2023-03",
          "2023-03",
          "2023-03",
          "2023-03",
          "2023-03",
          "2023-03",
          "2023-03",
          "2023-03",
          "2023-03",
          "2023-03",
          "2023-03",
          "2023-03",
          "2023-03",
          "2023-03",
          "2023-03",
          "2023-03",
          "2023-03",
          "2023-03",
          "2023-03",
          "2023-03",
          "2023-03",
          "2023-03",
          "2023-03",
          "2023-03",
          "2023-03",
          "2023-03",
          "2023-03",
          "2023-03",
          "2023-03",
          "2023-04",
          "2023-04",
          "2023-04",
          "2023-04",
          "2023-04",
          "2023-04",
          "2023-04",
          "2023-04",
          "2023-04",
          "2023-04",
          "2023-04",
          "2023-04",
          "2023-04",
          "2023-04",
          "2023-04",
          "2023-04",
          "2023-04",
          "2023-04",
          "2023-04",
          "2023-04",
          "2023-04",
          "2023-04",
          "2023-04",
          "2023-04",
          "2023-04",
          "2023-04",
          "2023-04",
          "2023-04",
          "2023-04",
          "2023-04"
         ],
         "x0": " ",
         "xaxis": "x",
         "y": [
          330,
          300,
          269,
          0,
          0,
          50,
          50,
          19,
          50,
          19,
          0,
          0,
          50,
          50,
          19,
          0,
          0,
          0,
          0,
          0,
          19,
          39,
          69,
          69,
          0,
          0,
          69,
          39,
          39,
          69,
          69,
          0,
          0,
          19,
          19,
          0,
          39,
          39,
          0,
          0,
          131,
          100,
          69,
          39,
          69,
          0,
          0,
          39,
          39,
          19,
          39,
          100,
          0,
          0,
          39,
          39,
          100,
          100,
          100,
          0,
          0,
          69,
          100,
          100,
          100,
          69,
          0,
          0,
          100,
          69,
          69,
          69,
          100,
          0,
          0,
          100,
          100,
          69,
          69,
          100,
          0,
          0,
          69,
          69,
          69,
          69,
          100,
          0,
          0,
          69,
          39,
          69,
          39,
          160,
          0,
          0,
          100,
          131,
          0,
          100,
          100,
          0,
          0,
          100,
          161,
          100,
          100,
          69,
          0,
          0,
          100,
          39,
          100,
          39,
          69,
          0,
          0,
          100,
          100,
          100,
          69,
          100,
          0,
          0,
          39,
          100,
          100,
          100,
          100,
          0,
          0,
          39,
          69,
          0,
          39,
          69,
          0,
          0,
          160,
          39,
          69,
          69,
          69,
          0,
          0,
          69,
          100,
          39,
          39,
          69,
          0,
          0,
          39,
          69,
          0,
          69,
          100,
          0,
          0,
          39,
          69,
          69,
          69,
          39,
          0,
          0,
          31,
          0,
          39,
          69,
          69,
          0,
          0,
          39,
          39,
          69,
          111.00000000000001,
          100,
          0,
          0,
          62,
          39,
          69,
          69,
          62,
          0,
          0,
          62,
          39,
          39,
          69,
          31,
          0,
          0,
          39,
          100,
          69,
          100,
          100,
          0,
          0,
          100,
          100,
          100,
          100,
          100,
          0,
          0,
          69,
          69,
          69,
          100,
          69,
          0,
          0,
          100,
          69,
          0,
          100,
          100,
          0,
          0,
          100,
          100,
          100,
          100,
          100,
          0,
          0,
          69,
          100,
          39,
          39,
          0,
          0,
          0,
          81,
          39,
          100,
          100,
          69,
          0,
          0,
          100,
          100,
          100,
          69,
          100,
          0,
          0,
          100,
          100,
          39,
          69,
          100,
          0,
          0,
          100,
          100,
          100,
          100,
          100,
          0,
          0,
          0,
          0,
          0,
          69,
          69,
          0,
          0,
          131,
          100,
          100,
          100,
          100,
          0,
          0,
          100,
          69,
          100,
          100,
          69,
          0,
          0,
          69,
          100,
          69,
          100,
          69,
          0,
          0,
          69,
          100,
          69,
          69,
          100,
          0,
          0,
          100,
          100,
          100,
          100,
          100,
          0,
          0,
          100,
          81,
          81,
          0,
          0,
          0,
          0,
          50,
          81,
          131,
          100,
          100,
          0,
          0,
          69,
          100,
          100,
          100,
          0,
          0,
          0,
          100,
          100,
          100,
          100,
          100,
          0,
          0
         ],
         "y0": " ",
         "yaxis": "y"
        }
       ],
       "layout": {
        "annotations": [
         {
          "showarrow": false,
          "text": "min = 80%",
          "x": 1,
          "xanchor": "right",
          "xref": "x domain",
          "y": 80,
          "yanchor": "bottom",
          "yref": "y"
         }
        ],
        "boxmode": "group",
        "height": 600,
        "legend": {
         "tracegroupgap": 0
        },
        "shapes": [
         {
          "type": "line",
          "x0": 0,
          "x1": 1,
          "xref": "x domain",
          "y0": 80,
          "y1": 80,
          "yref": "y"
         }
        ],
        "showlegend": false,
        "template": {
         "data": {
          "bar": [
           {
            "error_x": {
             "color": "#2a3f5f"
            },
            "error_y": {
             "color": "#2a3f5f"
            },
            "marker": {
             "line": {
              "color": "white",
              "width": 0.5
             },
             "pattern": {
              "fillmode": "overlay",
              "size": 10,
              "solidity": 0.2
             }
            },
            "type": "bar"
           }
          ],
          "barpolar": [
           {
            "marker": {
             "line": {
              "color": "white",
              "width": 0.5
             },
             "pattern": {
              "fillmode": "overlay",
              "size": 10,
              "solidity": 0.2
             }
            },
            "type": "barpolar"
           }
          ],
          "carpet": [
           {
            "aaxis": {
             "endlinecolor": "#2a3f5f",
             "gridcolor": "#C8D4E3",
             "linecolor": "#C8D4E3",
             "minorgridcolor": "#C8D4E3",
             "startlinecolor": "#2a3f5f"
            },
            "baxis": {
             "endlinecolor": "#2a3f5f",
             "gridcolor": "#C8D4E3",
             "linecolor": "#C8D4E3",
             "minorgridcolor": "#C8D4E3",
             "startlinecolor": "#2a3f5f"
            },
            "type": "carpet"
           }
          ],
          "choropleth": [
           {
            "colorbar": {
             "outlinewidth": 0,
             "ticks": ""
            },
            "type": "choropleth"
           }
          ],
          "contour": [
           {
            "colorbar": {
             "outlinewidth": 0,
             "ticks": ""
            },
            "colorscale": [
             [
              0,
              "#0d0887"
             ],
             [
              0.1111111111111111,
              "#46039f"
             ],
             [
              0.2222222222222222,
              "#7201a8"
             ],
             [
              0.3333333333333333,
              "#9c179e"
             ],
             [
              0.4444444444444444,
              "#bd3786"
             ],
             [
              0.5555555555555556,
              "#d8576b"
             ],
             [
              0.6666666666666666,
              "#ed7953"
             ],
             [
              0.7777777777777778,
              "#fb9f3a"
             ],
             [
              0.8888888888888888,
              "#fdca26"
             ],
             [
              1,
              "#f0f921"
             ]
            ],
            "type": "contour"
           }
          ],
          "contourcarpet": [
           {
            "colorbar": {
             "outlinewidth": 0,
             "ticks": ""
            },
            "type": "contourcarpet"
           }
          ],
          "heatmap": [
           {
            "colorbar": {
             "outlinewidth": 0,
             "ticks": ""
            },
            "colorscale": [
             [
              0,
              "#0d0887"
             ],
             [
              0.1111111111111111,
              "#46039f"
             ],
             [
              0.2222222222222222,
              "#7201a8"
             ],
             [
              0.3333333333333333,
              "#9c179e"
             ],
             [
              0.4444444444444444,
              "#bd3786"
             ],
             [
              0.5555555555555556,
              "#d8576b"
             ],
             [
              0.6666666666666666,
              "#ed7953"
             ],
             [
              0.7777777777777778,
              "#fb9f3a"
             ],
             [
              0.8888888888888888,
              "#fdca26"
             ],
             [
              1,
              "#f0f921"
             ]
            ],
            "type": "heatmap"
           }
          ],
          "heatmapgl": [
           {
            "colorbar": {
             "outlinewidth": 0,
             "ticks": ""
            },
            "colorscale": [
             [
              0,
              "#0d0887"
             ],
             [
              0.1111111111111111,
              "#46039f"
             ],
             [
              0.2222222222222222,
              "#7201a8"
             ],
             [
              0.3333333333333333,
              "#9c179e"
             ],
             [
              0.4444444444444444,
              "#bd3786"
             ],
             [
              0.5555555555555556,
              "#d8576b"
             ],
             [
              0.6666666666666666,
              "#ed7953"
             ],
             [
              0.7777777777777778,
              "#fb9f3a"
             ],
             [
              0.8888888888888888,
              "#fdca26"
             ],
             [
              1,
              "#f0f921"
             ]
            ],
            "type": "heatmapgl"
           }
          ],
          "histogram": [
           {
            "marker": {
             "pattern": {
              "fillmode": "overlay",
              "size": 10,
              "solidity": 0.2
             }
            },
            "type": "histogram"
           }
          ],
          "histogram2d": [
           {
            "colorbar": {
             "outlinewidth": 0,
             "ticks": ""
            },
            "colorscale": [
             [
              0,
              "#0d0887"
             ],
             [
              0.1111111111111111,
              "#46039f"
             ],
             [
              0.2222222222222222,
              "#7201a8"
             ],
             [
              0.3333333333333333,
              "#9c179e"
             ],
             [
              0.4444444444444444,
              "#bd3786"
             ],
             [
              0.5555555555555556,
              "#d8576b"
             ],
             [
              0.6666666666666666,
              "#ed7953"
             ],
             [
              0.7777777777777778,
              "#fb9f3a"
             ],
             [
              0.8888888888888888,
              "#fdca26"
             ],
             [
              1,
              "#f0f921"
             ]
            ],
            "type": "histogram2d"
           }
          ],
          "histogram2dcontour": [
           {
            "colorbar": {
             "outlinewidth": 0,
             "ticks": ""
            },
            "colorscale": [
             [
              0,
              "#0d0887"
             ],
             [
              0.1111111111111111,
              "#46039f"
             ],
             [
              0.2222222222222222,
              "#7201a8"
             ],
             [
              0.3333333333333333,
              "#9c179e"
             ],
             [
              0.4444444444444444,
              "#bd3786"
             ],
             [
              0.5555555555555556,
              "#d8576b"
             ],
             [
              0.6666666666666666,
              "#ed7953"
             ],
             [
              0.7777777777777778,
              "#fb9f3a"
             ],
             [
              0.8888888888888888,
              "#fdca26"
             ],
             [
              1,
              "#f0f921"
             ]
            ],
            "type": "histogram2dcontour"
           }
          ],
          "mesh3d": [
           {
            "colorbar": {
             "outlinewidth": 0,
             "ticks": ""
            },
            "type": "mesh3d"
           }
          ],
          "parcoords": [
           {
            "line": {
             "colorbar": {
              "outlinewidth": 0,
              "ticks": ""
             }
            },
            "type": "parcoords"
           }
          ],
          "pie": [
           {
            "automargin": true,
            "type": "pie"
           }
          ],
          "scatter": [
           {
            "fillpattern": {
             "fillmode": "overlay",
             "size": 10,
             "solidity": 0.2
            },
            "type": "scatter"
           }
          ],
          "scatter3d": [
           {
            "line": {
             "colorbar": {
              "outlinewidth": 0,
              "ticks": ""
             }
            },
            "marker": {
             "colorbar": {
              "outlinewidth": 0,
              "ticks": ""
             }
            },
            "type": "scatter3d"
           }
          ],
          "scattercarpet": [
           {
            "marker": {
             "colorbar": {
              "outlinewidth": 0,
              "ticks": ""
             }
            },
            "type": "scattercarpet"
           }
          ],
          "scattergeo": [
           {
            "marker": {
             "colorbar": {
              "outlinewidth": 0,
              "ticks": ""
             }
            },
            "type": "scattergeo"
           }
          ],
          "scattergl": [
           {
            "marker": {
             "colorbar": {
              "outlinewidth": 0,
              "ticks": ""
             }
            },
            "type": "scattergl"
           }
          ],
          "scattermapbox": [
           {
            "marker": {
             "colorbar": {
              "outlinewidth": 0,
              "ticks": ""
             }
            },
            "type": "scattermapbox"
           }
          ],
          "scatterpolar": [
           {
            "marker": {
             "colorbar": {
              "outlinewidth": 0,
              "ticks": ""
             }
            },
            "type": "scatterpolar"
           }
          ],
          "scatterpolargl": [
           {
            "marker": {
             "colorbar": {
              "outlinewidth": 0,
              "ticks": ""
             }
            },
            "type": "scatterpolargl"
           }
          ],
          "scatterternary": [
           {
            "marker": {
             "colorbar": {
              "outlinewidth": 0,
              "ticks": ""
             }
            },
            "type": "scatterternary"
           }
          ],
          "surface": [
           {
            "colorbar": {
             "outlinewidth": 0,
             "ticks": ""
            },
            "colorscale": [
             [
              0,
              "#0d0887"
             ],
             [
              0.1111111111111111,
              "#46039f"
             ],
             [
              0.2222222222222222,
              "#7201a8"
             ],
             [
              0.3333333333333333,
              "#9c179e"
             ],
             [
              0.4444444444444444,
              "#bd3786"
             ],
             [
              0.5555555555555556,
              "#d8576b"
             ],
             [
              0.6666666666666666,
              "#ed7953"
             ],
             [
              0.7777777777777778,
              "#fb9f3a"
             ],
             [
              0.8888888888888888,
              "#fdca26"
             ],
             [
              1,
              "#f0f921"
             ]
            ],
            "type": "surface"
           }
          ],
          "table": [
           {
            "cells": {
             "fill": {
              "color": "#EBF0F8"
             },
             "line": {
              "color": "white"
             }
            },
            "header": {
             "fill": {
              "color": "#C8D4E3"
             },
             "line": {
              "color": "white"
             }
            },
            "type": "table"
           }
          ]
         },
         "layout": {
          "annotationdefaults": {
           "arrowcolor": "#2a3f5f",
           "arrowhead": 0,
           "arrowwidth": 1
          },
          "autotypenumbers": "strict",
          "coloraxis": {
           "colorbar": {
            "outlinewidth": 0,
            "ticks": ""
           }
          },
          "colorscale": {
           "diverging": [
            [
             0,
             "#8e0152"
            ],
            [
             0.1,
             "#c51b7d"
            ],
            [
             0.2,
             "#de77ae"
            ],
            [
             0.3,
             "#f1b6da"
            ],
            [
             0.4,
             "#fde0ef"
            ],
            [
             0.5,
             "#f7f7f7"
            ],
            [
             0.6,
             "#e6f5d0"
            ],
            [
             0.7,
             "#b8e186"
            ],
            [
             0.8,
             "#7fbc41"
            ],
            [
             0.9,
             "#4d9221"
            ],
            [
             1,
             "#276419"
            ]
           ],
           "sequential": [
            [
             0,
             "#0d0887"
            ],
            [
             0.1111111111111111,
             "#46039f"
            ],
            [
             0.2222222222222222,
             "#7201a8"
            ],
            [
             0.3333333333333333,
             "#9c179e"
            ],
            [
             0.4444444444444444,
             "#bd3786"
            ],
            [
             0.5555555555555556,
             "#d8576b"
            ],
            [
             0.6666666666666666,
             "#ed7953"
            ],
            [
             0.7777777777777778,
             "#fb9f3a"
            ],
            [
             0.8888888888888888,
             "#fdca26"
            ],
            [
             1,
             "#f0f921"
            ]
           ],
           "sequentialminus": [
            [
             0,
             "#0d0887"
            ],
            [
             0.1111111111111111,
             "#46039f"
            ],
            [
             0.2222222222222222,
             "#7201a8"
            ],
            [
             0.3333333333333333,
             "#9c179e"
            ],
            [
             0.4444444444444444,
             "#bd3786"
            ],
            [
             0.5555555555555556,
             "#d8576b"
            ],
            [
             0.6666666666666666,
             "#ed7953"
            ],
            [
             0.7777777777777778,
             "#fb9f3a"
            ],
            [
             0.8888888888888888,
             "#fdca26"
            ],
            [
             1,
             "#f0f921"
            ]
           ]
          },
          "colorway": [
           "#636efa",
           "#EF553B",
           "#00cc96",
           "#ab63fa",
           "#FFA15A",
           "#19d3f3",
           "#FF6692",
           "#B6E880",
           "#FF97FF",
           "#FECB52"
          ],
          "font": {
           "color": "#2a3f5f"
          },
          "geo": {
           "bgcolor": "white",
           "lakecolor": "white",
           "landcolor": "white",
           "showlakes": true,
           "showland": true,
           "subunitcolor": "#C8D4E3"
          },
          "hoverlabel": {
           "align": "left"
          },
          "hovermode": "closest",
          "mapbox": {
           "style": "light"
          },
          "paper_bgcolor": "white",
          "plot_bgcolor": "white",
          "polar": {
           "angularaxis": {
            "gridcolor": "#EBF0F8",
            "linecolor": "#EBF0F8",
            "ticks": ""
           },
           "bgcolor": "white",
           "radialaxis": {
            "gridcolor": "#EBF0F8",
            "linecolor": "#EBF0F8",
            "ticks": ""
           }
          },
          "scene": {
           "xaxis": {
            "backgroundcolor": "white",
            "gridcolor": "#DFE8F3",
            "gridwidth": 2,
            "linecolor": "#EBF0F8",
            "showbackground": true,
            "ticks": "",
            "zerolinecolor": "#EBF0F8"
           },
           "yaxis": {
            "backgroundcolor": "white",
            "gridcolor": "#DFE8F3",
            "gridwidth": 2,
            "linecolor": "#EBF0F8",
            "showbackground": true,
            "ticks": "",
            "zerolinecolor": "#EBF0F8"
           },
           "zaxis": {
            "backgroundcolor": "white",
            "gridcolor": "#DFE8F3",
            "gridwidth": 2,
            "linecolor": "#EBF0F8",
            "showbackground": true,
            "ticks": "",
            "zerolinecolor": "#EBF0F8"
           }
          },
          "shapedefaults": {
           "line": {
            "color": "#2a3f5f"
           }
          },
          "ternary": {
           "aaxis": {
            "gridcolor": "#DFE8F3",
            "linecolor": "#A2B1C6",
            "ticks": ""
           },
           "baxis": {
            "gridcolor": "#DFE8F3",
            "linecolor": "#A2B1C6",
            "ticks": ""
           },
           "bgcolor": "white",
           "caxis": {
            "gridcolor": "#DFE8F3",
            "linecolor": "#A2B1C6",
            "ticks": ""
           }
          },
          "title": {
           "x": 0.05
          },
          "xaxis": {
           "automargin": true,
           "gridcolor": "#EBF0F8",
           "linecolor": "#EBF0F8",
           "ticks": "",
           "title": {
            "standoff": 15
           },
           "zerolinecolor": "#EBF0F8",
           "zerolinewidth": 2
          },
          "yaxis": {
           "automargin": true,
           "gridcolor": "#EBF0F8",
           "linecolor": "#EBF0F8",
           "ticks": "",
           "title": {
            "standoff": 15
           },
           "zerolinecolor": "#EBF0F8",
           "zerolinewidth": 2
          }
         }
        },
        "title": {
         "text": "Distribuição do percentual de operação diária (POD) por mês - Serviço: 663 <br>Versão reprocessada"
        },
        "width": 800,
        "xaxis": {
         "anchor": "y",
         "domain": [
          0,
          1
         ],
         "title": {
          "text": ""
         }
        },
        "yaxis": {
         "anchor": "x",
         "domain": [
          0,
          1
         ],
         "range": [
          -50,
          230
         ],
         "ticksuffix": "%",
         "title": {
          "text": ""
         }
        }
       }
      }
     },
     "metadata": {},
     "output_type": "display_data"
    }
   ],
   "source": [
    "\n",
    "y = \"perc_km_planejada\"\n",
    "title = \"Distribuição do percentual de operação diária (POD) por mês - Serviço: 663 <br>Versão reprocessada\"\n",
    "\n",
    "fig = px.box(\n",
    "    pod_pos_reprocessamento, \n",
    "    x=\"mes_ano\", \n",
    "    y=y, \n",
    "    title=title,\n",
    "    template=\"plotly_white\",\n",
    "    labels={\n",
    "        \"mes_ano\": \"\",\n",
    "        y: \"\"\n",
    "    },\n",
    "    points=\"all\"\n",
    ")\n",
    "\n",
    "fig.update_layout(\n",
    "    yaxis_range=[-50, 230],  \n",
    "    yaxis_ticksuffix=\"%\",\n",
    "    width=800,\n",
    "    height=600,\n",
    "    showlegend=False,\n",
    ")\n",
    "\n",
    "fig.add_hline(y=80, annotation_text=\"min = 80%\")  # Linha horizontal para indicar o mínimo de 80%\n",
    "\n",
    "fig.show()\n"
   ]
  },
  {
   "cell_type": "markdown",
   "metadata": {},
   "source": [
    "Consolidar POD pré e pós reprocessamento em apenas um gráfico."
   ]
  },
  {
   "cell_type": "code",
   "execution_count": 21,
   "metadata": {},
   "outputs": [],
   "source": [
    "# Calcular a média e o desvio padrão de perc_km_planejada por mês para ambos os DataFrames\n",
    "media_pre = pod_pre_reprocessamento.groupby('mes_ano')['perc_km_planejada'].mean()\n",
    "std_pre = pod_pre_reprocessamento.groupby('mes_ano')['perc_km_planejada'].std()\n",
    "\n",
    "media_pos = pod_pos_reprocessamento.groupby('mes_ano')['perc_km_planejada'].mean()\n",
    "std_pos = pod_pos_reprocessamento.groupby('mes_ano')['perc_km_planejada'].std()"
   ]
  },
  {
   "cell_type": "markdown",
   "metadata": {},
   "source": [
    "Com o reprocessamento, houve uma melhoria do valor do Percentual de Operação Diária."
   ]
  },
  {
   "cell_type": "code",
   "execution_count": 22,
   "metadata": {},
   "outputs": [
    {
     "data": {
      "text/html": [
       "<div>\n",
       "<style scoped>\n",
       "    .dataframe tbody tr th:only-of-type {\n",
       "        vertical-align: middle;\n",
       "    }\n",
       "\n",
       "    .dataframe tbody tr th {\n",
       "        vertical-align: top;\n",
       "    }\n",
       "\n",
       "    .dataframe thead th {\n",
       "        text-align: right;\n",
       "    }\n",
       "</style>\n",
       "<table border=\"1\" class=\"dataframe\">\n",
       "  <thead>\n",
       "    <tr style=\"text-align: right;\">\n",
       "      <th></th>\n",
       "      <th>DATA</th>\n",
       "      <th>viagens</th>\n",
       "      <th>km_apurada</th>\n",
       "      <th>distancia_total_planejada</th>\n",
       "      <th>perc_km_planejada</th>\n",
       "      <th>valor_subsidio_por_km</th>\n",
       "      <th>valor_subsidio</th>\n",
       "      <th>mes_ano</th>\n",
       "    </tr>\n",
       "  </thead>\n",
       "  <tbody>\n",
       "    <tr>\n",
       "      <th>304</th>\n",
       "      <td>2022-06-01</td>\n",
       "      <td>13</td>\n",
       "      <td>266.341</td>\n",
       "      <td>80.633</td>\n",
       "      <td>3.30</td>\n",
       "      <td>2.13</td>\n",
       "      <td>567.30633</td>\n",
       "      <td>2022-06</td>\n",
       "    </tr>\n",
       "    <tr>\n",
       "      <th>209</th>\n",
       "      <td>2022-06-02</td>\n",
       "      <td>12</td>\n",
       "      <td>241.626</td>\n",
       "      <td>80.633</td>\n",
       "      <td>3.00</td>\n",
       "      <td>2.13</td>\n",
       "      <td>514.66338</td>\n",
       "      <td>2022-06</td>\n",
       "    </tr>\n",
       "    <tr>\n",
       "      <th>56</th>\n",
       "      <td>2022-06-03</td>\n",
       "      <td>11</td>\n",
       "      <td>216.911</td>\n",
       "      <td>80.633</td>\n",
       "      <td>2.69</td>\n",
       "      <td>2.13</td>\n",
       "      <td>462.02043</td>\n",
       "      <td>2022-06</td>\n",
       "    </tr>\n",
       "    <tr>\n",
       "      <th>170</th>\n",
       "      <td>2022-09-13</td>\n",
       "      <td>6</td>\n",
       "      <td>129.972</td>\n",
       "      <td>80.633</td>\n",
       "      <td>1.61</td>\n",
       "      <td>1.75</td>\n",
       "      <td>227.45100</td>\n",
       "      <td>2022-09</td>\n",
       "    </tr>\n",
       "    <tr>\n",
       "      <th>10</th>\n",
       "      <td>2022-09-02</td>\n",
       "      <td>4</td>\n",
       "      <td>80.542</td>\n",
       "      <td>50.395</td>\n",
       "      <td>1.60</td>\n",
       "      <td>1.75</td>\n",
       "      <td>140.94850</td>\n",
       "      <td>2022-09</td>\n",
       "    </tr>\n",
       "    <tr>\n",
       "      <th>...</th>\n",
       "      <td>...</td>\n",
       "      <td>...</td>\n",
       "      <td>...</td>\n",
       "      <td>...</td>\n",
       "      <td>...</td>\n",
       "      <td>...</td>\n",
       "      <td>...</td>\n",
       "      <td>...</td>\n",
       "    </tr>\n",
       "    <tr>\n",
       "      <th>260</th>\n",
       "      <td>2022-11-13</td>\n",
       "      <td>0</td>\n",
       "      <td>0.000</td>\n",
       "      <td>40.316</td>\n",
       "      <td>0.00</td>\n",
       "      <td>1.53</td>\n",
       "      <td>0.00000</td>\n",
       "      <td>2022-11</td>\n",
       "    </tr>\n",
       "    <tr>\n",
       "      <th>213</th>\n",
       "      <td>2022-11-19</td>\n",
       "      <td>0</td>\n",
       "      <td>0.000</td>\n",
       "      <td>50.395</td>\n",
       "      <td>0.00</td>\n",
       "      <td>1.53</td>\n",
       "      <td>0.00000</td>\n",
       "      <td>2022-11</td>\n",
       "    </tr>\n",
       "    <tr>\n",
       "      <th>133</th>\n",
       "      <td>2022-11-20</td>\n",
       "      <td>0</td>\n",
       "      <td>0.000</td>\n",
       "      <td>40.316</td>\n",
       "      <td>0.00</td>\n",
       "      <td>1.53</td>\n",
       "      <td>0.00000</td>\n",
       "      <td>2022-11</td>\n",
       "    </tr>\n",
       "    <tr>\n",
       "      <th>68</th>\n",
       "      <td>2022-11-26</td>\n",
       "      <td>0</td>\n",
       "      <td>0.000</td>\n",
       "      <td>50.395</td>\n",
       "      <td>0.00</td>\n",
       "      <td>1.53</td>\n",
       "      <td>0.00000</td>\n",
       "      <td>2022-11</td>\n",
       "    </tr>\n",
       "    <tr>\n",
       "      <th>34</th>\n",
       "      <td>2023-04-30</td>\n",
       "      <td>0</td>\n",
       "      <td>0.000</td>\n",
       "      <td>0.000</td>\n",
       "      <td>0.00</td>\n",
       "      <td>2.81</td>\n",
       "      <td>0.00000</td>\n",
       "      <td>2023-04</td>\n",
       "    </tr>\n",
       "  </tbody>\n",
       "</table>\n",
       "<p>334 rows × 8 columns</p>\n",
       "</div>"
      ],
      "text/plain": [
       "          DATA  viagens  km_apurada  distancia_total_planejada  \\\n",
       "304 2022-06-01       13     266.341                     80.633   \n",
       "209 2022-06-02       12     241.626                     80.633   \n",
       "56  2022-06-03       11     216.911                     80.633   \n",
       "170 2022-09-13        6     129.972                     80.633   \n",
       "10  2022-09-02        4      80.542                     50.395   \n",
       "..         ...      ...         ...                        ...   \n",
       "260 2022-11-13        0       0.000                     40.316   \n",
       "213 2022-11-19        0       0.000                     50.395   \n",
       "133 2022-11-20        0       0.000                     40.316   \n",
       "68  2022-11-26        0       0.000                     50.395   \n",
       "34  2023-04-30        0       0.000                      0.000   \n",
       "\n",
       "     perc_km_planejada  valor_subsidio_por_km  valor_subsidio  mes_ano  \n",
       "304               3.30                   2.13       567.30633  2022-06  \n",
       "209               3.00                   2.13       514.66338  2022-06  \n",
       "56                2.69                   2.13       462.02043  2022-06  \n",
       "170               1.61                   1.75       227.45100  2022-09  \n",
       "10                1.60                   1.75       140.94850  2022-09  \n",
       "..                 ...                    ...             ...      ...  \n",
       "260               0.00                   1.53         0.00000  2022-11  \n",
       "213               0.00                   1.53         0.00000  2022-11  \n",
       "133               0.00                   1.53         0.00000  2022-11  \n",
       "68                0.00                   1.53         0.00000  2022-11  \n",
       "34                0.00                   2.81         0.00000  2023-04  \n",
       "\n",
       "[334 rows x 8 columns]"
      ]
     },
     "execution_count": 22,
     "metadata": {},
     "output_type": "execute_result"
    }
   ],
   "source": [
    "maiores_perc_pos = subsidio_a_pagar_dia.sort_values(by='perc_km_planejada', ascending=False)\n",
    "maiores_perc_pos"
   ]
  },
  {
   "cell_type": "code",
   "execution_count": 23,
   "metadata": {},
   "outputs": [
    {
     "data": {
      "application/vnd.plotly.v1+json": {
       "config": {
        "plotlyServerURL": "https://plot.ly"
       },
       "data": [
        {
         "error_y": {
          "array": [
           76.48904962570576,
           40.560587894193304,
           38.72983346207417,
           49.72221687107999,
           44.79343269836803,
           32.76702856408467,
           43.62597628078497,
           40.53296734053123,
           40.6410153824408,
           33.12301935312048,
           21.86623817804113
          ],
          "color": "dodgerblue",
          "type": "data",
          "visible": true
         },
         "marker": {
          "color": "dodgerblue"
         },
         "mode": "lines+markers",
         "name": "Antes do Reprocessamento",
         "opacity": 0.75,
         "type": "scatter",
         "x": [
          "2022-06",
          "2022-07",
          "2022-08",
          "2022-09",
          "2022-10",
          "2022-11",
          "2022-12",
          "2023-01",
          "2023-02",
          "2023-03",
          "2023-04"
         ],
         "y": [
          36.666666666666664,
          24.193548387096776,
          50,
          53.666666666666664,
          32.58064516129032,
          24.333333333333332,
          40.32258064516129,
          71.42714285714285,
          67.50550000000001,
          78.26739130434783,
          88.2429411764706
         ]
        },
        {
         "error_y": {
          "array": [
           87.40470015505689,
           39.87475014247401,
           38.589903409587464,
           51.653843421665,
           42.77646322981381,
           35.362636948536846,
           40.07632503058369,
           45.32548951748895,
           48.06042272810585,
           41.73680977653396,
           48.960469628128536
          ],
          "color": "crimson",
          "type": "data",
          "visible": true
         },
         "marker": {
          "color": "crimson"
         },
         "mode": "lines+markers",
         "name": "Após Reprocessamento",
         "opacity": 0.75,
         "type": "scatter",
         "x": [
          "2022-06",
          "2022-07",
          "2022-08",
          "2022-09",
          "2022-10",
          "2022-11",
          "2022-12",
          "2023-01",
          "2023-02",
          "2023-03",
          "2023-04"
         ],
         "y": [
          53.93333333333333,
          38.935483870967744,
          59.225806451612904,
          65.86666666666666,
          45.67741935483871,
          41.96666666666667,
          53.38709677419355,
          55,
          55.214285714285715,
          66.19354838709677,
          53.1
         ]
        }
       ],
       "layout": {
        "annotations": [
         {
          "font": {
           "color": "black",
           "size": 14
          },
          "showarrow": false,
          "text": "Valor médio e desvio-padrão mensais do POD",
          "x": -0.065,
          "xanchor": "left",
          "xref": "paper",
          "y": 1.1,
          "yref": "paper"
         },
         {
          "font": {
           "color": "dodgerblue",
           "size": 14
          },
          "showarrow": false,
          "text": "antes do reprocessamento",
          "x": 0.445,
          "xanchor": "left",
          "xref": "paper",
          "y": 1.1,
          "yref": "paper"
         },
         {
          "font": {
           "color": "black",
           "size": 14
          },
          "showarrow": false,
          "text": "e",
          "x": 0.745,
          "xanchor": "left",
          "xref": "paper",
          "y": 1.1,
          "yref": "paper"
         },
         {
          "font": {
           "color": "crimson",
           "size": 14
          },
          "showarrow": false,
          "text": "após o reprocessamento.",
          "x": 0.765,
          "xanchor": "left",
          "xref": "paper",
          "y": 1.1,
          "yref": "paper"
         },
         {
          "showarrow": false,
          "text": "min = 80%",
          "x": 1,
          "xanchor": "right",
          "xref": "x domain",
          "y": 80,
          "yanchor": "bottom",
          "yref": "y"
         }
        ],
        "height": 600,
        "plot_bgcolor": "white",
        "shapes": [
         {
          "type": "line",
          "x0": 0,
          "x1": 1,
          "xref": "x domain",
          "y0": 80,
          "y1": 80,
          "yref": "y"
         }
        ],
        "showlegend": false,
        "template": {
         "data": {
          "bar": [
           {
            "error_x": {
             "color": "#2a3f5f"
            },
            "error_y": {
             "color": "#2a3f5f"
            },
            "marker": {
             "line": {
              "color": "#E5ECF6",
              "width": 0.5
             },
             "pattern": {
              "fillmode": "overlay",
              "size": 10,
              "solidity": 0.2
             }
            },
            "type": "bar"
           }
          ],
          "barpolar": [
           {
            "marker": {
             "line": {
              "color": "#E5ECF6",
              "width": 0.5
             },
             "pattern": {
              "fillmode": "overlay",
              "size": 10,
              "solidity": 0.2
             }
            },
            "type": "barpolar"
           }
          ],
          "carpet": [
           {
            "aaxis": {
             "endlinecolor": "#2a3f5f",
             "gridcolor": "white",
             "linecolor": "white",
             "minorgridcolor": "white",
             "startlinecolor": "#2a3f5f"
            },
            "baxis": {
             "endlinecolor": "#2a3f5f",
             "gridcolor": "white",
             "linecolor": "white",
             "minorgridcolor": "white",
             "startlinecolor": "#2a3f5f"
            },
            "type": "carpet"
           }
          ],
          "choropleth": [
           {
            "colorbar": {
             "outlinewidth": 0,
             "ticks": ""
            },
            "type": "choropleth"
           }
          ],
          "contour": [
           {
            "colorbar": {
             "outlinewidth": 0,
             "ticks": ""
            },
            "colorscale": [
             [
              0,
              "#0d0887"
             ],
             [
              0.1111111111111111,
              "#46039f"
             ],
             [
              0.2222222222222222,
              "#7201a8"
             ],
             [
              0.3333333333333333,
              "#9c179e"
             ],
             [
              0.4444444444444444,
              "#bd3786"
             ],
             [
              0.5555555555555556,
              "#d8576b"
             ],
             [
              0.6666666666666666,
              "#ed7953"
             ],
             [
              0.7777777777777778,
              "#fb9f3a"
             ],
             [
              0.8888888888888888,
              "#fdca26"
             ],
             [
              1,
              "#f0f921"
             ]
            ],
            "type": "contour"
           }
          ],
          "contourcarpet": [
           {
            "colorbar": {
             "outlinewidth": 0,
             "ticks": ""
            },
            "type": "contourcarpet"
           }
          ],
          "heatmap": [
           {
            "colorbar": {
             "outlinewidth": 0,
             "ticks": ""
            },
            "colorscale": [
             [
              0,
              "#0d0887"
             ],
             [
              0.1111111111111111,
              "#46039f"
             ],
             [
              0.2222222222222222,
              "#7201a8"
             ],
             [
              0.3333333333333333,
              "#9c179e"
             ],
             [
              0.4444444444444444,
              "#bd3786"
             ],
             [
              0.5555555555555556,
              "#d8576b"
             ],
             [
              0.6666666666666666,
              "#ed7953"
             ],
             [
              0.7777777777777778,
              "#fb9f3a"
             ],
             [
              0.8888888888888888,
              "#fdca26"
             ],
             [
              1,
              "#f0f921"
             ]
            ],
            "type": "heatmap"
           }
          ],
          "heatmapgl": [
           {
            "colorbar": {
             "outlinewidth": 0,
             "ticks": ""
            },
            "colorscale": [
             [
              0,
              "#0d0887"
             ],
             [
              0.1111111111111111,
              "#46039f"
             ],
             [
              0.2222222222222222,
              "#7201a8"
             ],
             [
              0.3333333333333333,
              "#9c179e"
             ],
             [
              0.4444444444444444,
              "#bd3786"
             ],
             [
              0.5555555555555556,
              "#d8576b"
             ],
             [
              0.6666666666666666,
              "#ed7953"
             ],
             [
              0.7777777777777778,
              "#fb9f3a"
             ],
             [
              0.8888888888888888,
              "#fdca26"
             ],
             [
              1,
              "#f0f921"
             ]
            ],
            "type": "heatmapgl"
           }
          ],
          "histogram": [
           {
            "marker": {
             "pattern": {
              "fillmode": "overlay",
              "size": 10,
              "solidity": 0.2
             }
            },
            "type": "histogram"
           }
          ],
          "histogram2d": [
           {
            "colorbar": {
             "outlinewidth": 0,
             "ticks": ""
            },
            "colorscale": [
             [
              0,
              "#0d0887"
             ],
             [
              0.1111111111111111,
              "#46039f"
             ],
             [
              0.2222222222222222,
              "#7201a8"
             ],
             [
              0.3333333333333333,
              "#9c179e"
             ],
             [
              0.4444444444444444,
              "#bd3786"
             ],
             [
              0.5555555555555556,
              "#d8576b"
             ],
             [
              0.6666666666666666,
              "#ed7953"
             ],
             [
              0.7777777777777778,
              "#fb9f3a"
             ],
             [
              0.8888888888888888,
              "#fdca26"
             ],
             [
              1,
              "#f0f921"
             ]
            ],
            "type": "histogram2d"
           }
          ],
          "histogram2dcontour": [
           {
            "colorbar": {
             "outlinewidth": 0,
             "ticks": ""
            },
            "colorscale": [
             [
              0,
              "#0d0887"
             ],
             [
              0.1111111111111111,
              "#46039f"
             ],
             [
              0.2222222222222222,
              "#7201a8"
             ],
             [
              0.3333333333333333,
              "#9c179e"
             ],
             [
              0.4444444444444444,
              "#bd3786"
             ],
             [
              0.5555555555555556,
              "#d8576b"
             ],
             [
              0.6666666666666666,
              "#ed7953"
             ],
             [
              0.7777777777777778,
              "#fb9f3a"
             ],
             [
              0.8888888888888888,
              "#fdca26"
             ],
             [
              1,
              "#f0f921"
             ]
            ],
            "type": "histogram2dcontour"
           }
          ],
          "mesh3d": [
           {
            "colorbar": {
             "outlinewidth": 0,
             "ticks": ""
            },
            "type": "mesh3d"
           }
          ],
          "parcoords": [
           {
            "line": {
             "colorbar": {
              "outlinewidth": 0,
              "ticks": ""
             }
            },
            "type": "parcoords"
           }
          ],
          "pie": [
           {
            "automargin": true,
            "type": "pie"
           }
          ],
          "scatter": [
           {
            "fillpattern": {
             "fillmode": "overlay",
             "size": 10,
             "solidity": 0.2
            },
            "type": "scatter"
           }
          ],
          "scatter3d": [
           {
            "line": {
             "colorbar": {
              "outlinewidth": 0,
              "ticks": ""
             }
            },
            "marker": {
             "colorbar": {
              "outlinewidth": 0,
              "ticks": ""
             }
            },
            "type": "scatter3d"
           }
          ],
          "scattercarpet": [
           {
            "marker": {
             "colorbar": {
              "outlinewidth": 0,
              "ticks": ""
             }
            },
            "type": "scattercarpet"
           }
          ],
          "scattergeo": [
           {
            "marker": {
             "colorbar": {
              "outlinewidth": 0,
              "ticks": ""
             }
            },
            "type": "scattergeo"
           }
          ],
          "scattergl": [
           {
            "marker": {
             "colorbar": {
              "outlinewidth": 0,
              "ticks": ""
             }
            },
            "type": "scattergl"
           }
          ],
          "scattermapbox": [
           {
            "marker": {
             "colorbar": {
              "outlinewidth": 0,
              "ticks": ""
             }
            },
            "type": "scattermapbox"
           }
          ],
          "scatterpolar": [
           {
            "marker": {
             "colorbar": {
              "outlinewidth": 0,
              "ticks": ""
             }
            },
            "type": "scatterpolar"
           }
          ],
          "scatterpolargl": [
           {
            "marker": {
             "colorbar": {
              "outlinewidth": 0,
              "ticks": ""
             }
            },
            "type": "scatterpolargl"
           }
          ],
          "scatterternary": [
           {
            "marker": {
             "colorbar": {
              "outlinewidth": 0,
              "ticks": ""
             }
            },
            "type": "scatterternary"
           }
          ],
          "surface": [
           {
            "colorbar": {
             "outlinewidth": 0,
             "ticks": ""
            },
            "colorscale": [
             [
              0,
              "#0d0887"
             ],
             [
              0.1111111111111111,
              "#46039f"
             ],
             [
              0.2222222222222222,
              "#7201a8"
             ],
             [
              0.3333333333333333,
              "#9c179e"
             ],
             [
              0.4444444444444444,
              "#bd3786"
             ],
             [
              0.5555555555555556,
              "#d8576b"
             ],
             [
              0.6666666666666666,
              "#ed7953"
             ],
             [
              0.7777777777777778,
              "#fb9f3a"
             ],
             [
              0.8888888888888888,
              "#fdca26"
             ],
             [
              1,
              "#f0f921"
             ]
            ],
            "type": "surface"
           }
          ],
          "table": [
           {
            "cells": {
             "fill": {
              "color": "#EBF0F8"
             },
             "line": {
              "color": "white"
             }
            },
            "header": {
             "fill": {
              "color": "#C8D4E3"
             },
             "line": {
              "color": "white"
             }
            },
            "type": "table"
           }
          ]
         },
         "layout": {
          "annotationdefaults": {
           "arrowcolor": "#2a3f5f",
           "arrowhead": 0,
           "arrowwidth": 1
          },
          "autotypenumbers": "strict",
          "coloraxis": {
           "colorbar": {
            "outlinewidth": 0,
            "ticks": ""
           }
          },
          "colorscale": {
           "diverging": [
            [
             0,
             "#8e0152"
            ],
            [
             0.1,
             "#c51b7d"
            ],
            [
             0.2,
             "#de77ae"
            ],
            [
             0.3,
             "#f1b6da"
            ],
            [
             0.4,
             "#fde0ef"
            ],
            [
             0.5,
             "#f7f7f7"
            ],
            [
             0.6,
             "#e6f5d0"
            ],
            [
             0.7,
             "#b8e186"
            ],
            [
             0.8,
             "#7fbc41"
            ],
            [
             0.9,
             "#4d9221"
            ],
            [
             1,
             "#276419"
            ]
           ],
           "sequential": [
            [
             0,
             "#0d0887"
            ],
            [
             0.1111111111111111,
             "#46039f"
            ],
            [
             0.2222222222222222,
             "#7201a8"
            ],
            [
             0.3333333333333333,
             "#9c179e"
            ],
            [
             0.4444444444444444,
             "#bd3786"
            ],
            [
             0.5555555555555556,
             "#d8576b"
            ],
            [
             0.6666666666666666,
             "#ed7953"
            ],
            [
             0.7777777777777778,
             "#fb9f3a"
            ],
            [
             0.8888888888888888,
             "#fdca26"
            ],
            [
             1,
             "#f0f921"
            ]
           ],
           "sequentialminus": [
            [
             0,
             "#0d0887"
            ],
            [
             0.1111111111111111,
             "#46039f"
            ],
            [
             0.2222222222222222,
             "#7201a8"
            ],
            [
             0.3333333333333333,
             "#9c179e"
            ],
            [
             0.4444444444444444,
             "#bd3786"
            ],
            [
             0.5555555555555556,
             "#d8576b"
            ],
            [
             0.6666666666666666,
             "#ed7953"
            ],
            [
             0.7777777777777778,
             "#fb9f3a"
            ],
            [
             0.8888888888888888,
             "#fdca26"
            ],
            [
             1,
             "#f0f921"
            ]
           ]
          },
          "colorway": [
           "#636efa",
           "#EF553B",
           "#00cc96",
           "#ab63fa",
           "#FFA15A",
           "#19d3f3",
           "#FF6692",
           "#B6E880",
           "#FF97FF",
           "#FECB52"
          ],
          "font": {
           "color": "#2a3f5f"
          },
          "geo": {
           "bgcolor": "white",
           "lakecolor": "white",
           "landcolor": "#E5ECF6",
           "showlakes": true,
           "showland": true,
           "subunitcolor": "white"
          },
          "hoverlabel": {
           "align": "left"
          },
          "hovermode": "closest",
          "mapbox": {
           "style": "light"
          },
          "paper_bgcolor": "white",
          "plot_bgcolor": "#E5ECF6",
          "polar": {
           "angularaxis": {
            "gridcolor": "white",
            "linecolor": "white",
            "ticks": ""
           },
           "bgcolor": "#E5ECF6",
           "radialaxis": {
            "gridcolor": "white",
            "linecolor": "white",
            "ticks": ""
           }
          },
          "scene": {
           "xaxis": {
            "backgroundcolor": "#E5ECF6",
            "gridcolor": "white",
            "gridwidth": 2,
            "linecolor": "white",
            "showbackground": true,
            "ticks": "",
            "zerolinecolor": "white"
           },
           "yaxis": {
            "backgroundcolor": "#E5ECF6",
            "gridcolor": "white",
            "gridwidth": 2,
            "linecolor": "white",
            "showbackground": true,
            "ticks": "",
            "zerolinecolor": "white"
           },
           "zaxis": {
            "backgroundcolor": "#E5ECF6",
            "gridcolor": "white",
            "gridwidth": 2,
            "linecolor": "white",
            "showbackground": true,
            "ticks": "",
            "zerolinecolor": "white"
           }
          },
          "shapedefaults": {
           "line": {
            "color": "#2a3f5f"
           }
          },
          "ternary": {
           "aaxis": {
            "gridcolor": "white",
            "linecolor": "white",
            "ticks": ""
           },
           "baxis": {
            "gridcolor": "white",
            "linecolor": "white",
            "ticks": ""
           },
           "bgcolor": "#E5ECF6",
           "caxis": {
            "gridcolor": "white",
            "linecolor": "white",
            "ticks": ""
           }
          },
          "title": {
           "x": 0.05
          },
          "xaxis": {
           "automargin": true,
           "gridcolor": "white",
           "linecolor": "white",
           "ticks": "",
           "title": {
            "standoff": 15
           },
           "zerolinecolor": "white",
           "zerolinewidth": 2
          },
          "yaxis": {
           "automargin": true,
           "gridcolor": "white",
           "linecolor": "white",
           "ticks": "",
           "title": {
            "standoff": 15
           },
           "zerolinecolor": "white",
           "zerolinewidth": 2
          }
         }
        },
        "title": {
         "font": {
          "color": "black"
         },
         "text": "Percentual de Operação Diária (POD) por mês - Serviço: 663"
        },
        "width": 800,
        "xaxis": {
         "showgrid": false,
         "zeroline": false
        },
        "yaxis": {
         "range": [
          0,
          230
         ],
         "showgrid": false,
         "ticksuffix": "%",
         "zeroline": false
        }
       }
      }
     },
     "metadata": {},
     "output_type": "display_data"
    }
   ],
   "source": [
    "# Criar o gráfico de linha\n",
    "fig = go.Figure()\n",
    "\n",
    "# Adicionar a linha com pontos e desvio padrão para pod_pre_reprocessamento\n",
    "fig.add_trace(go.Scatter(x=media_pre.index, y=media_pre.values,\n",
    "                    mode='lines+markers',\n",
    "                    name='Antes do Reprocessamento',\n",
    "                    marker=dict(color='dodgerblue'),\n",
    "                    opacity=0.75,\n",
    "                    error_y=dict(type='data', array=std_pre, visible=True, color='dodgerblue')  # Corrigindo a cor aqui\n",
    "))\n",
    "\n",
    "# Adicionar a linha com pontos e desvio padrão para pod_pos_reprocessamento\n",
    "fig.add_trace(go.Scatter(x=media_pos.index, y=media_pos.values,\n",
    "                    mode='lines+markers',\n",
    "                    name='Após Reprocessamento',\n",
    "                    marker=dict(color='crimson'),\n",
    "                    opacity=0.75,\n",
    "                    error_y=dict(type='data', array=std_pos, visible=True, color='crimson')  # Corrigindo a cor aqui\n",
    "))\n",
    "\n",
    "# Configurar layout e outros parâmetros do gráfico\n",
    "fig.update_layout(\n",
    "    title=dict(text=\"Percentual de Operação Diária (POD) por mês - Serviço: 663\", font=dict(color='black')),\n",
    "    showlegend=False,\n",
    "    yaxis_range=[0, 230],\n",
    "    yaxis_ticksuffix=\"%\",\n",
    "    width=800,\n",
    "    height=600,\n",
    "    plot_bgcolor='white',\n",
    "    xaxis=dict(showgrid=False, zeroline=False),\n",
    "    yaxis=dict(showgrid=False, zeroline=False),\n",
    "    # Adicionando anotações para o subtítulo com cores específicas\n",
    "    annotations=[\n",
    "        dict(\n",
    "            x=-0.065,\n",
    "            y=1.10,\n",
    "            xref='paper',\n",
    "            yref='paper',\n",
    "            xanchor='left',\n",
    "            text='Valor médio e desvio-padrão mensais do POD',\n",
    "            showarrow=False,\n",
    "            font=dict(color='black', size=14)  # Aplicando a cor do título\n",
    "        ),\n",
    "        dict(\n",
    "            x=0.445,\n",
    "            y=1.10,\n",
    "            xref='paper',\n",
    "            yref='paper',\n",
    "            xanchor='left',\n",
    "            text='antes do reprocessamento',\n",
    "            showarrow=False,\n",
    "            font=dict(color='dodgerblue', size=14)\n",
    "        ),\n",
    "        dict(\n",
    "            x=0.745,\n",
    "            y=1.10,\n",
    "            xref='paper',\n",
    "            yref='paper',\n",
    "            xanchor='left',\n",
    "            text='e',\n",
    "            showarrow=False,\n",
    "            font=dict(color='black', size=14)  # Aplicando a cor do título\n",
    "        ),\n",
    "        dict(\n",
    "            x=0.765,\n",
    "            y=1.10,\n",
    "            xref='paper',\n",
    "            yref='paper',\n",
    "            xanchor='left',\n",
    "            text='após o reprocessamento.',\n",
    "            showarrow=False,\n",
    "            font=dict(color='crimson', size=14)\n",
    "        )\n",
    "    ]\n",
    ")\n",
    "\n",
    "# Adicionar linha horizontal para indicar o mínimo de 80%\n",
    "fig.add_hline(y=80, annotation_text=\"min = 80%\")\n",
    "\n",
    "fig.show()"
   ]
  },
  {
   "cell_type": "code",
   "execution_count": 24,
   "metadata": {},
   "outputs": [
    {
     "data": {
      "application/vnd.plotly.v1+json": {
       "config": {
        "plotlyServerURL": "https://plot.ly"
       },
       "data": [
        {
         "marker": {
          "color": "dodgerblue"
         },
         "mode": "lines",
         "name": "Distancia Planejada",
         "opacity": 0.75,
         "type": "scatter",
         "x": [
          "2022-06-01T00:00:00",
          "2022-06-02T00:00:00",
          "2022-06-03T00:00:00",
          "2022-06-04T00:00:00",
          "2022-06-05T00:00:00",
          "2022-06-06T00:00:00",
          "2022-06-07T00:00:00",
          "2022-06-08T00:00:00",
          "2022-06-09T00:00:00",
          "2022-06-10T00:00:00",
          "2022-06-11T00:00:00",
          "2022-06-12T00:00:00",
          "2022-06-13T00:00:00",
          "2022-06-14T00:00:00",
          "2022-06-15T00:00:00",
          "2022-06-16T00:00:00",
          "2022-06-17T00:00:00",
          "2022-06-18T00:00:00",
          "2022-06-19T00:00:00",
          "2022-06-20T00:00:00",
          "2022-06-21T00:00:00",
          "2022-06-22T00:00:00",
          "2022-06-23T00:00:00",
          "2022-06-24T00:00:00",
          "2022-06-25T00:00:00",
          "2022-06-26T00:00:00",
          "2022-06-27T00:00:00",
          "2022-06-28T00:00:00",
          "2022-06-29T00:00:00",
          "2022-06-30T00:00:00",
          "2022-07-01T00:00:00",
          "2022-07-02T00:00:00",
          "2022-07-03T00:00:00",
          "2022-07-04T00:00:00",
          "2022-07-05T00:00:00",
          "2022-07-06T00:00:00",
          "2022-07-07T00:00:00",
          "2022-07-08T00:00:00",
          "2022-07-09T00:00:00",
          "2022-07-10T00:00:00",
          "2022-07-11T00:00:00",
          "2022-07-12T00:00:00",
          "2022-07-13T00:00:00",
          "2022-07-14T00:00:00",
          "2022-07-15T00:00:00",
          "2022-07-16T00:00:00",
          "2022-07-17T00:00:00",
          "2022-07-18T00:00:00",
          "2022-07-19T00:00:00",
          "2022-07-20T00:00:00",
          "2022-07-21T00:00:00",
          "2022-07-22T00:00:00",
          "2022-07-23T00:00:00",
          "2022-07-24T00:00:00",
          "2022-07-25T00:00:00",
          "2022-07-26T00:00:00",
          "2022-07-27T00:00:00",
          "2022-07-28T00:00:00",
          "2022-07-29T00:00:00",
          "2022-07-30T00:00:00",
          "2022-07-31T00:00:00",
          "2022-08-01T00:00:00",
          "2022-08-02T00:00:00",
          "2022-08-03T00:00:00",
          "2022-08-04T00:00:00",
          "2022-08-05T00:00:00",
          "2022-08-06T00:00:00",
          "2022-08-07T00:00:00",
          "2022-08-08T00:00:00",
          "2022-08-09T00:00:00",
          "2022-08-10T00:00:00",
          "2022-08-11T00:00:00",
          "2022-08-12T00:00:00",
          "2022-08-13T00:00:00",
          "2022-08-14T00:00:00",
          "2022-08-15T00:00:00",
          "2022-08-16T00:00:00",
          "2022-08-17T00:00:00",
          "2022-08-18T00:00:00",
          "2022-08-19T00:00:00",
          "2022-08-20T00:00:00",
          "2022-08-21T00:00:00",
          "2022-08-22T00:00:00",
          "2022-08-23T00:00:00",
          "2022-08-24T00:00:00",
          "2022-08-25T00:00:00",
          "2022-08-26T00:00:00",
          "2022-08-27T00:00:00",
          "2022-08-28T00:00:00",
          "2022-08-29T00:00:00",
          "2022-08-30T00:00:00",
          "2022-08-31T00:00:00",
          "2022-09-01T00:00:00",
          "2022-09-02T00:00:00",
          "2022-09-03T00:00:00",
          "2022-09-04T00:00:00",
          "2022-09-05T00:00:00",
          "2022-09-06T00:00:00",
          "2022-09-07T00:00:00",
          "2022-09-08T00:00:00",
          "2022-09-09T00:00:00",
          "2022-09-10T00:00:00",
          "2022-09-11T00:00:00",
          "2022-09-12T00:00:00",
          "2022-09-13T00:00:00",
          "2022-09-14T00:00:00",
          "2022-09-15T00:00:00",
          "2022-09-16T00:00:00",
          "2022-09-17T00:00:00",
          "2022-09-18T00:00:00",
          "2022-09-19T00:00:00",
          "2022-09-20T00:00:00",
          "2022-09-21T00:00:00",
          "2022-09-22T00:00:00",
          "2022-09-23T00:00:00",
          "2022-09-24T00:00:00",
          "2022-09-25T00:00:00",
          "2022-09-26T00:00:00",
          "2022-09-27T00:00:00",
          "2022-09-28T00:00:00",
          "2022-09-29T00:00:00",
          "2022-09-30T00:00:00",
          "2022-10-01T00:00:00",
          "2022-10-02T00:00:00",
          "2022-10-03T00:00:00",
          "2022-10-04T00:00:00",
          "2022-10-05T00:00:00",
          "2022-10-06T00:00:00",
          "2022-10-07T00:00:00",
          "2022-10-08T00:00:00",
          "2022-10-09T00:00:00",
          "2022-10-10T00:00:00",
          "2022-10-11T00:00:00",
          "2022-10-12T00:00:00",
          "2022-10-13T00:00:00",
          "2022-10-14T00:00:00",
          "2022-10-15T00:00:00",
          "2022-10-16T00:00:00",
          "2022-10-17T00:00:00",
          "2022-10-18T00:00:00",
          "2022-10-19T00:00:00",
          "2022-10-20T00:00:00",
          "2022-10-21T00:00:00",
          "2022-10-22T00:00:00",
          "2022-10-23T00:00:00",
          "2022-10-24T00:00:00",
          "2022-10-25T00:00:00",
          "2022-10-26T00:00:00",
          "2022-10-27T00:00:00",
          "2022-10-28T00:00:00",
          "2022-10-29T00:00:00",
          "2022-10-30T00:00:00",
          "2022-10-31T00:00:00",
          "2022-11-01T00:00:00",
          "2022-11-02T00:00:00",
          "2022-11-03T00:00:00",
          "2022-11-04T00:00:00",
          "2022-11-05T00:00:00",
          "2022-11-06T00:00:00",
          "2022-11-07T00:00:00",
          "2022-11-08T00:00:00",
          "2022-11-09T00:00:00",
          "2022-11-10T00:00:00",
          "2022-11-11T00:00:00",
          "2022-11-12T00:00:00",
          "2022-11-13T00:00:00",
          "2022-11-14T00:00:00",
          "2022-11-15T00:00:00",
          "2022-11-16T00:00:00",
          "2022-11-17T00:00:00",
          "2022-11-18T00:00:00",
          "2022-11-19T00:00:00",
          "2022-11-20T00:00:00",
          "2022-11-21T00:00:00",
          "2022-11-22T00:00:00",
          "2022-11-23T00:00:00",
          "2022-11-24T00:00:00",
          "2022-11-25T00:00:00",
          "2022-11-26T00:00:00",
          "2022-11-27T00:00:00",
          "2022-11-28T00:00:00",
          "2022-11-29T00:00:00",
          "2022-11-30T00:00:00",
          "2022-12-01T00:00:00",
          "2022-12-02T00:00:00",
          "2022-12-03T00:00:00",
          "2022-12-04T00:00:00",
          "2022-12-05T00:00:00",
          "2022-12-06T00:00:00",
          "2022-12-07T00:00:00",
          "2022-12-08T00:00:00",
          "2022-12-09T00:00:00",
          "2022-12-10T00:00:00",
          "2022-12-11T00:00:00",
          "2022-12-12T00:00:00",
          "2022-12-13T00:00:00",
          "2022-12-14T00:00:00",
          "2022-12-15T00:00:00",
          "2022-12-16T00:00:00",
          "2022-12-17T00:00:00",
          "2022-12-18T00:00:00",
          "2022-12-19T00:00:00",
          "2022-12-20T00:00:00",
          "2022-12-21T00:00:00",
          "2022-12-22T00:00:00",
          "2022-12-23T00:00:00",
          "2022-12-24T00:00:00",
          "2022-12-25T00:00:00",
          "2022-12-26T00:00:00",
          "2022-12-27T00:00:00",
          "2022-12-28T00:00:00",
          "2022-12-29T00:00:00",
          "2022-12-30T00:00:00",
          "2022-12-31T00:00:00",
          "2023-01-01T00:00:00",
          "2023-01-02T00:00:00",
          "2023-01-03T00:00:00",
          "2023-01-04T00:00:00",
          "2023-01-05T00:00:00",
          "2023-01-06T00:00:00",
          "2023-01-07T00:00:00",
          "2023-01-08T00:00:00",
          "2023-01-09T00:00:00",
          "2023-01-10T00:00:00",
          "2023-01-11T00:00:00",
          "2023-01-12T00:00:00",
          "2023-01-13T00:00:00",
          "2023-01-14T00:00:00",
          "2023-01-15T00:00:00",
          "2023-01-16T00:00:00",
          "2023-01-17T00:00:00",
          "2023-01-18T00:00:00",
          "2023-01-19T00:00:00",
          "2023-01-20T00:00:00",
          "2023-01-21T00:00:00",
          "2023-01-22T00:00:00",
          "2023-01-23T00:00:00",
          "2023-01-24T00:00:00",
          "2023-01-25T00:00:00",
          "2023-01-26T00:00:00",
          "2023-01-27T00:00:00",
          "2023-01-28T00:00:00",
          "2023-01-29T00:00:00",
          "2023-01-30T00:00:00",
          "2023-01-31T00:00:00",
          "2023-02-01T00:00:00",
          "2023-02-02T00:00:00",
          "2023-02-03T00:00:00",
          "2023-02-04T00:00:00",
          "2023-02-05T00:00:00",
          "2023-02-06T00:00:00",
          "2023-02-07T00:00:00",
          "2023-02-08T00:00:00",
          "2023-02-09T00:00:00",
          "2023-02-10T00:00:00",
          "2023-02-11T00:00:00",
          "2023-02-12T00:00:00",
          "2023-02-13T00:00:00",
          "2023-02-14T00:00:00",
          "2023-02-15T00:00:00",
          "2023-02-16T00:00:00",
          "2023-02-17T00:00:00",
          "2023-02-18T00:00:00",
          "2023-02-19T00:00:00",
          "2023-02-20T00:00:00",
          "2023-02-21T00:00:00",
          "2023-02-22T00:00:00",
          "2023-02-23T00:00:00",
          "2023-02-24T00:00:00",
          "2023-02-25T00:00:00",
          "2023-02-26T00:00:00",
          "2023-02-27T00:00:00",
          "2023-02-28T00:00:00",
          "2023-03-01T00:00:00",
          "2023-03-02T00:00:00",
          "2023-03-03T00:00:00",
          "2023-03-04T00:00:00",
          "2023-03-05T00:00:00",
          "2023-03-06T00:00:00",
          "2023-03-07T00:00:00",
          "2023-03-08T00:00:00",
          "2023-03-09T00:00:00",
          "2023-03-10T00:00:00",
          "2023-03-11T00:00:00",
          "2023-03-12T00:00:00",
          "2023-03-13T00:00:00",
          "2023-03-14T00:00:00",
          "2023-03-15T00:00:00",
          "2023-03-16T00:00:00",
          "2023-03-17T00:00:00",
          "2023-03-18T00:00:00",
          "2023-03-19T00:00:00",
          "2023-03-20T00:00:00",
          "2023-03-21T00:00:00",
          "2023-03-22T00:00:00",
          "2023-03-23T00:00:00",
          "2023-03-24T00:00:00",
          "2023-03-25T00:00:00",
          "2023-03-26T00:00:00",
          "2023-03-27T00:00:00",
          "2023-03-28T00:00:00",
          "2023-03-29T00:00:00",
          "2023-03-30T00:00:00",
          "2023-03-31T00:00:00",
          "2023-04-01T00:00:00",
          "2023-04-02T00:00:00",
          "2023-04-03T00:00:00",
          "2023-04-04T00:00:00",
          "2023-04-05T00:00:00",
          "2023-04-06T00:00:00",
          "2023-04-07T00:00:00",
          "2023-04-08T00:00:00",
          "2023-04-09T00:00:00",
          "2023-04-10T00:00:00",
          "2023-04-11T00:00:00",
          "2023-04-12T00:00:00",
          "2023-04-13T00:00:00",
          "2023-04-14T00:00:00",
          "2023-04-15T00:00:00",
          "2023-04-16T00:00:00",
          "2023-04-17T00:00:00",
          "2023-04-18T00:00:00",
          "2023-04-19T00:00:00",
          "2023-04-20T00:00:00",
          "2023-04-21T00:00:00",
          "2023-04-22T00:00:00",
          "2023-04-23T00:00:00",
          "2023-04-24T00:00:00",
          "2023-04-25T00:00:00",
          "2023-04-26T00:00:00",
          "2023-04-27T00:00:00",
          "2023-04-28T00:00:00",
          "2023-04-29T00:00:00",
          "2023-04-30T00:00:00"
         ],
         "y": [
          80.633,
          80.633,
          80.633,
          50.395,
          40.316,
          80.633,
          80.633,
          80.633,
          80.633,
          80.633,
          50.395,
          40.316,
          80.633,
          80.633,
          80.633,
          40.316,
          50.395,
          50.395,
          40.316,
          80.633,
          80.633,
          80.633,
          80.633,
          80.633,
          50.395,
          40.316,
          80.633,
          80.633,
          80.633,
          80.633,
          80.55,
          50.344,
          40.275,
          80.55,
          80.55,
          80.55,
          80.55,
          80.55,
          50.344,
          40.275,
          80.55,
          80.55,
          80.55,
          80.55,
          80.55,
          50.344,
          40.275,
          80.55,
          80.55,
          80.55,
          80.55,
          80.55,
          50.344,
          40.275,
          80.55,
          80.55,
          80.55,
          80.55,
          80.55,
          50.344,
          40.275,
          80.633,
          80.633,
          80.633,
          80.633,
          80.633,
          50.395,
          40.316,
          80.633,
          80.633,
          80.633,
          80.633,
          80.633,
          50.395,
          40.316,
          80.633,
          80.633,
          80.633,
          80.633,
          80.633,
          50.395,
          40.316,
          80.633,
          80.633,
          80.633,
          80.633,
          80.633,
          50.395,
          40.316,
          80.633,
          80.633,
          80.633,
          80.633,
          50.395,
          50.395,
          40.316,
          80.633,
          80.633,
          40.316,
          80.633,
          80.633,
          50.395,
          40.316,
          80.633,
          80.633,
          80.633,
          80.633,
          80.633,
          50.395,
          40.316,
          80.633,
          80.633,
          80.633,
          80.633,
          80.633,
          50.395,
          40.316,
          80.633,
          80.633,
          80.633,
          80.633,
          80.633,
          50.395,
          40.316,
          80.633,
          80.633,
          80.633,
          80.633,
          80.633,
          50.395,
          40.316,
          80.633,
          80.633,
          40.316,
          80.633,
          80.633,
          50.395,
          40.316,
          50.395,
          80.633,
          80.633,
          80.633,
          80.633,
          50.395,
          40.316,
          80.633,
          80.633,
          80.633,
          80.633,
          80.633,
          50.395,
          40.316,
          80.633,
          80.632,
          40.316,
          80.632,
          80.632,
          50.395,
          40.316,
          80.632,
          80.632,
          80.632,
          80.632,
          80.632,
          50.395,
          40.316,
          50.395,
          40.316,
          80.632,
          80.632,
          80.632,
          50.395,
          40.316,
          80.632,
          80.632,
          80.632,
          50.395,
          80.632,
          50.395,
          40.316,
          50.395,
          80.632,
          80.632,
          80.632,
          50.395,
          50.395,
          40.316,
          50.395,
          80.632,
          80.632,
          80.632,
          50.395,
          50.395,
          40.316,
          80.632,
          80.632,
          80.632,
          80.632,
          80.632,
          50.395,
          40.316,
          80.632,
          80.632,
          80.632,
          80.632,
          80.632,
          50.395,
          40.316,
          80.632,
          80.632,
          80.632,
          80.632,
          80.632,
          50.395,
          0,
          80.53,
          80.53,
          80.53,
          80.53,
          80.53,
          0,
          0,
          80.53,
          80.53,
          80.53,
          80.53,
          80.53,
          0,
          0,
          80.53,
          80.53,
          80.53,
          80.53,
          0,
          0,
          0,
          80.53,
          80.53,
          80.53,
          80.53,
          80.53,
          0,
          0,
          80.53,
          80.53,
          80.52,
          80.52,
          80.52,
          0,
          0,
          80.52,
          80.52,
          80.52,
          80.52,
          80.52,
          0,
          0,
          80.52,
          80.52,
          80.52,
          80.52,
          80.52,
          0,
          0,
          80.52,
          80.52,
          80.52,
          80.52,
          80.52,
          0,
          0,
          80.52,
          80.52,
          80.52,
          80.52,
          80.52,
          0,
          0,
          80.52,
          80.52,
          80.52,
          80.52,
          80.52,
          0,
          0,
          80.52,
          80.52,
          80.52,
          80.52,
          80.52,
          0,
          0,
          80.52,
          80.52,
          80.52,
          80.52,
          80.52,
          0,
          0,
          80.52,
          80.52,
          80.52,
          80.52,
          80.52,
          0,
          0,
          80.52,
          80.52,
          80.52,
          0,
          0,
          0,
          0,
          80.52,
          80.52,
          80.52,
          80.52,
          80.52,
          0,
          0,
          80.52,
          80.52,
          80.52,
          80.52,
          0,
          0,
          0,
          80.52,
          80.52,
          80.52,
          80.52,
          80.52,
          0,
          0
         ]
        },
        {
         "marker": {
          "color": "crimson"
         },
         "mode": "lines",
         "name": "Distância Apurada",
         "opacity": 0.75,
         "type": "scatter",
         "x": [
          "2022-06-01T00:00:00",
          "2022-06-02T00:00:00",
          "2022-06-03T00:00:00",
          "2022-06-04T00:00:00",
          "2022-06-05T00:00:00",
          "2022-06-06T00:00:00",
          "2022-06-07T00:00:00",
          "2022-06-08T00:00:00",
          "2022-06-09T00:00:00",
          "2022-06-10T00:00:00",
          "2022-06-11T00:00:00",
          "2022-06-12T00:00:00",
          "2022-06-13T00:00:00",
          "2022-06-14T00:00:00",
          "2022-06-15T00:00:00",
          "2022-06-16T00:00:00",
          "2022-06-17T00:00:00",
          "2022-06-18T00:00:00",
          "2022-06-19T00:00:00",
          "2022-06-20T00:00:00",
          "2022-06-21T00:00:00",
          "2022-06-22T00:00:00",
          "2022-06-23T00:00:00",
          "2022-06-24T00:00:00",
          "2022-06-25T00:00:00",
          "2022-06-26T00:00:00",
          "2022-06-27T00:00:00",
          "2022-06-28T00:00:00",
          "2022-06-29T00:00:00",
          "2022-06-30T00:00:00",
          "2022-07-01T00:00:00",
          "2022-07-02T00:00:00",
          "2022-07-03T00:00:00",
          "2022-07-04T00:00:00",
          "2022-07-05T00:00:00",
          "2022-07-06T00:00:00",
          "2022-07-07T00:00:00",
          "2022-07-08T00:00:00",
          "2022-07-09T00:00:00",
          "2022-07-10T00:00:00",
          "2022-07-11T00:00:00",
          "2022-07-12T00:00:00",
          "2022-07-13T00:00:00",
          "2022-07-14T00:00:00",
          "2022-07-15T00:00:00",
          "2022-07-16T00:00:00",
          "2022-07-17T00:00:00",
          "2022-07-18T00:00:00",
          "2022-07-19T00:00:00",
          "2022-07-20T00:00:00",
          "2022-07-21T00:00:00",
          "2022-07-22T00:00:00",
          "2022-07-23T00:00:00",
          "2022-07-24T00:00:00",
          "2022-07-25T00:00:00",
          "2022-07-26T00:00:00",
          "2022-07-27T00:00:00",
          "2022-07-28T00:00:00",
          "2022-07-29T00:00:00",
          "2022-07-30T00:00:00",
          "2022-07-31T00:00:00",
          "2022-08-01T00:00:00",
          "2022-08-02T00:00:00",
          "2022-08-03T00:00:00",
          "2022-08-04T00:00:00",
          "2022-08-05T00:00:00",
          "2022-08-06T00:00:00",
          "2022-08-07T00:00:00",
          "2022-08-08T00:00:00",
          "2022-08-09T00:00:00",
          "2022-08-10T00:00:00",
          "2022-08-11T00:00:00",
          "2022-08-12T00:00:00",
          "2022-08-13T00:00:00",
          "2022-08-14T00:00:00",
          "2022-08-15T00:00:00",
          "2022-08-16T00:00:00",
          "2022-08-17T00:00:00",
          "2022-08-18T00:00:00",
          "2022-08-19T00:00:00",
          "2022-08-20T00:00:00",
          "2022-08-21T00:00:00",
          "2022-08-22T00:00:00",
          "2022-08-23T00:00:00",
          "2022-08-24T00:00:00",
          "2022-08-25T00:00:00",
          "2022-08-26T00:00:00",
          "2022-08-27T00:00:00",
          "2022-08-28T00:00:00",
          "2022-08-29T00:00:00",
          "2022-08-30T00:00:00",
          "2022-08-31T00:00:00",
          "2022-09-01T00:00:00",
          "2022-09-02T00:00:00",
          "2022-09-03T00:00:00",
          "2022-09-04T00:00:00",
          "2022-09-05T00:00:00",
          "2022-09-06T00:00:00",
          "2022-09-07T00:00:00",
          "2022-09-08T00:00:00",
          "2022-09-09T00:00:00",
          "2022-09-10T00:00:00",
          "2022-09-11T00:00:00",
          "2022-09-12T00:00:00",
          "2022-09-13T00:00:00",
          "2022-09-14T00:00:00",
          "2022-09-15T00:00:00",
          "2022-09-16T00:00:00",
          "2022-09-17T00:00:00",
          "2022-09-18T00:00:00",
          "2022-09-19T00:00:00",
          "2022-09-20T00:00:00",
          "2022-09-21T00:00:00",
          "2022-09-22T00:00:00",
          "2022-09-23T00:00:00",
          "2022-09-24T00:00:00",
          "2022-09-25T00:00:00",
          "2022-09-26T00:00:00",
          "2022-09-27T00:00:00",
          "2022-09-28T00:00:00",
          "2022-09-29T00:00:00",
          "2022-09-30T00:00:00",
          "2022-10-01T00:00:00",
          "2022-10-02T00:00:00",
          "2022-10-03T00:00:00",
          "2022-10-04T00:00:00",
          "2022-10-05T00:00:00",
          "2022-10-06T00:00:00",
          "2022-10-07T00:00:00",
          "2022-10-08T00:00:00",
          "2022-10-09T00:00:00",
          "2022-10-10T00:00:00",
          "2022-10-11T00:00:00",
          "2022-10-12T00:00:00",
          "2022-10-13T00:00:00",
          "2022-10-14T00:00:00",
          "2022-10-15T00:00:00",
          "2022-10-16T00:00:00",
          "2022-10-17T00:00:00",
          "2022-10-18T00:00:00",
          "2022-10-19T00:00:00",
          "2022-10-20T00:00:00",
          "2022-10-21T00:00:00",
          "2022-10-22T00:00:00",
          "2022-10-23T00:00:00",
          "2022-10-24T00:00:00",
          "2022-10-25T00:00:00",
          "2022-10-26T00:00:00",
          "2022-10-27T00:00:00",
          "2022-10-28T00:00:00",
          "2022-10-29T00:00:00",
          "2022-10-30T00:00:00",
          "2022-10-31T00:00:00",
          "2022-11-01T00:00:00",
          "2022-11-02T00:00:00",
          "2022-11-03T00:00:00",
          "2022-11-04T00:00:00",
          "2022-11-05T00:00:00",
          "2022-11-06T00:00:00",
          "2022-11-07T00:00:00",
          "2022-11-08T00:00:00",
          "2022-11-09T00:00:00",
          "2022-11-10T00:00:00",
          "2022-11-11T00:00:00",
          "2022-11-12T00:00:00",
          "2022-11-13T00:00:00",
          "2022-11-14T00:00:00",
          "2022-11-15T00:00:00",
          "2022-11-16T00:00:00",
          "2022-11-17T00:00:00",
          "2022-11-18T00:00:00",
          "2022-11-19T00:00:00",
          "2022-11-20T00:00:00",
          "2022-11-21T00:00:00",
          "2022-11-22T00:00:00",
          "2022-11-23T00:00:00",
          "2022-11-24T00:00:00",
          "2022-11-25T00:00:00",
          "2022-11-26T00:00:00",
          "2022-11-27T00:00:00",
          "2022-11-28T00:00:00",
          "2022-11-29T00:00:00",
          "2022-11-30T00:00:00",
          "2022-12-01T00:00:00",
          "2022-12-02T00:00:00",
          "2022-12-03T00:00:00",
          "2022-12-04T00:00:00",
          "2022-12-05T00:00:00",
          "2022-12-06T00:00:00",
          "2022-12-07T00:00:00",
          "2022-12-08T00:00:00",
          "2022-12-09T00:00:00",
          "2022-12-10T00:00:00",
          "2022-12-11T00:00:00",
          "2022-12-12T00:00:00",
          "2022-12-13T00:00:00",
          "2022-12-14T00:00:00",
          "2022-12-15T00:00:00",
          "2022-12-16T00:00:00",
          "2022-12-17T00:00:00",
          "2022-12-18T00:00:00",
          "2022-12-19T00:00:00",
          "2022-12-20T00:00:00",
          "2022-12-21T00:00:00",
          "2022-12-22T00:00:00",
          "2022-12-23T00:00:00",
          "2022-12-24T00:00:00",
          "2022-12-25T00:00:00",
          "2022-12-26T00:00:00",
          "2022-12-27T00:00:00",
          "2022-12-28T00:00:00",
          "2022-12-29T00:00:00",
          "2022-12-30T00:00:00",
          "2022-12-31T00:00:00",
          "2023-01-01T00:00:00",
          "2023-01-02T00:00:00",
          "2023-01-03T00:00:00",
          "2023-01-04T00:00:00",
          "2023-01-05T00:00:00",
          "2023-01-06T00:00:00",
          "2023-01-07T00:00:00",
          "2023-01-08T00:00:00",
          "2023-01-09T00:00:00",
          "2023-01-10T00:00:00",
          "2023-01-11T00:00:00",
          "2023-01-12T00:00:00",
          "2023-01-13T00:00:00",
          "2023-01-14T00:00:00",
          "2023-01-15T00:00:00",
          "2023-01-16T00:00:00",
          "2023-01-17T00:00:00",
          "2023-01-18T00:00:00",
          "2023-01-19T00:00:00",
          "2023-01-20T00:00:00",
          "2023-01-21T00:00:00",
          "2023-01-22T00:00:00",
          "2023-01-23T00:00:00",
          "2023-01-24T00:00:00",
          "2023-01-25T00:00:00",
          "2023-01-26T00:00:00",
          "2023-01-27T00:00:00",
          "2023-01-28T00:00:00",
          "2023-01-29T00:00:00",
          "2023-01-30T00:00:00",
          "2023-01-31T00:00:00",
          "2023-02-01T00:00:00",
          "2023-02-02T00:00:00",
          "2023-02-03T00:00:00",
          "2023-02-04T00:00:00",
          "2023-02-05T00:00:00",
          "2023-02-06T00:00:00",
          "2023-02-07T00:00:00",
          "2023-02-08T00:00:00",
          "2023-02-09T00:00:00",
          "2023-02-10T00:00:00",
          "2023-02-11T00:00:00",
          "2023-02-12T00:00:00",
          "2023-02-13T00:00:00",
          "2023-02-14T00:00:00",
          "2023-02-15T00:00:00",
          "2023-02-16T00:00:00",
          "2023-02-17T00:00:00",
          "2023-02-18T00:00:00",
          "2023-02-19T00:00:00",
          "2023-02-20T00:00:00",
          "2023-02-21T00:00:00",
          "2023-02-22T00:00:00",
          "2023-02-23T00:00:00",
          "2023-02-24T00:00:00",
          "2023-02-25T00:00:00",
          "2023-02-26T00:00:00",
          "2023-02-27T00:00:00",
          "2023-02-28T00:00:00",
          "2023-03-01T00:00:00",
          "2023-03-02T00:00:00",
          "2023-03-03T00:00:00",
          "2023-03-04T00:00:00",
          "2023-03-05T00:00:00",
          "2023-03-06T00:00:00",
          "2023-03-07T00:00:00",
          "2023-03-08T00:00:00",
          "2023-03-09T00:00:00",
          "2023-03-10T00:00:00",
          "2023-03-11T00:00:00",
          "2023-03-12T00:00:00",
          "2023-03-13T00:00:00",
          "2023-03-14T00:00:00",
          "2023-03-15T00:00:00",
          "2023-03-16T00:00:00",
          "2023-03-17T00:00:00",
          "2023-03-18T00:00:00",
          "2023-03-19T00:00:00",
          "2023-03-20T00:00:00",
          "2023-03-21T00:00:00",
          "2023-03-22T00:00:00",
          "2023-03-23T00:00:00",
          "2023-03-24T00:00:00",
          "2023-03-25T00:00:00",
          "2023-03-26T00:00:00",
          "2023-03-27T00:00:00",
          "2023-03-28T00:00:00",
          "2023-03-29T00:00:00",
          "2023-03-30T00:00:00",
          "2023-03-31T00:00:00",
          "2023-04-01T00:00:00",
          "2023-04-02T00:00:00",
          "2023-04-03T00:00:00",
          "2023-04-04T00:00:00",
          "2023-04-05T00:00:00",
          "2023-04-06T00:00:00",
          "2023-04-07T00:00:00",
          "2023-04-08T00:00:00",
          "2023-04-09T00:00:00",
          "2023-04-10T00:00:00",
          "2023-04-11T00:00:00",
          "2023-04-12T00:00:00",
          "2023-04-13T00:00:00",
          "2023-04-14T00:00:00",
          "2023-04-15T00:00:00",
          "2023-04-16T00:00:00",
          "2023-04-17T00:00:00",
          "2023-04-18T00:00:00",
          "2023-04-19T00:00:00",
          "2023-04-20T00:00:00",
          "2023-04-21T00:00:00",
          "2023-04-22T00:00:00",
          "2023-04-23T00:00:00",
          "2023-04-24T00:00:00",
          "2023-04-25T00:00:00",
          "2023-04-26T00:00:00",
          "2023-04-27T00:00:00",
          "2023-04-28T00:00:00",
          "2023-04-29T00:00:00",
          "2023-04-30T00:00:00"
         ],
         "y": [
          266.34100000000007,
          241.626,
          216.911,
          0,
          0,
          40.271,
          40.271,
          15.556,
          40.271,
          15.556,
          0,
          0,
          40.271,
          40.271,
          15.556,
          0,
          0,
          0,
          0,
          0,
          15.556,
          31.112,
          55.827,
          55.827,
          0,
          0,
          55.827,
          31.112,
          31.112,
          55.827,
          55.827,
          0,
          0,
          15.556,
          15.556,
          0,
          31.112,
          31.112,
          0,
          0,
          105.25699999999999,
          80.542,
          55.827,
          31.112,
          55.827,
          0,
          0,
          31.112,
          31.112,
          15.556,
          31.112,
          80.542,
          0,
          0,
          31.112,
          31.112,
          80.542,
          80.542,
          80.542,
          0,
          0,
          55.827,
          80.542,
          80.542,
          80.542,
          55.827,
          0,
          0,
          80.542,
          55.827,
          55.827,
          55.827,
          80.542,
          0,
          0,
          80.542,
          80.542,
          55.827,
          55.827,
          80.542,
          0,
          0,
          55.827,
          55.827,
          55.827,
          55.827,
          80.542,
          0,
          0,
          55.827,
          31.112,
          55.827,
          31.112,
          80.542,
          0,
          0,
          80.542,
          105.257,
          0,
          80.542,
          80.542,
          0,
          0,
          80.542,
          129.972,
          80.542,
          80.542,
          55.827,
          0,
          0,
          80.542,
          31.112,
          80.542,
          31.112,
          55.827,
          0,
          0,
          80.542,
          80.542,
          80.542,
          55.827,
          80.542,
          0,
          0,
          31.112,
          80.542,
          80.542,
          80.542,
          80.542,
          0,
          0,
          31.112,
          55.827,
          0,
          31.112,
          55.827,
          0,
          0,
          80.542,
          31.112,
          55.827,
          55.827,
          55.827,
          0,
          0,
          55.827,
          80.542,
          31.112,
          31.112,
          55.827,
          0,
          0,
          31.112,
          55.827,
          0,
          55.827,
          80.542,
          0,
          0,
          31.112,
          55.827,
          55.827,
          55.827,
          31.112,
          0,
          0,
          15.556,
          0,
          31.112,
          55.827,
          55.827,
          0,
          0,
          31.112,
          31.112,
          55.827,
          55.827,
          80.542,
          0,
          0,
          31.112,
          31.112,
          55.827,
          55.827,
          31.112,
          0,
          0,
          31.112,
          31.112,
          31.112,
          55.827,
          15.556,
          0,
          0,
          31.112,
          80.542,
          55.827,
          80.542,
          80.542,
          0,
          0,
          80.542,
          80.542,
          80.542,
          80.542,
          80.542,
          0,
          0,
          55.827,
          55.827,
          55.827,
          80.542,
          55.827,
          0,
          0,
          80.542,
          55.827,
          0,
          80.542,
          80.542,
          0,
          0,
          80.542,
          80.542,
          80.542,
          80.542,
          80.542,
          0,
          0,
          55.827,
          80.542,
          31.112,
          31.112,
          0,
          0,
          0,
          64.986,
          31.112,
          80.542,
          80.542,
          55.827,
          0,
          0,
          80.542,
          80.542,
          80.542,
          55.827,
          80.542,
          0,
          0,
          80.542,
          80.542,
          31.112,
          55.827,
          80.542,
          0,
          0,
          80.542,
          80.542,
          80.542,
          80.542,
          80.542,
          0,
          0,
          0,
          0,
          0,
          55.827,
          55.827,
          0,
          0,
          105.257,
          80.542,
          80.542,
          80.542,
          80.542,
          0,
          0,
          80.542,
          55.827,
          80.542,
          80.542,
          55.827,
          0,
          0,
          55.827,
          80.542,
          55.827,
          80.542,
          55.827,
          0,
          0,
          55.827,
          80.542,
          55.827,
          55.827,
          80.542,
          0,
          0,
          80.542,
          80.542,
          80.542,
          80.542,
          80.542,
          0,
          0,
          80.542,
          64.986,
          64.986,
          105.257,
          0,
          0,
          0,
          40.271,
          64.986,
          105.257,
          80.542,
          80.542,
          0,
          0,
          55.827,
          80.542,
          80.542,
          80.542,
          0,
          0,
          0,
          80.542,
          80.542,
          80.542,
          80.542,
          80.542,
          0,
          0
         ]
        }
       ],
       "layout": {
        "annotations": [
         {
          "font": {
           "color": "black",
           "size": 14
          },
          "showarrow": false,
          "text": "Valores",
          "x": -0.065,
          "xanchor": "left",
          "xref": "paper",
          "y": 1.1,
          "yref": "paper"
         },
         {
          "font": {
           "color": "dodgerblue",
           "size": 14
          },
          "showarrow": false,
          "text": "pré-reprocessamento",
          "x": 0.025,
          "xanchor": "left",
          "xref": "paper",
          "y": 1.1,
          "yref": "paper"
         },
         {
          "font": {
           "color": "black",
           "size": 14
          },
          "showarrow": false,
          "text": "e",
          "x": 0.27,
          "xanchor": "left",
          "xref": "paper",
          "y": 1.1,
          "yref": "paper"
         },
         {
          "font": {
           "color": "crimson",
           "size": 14
          },
          "showarrow": false,
          "text": "pós-reprocessamento.",
          "x": 0.29,
          "xanchor": "left",
          "xref": "paper",
          "y": 1.1,
          "yref": "paper"
         }
        ],
        "height": 600,
        "plot_bgcolor": "white",
        "showlegend": false,
        "template": {
         "data": {
          "bar": [
           {
            "error_x": {
             "color": "#2a3f5f"
            },
            "error_y": {
             "color": "#2a3f5f"
            },
            "marker": {
             "line": {
              "color": "#E5ECF6",
              "width": 0.5
             },
             "pattern": {
              "fillmode": "overlay",
              "size": 10,
              "solidity": 0.2
             }
            },
            "type": "bar"
           }
          ],
          "barpolar": [
           {
            "marker": {
             "line": {
              "color": "#E5ECF6",
              "width": 0.5
             },
             "pattern": {
              "fillmode": "overlay",
              "size": 10,
              "solidity": 0.2
             }
            },
            "type": "barpolar"
           }
          ],
          "carpet": [
           {
            "aaxis": {
             "endlinecolor": "#2a3f5f",
             "gridcolor": "white",
             "linecolor": "white",
             "minorgridcolor": "white",
             "startlinecolor": "#2a3f5f"
            },
            "baxis": {
             "endlinecolor": "#2a3f5f",
             "gridcolor": "white",
             "linecolor": "white",
             "minorgridcolor": "white",
             "startlinecolor": "#2a3f5f"
            },
            "type": "carpet"
           }
          ],
          "choropleth": [
           {
            "colorbar": {
             "outlinewidth": 0,
             "ticks": ""
            },
            "type": "choropleth"
           }
          ],
          "contour": [
           {
            "colorbar": {
             "outlinewidth": 0,
             "ticks": ""
            },
            "colorscale": [
             [
              0,
              "#0d0887"
             ],
             [
              0.1111111111111111,
              "#46039f"
             ],
             [
              0.2222222222222222,
              "#7201a8"
             ],
             [
              0.3333333333333333,
              "#9c179e"
             ],
             [
              0.4444444444444444,
              "#bd3786"
             ],
             [
              0.5555555555555556,
              "#d8576b"
             ],
             [
              0.6666666666666666,
              "#ed7953"
             ],
             [
              0.7777777777777778,
              "#fb9f3a"
             ],
             [
              0.8888888888888888,
              "#fdca26"
             ],
             [
              1,
              "#f0f921"
             ]
            ],
            "type": "contour"
           }
          ],
          "contourcarpet": [
           {
            "colorbar": {
             "outlinewidth": 0,
             "ticks": ""
            },
            "type": "contourcarpet"
           }
          ],
          "heatmap": [
           {
            "colorbar": {
             "outlinewidth": 0,
             "ticks": ""
            },
            "colorscale": [
             [
              0,
              "#0d0887"
             ],
             [
              0.1111111111111111,
              "#46039f"
             ],
             [
              0.2222222222222222,
              "#7201a8"
             ],
             [
              0.3333333333333333,
              "#9c179e"
             ],
             [
              0.4444444444444444,
              "#bd3786"
             ],
             [
              0.5555555555555556,
              "#d8576b"
             ],
             [
              0.6666666666666666,
              "#ed7953"
             ],
             [
              0.7777777777777778,
              "#fb9f3a"
             ],
             [
              0.8888888888888888,
              "#fdca26"
             ],
             [
              1,
              "#f0f921"
             ]
            ],
            "type": "heatmap"
           }
          ],
          "heatmapgl": [
           {
            "colorbar": {
             "outlinewidth": 0,
             "ticks": ""
            },
            "colorscale": [
             [
              0,
              "#0d0887"
             ],
             [
              0.1111111111111111,
              "#46039f"
             ],
             [
              0.2222222222222222,
              "#7201a8"
             ],
             [
              0.3333333333333333,
              "#9c179e"
             ],
             [
              0.4444444444444444,
              "#bd3786"
             ],
             [
              0.5555555555555556,
              "#d8576b"
             ],
             [
              0.6666666666666666,
              "#ed7953"
             ],
             [
              0.7777777777777778,
              "#fb9f3a"
             ],
             [
              0.8888888888888888,
              "#fdca26"
             ],
             [
              1,
              "#f0f921"
             ]
            ],
            "type": "heatmapgl"
           }
          ],
          "histogram": [
           {
            "marker": {
             "pattern": {
              "fillmode": "overlay",
              "size": 10,
              "solidity": 0.2
             }
            },
            "type": "histogram"
           }
          ],
          "histogram2d": [
           {
            "colorbar": {
             "outlinewidth": 0,
             "ticks": ""
            },
            "colorscale": [
             [
              0,
              "#0d0887"
             ],
             [
              0.1111111111111111,
              "#46039f"
             ],
             [
              0.2222222222222222,
              "#7201a8"
             ],
             [
              0.3333333333333333,
              "#9c179e"
             ],
             [
              0.4444444444444444,
              "#bd3786"
             ],
             [
              0.5555555555555556,
              "#d8576b"
             ],
             [
              0.6666666666666666,
              "#ed7953"
             ],
             [
              0.7777777777777778,
              "#fb9f3a"
             ],
             [
              0.8888888888888888,
              "#fdca26"
             ],
             [
              1,
              "#f0f921"
             ]
            ],
            "type": "histogram2d"
           }
          ],
          "histogram2dcontour": [
           {
            "colorbar": {
             "outlinewidth": 0,
             "ticks": ""
            },
            "colorscale": [
             [
              0,
              "#0d0887"
             ],
             [
              0.1111111111111111,
              "#46039f"
             ],
             [
              0.2222222222222222,
              "#7201a8"
             ],
             [
              0.3333333333333333,
              "#9c179e"
             ],
             [
              0.4444444444444444,
              "#bd3786"
             ],
             [
              0.5555555555555556,
              "#d8576b"
             ],
             [
              0.6666666666666666,
              "#ed7953"
             ],
             [
              0.7777777777777778,
              "#fb9f3a"
             ],
             [
              0.8888888888888888,
              "#fdca26"
             ],
             [
              1,
              "#f0f921"
             ]
            ],
            "type": "histogram2dcontour"
           }
          ],
          "mesh3d": [
           {
            "colorbar": {
             "outlinewidth": 0,
             "ticks": ""
            },
            "type": "mesh3d"
           }
          ],
          "parcoords": [
           {
            "line": {
             "colorbar": {
              "outlinewidth": 0,
              "ticks": ""
             }
            },
            "type": "parcoords"
           }
          ],
          "pie": [
           {
            "automargin": true,
            "type": "pie"
           }
          ],
          "scatter": [
           {
            "fillpattern": {
             "fillmode": "overlay",
             "size": 10,
             "solidity": 0.2
            },
            "type": "scatter"
           }
          ],
          "scatter3d": [
           {
            "line": {
             "colorbar": {
              "outlinewidth": 0,
              "ticks": ""
             }
            },
            "marker": {
             "colorbar": {
              "outlinewidth": 0,
              "ticks": ""
             }
            },
            "type": "scatter3d"
           }
          ],
          "scattercarpet": [
           {
            "marker": {
             "colorbar": {
              "outlinewidth": 0,
              "ticks": ""
             }
            },
            "type": "scattercarpet"
           }
          ],
          "scattergeo": [
           {
            "marker": {
             "colorbar": {
              "outlinewidth": 0,
              "ticks": ""
             }
            },
            "type": "scattergeo"
           }
          ],
          "scattergl": [
           {
            "marker": {
             "colorbar": {
              "outlinewidth": 0,
              "ticks": ""
             }
            },
            "type": "scattergl"
           }
          ],
          "scattermapbox": [
           {
            "marker": {
             "colorbar": {
              "outlinewidth": 0,
              "ticks": ""
             }
            },
            "type": "scattermapbox"
           }
          ],
          "scatterpolar": [
           {
            "marker": {
             "colorbar": {
              "outlinewidth": 0,
              "ticks": ""
             }
            },
            "type": "scatterpolar"
           }
          ],
          "scatterpolargl": [
           {
            "marker": {
             "colorbar": {
              "outlinewidth": 0,
              "ticks": ""
             }
            },
            "type": "scatterpolargl"
           }
          ],
          "scatterternary": [
           {
            "marker": {
             "colorbar": {
              "outlinewidth": 0,
              "ticks": ""
             }
            },
            "type": "scatterternary"
           }
          ],
          "surface": [
           {
            "colorbar": {
             "outlinewidth": 0,
             "ticks": ""
            },
            "colorscale": [
             [
              0,
              "#0d0887"
             ],
             [
              0.1111111111111111,
              "#46039f"
             ],
             [
              0.2222222222222222,
              "#7201a8"
             ],
             [
              0.3333333333333333,
              "#9c179e"
             ],
             [
              0.4444444444444444,
              "#bd3786"
             ],
             [
              0.5555555555555556,
              "#d8576b"
             ],
             [
              0.6666666666666666,
              "#ed7953"
             ],
             [
              0.7777777777777778,
              "#fb9f3a"
             ],
             [
              0.8888888888888888,
              "#fdca26"
             ],
             [
              1,
              "#f0f921"
             ]
            ],
            "type": "surface"
           }
          ],
          "table": [
           {
            "cells": {
             "fill": {
              "color": "#EBF0F8"
             },
             "line": {
              "color": "white"
             }
            },
            "header": {
             "fill": {
              "color": "#C8D4E3"
             },
             "line": {
              "color": "white"
             }
            },
            "type": "table"
           }
          ]
         },
         "layout": {
          "annotationdefaults": {
           "arrowcolor": "#2a3f5f",
           "arrowhead": 0,
           "arrowwidth": 1
          },
          "autotypenumbers": "strict",
          "coloraxis": {
           "colorbar": {
            "outlinewidth": 0,
            "ticks": ""
           }
          },
          "colorscale": {
           "diverging": [
            [
             0,
             "#8e0152"
            ],
            [
             0.1,
             "#c51b7d"
            ],
            [
             0.2,
             "#de77ae"
            ],
            [
             0.3,
             "#f1b6da"
            ],
            [
             0.4,
             "#fde0ef"
            ],
            [
             0.5,
             "#f7f7f7"
            ],
            [
             0.6,
             "#e6f5d0"
            ],
            [
             0.7,
             "#b8e186"
            ],
            [
             0.8,
             "#7fbc41"
            ],
            [
             0.9,
             "#4d9221"
            ],
            [
             1,
             "#276419"
            ]
           ],
           "sequential": [
            [
             0,
             "#0d0887"
            ],
            [
             0.1111111111111111,
             "#46039f"
            ],
            [
             0.2222222222222222,
             "#7201a8"
            ],
            [
             0.3333333333333333,
             "#9c179e"
            ],
            [
             0.4444444444444444,
             "#bd3786"
            ],
            [
             0.5555555555555556,
             "#d8576b"
            ],
            [
             0.6666666666666666,
             "#ed7953"
            ],
            [
             0.7777777777777778,
             "#fb9f3a"
            ],
            [
             0.8888888888888888,
             "#fdca26"
            ],
            [
             1,
             "#f0f921"
            ]
           ],
           "sequentialminus": [
            [
             0,
             "#0d0887"
            ],
            [
             0.1111111111111111,
             "#46039f"
            ],
            [
             0.2222222222222222,
             "#7201a8"
            ],
            [
             0.3333333333333333,
             "#9c179e"
            ],
            [
             0.4444444444444444,
             "#bd3786"
            ],
            [
             0.5555555555555556,
             "#d8576b"
            ],
            [
             0.6666666666666666,
             "#ed7953"
            ],
            [
             0.7777777777777778,
             "#fb9f3a"
            ],
            [
             0.8888888888888888,
             "#fdca26"
            ],
            [
             1,
             "#f0f921"
            ]
           ]
          },
          "colorway": [
           "#636efa",
           "#EF553B",
           "#00cc96",
           "#ab63fa",
           "#FFA15A",
           "#19d3f3",
           "#FF6692",
           "#B6E880",
           "#FF97FF",
           "#FECB52"
          ],
          "font": {
           "color": "#2a3f5f"
          },
          "geo": {
           "bgcolor": "white",
           "lakecolor": "white",
           "landcolor": "#E5ECF6",
           "showlakes": true,
           "showland": true,
           "subunitcolor": "white"
          },
          "hoverlabel": {
           "align": "left"
          },
          "hovermode": "closest",
          "mapbox": {
           "style": "light"
          },
          "paper_bgcolor": "white",
          "plot_bgcolor": "#E5ECF6",
          "polar": {
           "angularaxis": {
            "gridcolor": "white",
            "linecolor": "white",
            "ticks": ""
           },
           "bgcolor": "#E5ECF6",
           "radialaxis": {
            "gridcolor": "white",
            "linecolor": "white",
            "ticks": ""
           }
          },
          "scene": {
           "xaxis": {
            "backgroundcolor": "#E5ECF6",
            "gridcolor": "white",
            "gridwidth": 2,
            "linecolor": "white",
            "showbackground": true,
            "ticks": "",
            "zerolinecolor": "white"
           },
           "yaxis": {
            "backgroundcolor": "#E5ECF6",
            "gridcolor": "white",
            "gridwidth": 2,
            "linecolor": "white",
            "showbackground": true,
            "ticks": "",
            "zerolinecolor": "white"
           },
           "zaxis": {
            "backgroundcolor": "#E5ECF6",
            "gridcolor": "white",
            "gridwidth": 2,
            "linecolor": "white",
            "showbackground": true,
            "ticks": "",
            "zerolinecolor": "white"
           }
          },
          "shapedefaults": {
           "line": {
            "color": "#2a3f5f"
           }
          },
          "ternary": {
           "aaxis": {
            "gridcolor": "white",
            "linecolor": "white",
            "ticks": ""
           },
           "baxis": {
            "gridcolor": "white",
            "linecolor": "white",
            "ticks": ""
           },
           "bgcolor": "#E5ECF6",
           "caxis": {
            "gridcolor": "white",
            "linecolor": "white",
            "ticks": ""
           }
          },
          "title": {
           "x": 0.05
          },
          "xaxis": {
           "automargin": true,
           "gridcolor": "white",
           "linecolor": "white",
           "ticks": "",
           "title": {
            "standoff": 15
           },
           "zerolinecolor": "white",
           "zerolinewidth": 2
          },
          "yaxis": {
           "automargin": true,
           "gridcolor": "white",
           "linecolor": "white",
           "ticks": "",
           "title": {
            "standoff": 15
           },
           "zerolinecolor": "white",
           "zerolinewidth": 2
          }
         }
        },
        "title": {
         "font": {
          "color": "black"
         },
         "text": "Valor do subsídio por mês - Serviço: 663"
        },
        "width": 800,
        "xaxis": {
         "showgrid": false,
         "zeroline": false
        },
        "yaxis": {
         "showgrid": false,
         "zeroline": false
        }
       }
      }
     },
     "metadata": {},
     "output_type": "display_data"
    }
   ],
   "source": [
    "# O que explica o POD caindo após 01-01-2023???\n",
    "\n",
    "subsidio_a_pagar_dia['DATA'] = pd.to_datetime(subsidio_a_pagar_dia['DATA'])\n",
    "subsidio_a_pagar_dia['mes_ano'] = subsidio_a_pagar_dia['DATA'].dt.strftime('%Y-%m')\n",
    "\n",
    "POD_mes = subsidio_a_pagar_dia[['DATA', 'distancia_total_planejada', 'km_apurada']].sort_values(by='DATA')\n",
    "POD_mes\n",
    "\n",
    "\n",
    "# Criar o gráfico de linha com plotly\n",
    "fig = go.Figure()\n",
    "\n",
    "# Adicionar a linha com pontos para tabela_subsidio_mes['valor_subsidio_pre']\n",
    "fig.add_trace(go.Scatter(x=POD_mes['DATA'], y=POD_mes['distancia_total_planejada'],\n",
    "                         mode='lines',\n",
    "                         name='Distancia Planejada',\n",
    "                         marker=dict(color='dodgerblue'),\n",
    "                         opacity=0.75))\n",
    "\n",
    "# Adicionar a linha com pontos para tabela_subsidio_mes['valor_subsidio_pos']\n",
    "fig.add_trace(go.Scatter(x=POD_mes['DATA'], y=POD_mes['km_apurada'],\n",
    "                         mode='lines',\n",
    "                         name='Distância Apurada',\n",
    "                         marker=dict(color='crimson'),\n",
    "                         opacity=0.75))\n",
    "\n",
    "# Configurar layout e outros parâmetros do gráfico seguindo o design anterior\n",
    "fig.update_layout(\n",
    "    title=dict(text=\"Valor do subsídio por mês - Serviço: 663\", font=dict(color='black')),\n",
    "    showlegend=False,\n",
    "    width=800,\n",
    "    height=600,\n",
    "    plot_bgcolor='white',\n",
    "    xaxis=dict(showgrid=False, zeroline=False),\n",
    "    yaxis=dict(showgrid=False, zeroline=False),\n",
    "    # Adicionando anotações para o subtítulo com cores específicas\n",
    "    annotations=[\n",
    "        dict(\n",
    "            x=-0.065,\n",
    "            y=1.10,\n",
    "            xref='paper',\n",
    "            yref='paper',\n",
    "            xanchor='left',\n",
    "            text='Valores',\n",
    "            showarrow=False,\n",
    "            font=dict(color='black', size=14)\n",
    "        ),\n",
    "        dict(\n",
    "            x=0.025,\n",
    "            y=1.10,\n",
    "            xref='paper',\n",
    "            yref='paper',\n",
    "            xanchor='left',\n",
    "            text='pré-reprocessamento',\n",
    "            showarrow=False,\n",
    "            font=dict(color='dodgerblue', size=14)\n",
    "        ),\n",
    "        dict(\n",
    "            x=0.27,\n",
    "            y=1.10,\n",
    "            xref='paper',\n",
    "            yref='paper',\n",
    "            xanchor='left',\n",
    "            text='e',\n",
    "            showarrow=False,\n",
    "            font=dict(color='black', size=14)\n",
    "        ),\n",
    "        dict(\n",
    "            x=0.29,\n",
    "            y=1.10,\n",
    "            xref='paper',\n",
    "            yref='paper',\n",
    "            xanchor='left',\n",
    "            text='pós-reprocessamento.',\n",
    "            showarrow=False,\n",
    "            font=dict(color='crimson', size=14)\n",
    "        )\n",
    "    ]\n",
    ")\n",
    "\n",
    "fig.show()\n",
    "\n"
   ]
  },
  {
   "cell_type": "markdown",
   "metadata": {},
   "source": [
    "### 4. Exportar planilha com dados"
   ]
  },
  {
   "cell_type": "markdown",
   "metadata": {},
   "source": [
    "Exportar planilha resumo com valores a pagar antes e depois, assim como a km identificada na planilha de viagens completas."
   ]
  },
  {
   "cell_type": "code",
   "execution_count": 25,
   "metadata": {},
   "outputs": [],
   "source": [
    "km_mes_ano_soma = km_mes_ano[['distancia_total', 'distancia_total_reprocessada']].sum()\n",
    "km_mes_ano_soma = km_mes_ano_soma.to_frame().T\n",
    "\n",
    "km_mes_ano_soma = km_mes_ano_soma.rename(columns={\n",
    "    'distancia_total': 'distancia_total_pre',\n",
    "    'distancia_total_reprocessada': 'distancia_total_pos'\n",
    "})\n",
    "km_mes_ano_soma\n",
    "\n",
    "\n",
    "tabela_subsidio_mes_soma = tabela_subsidio_mes[['viagens_pre', 'viagens_pos','valor_subsidio_pre', 'valor_subsidio_pos']].sum()\n",
    "tabela_subsidio_mes_soma = tabela_subsidio_mes_soma.to_frame().T\n",
    "tabela_subsidio_mes_soma\n",
    "\n",
    "km_mes_ano_soma['key'] = 1\n",
    "tabela_subsidio_mes_soma['key'] = 1\n",
    "\n",
    "tabela_comparacao_exportar = km_mes_ano_soma.merge(tabela_subsidio_mes_soma, on='key', how='left').drop('key', axis=1)\n",
    "\n",
    "tabela_comparacao_exportar\n",
    "tabela_comparacao_exportar.to_excel(\"data/output/comparacao_pre_pos_reprocessamento_663.xlsx\", index=False, engine='openpyxl')"
   ]
  }
 ],
 "metadata": {
  "kernelspec": {
   "display_name": "env",
   "language": "python",
   "name": "python3"
  },
  "language_info": {
   "codemirror_mode": {
    "name": "ipython",
    "version": 3
   },
   "file_extension": ".py",
   "mimetype": "text/x-python",
   "name": "python",
   "nbconvert_exporter": "python",
   "pygments_lexer": "ipython3",
   "version": "3.9.0"
  },
  "orig_nbformat": 4
 },
 "nbformat": 4,
 "nbformat_minor": 2
}
